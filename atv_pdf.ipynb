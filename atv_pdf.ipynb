{
  "cells": [
    {
      "cell_type": "markdown",
      "metadata": {
        "id": "view-in-github",
        "colab_type": "text"
      },
      "source": [
        "<a href=\"https://colab.research.google.com/github/leoscarlato/analise_txt_repo/blob/main/atv_pdf.ipynb\" target=\"_parent\"><img src=\"https://colab.research.google.com/assets/colab-badge.svg\" alt=\"Open In Colab\"/></a>"
      ]
    },
    {
      "cell_type": "markdown",
      "metadata": {
        "id": "otArXsDgJ08E"
      },
      "source": [
        "# ATV PDF - Atividade para Entrega\n",
        "\n",
        "Nesta atividade, iremos extrair textos e tabelas de PDFs. Estes exercícios são para entrega e contam como uma atividade (**ATV**)."
      ]
    },
    {
      "cell_type": "markdown",
      "metadata": {
        "jp-MarkdownHeadingCollapsed": true,
        "id": "B-pCFTMTJ08H"
      },
      "source": [
        "## Insper Autograding\n",
        "\n",
        "Iremos utilizar uma ferramenta para correção automática. Ao responder os exercícios, será possível enviar a solução para um servidor, que dará feedback quase que instantâneo sobre a resposta.\n",
        "\n",
        "Além de já ter uma boa ideia sobre seu desempenho na atividade, não será necessário fazer a entrega do notebook pelo Blackboard pois o corretor já armazena suas soluções.\n",
        "\n",
        "Siga os passos deste notebook para realizar a instalação da biblioteca de correção de exercícios nos notebooks da disciplina!"
      ]
    },
    {
      "cell_type": "markdown",
      "metadata": {
        "id": "PQgpSS9gJ08I"
      },
      "source": [
        "## Instalação\n",
        "\n",
        "Vamos instalar a biblioteca (este passo só precisa ser executado uma vez):"
      ]
    },
    {
      "cell_type": "code",
      "execution_count": 1,
      "metadata": {
        "colab": {
          "base_uri": "https://localhost:8080/"
        },
        "id": "YW_KY4RIJ08I",
        "outputId": "f80f3ff8-a9c5-4853-c1d7-c9936ce5444f"
      },
      "outputs": [
        {
          "output_type": "stream",
          "name": "stdout",
          "text": [
            "\u001b[33mWARNING: Skipping insperautograder as it is not installed.\u001b[0m\u001b[33m\n",
            "\u001b[0mCollecting git+https://github.com/macielcalebe/insperautograding.git\n",
            "  Cloning https://github.com/macielcalebe/insperautograding.git to /tmp/pip-req-build-v78fcmj7\n",
            "  Running command git clone --filter=blob:none --quiet https://github.com/macielcalebe/insperautograding.git /tmp/pip-req-build-v78fcmj7\n",
            "  Resolved https://github.com/macielcalebe/insperautograding.git to commit 0d68e50930abe8460efbb43864132ffec30c862b\n",
            "  Preparing metadata (setup.py) ... \u001b[?25l\u001b[?25hdone\n",
            "Collecting python-dotenv (from insperautograder==0.2.2)\n",
            "  Downloading python_dotenv-1.0.1-py3-none-any.whl.metadata (23 kB)\n",
            "Requirement already satisfied: requests in /usr/local/lib/python3.11/dist-packages (from insperautograder==0.2.2) (2.32.3)\n",
            "Requirement already satisfied: ipython in /usr/local/lib/python3.11/dist-packages (from insperautograder==0.2.2) (7.34.0)\n",
            "Requirement already satisfied: ipywidgets<=7.8.5 in /usr/local/lib/python3.11/dist-packages (from insperautograder==0.2.2) (7.7.1)\n",
            "Requirement already satisfied: ipykernel>=4.5.1 in /usr/local/lib/python3.11/dist-packages (from ipywidgets<=7.8.5->insperautograder==0.2.2) (6.17.1)\n",
            "Requirement already satisfied: ipython-genutils~=0.2.0 in /usr/local/lib/python3.11/dist-packages (from ipywidgets<=7.8.5->insperautograder==0.2.2) (0.2.0)\n",
            "Requirement already satisfied: traitlets>=4.3.1 in /usr/local/lib/python3.11/dist-packages (from ipywidgets<=7.8.5->insperautograder==0.2.2) (5.7.1)\n",
            "Requirement already satisfied: widgetsnbextension~=3.6.0 in /usr/local/lib/python3.11/dist-packages (from ipywidgets<=7.8.5->insperautograder==0.2.2) (3.6.10)\n",
            "Requirement already satisfied: jupyterlab-widgets>=1.0.0 in /usr/local/lib/python3.11/dist-packages (from ipywidgets<=7.8.5->insperautograder==0.2.2) (3.0.13)\n",
            "Requirement already satisfied: setuptools>=18.5 in /usr/local/lib/python3.11/dist-packages (from ipython->insperautograder==0.2.2) (75.1.0)\n",
            "Collecting jedi>=0.16 (from ipython->insperautograder==0.2.2)\n",
            "  Downloading jedi-0.19.2-py2.py3-none-any.whl.metadata (22 kB)\n",
            "Requirement already satisfied: decorator in /usr/local/lib/python3.11/dist-packages (from ipython->insperautograder==0.2.2) (4.4.2)\n",
            "Requirement already satisfied: pickleshare in /usr/local/lib/python3.11/dist-packages (from ipython->insperautograder==0.2.2) (0.7.5)\n",
            "Requirement already satisfied: prompt-toolkit!=3.0.0,!=3.0.1,<3.1.0,>=2.0.0 in /usr/local/lib/python3.11/dist-packages (from ipython->insperautograder==0.2.2) (3.0.50)\n",
            "Requirement already satisfied: pygments in /usr/local/lib/python3.11/dist-packages (from ipython->insperautograder==0.2.2) (2.18.0)\n",
            "Requirement already satisfied: backcall in /usr/local/lib/python3.11/dist-packages (from ipython->insperautograder==0.2.2) (0.2.0)\n",
            "Requirement already satisfied: matplotlib-inline in /usr/local/lib/python3.11/dist-packages (from ipython->insperautograder==0.2.2) (0.1.7)\n",
            "Requirement already satisfied: pexpect>4.3 in /usr/local/lib/python3.11/dist-packages (from ipython->insperautograder==0.2.2) (4.9.0)\n",
            "Requirement already satisfied: charset-normalizer<4,>=2 in /usr/local/lib/python3.11/dist-packages (from requests->insperautograder==0.2.2) (3.4.1)\n",
            "Requirement already satisfied: idna<4,>=2.5 in /usr/local/lib/python3.11/dist-packages (from requests->insperautograder==0.2.2) (3.10)\n",
            "Requirement already satisfied: urllib3<3,>=1.21.1 in /usr/local/lib/python3.11/dist-packages (from requests->insperautograder==0.2.2) (2.3.0)\n",
            "Requirement already satisfied: certifi>=2017.4.17 in /usr/local/lib/python3.11/dist-packages (from requests->insperautograder==0.2.2) (2025.1.31)\n",
            "Requirement already satisfied: debugpy>=1.0 in /usr/local/lib/python3.11/dist-packages (from ipykernel>=4.5.1->ipywidgets<=7.8.5->insperautograder==0.2.2) (1.8.0)\n",
            "Requirement already satisfied: jupyter-client>=6.1.12 in /usr/local/lib/python3.11/dist-packages (from ipykernel>=4.5.1->ipywidgets<=7.8.5->insperautograder==0.2.2) (6.1.12)\n",
            "Requirement already satisfied: nest-asyncio in /usr/local/lib/python3.11/dist-packages (from ipykernel>=4.5.1->ipywidgets<=7.8.5->insperautograder==0.2.2) (1.6.0)\n",
            "Requirement already satisfied: packaging in /usr/local/lib/python3.11/dist-packages (from ipykernel>=4.5.1->ipywidgets<=7.8.5->insperautograder==0.2.2) (24.2)\n",
            "Requirement already satisfied: psutil in /usr/local/lib/python3.11/dist-packages (from ipykernel>=4.5.1->ipywidgets<=7.8.5->insperautograder==0.2.2) (5.9.5)\n",
            "Requirement already satisfied: pyzmq>=17 in /usr/local/lib/python3.11/dist-packages (from ipykernel>=4.5.1->ipywidgets<=7.8.5->insperautograder==0.2.2) (24.0.1)\n",
            "Requirement already satisfied: tornado>=6.1 in /usr/local/lib/python3.11/dist-packages (from ipykernel>=4.5.1->ipywidgets<=7.8.5->insperautograder==0.2.2) (6.4.2)\n",
            "Requirement already satisfied: parso<0.9.0,>=0.8.4 in /usr/local/lib/python3.11/dist-packages (from jedi>=0.16->ipython->insperautograder==0.2.2) (0.8.4)\n",
            "Requirement already satisfied: ptyprocess>=0.5 in /usr/local/lib/python3.11/dist-packages (from pexpect>4.3->ipython->insperautograder==0.2.2) (0.7.0)\n",
            "Requirement already satisfied: wcwidth in /usr/local/lib/python3.11/dist-packages (from prompt-toolkit!=3.0.0,!=3.0.1,<3.1.0,>=2.0.0->ipython->insperautograder==0.2.2) (0.2.13)\n",
            "Requirement already satisfied: notebook>=4.4.1 in /usr/local/lib/python3.11/dist-packages (from widgetsnbextension~=3.6.0->ipywidgets<=7.8.5->insperautograder==0.2.2) (6.5.5)\n",
            "Requirement already satisfied: jupyter-core>=4.6.0 in /usr/local/lib/python3.11/dist-packages (from jupyter-client>=6.1.12->ipykernel>=4.5.1->ipywidgets<=7.8.5->insperautograder==0.2.2) (5.7.2)\n",
            "Requirement already satisfied: python-dateutil>=2.1 in /usr/local/lib/python3.11/dist-packages (from jupyter-client>=6.1.12->ipykernel>=4.5.1->ipywidgets<=7.8.5->insperautograder==0.2.2) (2.8.2)\n",
            "Requirement already satisfied: jinja2 in /usr/local/lib/python3.11/dist-packages (from notebook>=4.4.1->widgetsnbextension~=3.6.0->ipywidgets<=7.8.5->insperautograder==0.2.2) (3.1.5)\n",
            "Requirement already satisfied: argon2-cffi in /usr/local/lib/python3.11/dist-packages (from notebook>=4.4.1->widgetsnbextension~=3.6.0->ipywidgets<=7.8.5->insperautograder==0.2.2) (23.1.0)\n",
            "Requirement already satisfied: nbformat in /usr/local/lib/python3.11/dist-packages (from notebook>=4.4.1->widgetsnbextension~=3.6.0->ipywidgets<=7.8.5->insperautograder==0.2.2) (5.10.4)\n",
            "Requirement already satisfied: nbconvert>=5 in /usr/local/lib/python3.11/dist-packages (from notebook>=4.4.1->widgetsnbextension~=3.6.0->ipywidgets<=7.8.5->insperautograder==0.2.2) (7.16.6)\n",
            "Requirement already satisfied: Send2Trash>=1.8.0 in /usr/local/lib/python3.11/dist-packages (from notebook>=4.4.1->widgetsnbextension~=3.6.0->ipywidgets<=7.8.5->insperautograder==0.2.2) (1.8.3)\n",
            "Requirement already satisfied: terminado>=0.8.3 in /usr/local/lib/python3.11/dist-packages (from notebook>=4.4.1->widgetsnbextension~=3.6.0->ipywidgets<=7.8.5->insperautograder==0.2.2) (0.18.1)\n",
            "Requirement already satisfied: prometheus-client in /usr/local/lib/python3.11/dist-packages (from notebook>=4.4.1->widgetsnbextension~=3.6.0->ipywidgets<=7.8.5->insperautograder==0.2.2) (0.21.1)\n",
            "Requirement already satisfied: nbclassic>=0.4.7 in /usr/local/lib/python3.11/dist-packages (from notebook>=4.4.1->widgetsnbextension~=3.6.0->ipywidgets<=7.8.5->insperautograder==0.2.2) (1.2.0)\n",
            "Requirement already satisfied: platformdirs>=2.5 in /usr/local/lib/python3.11/dist-packages (from jupyter-core>=4.6.0->jupyter-client>=6.1.12->ipykernel>=4.5.1->ipywidgets<=7.8.5->insperautograder==0.2.2) (4.3.6)\n",
            "Requirement already satisfied: notebook-shim>=0.2.3 in /usr/local/lib/python3.11/dist-packages (from nbclassic>=0.4.7->notebook>=4.4.1->widgetsnbextension~=3.6.0->ipywidgets<=7.8.5->insperautograder==0.2.2) (0.2.4)\n",
            "Requirement already satisfied: beautifulsoup4 in /usr/local/lib/python3.11/dist-packages (from nbconvert>=5->notebook>=4.4.1->widgetsnbextension~=3.6.0->ipywidgets<=7.8.5->insperautograder==0.2.2) (4.13.3)\n",
            "Requirement already satisfied: bleach!=5.0.0 in /usr/local/lib/python3.11/dist-packages (from bleach[css]!=5.0.0->nbconvert>=5->notebook>=4.4.1->widgetsnbextension~=3.6.0->ipywidgets<=7.8.5->insperautograder==0.2.2) (6.2.0)\n",
            "Requirement already satisfied: defusedxml in /usr/local/lib/python3.11/dist-packages (from nbconvert>=5->notebook>=4.4.1->widgetsnbextension~=3.6.0->ipywidgets<=7.8.5->insperautograder==0.2.2) (0.7.1)\n",
            "Requirement already satisfied: jupyterlab-pygments in /usr/local/lib/python3.11/dist-packages (from nbconvert>=5->notebook>=4.4.1->widgetsnbextension~=3.6.0->ipywidgets<=7.8.5->insperautograder==0.2.2) (0.3.0)\n",
            "Requirement already satisfied: markupsafe>=2.0 in /usr/local/lib/python3.11/dist-packages (from nbconvert>=5->notebook>=4.4.1->widgetsnbextension~=3.6.0->ipywidgets<=7.8.5->insperautograder==0.2.2) (3.0.2)\n",
            "Requirement already satisfied: mistune<4,>=2.0.3 in /usr/local/lib/python3.11/dist-packages (from nbconvert>=5->notebook>=4.4.1->widgetsnbextension~=3.6.0->ipywidgets<=7.8.5->insperautograder==0.2.2) (3.1.2)\n",
            "Requirement already satisfied: nbclient>=0.5.0 in /usr/local/lib/python3.11/dist-packages (from nbconvert>=5->notebook>=4.4.1->widgetsnbextension~=3.6.0->ipywidgets<=7.8.5->insperautograder==0.2.2) (0.10.2)\n",
            "Requirement already satisfied: pandocfilters>=1.4.1 in /usr/local/lib/python3.11/dist-packages (from nbconvert>=5->notebook>=4.4.1->widgetsnbextension~=3.6.0->ipywidgets<=7.8.5->insperautograder==0.2.2) (1.5.1)\n",
            "Requirement already satisfied: fastjsonschema>=2.15 in /usr/local/lib/python3.11/dist-packages (from nbformat->notebook>=4.4.1->widgetsnbextension~=3.6.0->ipywidgets<=7.8.5->insperautograder==0.2.2) (2.21.1)\n",
            "Requirement already satisfied: jsonschema>=2.6 in /usr/local/lib/python3.11/dist-packages (from nbformat->notebook>=4.4.1->widgetsnbextension~=3.6.0->ipywidgets<=7.8.5->insperautograder==0.2.2) (4.23.0)\n",
            "Requirement already satisfied: six>=1.5 in /usr/local/lib/python3.11/dist-packages (from python-dateutil>=2.1->jupyter-client>=6.1.12->ipykernel>=4.5.1->ipywidgets<=7.8.5->insperautograder==0.2.2) (1.17.0)\n",
            "Requirement already satisfied: argon2-cffi-bindings in /usr/local/lib/python3.11/dist-packages (from argon2-cffi->notebook>=4.4.1->widgetsnbextension~=3.6.0->ipywidgets<=7.8.5->insperautograder==0.2.2) (21.2.0)\n",
            "Requirement already satisfied: webencodings in /usr/local/lib/python3.11/dist-packages (from bleach!=5.0.0->bleach[css]!=5.0.0->nbconvert>=5->notebook>=4.4.1->widgetsnbextension~=3.6.0->ipywidgets<=7.8.5->insperautograder==0.2.2) (0.5.1)\n",
            "Requirement already satisfied: tinycss2<1.5,>=1.1.0 in /usr/local/lib/python3.11/dist-packages (from bleach[css]!=5.0.0->nbconvert>=5->notebook>=4.4.1->widgetsnbextension~=3.6.0->ipywidgets<=7.8.5->insperautograder==0.2.2) (1.4.0)\n",
            "Requirement already satisfied: attrs>=22.2.0 in /usr/local/lib/python3.11/dist-packages (from jsonschema>=2.6->nbformat->notebook>=4.4.1->widgetsnbextension~=3.6.0->ipywidgets<=7.8.5->insperautograder==0.2.2) (25.1.0)\n",
            "Requirement already satisfied: jsonschema-specifications>=2023.03.6 in /usr/local/lib/python3.11/dist-packages (from jsonschema>=2.6->nbformat->notebook>=4.4.1->widgetsnbextension~=3.6.0->ipywidgets<=7.8.5->insperautograder==0.2.2) (2024.10.1)\n",
            "Requirement already satisfied: referencing>=0.28.4 in /usr/local/lib/python3.11/dist-packages (from jsonschema>=2.6->nbformat->notebook>=4.4.1->widgetsnbextension~=3.6.0->ipywidgets<=7.8.5->insperautograder==0.2.2) (0.36.2)\n",
            "Requirement already satisfied: rpds-py>=0.7.1 in /usr/local/lib/python3.11/dist-packages (from jsonschema>=2.6->nbformat->notebook>=4.4.1->widgetsnbextension~=3.6.0->ipywidgets<=7.8.5->insperautograder==0.2.2) (0.22.3)\n",
            "Requirement already satisfied: jupyter-server<3,>=1.8 in /usr/local/lib/python3.11/dist-packages (from notebook-shim>=0.2.3->nbclassic>=0.4.7->notebook>=4.4.1->widgetsnbextension~=3.6.0->ipywidgets<=7.8.5->insperautograder==0.2.2) (1.24.0)\n",
            "Requirement already satisfied: cffi>=1.0.1 in /usr/local/lib/python3.11/dist-packages (from argon2-cffi-bindings->argon2-cffi->notebook>=4.4.1->widgetsnbextension~=3.6.0->ipywidgets<=7.8.5->insperautograder==0.2.2) (1.17.1)\n",
            "Requirement already satisfied: soupsieve>1.2 in /usr/local/lib/python3.11/dist-packages (from beautifulsoup4->nbconvert>=5->notebook>=4.4.1->widgetsnbextension~=3.6.0->ipywidgets<=7.8.5->insperautograder==0.2.2) (2.6)\n",
            "Requirement already satisfied: typing-extensions>=4.0.0 in /usr/local/lib/python3.11/dist-packages (from beautifulsoup4->nbconvert>=5->notebook>=4.4.1->widgetsnbextension~=3.6.0->ipywidgets<=7.8.5->insperautograder==0.2.2) (4.12.2)\n",
            "Requirement already satisfied: pycparser in /usr/local/lib/python3.11/dist-packages (from cffi>=1.0.1->argon2-cffi-bindings->argon2-cffi->notebook>=4.4.1->widgetsnbextension~=3.6.0->ipywidgets<=7.8.5->insperautograder==0.2.2) (2.22)\n",
            "Requirement already satisfied: anyio<4,>=3.1.0 in /usr/local/lib/python3.11/dist-packages (from jupyter-server<3,>=1.8->notebook-shim>=0.2.3->nbclassic>=0.4.7->notebook>=4.4.1->widgetsnbextension~=3.6.0->ipywidgets<=7.8.5->insperautograder==0.2.2) (3.7.1)\n",
            "Requirement already satisfied: websocket-client in /usr/local/lib/python3.11/dist-packages (from jupyter-server<3,>=1.8->notebook-shim>=0.2.3->nbclassic>=0.4.7->notebook>=4.4.1->widgetsnbextension~=3.6.0->ipywidgets<=7.8.5->insperautograder==0.2.2) (1.8.0)\n",
            "Requirement already satisfied: sniffio>=1.1 in /usr/local/lib/python3.11/dist-packages (from anyio<4,>=3.1.0->jupyter-server<3,>=1.8->notebook-shim>=0.2.3->nbclassic>=0.4.7->notebook>=4.4.1->widgetsnbextension~=3.6.0->ipywidgets<=7.8.5->insperautograder==0.2.2) (1.3.1)\n",
            "Downloading python_dotenv-1.0.1-py3-none-any.whl (19 kB)\n",
            "Downloading jedi-0.19.2-py2.py3-none-any.whl (1.6 MB)\n",
            "\u001b[2K   \u001b[90m━━━━━━━━━━━━━━━━━━━━━━━━━━━━━━━━━━━━━━━━\u001b[0m \u001b[32m1.6/1.6 MB\u001b[0m \u001b[31m19.8 MB/s\u001b[0m eta \u001b[36m0:00:00\u001b[0m\n",
            "\u001b[?25hBuilding wheels for collected packages: insperautograder\n",
            "  Building wheel for insperautograder (setup.py) ... \u001b[?25l\u001b[?25hdone\n",
            "  Created wheel for insperautograder: filename=insperautograder-0.2.2-py3-none-any.whl size=4456 sha256=8d376410fa076f28897afa4c7942f9c925e5bf72b403c9a0f3ae81af19094082\n",
            "  Stored in directory: /tmp/pip-ephem-wheel-cache-51_bnbi2/wheels/bb/01/cc/7f397587bfedd6c633e2627496c45d5693aa959ee8237ead1f\n",
            "Successfully built insperautograder\n",
            "Installing collected packages: python-dotenv, jedi, insperautograder\n",
            "Successfully installed insperautograder-0.2.2 jedi-0.19.2 python-dotenv-1.0.1\n"
          ]
        }
      ],
      "source": [
        "!pip uninstall -y insperautograder\n",
        "!pip install git+https://github.com/macielcalebe/insperautograding.git"
      ]
    },
    {
      "cell_type": "markdown",
      "metadata": {
        "id": "Cbygkv4pJ08J"
      },
      "source": [
        "## Importando as bibliotecas"
      ]
    },
    {
      "cell_type": "code",
      "execution_count": 2,
      "metadata": {
        "id": "MkliNQQaJ08J"
      },
      "outputs": [],
      "source": [
        "import os\n",
        "import insperautograder.jupyter as ia"
      ]
    },
    {
      "cell_type": "markdown",
      "metadata": {
        "id": "kd6dtWjnJ08K"
      },
      "source": [
        "## Configurar ambiente\n",
        "\n",
        "Execute a célula para configurar nosso ambiente de execução:"
      ]
    },
    {
      "cell_type": "code",
      "execution_count": 3,
      "metadata": {
        "id": "C7MppRbnJ08K"
      },
      "outputs": [],
      "source": [
        "os.environ[\"IAG_OFFERING\"] = \"25-1\"\n",
        "os.environ[\"IAG_SUBJECT\"] = \"analisetxt\"\n",
        "os.environ[\"IAG_SERVER_URL\"] = \"https://bigdata.insper-comp.com.br/iag\""
      ]
    },
    {
      "cell_type": "markdown",
      "metadata": {
        "id": "dWwlcLZWJ08K"
      },
      "source": [
        "## Me diga quem você é\n",
        "\n",
        "Utilize o **Token** enviado para seu e-mail para que você seja identificado pelo servidor de testes.\n",
        "\n",
        "Substitua `iagtok_xxx...` pelo token enviado para seu e-mail."
      ]
    },
    {
      "cell_type": "code",
      "execution_count": 4,
      "metadata": {
        "id": "hiPuQheiJ08K"
      },
      "outputs": [],
      "source": [
        "os.environ[\"IAG_TOKEN\"] = \"iagtok_6d696baf4b1f66712d83edfa1423148d8b8f50d4d74e8460\""
      ]
    },
    {
      "cell_type": "markdown",
      "metadata": {
        "id": "cPizC7jKJ08L"
      },
      "source": [
        "## Conferir atividades e notas\n",
        "\n",
        "Conferindo quais atividades estão disponíveis!"
      ]
    },
    {
      "cell_type": "code",
      "execution_count": 5,
      "metadata": {
        "colab": {
          "base_uri": "https://localhost:8080/",
          "height": 81
        },
        "id": "Y_LqiKGyJ08L",
        "outputId": "455ef01d-ba4e-48ae-dec0-2ca585cb1c7d"
      },
      "outputs": [
        {
          "output_type": "display_data",
          "data": {
            "text/plain": [
              "<IPython.core.display.Markdown object>"
            ],
            "text/markdown": "|    | Atividade   | De                  | Até                 |\n|---:|:------------|:--------------------|:--------------------|\n|  0 | pdf         | 2025-02-13 00:00:00 | 2025-03-11 23:59:59 |"
          },
          "metadata": {}
        }
      ],
      "source": [
        "ia.tasks()"
      ]
    },
    {
      "cell_type": "markdown",
      "metadata": {
        "id": "sbMRk86kJ08L"
      },
      "source": [
        "Conferindo a nota por exercício na atividade:"
      ]
    },
    {
      "cell_type": "code",
      "execution_count": 6,
      "metadata": {
        "colab": {
          "base_uri": "https://localhost:8080/",
          "height": 332
        },
        "id": "BXh6h5PrJ08M",
        "outputId": "92c84bee-a57d-4e90-9eef-2f0245780f7c"
      },
      "outputs": [
        {
          "output_type": "display_data",
          "data": {
            "text/plain": [
              "<IPython.core.display.Markdown object>"
            ],
            "text/markdown": "|    | Atividade   | Exercício   |   Peso |   Nota |\n|---:|:------------|:------------|-------:|-------:|\n|  0 | pdf         | ex00        |      1 |     10 |\n|  1 | pdf         | ex01        |     20 |     10 |\n|  2 | pdf         | ex02        |     20 |     10 |\n|  3 | pdf         | ex03        |     20 |     10 |\n|  4 | pdf         | ex04        |     25 |     10 |\n|  5 | pdf         | ex05        |     20 |     10 |\n|  6 | pdf         | ex06        |     25 |      0 |\n|  7 | pdf         | ex07        |     25 |      0 |\n|  8 | pdf         | ex08        |     30 |      0 |"
          },
          "metadata": {}
        }
      ],
      "source": [
        "ia.grades(task='pdf')"
      ]
    },
    {
      "cell_type": "markdown",
      "metadata": {
        "id": "RGzgwbCFJ08M"
      },
      "source": [
        "Conferindo a nota geral nas atividades"
      ]
    },
    {
      "cell_type": "code",
      "execution_count": 7,
      "metadata": {
        "colab": {
          "base_uri": "https://localhost:8080/",
          "height": 81
        },
        "id": "sw8T8WmzJ08M",
        "outputId": "d8ba2c07-7005-4b83-f0c7-597b31a3dfec"
      },
      "outputs": [
        {
          "output_type": "display_data",
          "data": {
            "text/plain": [
              "<IPython.core.display.Markdown object>"
            ],
            "text/markdown": "|    | Tarefa   |   Nota |\n|---:|:---------|-------:|\n|  0 | pdf      |    5.7 |"
          },
          "metadata": {}
        }
      ],
      "source": [
        "ia.grades(by='TASK')"
      ]
    },
    {
      "cell_type": "markdown",
      "metadata": {
        "id": "sbGAMRdaJ08M"
      },
      "source": [
        "## Exercício de Aquecimento\n",
        "\n",
        "Vamos fazer um Exercício para conferir como funciona o **insper autograding**.\n",
        "\n",
        "### Exercício Zero - Aquecimento\n",
        "\n",
        "Crie uma função em python chamada `minha_soma`. A função recebe dois números inteiros e devolve a soma deles.\n",
        "\n",
        "Edite a função na célula abaixo:"
      ]
    },
    {
      "cell_type": "code",
      "execution_count": 8,
      "metadata": {
        "id": "aNBmincAJ08M"
      },
      "outputs": [],
      "source": [
        "def minha_soma(num1, num2):\n",
        "    return num1 + num2"
      ]
    },
    {
      "cell_type": "markdown",
      "metadata": {
        "id": "l6gCBFaXJ08N"
      },
      "source": [
        "Vamos conferir se a função executa:"
      ]
    },
    {
      "cell_type": "code",
      "execution_count": 9,
      "metadata": {
        "colab": {
          "base_uri": "https://localhost:8080/"
        },
        "id": "oSRxx1gzJ08N",
        "outputId": "ee3eaa7c-2f0d-4892-8f0f-ce5c7a298b2e"
      },
      "outputs": [
        {
          "output_type": "execute_result",
          "data": {
            "text/plain": [
              "8"
            ]
          },
          "metadata": {},
          "execution_count": 9
        }
      ],
      "source": [
        "minha_soma(5, 3)"
      ]
    },
    {
      "cell_type": "markdown",
      "metadata": {
        "id": "5Kop0xOjJ08N"
      },
      "source": [
        "Agora, vamos testar sua função localmente antes de enviar ao servidor de correção automática:"
      ]
    },
    {
      "cell_type": "code",
      "execution_count": 10,
      "metadata": {
        "id": "92vvmSuSJ08O"
      },
      "outputs": [],
      "source": [
        "assert minha_soma(5,3) == 8, \"A soma de 5 e 3 deveria ser 8!\"\n",
        "assert minha_soma(0,3) == 3, \"A soma de 0 e 3 deveria ser 3!\"\n",
        "assert minha_soma(-3,3) == 0, \"A soma de -3 e 3 deveria ser 0!\""
      ]
    },
    {
      "cell_type": "markdown",
      "metadata": {
        "id": "bvXJ_NT8J08O"
      },
      "source": [
        "Como nossa função parece estar correta, clique no botão abaixo para enviá-la ao servidor de correção automática para registrar sua tentativa!\n",
        "\n",
        "Você pode reenviar quantas vezes precisar!"
      ]
    },
    {
      "cell_type": "code",
      "execution_count": 11,
      "metadata": {
        "colab": {
          "base_uri": "https://localhost:8080/",
          "height": 49,
          "referenced_widgets": [
            "4ea1de7406d3438791a7bc338673d74e",
            "c9ba996c702747a5bb2e1e9f8973b937",
            "f57a2bd79c7944fc84565e96b370e4de",
            "2e25944cc9ad47f284147cd4d540e1dc",
            "feb0105c756d460e991010a70847b5d9",
            "89016b0caf2a4458876154f1971edbb0",
            "883bb1e116c04ee7a85ae76367675a4c"
          ]
        },
        "id": "xeg08ZFaJ08O",
        "outputId": "fd220faf-d1ce-47b0-f3a1-d2eede2d2bc6"
      },
      "outputs": [
        {
          "output_type": "display_data",
          "data": {
            "text/plain": [
              "interactive(children=(Button(description='Enviar ex00', style=ButtonStyle()), Output()), _dom_classes=('widget…"
            ],
            "application/vnd.jupyter.widget-view+json": {
              "version_major": 2,
              "version_minor": 0,
              "model_id": "4ea1de7406d3438791a7bc338673d74e"
            }
          },
          "metadata": {}
        }
      ],
      "source": [
        "ia.sender(answer=\"minha_soma\", task=\"pdf\", question=\"ex00\", answer_type=\"pycode\")"
      ]
    },
    {
      "cell_type": "markdown",
      "metadata": {
        "id": "5HU-Ukg3J08P"
      },
      "source": [
        "Vamos conferir se a sua nota foi atualizada!\n",
        "\n",
        "Perceba que a nota é ponderada e que o `ex00` não vale quase nada!\n",
        "\n",
        "Nota por exercício:"
      ]
    },
    {
      "cell_type": "code",
      "execution_count": 12,
      "metadata": {
        "colab": {
          "base_uri": "https://localhost:8080/",
          "height": 332
        },
        "id": "QK1hn6DwJ08P",
        "outputId": "4c307eb9-c696-4776-b410-75cfe29e479d"
      },
      "outputs": [
        {
          "output_type": "display_data",
          "data": {
            "text/plain": [
              "<IPython.core.display.Markdown object>"
            ],
            "text/markdown": "|    | Atividade   | Exercício   |   Peso |   Nota |\n|---:|:------------|:------------|-------:|-------:|\n|  0 | pdf         | ex00        |      1 |     10 |\n|  1 | pdf         | ex01        |     20 |     10 |\n|  2 | pdf         | ex02        |     20 |     10 |\n|  3 | pdf         | ex03        |     20 |     10 |\n|  4 | pdf         | ex04        |     25 |     10 |\n|  5 | pdf         | ex05        |     20 |     10 |\n|  6 | pdf         | ex06        |     25 |      0 |\n|  7 | pdf         | ex07        |     25 |      0 |\n|  8 | pdf         | ex08        |     30 |      0 |"
          },
          "metadata": {}
        }
      ],
      "source": [
        "ia.grades(task='pdf')"
      ]
    },
    {
      "cell_type": "markdown",
      "metadata": {
        "id": "ILXrW9uGJ08P"
      },
      "source": [
        "Nota geral na atividade:"
      ]
    },
    {
      "cell_type": "code",
      "execution_count": 13,
      "metadata": {
        "colab": {
          "base_uri": "https://localhost:8080/",
          "height": 81
        },
        "id": "qKCaFTHPJ08P",
        "outputId": "3d34035b-f8dc-4f39-d79f-c91472596dfb"
      },
      "outputs": [
        {
          "output_type": "display_data",
          "data": {
            "text/plain": [
              "<IPython.core.display.Markdown object>"
            ],
            "text/markdown": "|    | Tarefa   |   Nota |\n|---:|:---------|-------:|\n|  0 | pdf      |    5.7 |"
          },
          "metadata": {}
        }
      ],
      "source": [
        "ia.grades(by='TASK', task='pdf')"
      ]
    },
    {
      "cell_type": "markdown",
      "metadata": {
        "id": "b8eFMwcPJ08Q"
      },
      "source": [
        "Modifique a célula que contém a sua função para retornar um valor errado (ex: sempre retorna `8`, ou sempre soma `+1`) e faça o reenvio. Perceba que o corretor retorna o erro!\n",
        "\n",
        "Agora que aprendeu a utilizar a correção automática, siga para os exercícios!"
      ]
    },
    {
      "cell_type": "markdown",
      "metadata": {
        "id": "87WBbT5UJ08R"
      },
      "source": [
        "## Exercícios\n",
        "\n",
        "Vamos praticar os conteúdos da aula de PDF!\n",
        "\n",
        "Responda os exercício e, quando estiver bastante confiante que a resposta está correta, faça o envio para o servidor clicando no botão indicado para isto. Faça correções em sua solução caso o feedback retornado informe a existência de erros.\n",
        "\n",
        "Confira, nas chamadas acima, se a sua nota é atualizada."
      ]
    },
    {
      "cell_type": "markdown",
      "metadata": {
        "id": "_9AM6JhjJ08R"
      },
      "source": [
        "### Download de arquivos úteis\n",
        "\n",
        "Vamos fazer o *download* de alguns arquivos úteis nos exercícios. O código foi preparado para funcionar no **Google Colab**. Faça o *download* direto pela URL dos arquivos caso não queira utilizar Colab!"
      ]
    },
    {
      "cell_type": "code",
      "execution_count": 14,
      "metadata": {
        "colab": {
          "base_uri": "https://localhost:8080/"
        },
        "id": "2EZjyIxnJ08R",
        "outputId": "452ae500-b838-4665-8671-c5009d1abb23"
      },
      "outputs": [
        {
          "output_type": "stream",
          "name": "stdout",
          "text": [
            "--2025-02-23 17:59:13--  https://atd-insper.s3.us-east-2.amazonaws.com/aula02/atv/mochileiro.pdf\n",
            "Resolving atd-insper.s3.us-east-2.amazonaws.com (atd-insper.s3.us-east-2.amazonaws.com)... 52.219.178.74, 16.12.64.18, 3.5.133.107, ...\n",
            "Connecting to atd-insper.s3.us-east-2.amazonaws.com (atd-insper.s3.us-east-2.amazonaws.com)|52.219.178.74|:443... connected.\n",
            "HTTP request sent, awaiting response... 200 OK\n",
            "Length: 241313 (236K) [application/pdf]\n",
            "Saving to: ‘mochileiro.pdf’\n",
            "\n",
            "mochileiro.pdf      100%[===================>] 235.66K  --.-KB/s    in 0.1s    \n",
            "\n",
            "2025-02-23 17:59:13 (1.70 MB/s) - ‘mochileiro.pdf’ saved [241313/241313]\n",
            "\n",
            "--2025-02-23 17:59:13--  https://atd-insper.s3.us-east-2.amazonaws.com/aula02/atv/p_value_misconceptions.pdf\n",
            "Resolving atd-insper.s3.us-east-2.amazonaws.com (atd-insper.s3.us-east-2.amazonaws.com)... 52.219.178.74, 16.12.64.18, 3.5.133.107, ...\n",
            "Connecting to atd-insper.s3.us-east-2.amazonaws.com (atd-insper.s3.us-east-2.amazonaws.com)|52.219.178.74|:443... connected.\n",
            "HTTP request sent, awaiting response... 200 OK\n",
            "Length: 203849 (199K) [application/pdf]\n",
            "Saving to: ‘p_value_misconceptions.pdf’\n",
            "\n",
            "p_value_misconcepti 100%[===================>] 199.07K  --.-KB/s    in 0.1s    \n",
            "\n",
            "2025-02-23 17:59:13 (1.91 MB/s) - ‘p_value_misconceptions.pdf’ saved [203849/203849]\n",
            "\n",
            "--2025-02-23 17:59:14--  https://atd-insper.s3.us-east-2.amazonaws.com/aula02/atv/comunicado_condominio.pdf\n",
            "Resolving atd-insper.s3.us-east-2.amazonaws.com (atd-insper.s3.us-east-2.amazonaws.com)... 52.219.178.74, 16.12.64.18, 3.5.133.107, ...\n",
            "Connecting to atd-insper.s3.us-east-2.amazonaws.com (atd-insper.s3.us-east-2.amazonaws.com)|52.219.178.74|:443... connected.\n",
            "HTTP request sent, awaiting response... 200 OK\n",
            "Length: 27882 (27K) [application/pdf]\n",
            "Saving to: ‘comunicado_condominio.pdf’\n",
            "\n",
            "comunicado_condomin 100%[===================>]  27.23K  --.-KB/s    in 0.03s   \n",
            "\n",
            "2025-02-23 17:59:14 (860 KB/s) - ‘comunicado_condominio.pdf’ saved [27882/27882]\n",
            "\n",
            "--2025-02-23 17:59:14--  https://atd-insper.s3.us-east-2.amazonaws.com/aula02/atv/itau-3q-2022.pdf\n",
            "Resolving atd-insper.s3.us-east-2.amazonaws.com (atd-insper.s3.us-east-2.amazonaws.com)... 52.219.178.74, 16.12.64.18, 3.5.133.107, ...\n",
            "Connecting to atd-insper.s3.us-east-2.amazonaws.com (atd-insper.s3.us-east-2.amazonaws.com)|52.219.178.74|:443... connected.\n",
            "HTTP request sent, awaiting response... 200 OK\n",
            "Length: 12686165 (12M) [application/pdf]\n",
            "Saving to: ‘itau-3q-2022.pdf’\n",
            "\n",
            "itau-3q-2022.pdf    100%[===================>]  12.10M  27.7MB/s    in 0.4s    \n",
            "\n",
            "2025-02-23 17:59:15 (27.7 MB/s) - ‘itau-3q-2022.pdf’ saved [12686165/12686165]\n",
            "\n",
            "--2025-02-23 17:59:15--  https://atd-insper.s3.us-east-2.amazonaws.com/aula02/atv/profissoes.pdf\n",
            "Resolving atd-insper.s3.us-east-2.amazonaws.com (atd-insper.s3.us-east-2.amazonaws.com)... 52.219.178.74, 16.12.64.18, 3.5.133.107, ...\n",
            "Connecting to atd-insper.s3.us-east-2.amazonaws.com (atd-insper.s3.us-east-2.amazonaws.com)|52.219.178.74|:443... connected.\n",
            "HTTP request sent, awaiting response... 200 OK\n",
            "Length: 47773 (47K) [application/pdf]\n",
            "Saving to: ‘profissoes.pdf’\n",
            "\n",
            "profissoes.pdf      100%[===================>]  46.65K  --.-KB/s    in 0.03s   \n",
            "\n",
            "2025-02-23 17:59:15 (1.36 MB/s) - ‘profissoes.pdf’ saved [47773/47773]\n",
            "\n",
            "--2025-02-23 17:59:15--  https://atd-insper.s3.us-east-2.amazonaws.com/aula02/atv/casas_bahia_3t23.pdf\n",
            "Resolving atd-insper.s3.us-east-2.amazonaws.com (atd-insper.s3.us-east-2.amazonaws.com)... 52.219.178.74, 16.12.64.18, 3.5.133.107, ...\n",
            "Connecting to atd-insper.s3.us-east-2.amazonaws.com (atd-insper.s3.us-east-2.amazonaws.com)|52.219.178.74|:443... connected.\n",
            "HTTP request sent, awaiting response... 200 OK\n",
            "Length: 815941 (797K) [application/pdf]\n",
            "Saving to: ‘casas_bahia_3t23.pdf’\n",
            "\n",
            "casas_bahia_3t23.pd 100%[===================>] 796.82K  4.58MB/s    in 0.2s    \n",
            "\n",
            "2025-02-23 17:59:16 (4.58 MB/s) - ‘casas_bahia_3t23.pdf’ saved [815941/815941]\n",
            "\n",
            "--2025-02-23 17:59:16--  https://atd-insper.s3.us-east-2.amazonaws.com/aula02/relatorio.pdf\n",
            "Resolving atd-insper.s3.us-east-2.amazonaws.com (atd-insper.s3.us-east-2.amazonaws.com)... 52.219.178.74, 16.12.64.18, 3.5.133.107, ...\n",
            "Connecting to atd-insper.s3.us-east-2.amazonaws.com (atd-insper.s3.us-east-2.amazonaws.com)|52.219.178.74|:443... connected.\n",
            "HTTP request sent, awaiting response... 200 OK\n",
            "Length: 84535 (83K) [application/pdf]\n",
            "Saving to: ‘relatorio.pdf’\n",
            "\n",
            "relatorio.pdf       100%[===================>]  82.55K  --.-KB/s    in 0.06s   \n",
            "\n",
            "2025-02-23 17:59:16 (1.26 MB/s) - ‘relatorio.pdf’ saved [84535/84535]\n",
            "\n"
          ]
        }
      ],
      "source": [
        "!wget https://atd-insper.s3.us-east-2.amazonaws.com/aula02/atv/mochileiro.pdf\n",
        "!wget https://atd-insper.s3.us-east-2.amazonaws.com/aula02/atv/p_value_misconceptions.pdf\n",
        "!wget https://atd-insper.s3.us-east-2.amazonaws.com/aula02/atv/comunicado_condominio.pdf\n",
        "!wget https://atd-insper.s3.us-east-2.amazonaws.com/aula02/atv/itau-3q-2022.pdf\n",
        "!wget https://atd-insper.s3.us-east-2.amazonaws.com/aula02/atv/profissoes.pdf\n",
        "!wget https://atd-insper.s3.us-east-2.amazonaws.com/aula02/atv/casas_bahia_3t23.pdf\n",
        "!wget https://atd-insper.s3.us-east-2.amazonaws.com/aula02/relatorio.pdf"
      ]
    },
    {
      "cell_type": "markdown",
      "metadata": {
        "id": "cv7S8-XyJ08S"
      },
      "source": [
        "Instalações necessárias:"
      ]
    },
    {
      "cell_type": "code",
      "execution_count": 15,
      "metadata": {
        "colab": {
          "base_uri": "https://localhost:8080/"
        },
        "id": "TpSP09TWJ08T",
        "outputId": "e0ef767d-a171-4686-e745-9aa8fdb275d7"
      },
      "outputs": [
        {
          "output_type": "stream",
          "name": "stdout",
          "text": [
            "Collecting ghostscript\n",
            "  Downloading ghostscript-0.7-py2.py3-none-any.whl.metadata (4.4 kB)\n",
            "Requirement already satisfied: setuptools>=38.6.0 in /usr/local/lib/python3.11/dist-packages (from ghostscript) (75.1.0)\n",
            "Downloading ghostscript-0.7-py2.py3-none-any.whl (25 kB)\n",
            "Installing collected packages: ghostscript\n",
            "Successfully installed ghostscript-0.7\n",
            "Collecting camelot-py[cv]\n",
            "  Downloading camelot_py-1.0.0-py3-none-any.whl.metadata (9.4 kB)\n",
            "\u001b[33mWARNING: camelot-py 1.0.0 does not provide the extra 'cv'\u001b[0m\u001b[33m\n",
            "\u001b[0mRequirement already satisfied: click>=8.0.1 in /usr/local/lib/python3.11/dist-packages (from camelot-py[cv]) (8.1.8)\n",
            "Requirement already satisfied: chardet>=5.1.0 in /usr/local/lib/python3.11/dist-packages (from camelot-py[cv]) (5.2.0)\n",
            "Requirement already satisfied: numpy>=1.24.4 in /usr/local/lib/python3.11/dist-packages (from camelot-py[cv]) (1.26.4)\n",
            "Requirement already satisfied: openpyxl>=3.1.0 in /usr/local/lib/python3.11/dist-packages (from camelot-py[cv]) (3.1.5)\n",
            "Collecting pdfminer-six>=20240706 (from camelot-py[cv])\n",
            "  Downloading pdfminer.six-20240706-py3-none-any.whl.metadata (4.1 kB)\n",
            "Collecting pypdf<4.0,>=3.17 (from camelot-py[cv])\n",
            "  Downloading pypdf-3.17.4-py3-none-any.whl.metadata (7.5 kB)\n",
            "Requirement already satisfied: pandas>=2.2.2 in /usr/local/lib/python3.11/dist-packages (from camelot-py[cv]) (2.2.2)\n",
            "Requirement already satisfied: tabulate>=0.9.0 in /usr/local/lib/python3.11/dist-packages (from camelot-py[cv]) (0.9.0)\n",
            "Requirement already satisfied: opencv-python-headless>=4.7.0.68 in /usr/local/lib/python3.11/dist-packages (from camelot-py[cv]) (4.11.0.86)\n",
            "Collecting pypdfium2>=4 (from camelot-py[cv])\n",
            "  Downloading pypdfium2-4.30.1-py3-none-manylinux_2_17_x86_64.manylinux2014_x86_64.whl.metadata (48 kB)\n",
            "\u001b[2K     \u001b[90m━━━━━━━━━━━━━━━━━━━━━━━━━━━━━━━━━━━━━━━━\u001b[0m \u001b[32m48.2/48.2 kB\u001b[0m \u001b[31m2.0 MB/s\u001b[0m eta \u001b[36m0:00:00\u001b[0m\n",
            "\u001b[?25hRequirement already satisfied: et-xmlfile in /usr/local/lib/python3.11/dist-packages (from openpyxl>=3.1.0->camelot-py[cv]) (2.0.0)\n",
            "Requirement already satisfied: python-dateutil>=2.8.2 in /usr/local/lib/python3.11/dist-packages (from pandas>=2.2.2->camelot-py[cv]) (2.8.2)\n",
            "Requirement already satisfied: pytz>=2020.1 in /usr/local/lib/python3.11/dist-packages (from pandas>=2.2.2->camelot-py[cv]) (2025.1)\n",
            "Requirement already satisfied: tzdata>=2022.7 in /usr/local/lib/python3.11/dist-packages (from pandas>=2.2.2->camelot-py[cv]) (2025.1)\n",
            "Requirement already satisfied: charset-normalizer>=2.0.0 in /usr/local/lib/python3.11/dist-packages (from pdfminer-six>=20240706->camelot-py[cv]) (3.4.1)\n",
            "Requirement already satisfied: cryptography>=36.0.0 in /usr/local/lib/python3.11/dist-packages (from pdfminer-six>=20240706->camelot-py[cv]) (43.0.3)\n",
            "Requirement already satisfied: cffi>=1.12 in /usr/local/lib/python3.11/dist-packages (from cryptography>=36.0.0->pdfminer-six>=20240706->camelot-py[cv]) (1.17.1)\n",
            "Requirement already satisfied: six>=1.5 in /usr/local/lib/python3.11/dist-packages (from python-dateutil>=2.8.2->pandas>=2.2.2->camelot-py[cv]) (1.17.0)\n",
            "Requirement already satisfied: pycparser in /usr/local/lib/python3.11/dist-packages (from cffi>=1.12->cryptography>=36.0.0->pdfminer-six>=20240706->camelot-py[cv]) (2.22)\n",
            "Downloading pdfminer.six-20240706-py3-none-any.whl (5.6 MB)\n",
            "\u001b[2K   \u001b[90m━━━━━━━━━━━━━━━━━━━━━━━━━━━━━━━━━━━━━━━━\u001b[0m \u001b[32m5.6/5.6 MB\u001b[0m \u001b[31m45.5 MB/s\u001b[0m eta \u001b[36m0:00:00\u001b[0m\n",
            "\u001b[?25hDownloading pypdf-3.17.4-py3-none-any.whl (278 kB)\n",
            "\u001b[2K   \u001b[90m━━━━━━━━━━━━━━━━━━━━━━━━━━━━━━━━━━━━━━━━\u001b[0m \u001b[32m278.2/278.2 kB\u001b[0m \u001b[31m17.1 MB/s\u001b[0m eta \u001b[36m0:00:00\u001b[0m\n",
            "\u001b[?25hDownloading pypdfium2-4.30.1-py3-none-manylinux_2_17_x86_64.manylinux2014_x86_64.whl (2.9 MB)\n",
            "\u001b[2K   \u001b[90m━━━━━━━━━━━━━━━━━━━━━━━━━━━━━━━━━━━━━━━━\u001b[0m \u001b[32m2.9/2.9 MB\u001b[0m \u001b[31m56.7 MB/s\u001b[0m eta \u001b[36m0:00:00\u001b[0m\n",
            "\u001b[?25hDownloading camelot_py-1.0.0-py3-none-any.whl (66 kB)\n",
            "\u001b[2K   \u001b[90m━━━━━━━━━━━━━━━━━━━━━━━━━━━━━━━━━━━━━━━━\u001b[0m \u001b[32m66.6/66.6 kB\u001b[0m \u001b[31m4.2 MB/s\u001b[0m eta \u001b[36m0:00:00\u001b[0m\n",
            "\u001b[?25hInstalling collected packages: pypdfium2, pypdf, pdfminer-six, camelot-py\n",
            "Successfully installed camelot-py-1.0.0 pdfminer-six-20240706 pypdf-3.17.4 pypdfium2-4.30.1\n",
            "Collecting excalibur-py\n",
            "  Downloading excalibur_py-1.0.1-py3-none-any.whl.metadata (7.9 kB)\n",
            "Requirement already satisfied: camelot-py>=1.0.0 in /usr/local/lib/python3.11/dist-packages (from excalibur-py) (1.0.0)\n",
            "Collecting celery>=4.1.1 (from excalibur-py)\n",
            "  Downloading celery-5.4.0-py3-none-any.whl.metadata (21 kB)\n",
            "Requirement already satisfied: click>=8.0.1 in /usr/local/lib/python3.11/dist-packages (from excalibur-py) (8.1.8)\n",
            "Collecting configparser>=7.1.0 (from excalibur-py)\n",
            "  Downloading configparser-7.1.0-py3-none-any.whl.metadata (5.4 kB)\n",
            "Requirement already satisfied: Flask>=3.1.0 in /usr/local/lib/python3.11/dist-packages (from excalibur-py) (3.1.0)\n",
            "Requirement already satisfied: SQLAlchemy>=1.2.12 in /usr/local/lib/python3.11/dist-packages (from excalibur-py) (2.0.38)\n",
            "Requirement already satisfied: Werkzeug>=3.1.3 in /usr/local/lib/python3.11/dist-packages (from excalibur-py) (3.1.3)\n",
            "Requirement already satisfied: pypdfium2>=4 in /usr/local/lib/python3.11/dist-packages (from excalibur-py) (4.30.1)\n",
            "Requirement already satisfied: Pillow>=11.1.0 in /usr/local/lib/python3.11/dist-packages (from excalibur-py) (11.1.0)\n",
            "Requirement already satisfied: chardet>=5.1.0 in /usr/local/lib/python3.11/dist-packages (from camelot-py>=1.0.0->excalibur-py) (5.2.0)\n",
            "Requirement already satisfied: numpy>=1.24.4 in /usr/local/lib/python3.11/dist-packages (from camelot-py>=1.0.0->excalibur-py) (1.26.4)\n",
            "Requirement already satisfied: openpyxl>=3.1.0 in /usr/local/lib/python3.11/dist-packages (from camelot-py>=1.0.0->excalibur-py) (3.1.5)\n",
            "Requirement already satisfied: pdfminer-six>=20240706 in /usr/local/lib/python3.11/dist-packages (from camelot-py>=1.0.0->excalibur-py) (20240706)\n",
            "Requirement already satisfied: pypdf<4.0,>=3.17 in /usr/local/lib/python3.11/dist-packages (from camelot-py>=1.0.0->excalibur-py) (3.17.4)\n",
            "Requirement already satisfied: pandas>=2.2.2 in /usr/local/lib/python3.11/dist-packages (from camelot-py>=1.0.0->excalibur-py) (2.2.2)\n",
            "Requirement already satisfied: tabulate>=0.9.0 in /usr/local/lib/python3.11/dist-packages (from camelot-py>=1.0.0->excalibur-py) (0.9.0)\n",
            "Requirement already satisfied: opencv-python-headless>=4.7.0.68 in /usr/local/lib/python3.11/dist-packages (from camelot-py>=1.0.0->excalibur-py) (4.11.0.86)\n",
            "Collecting billiard<5.0,>=4.2.0 (from celery>=4.1.1->excalibur-py)\n",
            "  Downloading billiard-4.2.1-py3-none-any.whl.metadata (4.4 kB)\n",
            "Collecting kombu<6.0,>=5.3.4 (from celery>=4.1.1->excalibur-py)\n",
            "  Downloading kombu-5.4.2-py3-none-any.whl.metadata (3.2 kB)\n",
            "Collecting vine<6.0,>=5.1.0 (from celery>=4.1.1->excalibur-py)\n",
            "  Downloading vine-5.1.0-py3-none-any.whl.metadata (2.7 kB)\n",
            "Collecting click-didyoumean>=0.3.0 (from celery>=4.1.1->excalibur-py)\n",
            "  Downloading click_didyoumean-0.3.1-py3-none-any.whl.metadata (3.9 kB)\n",
            "Collecting click-repl>=0.2.0 (from celery>=4.1.1->excalibur-py)\n",
            "  Downloading click_repl-0.3.0-py3-none-any.whl.metadata (3.6 kB)\n",
            "Collecting click-plugins>=1.1.1 (from celery>=4.1.1->excalibur-py)\n",
            "  Downloading click_plugins-1.1.1-py2.py3-none-any.whl.metadata (6.4 kB)\n",
            "Requirement already satisfied: tzdata>=2022.7 in /usr/local/lib/python3.11/dist-packages (from celery>=4.1.1->excalibur-py) (2025.1)\n",
            "Requirement already satisfied: python-dateutil>=2.8.2 in /usr/local/lib/python3.11/dist-packages (from celery>=4.1.1->excalibur-py) (2.8.2)\n",
            "Requirement already satisfied: Jinja2>=3.1.2 in /usr/local/lib/python3.11/dist-packages (from Flask>=3.1.0->excalibur-py) (3.1.5)\n",
            "Requirement already satisfied: itsdangerous>=2.2 in /usr/local/lib/python3.11/dist-packages (from Flask>=3.1.0->excalibur-py) (2.2.0)\n",
            "Requirement already satisfied: blinker>=1.9 in /usr/local/lib/python3.11/dist-packages (from Flask>=3.1.0->excalibur-py) (1.9.0)\n",
            "Requirement already satisfied: greenlet!=0.4.17 in /usr/local/lib/python3.11/dist-packages (from SQLAlchemy>=1.2.12->excalibur-py) (3.1.1)\n",
            "Requirement already satisfied: typing-extensions>=4.6.0 in /usr/local/lib/python3.11/dist-packages (from SQLAlchemy>=1.2.12->excalibur-py) (4.12.2)\n",
            "Requirement already satisfied: MarkupSafe>=2.1.1 in /usr/local/lib/python3.11/dist-packages (from Werkzeug>=3.1.3->excalibur-py) (3.0.2)\n",
            "Requirement already satisfied: prompt-toolkit>=3.0.36 in /usr/local/lib/python3.11/dist-packages (from click-repl>=0.2.0->celery>=4.1.1->excalibur-py) (3.0.50)\n",
            "Collecting amqp<6.0.0,>=5.1.1 (from kombu<6.0,>=5.3.4->celery>=4.1.1->excalibur-py)\n",
            "  Downloading amqp-5.3.1-py3-none-any.whl.metadata (8.9 kB)\n",
            "Requirement already satisfied: et-xmlfile in /usr/local/lib/python3.11/dist-packages (from openpyxl>=3.1.0->camelot-py>=1.0.0->excalibur-py) (2.0.0)\n",
            "Requirement already satisfied: pytz>=2020.1 in /usr/local/lib/python3.11/dist-packages (from pandas>=2.2.2->camelot-py>=1.0.0->excalibur-py) (2025.1)\n",
            "Requirement already satisfied: charset-normalizer>=2.0.0 in /usr/local/lib/python3.11/dist-packages (from pdfminer-six>=20240706->camelot-py>=1.0.0->excalibur-py) (3.4.1)\n",
            "Requirement already satisfied: cryptography>=36.0.0 in /usr/local/lib/python3.11/dist-packages (from pdfminer-six>=20240706->camelot-py>=1.0.0->excalibur-py) (43.0.3)\n",
            "Requirement already satisfied: six>=1.5 in /usr/local/lib/python3.11/dist-packages (from python-dateutil>=2.8.2->celery>=4.1.1->excalibur-py) (1.17.0)\n",
            "Requirement already satisfied: cffi>=1.12 in /usr/local/lib/python3.11/dist-packages (from cryptography>=36.0.0->pdfminer-six>=20240706->camelot-py>=1.0.0->excalibur-py) (1.17.1)\n",
            "Requirement already satisfied: wcwidth in /usr/local/lib/python3.11/dist-packages (from prompt-toolkit>=3.0.36->click-repl>=0.2.0->celery>=4.1.1->excalibur-py) (0.2.13)\n",
            "Requirement already satisfied: pycparser in /usr/local/lib/python3.11/dist-packages (from cffi>=1.12->cryptography>=36.0.0->pdfminer-six>=20240706->camelot-py>=1.0.0->excalibur-py) (2.22)\n",
            "Downloading excalibur_py-1.0.1-py3-none-any.whl (1.5 MB)\n",
            "\u001b[2K   \u001b[90m━━━━━━━━━━━━━━━━━━━━━━━━━━━━━━━━━━━━━━━━\u001b[0m \u001b[32m1.5/1.5 MB\u001b[0m \u001b[31m19.9 MB/s\u001b[0m eta \u001b[36m0:00:00\u001b[0m\n",
            "\u001b[?25hDownloading celery-5.4.0-py3-none-any.whl (425 kB)\n",
            "\u001b[2K   \u001b[90m━━━━━━━━━━━━━━━━━━━━━━━━━━━━━━━━━━━━━━━━\u001b[0m \u001b[32m426.0/426.0 kB\u001b[0m \u001b[31m21.3 MB/s\u001b[0m eta \u001b[36m0:00:00\u001b[0m\n",
            "\u001b[?25hDownloading configparser-7.1.0-py3-none-any.whl (17 kB)\n",
            "Downloading billiard-4.2.1-py3-none-any.whl (86 kB)\n",
            "\u001b[2K   \u001b[90m━━━━━━━━━━━━━━━━━━━━━━━━━━━━━━━━━━━━━━━━\u001b[0m \u001b[32m86.8/86.8 kB\u001b[0m \u001b[31m5.1 MB/s\u001b[0m eta \u001b[36m0:00:00\u001b[0m\n",
            "\u001b[?25hDownloading click_didyoumean-0.3.1-py3-none-any.whl (3.6 kB)\n",
            "Downloading click_plugins-1.1.1-py2.py3-none-any.whl (7.5 kB)\n",
            "Downloading click_repl-0.3.0-py3-none-any.whl (10 kB)\n",
            "Downloading kombu-5.4.2-py3-none-any.whl (201 kB)\n",
            "\u001b[2K   \u001b[90m━━━━━━━━━━━━━━━━━━━━━━━━━━━━━━━━━━━━━━━━\u001b[0m \u001b[32m201.3/201.3 kB\u001b[0m \u001b[31m7.9 MB/s\u001b[0m eta \u001b[36m0:00:00\u001b[0m\n",
            "\u001b[?25hDownloading vine-5.1.0-py3-none-any.whl (9.6 kB)\n",
            "Downloading amqp-5.3.1-py3-none-any.whl (50 kB)\n",
            "\u001b[2K   \u001b[90m━━━━━━━━━━━━━━━━━━━━━━━━━━━━━━━━━━━━━━━━\u001b[0m \u001b[32m50.9/50.9 kB\u001b[0m \u001b[31m2.3 MB/s\u001b[0m eta \u001b[36m0:00:00\u001b[0m\n",
            "\u001b[?25hInstalling collected packages: vine, configparser, click-plugins, click-didyoumean, billiard, click-repl, amqp, kombu, celery, excalibur-py\n",
            "Successfully installed amqp-5.3.1 billiard-4.2.1 celery-5.4.0 click-didyoumean-0.3.1 click-plugins-1.1.1 click-repl-0.3.0 configparser-7.1.0 excalibur-py-1.0.1 kombu-5.4.2 vine-5.1.0\n",
            "Collecting PyPDF2<3.0\n",
            "  Downloading pypdf2-2.12.1-py3-none-any.whl.metadata (6.6 kB)\n",
            "Downloading pypdf2-2.12.1-py3-none-any.whl (222 kB)\n",
            "\u001b[2K   \u001b[90m━━━━━━━━━━━━━━━━━━━━━━━━━━━━━━━━━━━━━━━━\u001b[0m \u001b[32m222.8/222.8 kB\u001b[0m \u001b[31m4.2 MB/s\u001b[0m eta \u001b[36m0:00:00\u001b[0m\n",
            "\u001b[?25hInstalling collected packages: PyPDF2\n",
            "Successfully installed PyPDF2-2.12.1\n",
            "Reading package lists... Done\n",
            "Building dependency tree... Done\n",
            "Reading state information... Done\n",
            "python3-tk is already the newest version (3.10.8-1~22.04).\n",
            "The following additional packages will be installed:\n",
            "  fonts-droid-fallback fonts-noto-mono fonts-urw-base35 libgs9 libgs9-common libidn12 libijs-0.35\n",
            "  libjbig2dec0 poppler-data\n",
            "Suggested packages:\n",
            "  fonts-noto fonts-freefont-otf | fonts-freefont-ttf fonts-texgyre ghostscript-x poppler-utils\n",
            "  fonts-japanese-mincho | fonts-ipafont-mincho fonts-japanese-gothic | fonts-ipafont-gothic\n",
            "  fonts-arphic-ukai fonts-arphic-uming fonts-nanum\n",
            "The following NEW packages will be installed:\n",
            "  fonts-droid-fallback fonts-noto-mono fonts-urw-base35 ghostscript libgs9 libgs9-common libidn12\n",
            "  libijs-0.35 libjbig2dec0 poppler-data\n",
            "0 upgraded, 10 newly installed, 0 to remove and 21 not upgraded.\n",
            "Need to get 16.7 MB of archives.\n",
            "After this operation, 63.0 MB of additional disk space will be used.\n",
            "Get:1 http://archive.ubuntu.com/ubuntu jammy/main amd64 fonts-droid-fallback all 1:6.0.1r16-1.1build1 [1,805 kB]\n",
            "Get:2 http://archive.ubuntu.com/ubuntu jammy/main amd64 poppler-data all 0.4.11-1 [2,171 kB]\n",
            "Get:3 http://archive.ubuntu.com/ubuntu jammy/main amd64 fonts-noto-mono all 20201225-1build1 [397 kB]\n",
            "Get:4 http://archive.ubuntu.com/ubuntu jammy/main amd64 fonts-urw-base35 all 20200910-1 [6,367 kB]\n",
            "Get:5 http://archive.ubuntu.com/ubuntu jammy-updates/main amd64 libgs9-common all 9.55.0~dfsg1-0ubuntu5.10 [752 kB]\n",
            "Get:6 http://archive.ubuntu.com/ubuntu jammy-updates/main amd64 libidn12 amd64 1.38-4ubuntu1 [60.0 kB]\n",
            "Get:7 http://archive.ubuntu.com/ubuntu jammy/main amd64 libijs-0.35 amd64 0.35-15build2 [16.5 kB]\n",
            "Get:8 http://archive.ubuntu.com/ubuntu jammy/main amd64 libjbig2dec0 amd64 0.19-3build2 [64.7 kB]\n",
            "Get:9 http://archive.ubuntu.com/ubuntu jammy-updates/main amd64 libgs9 amd64 9.55.0~dfsg1-0ubuntu5.10 [5,031 kB]\n",
            "Get:10 http://archive.ubuntu.com/ubuntu jammy-updates/main amd64 ghostscript amd64 9.55.0~dfsg1-0ubuntu5.10 [49.4 kB]\n",
            "Fetched 16.7 MB in 1s (12.1 MB/s)\n",
            "Selecting previously unselected package fonts-droid-fallback.\n",
            "(Reading database ... 124926 files and directories currently installed.)\n",
            "Preparing to unpack .../0-fonts-droid-fallback_1%3a6.0.1r16-1.1build1_all.deb ...\n",
            "Unpacking fonts-droid-fallback (1:6.0.1r16-1.1build1) ...\n",
            "Selecting previously unselected package poppler-data.\n",
            "Preparing to unpack .../1-poppler-data_0.4.11-1_all.deb ...\n",
            "Unpacking poppler-data (0.4.11-1) ...\n",
            "Selecting previously unselected package fonts-noto-mono.\n",
            "Preparing to unpack .../2-fonts-noto-mono_20201225-1build1_all.deb ...\n",
            "Unpacking fonts-noto-mono (20201225-1build1) ...\n",
            "Selecting previously unselected package fonts-urw-base35.\n",
            "Preparing to unpack .../3-fonts-urw-base35_20200910-1_all.deb ...\n",
            "Unpacking fonts-urw-base35 (20200910-1) ...\n",
            "Selecting previously unselected package libgs9-common.\n",
            "Preparing to unpack .../4-libgs9-common_9.55.0~dfsg1-0ubuntu5.10_all.deb ...\n",
            "Unpacking libgs9-common (9.55.0~dfsg1-0ubuntu5.10) ...\n",
            "Selecting previously unselected package libidn12:amd64.\n",
            "Preparing to unpack .../5-libidn12_1.38-4ubuntu1_amd64.deb ...\n",
            "Unpacking libidn12:amd64 (1.38-4ubuntu1) ...\n",
            "Selecting previously unselected package libijs-0.35:amd64.\n",
            "Preparing to unpack .../6-libijs-0.35_0.35-15build2_amd64.deb ...\n",
            "Unpacking libijs-0.35:amd64 (0.35-15build2) ...\n",
            "Selecting previously unselected package libjbig2dec0:amd64.\n",
            "Preparing to unpack .../7-libjbig2dec0_0.19-3build2_amd64.deb ...\n",
            "Unpacking libjbig2dec0:amd64 (0.19-3build2) ...\n",
            "Selecting previously unselected package libgs9:amd64.\n",
            "Preparing to unpack .../8-libgs9_9.55.0~dfsg1-0ubuntu5.10_amd64.deb ...\n",
            "Unpacking libgs9:amd64 (9.55.0~dfsg1-0ubuntu5.10) ...\n",
            "Selecting previously unselected package ghostscript.\n",
            "Preparing to unpack .../9-ghostscript_9.55.0~dfsg1-0ubuntu5.10_amd64.deb ...\n",
            "Unpacking ghostscript (9.55.0~dfsg1-0ubuntu5.10) ...\n",
            "Setting up fonts-noto-mono (20201225-1build1) ...\n",
            "Setting up libijs-0.35:amd64 (0.35-15build2) ...\n",
            "Setting up fonts-urw-base35 (20200910-1) ...\n",
            "Setting up poppler-data (0.4.11-1) ...\n",
            "Setting up libjbig2dec0:amd64 (0.19-3build2) ...\n",
            "Setting up libidn12:amd64 (1.38-4ubuntu1) ...\n",
            "Setting up fonts-droid-fallback (1:6.0.1r16-1.1build1) ...\n",
            "Setting up libgs9-common (9.55.0~dfsg1-0ubuntu5.10) ...\n",
            "Setting up libgs9:amd64 (9.55.0~dfsg1-0ubuntu5.10) ...\n",
            "Setting up ghostscript (9.55.0~dfsg1-0ubuntu5.10) ...\n",
            "Processing triggers for fontconfig (2.13.1-4.2ubuntu5) ...\n",
            "Processing triggers for libc-bin (2.35-0ubuntu3.8) ...\n",
            "/sbin/ldconfig.real: /usr/local/lib/libhwloc.so.15 is not a symbolic link\n",
            "\n",
            "/sbin/ldconfig.real: /usr/local/lib/libtcm.so.1 is not a symbolic link\n",
            "\n",
            "/sbin/ldconfig.real: /usr/local/lib/libtbb.so.12 is not a symbolic link\n",
            "\n",
            "/sbin/ldconfig.real: /usr/local/lib/libtbbbind_2_0.so.3 is not a symbolic link\n",
            "\n",
            "/sbin/ldconfig.real: /usr/local/lib/libtbbbind.so.3 is not a symbolic link\n",
            "\n",
            "/sbin/ldconfig.real: /usr/local/lib/libumf.so.0 is not a symbolic link\n",
            "\n",
            "/sbin/ldconfig.real: /usr/local/lib/libur_adapter_opencl.so.0 is not a symbolic link\n",
            "\n",
            "/sbin/ldconfig.real: /usr/local/lib/libur_loader.so.0 is not a symbolic link\n",
            "\n",
            "/sbin/ldconfig.real: /usr/local/lib/libtbbmalloc_proxy.so.2 is not a symbolic link\n",
            "\n",
            "/sbin/ldconfig.real: /usr/local/lib/libtbbbind_2_5.so.3 is not a symbolic link\n",
            "\n",
            "/sbin/ldconfig.real: /usr/local/lib/libur_adapter_level_zero.so.0 is not a symbolic link\n",
            "\n",
            "/sbin/ldconfig.real: /usr/local/lib/libtbbmalloc.so.2 is not a symbolic link\n",
            "\n",
            "/sbin/ldconfig.real: /usr/local/lib/libtcm_debug.so.1 is not a symbolic link\n",
            "\n",
            "Processing triggers for man-db (2.10.2-1) ...\n"
          ]
        }
      ],
      "source": [
        "!pip install ghostscript\n",
        "!pip install camelot-py[cv]\n",
        "!pip install excalibur-py\n",
        "!pip install 'PyPDF2<3.0'\n",
        "!apt install ghostscript python3-tk"
      ]
    },
    {
      "cell_type": "markdown",
      "metadata": {
        "id": "fcB7zjpgJ08T"
      },
      "source": [
        "### Exercício 1\n",
        "\n",
        "Crie uma função em Python que receba o nome de um arquivo PDF e retorne a quantidade de páginas que o arquivo contém.\n",
        "\n",
        "Responda alterando o código da função abaixo.\n",
        "\n",
        "Obs:\n",
        "\n",
        "- O nome e argumentos da função não devem ser alterados.\n",
        "- Considere que o código de correção já tem um import assim: `import PyPDF2`."
      ]
    },
    {
      "cell_type": "code",
      "execution_count": 16,
      "metadata": {
        "id": "kjQaQBewJ08T"
      },
      "outputs": [],
      "source": [
        "# Altere esta função\n",
        "import PyPDF2\n",
        "\n",
        "def contar_paginas(caminho_arquivo):\n",
        "    pp_reader = PyPDF2.PdfFileReader(caminho_arquivo)\n",
        "    return pp_reader.numPages"
      ]
    },
    {
      "cell_type": "markdown",
      "metadata": {
        "id": "a2gPPm5qJ08T"
      },
      "source": [
        "Vamos conferir um exemplo de execução (esperamos obter `3` como retorno da função):"
      ]
    },
    {
      "cell_type": "code",
      "execution_count": 17,
      "metadata": {
        "colab": {
          "base_uri": "https://localhost:8080/"
        },
        "id": "sq0nqFdZJ08U",
        "outputId": "f3acd8e4-7185-430d-9906-04ad3cd8164d"
      },
      "outputs": [
        {
          "output_type": "execute_result",
          "data": {
            "text/plain": [
              "3"
            ]
          },
          "metadata": {},
          "execution_count": 17
        }
      ],
      "source": [
        "contar_paginas(\"mochileiro.pdf\")"
      ]
    },
    {
      "cell_type": "markdown",
      "metadata": {
        "id": "TeDs4QIhJ08U"
      },
      "source": [
        "Abaixo, seguem alguns testes que rodam localmente e verificam sua resposta."
      ]
    },
    {
      "cell_type": "code",
      "execution_count": 18,
      "metadata": {
        "colab": {
          "base_uri": "https://localhost:8080/"
        },
        "id": "aVfWa8JMJ08V",
        "outputId": "5bb6c557-d45b-4747-ddfc-c7aee227c146"
      },
      "outputs": [
        {
          "output_type": "stream",
          "name": "stderr",
          "text": [
            "WARNING:PyPDF2._reader:Xref table not zero-indexed. ID numbers for objects will be corrected.\n"
          ]
        }
      ],
      "source": [
        "assert contar_paginas(\"mochileiro.pdf\") == 3, \"O número de páginas esperado era 3\"\n",
        "assert contar_paginas(\"p_value_misconceptions.pdf\") == 6, \"O número de páginas esperado era 6\""
      ]
    },
    {
      "cell_type": "markdown",
      "metadata": {
        "id": "4ttoZ1TvJ08V"
      },
      "source": [
        "Quando estiver confiante que sua resposta está correta, clique no botão abaixo para fazer o envio."
      ]
    },
    {
      "cell_type": "code",
      "execution_count": 19,
      "metadata": {
        "colab": {
          "base_uri": "https://localhost:8080/",
          "height": 49,
          "referenced_widgets": [
            "f906d1f6c81f4dc190ea918aa674c746",
            "7c3f961c52b147efad81a73ffef9e0e3",
            "392e7965c6274eb38937e7c53f6e09bb",
            "08cb741c269e4d67819ebc4fde9b2f0c",
            "a018f59a14204e56b33dc44eea802b8f",
            "4e1630cc3cd54233bf9a37ef9d770fd3",
            "7bcd0f23832d401ea1295c4e02535936"
          ]
        },
        "id": "A3wI0seqJ08V",
        "outputId": "b14d55c1-db65-4476-cf52-c92f82a5f466"
      },
      "outputs": [
        {
          "output_type": "display_data",
          "data": {
            "text/plain": [
              "interactive(children=(Button(description='Enviar ex01', style=ButtonStyle()), Output()), _dom_classes=('widget…"
            ],
            "application/vnd.jupyter.widget-view+json": {
              "version_major": 2,
              "version_minor": 0,
              "model_id": "f906d1f6c81f4dc190ea918aa674c746"
            }
          },
          "metadata": {}
        }
      ],
      "source": [
        "ia.sender(answer=\"contar_paginas\", task=\"pdf\", question=\"ex01\", answer_type=\"pycode\")"
      ]
    },
    {
      "cell_type": "markdown",
      "metadata": {
        "id": "7-g7WqjnJ08W"
      },
      "source": [
        "### Exercício 2\n",
        "\n",
        "Crie uma função em Python que recebe como entrada:\n",
        "- o caminho de um arquivo PDF\n",
        "- o número de uma página\n",
        "\n",
        "A função deve retornar todo texto contido na página indicada.\n",
        "\n",
        "Responda alterando o código da função abaixo.\n",
        "\n",
        "Obs:\n",
        "\n",
        "- O nome e argumentos da função não devem ser alterados.\n",
        "- Considere que o código de correção já tem um import assim: `import PyPDF2`."
      ]
    },
    {
      "cell_type": "code",
      "execution_count": 20,
      "metadata": {
        "id": "qRCjI5_EJ08W"
      },
      "outputs": [],
      "source": [
        "# Altere esta função\n",
        "import PyPDF2\n",
        "\n",
        "def extrair_texto_pagina(caminho_arquivo, num_pagina):\n",
        "  texto = PyPDF2.PdfFileReader(caminho_arquivo).getPage(num_pagina).extract_text()\n",
        "  return texto\n"
      ]
    },
    {
      "cell_type": "markdown",
      "metadata": {
        "id": "2JqIMqJQJ08W"
      },
      "source": [
        "Veja um exemplo de execução da função:"
      ]
    },
    {
      "cell_type": "code",
      "execution_count": 21,
      "metadata": {
        "colab": {
          "base_uri": "https://localhost:8080/",
          "height": 36
        },
        "id": "tGFrhPrzJ08W",
        "outputId": "75292b87-5b95-4932-e7b9-4f801cafd486"
      },
      "outputs": [
        {
          "output_type": "execute_result",
          "data": {
            "text/plain": [
              "'Atenciosamente,\\nAna Melo\\nSíndico do Condomínio das Acacias'"
            ],
            "application/vnd.google.colaboratory.intrinsic+json": {
              "type": "string"
            }
          },
          "metadata": {},
          "execution_count": 21
        }
      ],
      "source": [
        "extrair_texto_pagina(\"comunicado_condominio.pdf\", 1)"
      ]
    },
    {
      "cell_type": "markdown",
      "metadata": {
        "id": "veRUAnORJ08X"
      },
      "source": [
        "Confira se obteve o resultado correto:\n",
        "\n",
        "```python\n",
        "\"Atenciosamente,\\nAna Melo\\nSíndico do Condomínio das Acacias\"\n",
        "```"
      ]
    },
    {
      "cell_type": "markdown",
      "metadata": {
        "id": "e_2GnLLuJ08X"
      },
      "source": [
        "Abaixo, seguem alguns testes que rodam localmente e verificam sua resposta."
      ]
    },
    {
      "cell_type": "code",
      "execution_count": 22,
      "metadata": {
        "id": "c4ef-_RrJ08X"
      },
      "outputs": [],
      "source": [
        "assert extrair_texto_pagina(\"mochileiro.pdf\", 0) == \"\", f\"Para o arquivo mochileiro.pdf, página zero, era esperado que retornasse string vazia (a página contém imagens apenas)\"\n",
        "\n",
        "esperado = \"Atenciosamente,\\nAna Melo\\nSíndico do Condomínio das Acacias\"\n",
        "obtido = extrair_texto_pagina(\"comunicado_condominio.pdf\", 1)\n",
        "assert  obtido == esperado, f\"\\nEsperava: {esperado}\\n\\nObteve: {obtido}\""
      ]
    },
    {
      "cell_type": "markdown",
      "metadata": {
        "id": "NR_IRG-EJ08X"
      },
      "source": [
        "Quando estiver confiante que sua resposta está correta, clique no botão abaixo para fazer o envio."
      ]
    },
    {
      "cell_type": "code",
      "execution_count": 23,
      "metadata": {
        "colab": {
          "base_uri": "https://localhost:8080/",
          "height": 49,
          "referenced_widgets": [
            "5539843d16744a7989911355a29fc747",
            "1e53fff0d10445858f413531af781fc1",
            "c31d8bdd0dbc4773b8a9c770b56db08f",
            "df383bb0e0a2499b8064c04b76febe30",
            "07ca00b7cece4016ba04a32a69a850f8",
            "c5e3b6a171014c178902102473283521",
            "6df2d9fe1bbb4ae89ec60641016c550f"
          ]
        },
        "id": "fqqZenBSJ08X",
        "outputId": "98abd5a6-f573-46ee-8bbc-9008a6174b2c"
      },
      "outputs": [
        {
          "output_type": "display_data",
          "data": {
            "text/plain": [
              "interactive(children=(Button(description='Enviar ex02', style=ButtonStyle()), Output()), _dom_classes=('widget…"
            ],
            "application/vnd.jupyter.widget-view+json": {
              "version_major": 2,
              "version_minor": 0,
              "model_id": "5539843d16744a7989911355a29fc747"
            }
          },
          "metadata": {}
        }
      ],
      "source": [
        "ia.sender(answer=\"extrair_texto_pagina\", task=\"pdf\", question=\"ex02\", answer_type=\"pycode\")"
      ]
    },
    {
      "cell_type": "markdown",
      "metadata": {
        "id": "WD9q8q8-J08X"
      },
      "source": [
        "### Exercício 3\n",
        "\n",
        "Crie uma função em Python que recebe como entrada:\n",
        "- o caminho de um arquivo PDF\n",
        "\n",
        "A função deve contar o número de palavras contidas no PDF.\n",
        "\n",
        "Responda alterando o código da função abaixo.\n",
        "\n",
        "Obs:\n",
        "\n",
        "- O nome e argumentos da função não devem ser alterados.\n",
        "- Considere que o código de correção já tem um import assim: `import PyPDF2`."
      ]
    },
    {
      "cell_type": "code",
      "execution_count": 24,
      "metadata": {
        "id": "bzQyfzM9J08Y"
      },
      "outputs": [],
      "source": [
        "# Altere esta função\n",
        "import PyPDF2\n",
        "\n",
        "def contar_palavras(caminho_arquivo):\n",
        "    word_count = 0\n",
        "    pdf = PyPDF2.PdfFileReader(caminho_arquivo)\n",
        "    num_pages = pdf.getNumPages()\n",
        "    for i in range(0, num_pages):\n",
        "      text = pdf.getPage(i).extract_text().strip().split()\n",
        "      word_count += len(text)\n",
        "\n",
        "    return word_count"
      ]
    },
    {
      "cell_type": "markdown",
      "metadata": {
        "id": "qqXQeA9IJ08Y"
      },
      "source": [
        "Veja um exemplo de execução da função (o resultado esperado é `698`)"
      ]
    },
    {
      "cell_type": "code",
      "execution_count": 25,
      "metadata": {
        "colab": {
          "base_uri": "https://localhost:8080/"
        },
        "id": "DwIJXBZpJ08Y",
        "outputId": "f4bcf4a3-5e03-48db-f89f-e5b745103e4c"
      },
      "outputs": [
        {
          "output_type": "execute_result",
          "data": {
            "text/plain": [
              "698"
            ]
          },
          "metadata": {},
          "execution_count": 25
        }
      ],
      "source": [
        "contar_palavras(\"mochileiro.pdf\")"
      ]
    },
    {
      "cell_type": "markdown",
      "metadata": {
        "id": "jvMnwby_J08Y"
      },
      "source": [
        "Abaixo, seguem alguns testes que rodam localmente e verificam sua resposta."
      ]
    },
    {
      "cell_type": "code",
      "execution_count": 26,
      "metadata": {
        "id": "0i-sT2FAJ08Y"
      },
      "outputs": [],
      "source": [
        "obtido = contar_palavras(\"mochileiro.pdf\")\n",
        "assert obtido == 698, f\"Esperava 698 para o mochileiro.pdf, obteve {obtido}\"\n",
        "\n",
        "obtido = contar_palavras(\"comunicado_condominio.pdf\")\n",
        "assert obtido == 279, f\"Esperava 279 para o comunicado_condominio.pdf, obteve {obtido}\""
      ]
    },
    {
      "cell_type": "markdown",
      "metadata": {
        "id": "CW4UdtkeJ08Z"
      },
      "source": [
        "Quando estiver confiante que sua resposta está correta, clique no botão abaixo para fazer o envio."
      ]
    },
    {
      "cell_type": "code",
      "execution_count": 27,
      "metadata": {
        "colab": {
          "base_uri": "https://localhost:8080/",
          "height": 49,
          "referenced_widgets": [
            "4f11a3b257c04f608171d6b61cf966c2",
            "f43814ad798d448d90221b3b06b73038",
            "35aa20aed86143e7b188ab61e710c84f",
            "d557a8427668453b9a18d9b77576c623",
            "0a8172f2bd684c6dab7cfc3f0af92c6c",
            "6eba23c03f7f48cb9285617d9690b5bd",
            "ab6bae4712834584934a59362ec48b08"
          ]
        },
        "id": "FG8hEtKQJ08Z",
        "outputId": "528e073c-c432-4f42-e664-4a73e8d4c573"
      },
      "outputs": [
        {
          "output_type": "display_data",
          "data": {
            "text/plain": [
              "interactive(children=(Button(description='Enviar ex03', style=ButtonStyle()), Output()), _dom_classes=('widget…"
            ],
            "application/vnd.jupyter.widget-view+json": {
              "version_major": 2,
              "version_minor": 0,
              "model_id": "4f11a3b257c04f608171d6b61cf966c2"
            }
          },
          "metadata": {}
        }
      ],
      "source": [
        "ia.sender(answer=\"contar_palavras\", task=\"pdf\", question=\"ex03\", answer_type=\"pycode\")"
      ]
    },
    {
      "cell_type": "markdown",
      "metadata": {
        "id": "tW3TGdx3J08Z"
      },
      "source": [
        "### Exercício 4\n",
        "\n",
        "É importante conseguir fazer buscas em arquivos PDF. Assim, podemos criar rotinas que automatizem a identificação de oportunidades para uma empresa. Por exemplo, ao invés de um humano ler todas as páginas de um diário oficial, podemos criar uma rotina python que identifique as páginas que falam de processos de licitação.\n",
        "\n",
        "Crie um a função que recebe\n",
        "- O caminho de um arquivo PDF\n",
        "- Uma lista de palavras\n",
        "\n",
        "A função deve identificar em quais páginas cada uma das palavras é mencionada (de maneira completa ou substring).\n",
        "\n",
        "Retorne um dicionário onde as chaves são as palavras e os valores são uma lista com o ID das páginas onde a palavra foi identificada.\n",
        "\n",
        "Exemplo de entrada:\n",
        " - arquivo: `mochileiro.pdf`\n",
        " - palavras: `[\"genialidade\", \"lucro\", \"humor\"]`\n",
        "\n",
        "Saída esperada:\n",
        "\n",
        "```python\n",
        "{'humor': [1, 2], 'genialidade': [2]}\n",
        "```\n",
        "\n",
        "Responda alterando o código da função abaixo.\n",
        "\n",
        "Obs:\n",
        "\n",
        "- O nome e argumentos da função não devem ser alterados.\n",
        "- Considere que o código de correção já tem um import assim: `import PyPDF2`.\n",
        "- Palavras sem ocorrência não devem aparecer no dicionário de resposta.\n",
        "- Ignore o case (maiúsculo / minúsculo), compare como quiser mas retorne tudo em minúsculo."
      ]
    },
    {
      "cell_type": "code",
      "execution_count": 28,
      "metadata": {
        "id": "OoWv41qqJ08Z"
      },
      "outputs": [],
      "source": [
        "# Altere esta função\n",
        "import PyPDF2\n",
        "\n",
        "def identificar_palavras(caminho_arquivo, palavras):\n",
        "  word_dict = {}\n",
        "  palavras_copy = [palavra.lower() for palavra in palavras]\n",
        "  pdf = PyPDF2.PdfFileReader(caminho_arquivo)\n",
        "  num_pages = pdf.getNumPages()\n",
        "\n",
        "  for i in range(num_pages):\n",
        "    text = pdf.getPage(i).extract_text().strip().lower()\n",
        "    for palavra in palavras_copy:\n",
        "      if palavra in text:\n",
        "        if palavra not in word_dict.keys():\n",
        "          word_dict[palavra] = []\n",
        "        word_dict[palavra].append(i)\n",
        "\n",
        "  return word_dict"
      ]
    },
    {
      "cell_type": "markdown",
      "metadata": {
        "id": "6q5-OX3kJ08Z"
      },
      "source": [
        "Veja um exemplo de execução:"
      ]
    },
    {
      "cell_type": "code",
      "execution_count": 29,
      "metadata": {
        "colab": {
          "base_uri": "https://localhost:8080/"
        },
        "id": "V8MBhDVFJ08Z",
        "outputId": "36934540-5e89-4f15-a75f-23135c9f9d6e"
      },
      "outputs": [
        {
          "output_type": "execute_result",
          "data": {
            "text/plain": [
              "{'humor': [1, 2], 'genialidade': [2]}"
            ]
          },
          "metadata": {},
          "execution_count": 29
        }
      ],
      "source": [
        "identificar_palavras(\"mochileiro.pdf\", [\"genialidade\", \"lucro\", \"humor\"])"
      ]
    },
    {
      "cell_type": "markdown",
      "metadata": {
        "id": "HsVZ3RRXJ08Z"
      },
      "source": [
        "Abaixo, seguem alguns testes que rodam localmente e verificam sua resposta."
      ]
    },
    {
      "cell_type": "code",
      "execution_count": 30,
      "metadata": {
        "id": "9mv4HPnlJ08a"
      },
      "outputs": [],
      "source": [
        "assert identificar_palavras(\n",
        "            \"mochileiro.pdf\", [\"genialidade\", \"lucro\", \"humor\"]\n",
        "        ) == {\"humor\": [1, 2], \"genialidade\": [2]}"
      ]
    },
    {
      "cell_type": "markdown",
      "metadata": {
        "id": "g1x7NTkQJ08a"
      },
      "source": [
        "Quando estiver confiante que sua resposta está correta, clique no botão abaixo para fazer o envio."
      ]
    },
    {
      "cell_type": "code",
      "execution_count": 31,
      "metadata": {
        "colab": {
          "base_uri": "https://localhost:8080/",
          "height": 49,
          "referenced_widgets": [
            "cdebb84307d345fcb9a4ff4c496d6d7b",
            "bae3af9e414042ef841e0016a7f6c0a7",
            "4ffb834c60724f5f815baa3a7e80366d",
            "6bb78f2548ce49e7928c1b449d668cee",
            "953a5bc801bd4732a703f0f4a6719930",
            "512b11353f384a2cb970861cbd7cf385",
            "93580ff5856945548ff2069176f32900"
          ]
        },
        "id": "kxXCsZGQJ08a",
        "outputId": "da966c59-f904-4926-8643-92ccb9c21303"
      },
      "outputs": [
        {
          "output_type": "display_data",
          "data": {
            "text/plain": [
              "interactive(children=(Button(description='Enviar ex04', style=ButtonStyle()), Output()), _dom_classes=('widget…"
            ],
            "application/vnd.jupyter.widget-view+json": {
              "version_major": 2,
              "version_minor": 0,
              "model_id": "cdebb84307d345fcb9a4ff4c496d6d7b"
            }
          },
          "metadata": {}
        }
      ],
      "source": [
        "ia.sender(answer=\"identificar_palavras\", task=\"pdf\", question=\"ex04\", answer_type=\"pycode\")"
      ]
    },
    {
      "cell_type": "markdown",
      "metadata": {
        "id": "p2JfqhJhJ08a"
      },
      "source": [
        "### Exercício 5\n",
        "\n",
        "Crie uma função que retorne a primeira tabela lida de um PDF.\n",
        "\n",
        "A função recebe como entrada o caminho de um arquivo PDF e deve retornar um **DataFrame**.\n",
        "\n",
        "Obs:\n",
        "\n",
        "- O nome e argumentos da função não devem ser alterados.\n",
        "- Considere que o código de correção já tem um import assim: `import camelot`.\n",
        "- Você precisará tratar o cabeçalho da tabela (nome das colunas).\n",
        "- Não é necessário fazer limpezas ou conversões de tipos."
      ]
    },
    {
      "cell_type": "code",
      "execution_count": 40,
      "metadata": {
        "id": "CU3gli93J08a"
      },
      "outputs": [],
      "source": [
        "# Altere esta função\n",
        "import camelot\n",
        "\n",
        "def ler_tabela(caminho_arquivo):\n",
        "    tabelas = camelot.read_pdf(caminho_arquivo)\n",
        "    df = tabelas[0].df\n",
        "    df.columns = df.iloc[0]\n",
        "    df = df[1::]\n",
        "    return df\n"
      ]
    },
    {
      "cell_type": "markdown",
      "metadata": {
        "id": "9aTV8RZ_J08a"
      },
      "source": [
        "Veja um exemplo da execução da função:"
      ]
    },
    {
      "cell_type": "code",
      "execution_count": 41,
      "metadata": {
        "colab": {
          "base_uri": "https://localhost:8080/",
          "height": 206
        },
        "id": "6azomXXaJ08a",
        "outputId": "cc5f51b9-98d8-485b-9e7d-f629a19723cd"
      },
      "outputs": [
        {
          "output_type": "execute_result",
          "data": {
            "text/plain": [
              "0    Profissão Salário Médio Percentil 25% (R$) Percentil 75% (R$)\n",
              "1   Engenheiro         8.500              7.000             10.000\n",
              "2       Médico        12.000             10.000             14.000\n",
              "3    Professor         5.000              4.000              6.000\n",
              "4     Advogado         9.200              7.500             11.000\n",
              "5  Programador         7.000              6.000              8.000"
            ],
            "text/html": [
              "\n",
              "  <div id=\"df-e8fab209-eebc-4712-b7eb-17a46589cbec\" class=\"colab-df-container\">\n",
              "    <div>\n",
              "<style scoped>\n",
              "    .dataframe tbody tr th:only-of-type {\n",
              "        vertical-align: middle;\n",
              "    }\n",
              "\n",
              "    .dataframe tbody tr th {\n",
              "        vertical-align: top;\n",
              "    }\n",
              "\n",
              "    .dataframe thead th {\n",
              "        text-align: right;\n",
              "    }\n",
              "</style>\n",
              "<table border=\"1\" class=\"dataframe\">\n",
              "  <thead>\n",
              "    <tr style=\"text-align: right;\">\n",
              "      <th></th>\n",
              "      <th>Profissão</th>\n",
              "      <th>Salário Médio</th>\n",
              "      <th>Percentil 25% (R$)</th>\n",
              "      <th>Percentil 75% (R$)</th>\n",
              "    </tr>\n",
              "  </thead>\n",
              "  <tbody>\n",
              "    <tr>\n",
              "      <th>1</th>\n",
              "      <td>Engenheiro</td>\n",
              "      <td>8.500</td>\n",
              "      <td>7.000</td>\n",
              "      <td>10.000</td>\n",
              "    </tr>\n",
              "    <tr>\n",
              "      <th>2</th>\n",
              "      <td>Médico</td>\n",
              "      <td>12.000</td>\n",
              "      <td>10.000</td>\n",
              "      <td>14.000</td>\n",
              "    </tr>\n",
              "    <tr>\n",
              "      <th>3</th>\n",
              "      <td>Professor</td>\n",
              "      <td>5.000</td>\n",
              "      <td>4.000</td>\n",
              "      <td>6.000</td>\n",
              "    </tr>\n",
              "    <tr>\n",
              "      <th>4</th>\n",
              "      <td>Advogado</td>\n",
              "      <td>9.200</td>\n",
              "      <td>7.500</td>\n",
              "      <td>11.000</td>\n",
              "    </tr>\n",
              "    <tr>\n",
              "      <th>5</th>\n",
              "      <td>Programador</td>\n",
              "      <td>7.000</td>\n",
              "      <td>6.000</td>\n",
              "      <td>8.000</td>\n",
              "    </tr>\n",
              "  </tbody>\n",
              "</table>\n",
              "</div>\n",
              "    <div class=\"colab-df-buttons\">\n",
              "\n",
              "  <div class=\"colab-df-container\">\n",
              "    <button class=\"colab-df-convert\" onclick=\"convertToInteractive('df-e8fab209-eebc-4712-b7eb-17a46589cbec')\"\n",
              "            title=\"Convert this dataframe to an interactive table.\"\n",
              "            style=\"display:none;\">\n",
              "\n",
              "  <svg xmlns=\"http://www.w3.org/2000/svg\" height=\"24px\" viewBox=\"0 -960 960 960\">\n",
              "    <path d=\"M120-120v-720h720v720H120Zm60-500h600v-160H180v160Zm220 220h160v-160H400v160Zm0 220h160v-160H400v160ZM180-400h160v-160H180v160Zm440 0h160v-160H620v160ZM180-180h160v-160H180v160Zm440 0h160v-160H620v160Z\"/>\n",
              "  </svg>\n",
              "    </button>\n",
              "\n",
              "  <style>\n",
              "    .colab-df-container {\n",
              "      display:flex;\n",
              "      gap: 12px;\n",
              "    }\n",
              "\n",
              "    .colab-df-convert {\n",
              "      background-color: #E8F0FE;\n",
              "      border: none;\n",
              "      border-radius: 50%;\n",
              "      cursor: pointer;\n",
              "      display: none;\n",
              "      fill: #1967D2;\n",
              "      height: 32px;\n",
              "      padding: 0 0 0 0;\n",
              "      width: 32px;\n",
              "    }\n",
              "\n",
              "    .colab-df-convert:hover {\n",
              "      background-color: #E2EBFA;\n",
              "      box-shadow: 0px 1px 2px rgba(60, 64, 67, 0.3), 0px 1px 3px 1px rgba(60, 64, 67, 0.15);\n",
              "      fill: #174EA6;\n",
              "    }\n",
              "\n",
              "    .colab-df-buttons div {\n",
              "      margin-bottom: 4px;\n",
              "    }\n",
              "\n",
              "    [theme=dark] .colab-df-convert {\n",
              "      background-color: #3B4455;\n",
              "      fill: #D2E3FC;\n",
              "    }\n",
              "\n",
              "    [theme=dark] .colab-df-convert:hover {\n",
              "      background-color: #434B5C;\n",
              "      box-shadow: 0px 1px 3px 1px rgba(0, 0, 0, 0.15);\n",
              "      filter: drop-shadow(0px 1px 2px rgba(0, 0, 0, 0.3));\n",
              "      fill: #FFFFFF;\n",
              "    }\n",
              "  </style>\n",
              "\n",
              "    <script>\n",
              "      const buttonEl =\n",
              "        document.querySelector('#df-e8fab209-eebc-4712-b7eb-17a46589cbec button.colab-df-convert');\n",
              "      buttonEl.style.display =\n",
              "        google.colab.kernel.accessAllowed ? 'block' : 'none';\n",
              "\n",
              "      async function convertToInteractive(key) {\n",
              "        const element = document.querySelector('#df-e8fab209-eebc-4712-b7eb-17a46589cbec');\n",
              "        const dataTable =\n",
              "          await google.colab.kernel.invokeFunction('convertToInteractive',\n",
              "                                                    [key], {});\n",
              "        if (!dataTable) return;\n",
              "\n",
              "        const docLinkHtml = 'Like what you see? Visit the ' +\n",
              "          '<a target=\"_blank\" href=https://colab.research.google.com/notebooks/data_table.ipynb>data table notebook</a>'\n",
              "          + ' to learn more about interactive tables.';\n",
              "        element.innerHTML = '';\n",
              "        dataTable['output_type'] = 'display_data';\n",
              "        await google.colab.output.renderOutput(dataTable, element);\n",
              "        const docLink = document.createElement('div');\n",
              "        docLink.innerHTML = docLinkHtml;\n",
              "        element.appendChild(docLink);\n",
              "      }\n",
              "    </script>\n",
              "  </div>\n",
              "\n",
              "\n",
              "<div id=\"df-fcf0bde5-6508-46ad-8088-ee2999ef0001\">\n",
              "  <button class=\"colab-df-quickchart\" onclick=\"quickchart('df-fcf0bde5-6508-46ad-8088-ee2999ef0001')\"\n",
              "            title=\"Suggest charts\"\n",
              "            style=\"display:none;\">\n",
              "\n",
              "<svg xmlns=\"http://www.w3.org/2000/svg\" height=\"24px\"viewBox=\"0 0 24 24\"\n",
              "     width=\"24px\">\n",
              "    <g>\n",
              "        <path d=\"M19 3H5c-1.1 0-2 .9-2 2v14c0 1.1.9 2 2 2h14c1.1 0 2-.9 2-2V5c0-1.1-.9-2-2-2zM9 17H7v-7h2v7zm4 0h-2V7h2v10zm4 0h-2v-4h2v4z\"/>\n",
              "    </g>\n",
              "</svg>\n",
              "  </button>\n",
              "\n",
              "<style>\n",
              "  .colab-df-quickchart {\n",
              "      --bg-color: #E8F0FE;\n",
              "      --fill-color: #1967D2;\n",
              "      --hover-bg-color: #E2EBFA;\n",
              "      --hover-fill-color: #174EA6;\n",
              "      --disabled-fill-color: #AAA;\n",
              "      --disabled-bg-color: #DDD;\n",
              "  }\n",
              "\n",
              "  [theme=dark] .colab-df-quickchart {\n",
              "      --bg-color: #3B4455;\n",
              "      --fill-color: #D2E3FC;\n",
              "      --hover-bg-color: #434B5C;\n",
              "      --hover-fill-color: #FFFFFF;\n",
              "      --disabled-bg-color: #3B4455;\n",
              "      --disabled-fill-color: #666;\n",
              "  }\n",
              "\n",
              "  .colab-df-quickchart {\n",
              "    background-color: var(--bg-color);\n",
              "    border: none;\n",
              "    border-radius: 50%;\n",
              "    cursor: pointer;\n",
              "    display: none;\n",
              "    fill: var(--fill-color);\n",
              "    height: 32px;\n",
              "    padding: 0;\n",
              "    width: 32px;\n",
              "  }\n",
              "\n",
              "  .colab-df-quickchart:hover {\n",
              "    background-color: var(--hover-bg-color);\n",
              "    box-shadow: 0 1px 2px rgba(60, 64, 67, 0.3), 0 1px 3px 1px rgba(60, 64, 67, 0.15);\n",
              "    fill: var(--button-hover-fill-color);\n",
              "  }\n",
              "\n",
              "  .colab-df-quickchart-complete:disabled,\n",
              "  .colab-df-quickchart-complete:disabled:hover {\n",
              "    background-color: var(--disabled-bg-color);\n",
              "    fill: var(--disabled-fill-color);\n",
              "    box-shadow: none;\n",
              "  }\n",
              "\n",
              "  .colab-df-spinner {\n",
              "    border: 2px solid var(--fill-color);\n",
              "    border-color: transparent;\n",
              "    border-bottom-color: var(--fill-color);\n",
              "    animation:\n",
              "      spin 1s steps(1) infinite;\n",
              "  }\n",
              "\n",
              "  @keyframes spin {\n",
              "    0% {\n",
              "      border-color: transparent;\n",
              "      border-bottom-color: var(--fill-color);\n",
              "      border-left-color: var(--fill-color);\n",
              "    }\n",
              "    20% {\n",
              "      border-color: transparent;\n",
              "      border-left-color: var(--fill-color);\n",
              "      border-top-color: var(--fill-color);\n",
              "    }\n",
              "    30% {\n",
              "      border-color: transparent;\n",
              "      border-left-color: var(--fill-color);\n",
              "      border-top-color: var(--fill-color);\n",
              "      border-right-color: var(--fill-color);\n",
              "    }\n",
              "    40% {\n",
              "      border-color: transparent;\n",
              "      border-right-color: var(--fill-color);\n",
              "      border-top-color: var(--fill-color);\n",
              "    }\n",
              "    60% {\n",
              "      border-color: transparent;\n",
              "      border-right-color: var(--fill-color);\n",
              "    }\n",
              "    80% {\n",
              "      border-color: transparent;\n",
              "      border-right-color: var(--fill-color);\n",
              "      border-bottom-color: var(--fill-color);\n",
              "    }\n",
              "    90% {\n",
              "      border-color: transparent;\n",
              "      border-bottom-color: var(--fill-color);\n",
              "    }\n",
              "  }\n",
              "</style>\n",
              "\n",
              "  <script>\n",
              "    async function quickchart(key) {\n",
              "      const quickchartButtonEl =\n",
              "        document.querySelector('#' + key + ' button');\n",
              "      quickchartButtonEl.disabled = true;  // To prevent multiple clicks.\n",
              "      quickchartButtonEl.classList.add('colab-df-spinner');\n",
              "      try {\n",
              "        const charts = await google.colab.kernel.invokeFunction(\n",
              "            'suggestCharts', [key], {});\n",
              "      } catch (error) {\n",
              "        console.error('Error during call to suggestCharts:', error);\n",
              "      }\n",
              "      quickchartButtonEl.classList.remove('colab-df-spinner');\n",
              "      quickchartButtonEl.classList.add('colab-df-quickchart-complete');\n",
              "    }\n",
              "    (() => {\n",
              "      let quickchartButtonEl =\n",
              "        document.querySelector('#df-fcf0bde5-6508-46ad-8088-ee2999ef0001 button');\n",
              "      quickchartButtonEl.style.display =\n",
              "        google.colab.kernel.accessAllowed ? 'block' : 'none';\n",
              "    })();\n",
              "  </script>\n",
              "</div>\n",
              "\n",
              "    </div>\n",
              "  </div>\n"
            ],
            "application/vnd.google.colaboratory.intrinsic+json": {
              "type": "dataframe",
              "summary": "{\n  \"name\": \"ler_tabela(\\\"profissoes\",\n  \"rows\": 5,\n  \"fields\": [\n    {\n      \"column\": \"Profiss\\u00e3o\",\n      \"properties\": {\n        \"dtype\": \"string\",\n        \"num_unique_values\": 5,\n        \"samples\": [\n          \"M\\u00e9dico\",\n          \"Programador\",\n          \"Professor\"\n        ],\n        \"semantic_type\": \"\",\n        \"description\": \"\"\n      }\n    },\n    {\n      \"column\": \"Sal\\u00e1rio M\\u00e9dio\",\n      \"properties\": {\n        \"dtype\": \"string\",\n        \"num_unique_values\": 5,\n        \"samples\": [\n          \"12.000\",\n          \"7.000\",\n          \"5.000\"\n        ],\n        \"semantic_type\": \"\",\n        \"description\": \"\"\n      }\n    },\n    {\n      \"column\": \"Percentil 25% (R$)\",\n      \"properties\": {\n        \"dtype\": \"string\",\n        \"num_unique_values\": 5,\n        \"samples\": [\n          \"10.000\",\n          \"6.000\",\n          \"4.000\"\n        ],\n        \"semantic_type\": \"\",\n        \"description\": \"\"\n      }\n    },\n    {\n      \"column\": \"Percentil 75% (R$)\",\n      \"properties\": {\n        \"dtype\": \"string\",\n        \"num_unique_values\": 5,\n        \"samples\": [\n          \"14.000\",\n          \"8.000\",\n          \"6.000\"\n        ],\n        \"semantic_type\": \"\",\n        \"description\": \"\"\n      }\n    }\n  ]\n}"
            }
          },
          "metadata": {},
          "execution_count": 41
        }
      ],
      "source": [
        "ler_tabela(\"profissoes.pdf\")"
      ]
    },
    {
      "cell_type": "markdown",
      "metadata": {
        "id": "GNXy3yr3J08b"
      },
      "source": [
        "É esperado que ela retorne o **DataFrame** assim:\n",
        "\n",
        "|    | Profissão   |   Salário Médio |   Percentil 25% (R$) |   Percentil 75% (R$) |\n",
        "|---:|:------------|----------------:|---------------------:|---------------------:|\n",
        "|  1 | Engenheiro  |           8.500 |                7.000 |               10.000 |\n",
        "|  2 | Médico      |          12.000 |               10.000 |               14.000 |\n",
        "|  3 | Professor   |           5.000 |                4.000 |                6.000 |\n",
        "|  4 | Advogado    |           9.200 |                7.500 |               11.000 |\n",
        "|  5 | Programador |           7.000 |                6.000 |                8.000 |"
      ]
    },
    {
      "cell_type": "markdown",
      "metadata": {
        "id": "T6z9pTk0J08b"
      },
      "source": [
        "Quando estiver confiante que sua resposta está correta, clique no botão abaixo para fazer o envio."
      ]
    },
    {
      "cell_type": "code",
      "execution_count": 42,
      "metadata": {
        "id": "jc2qMRNsJ08b",
        "outputId": "27cf7940-f371-42d6-b366-f0d3d84890f4",
        "colab": {
          "base_uri": "https://localhost:8080/",
          "height": 78,
          "referenced_widgets": [
            "60518e8d7f3f4a94a245de11eab96dc8",
            "aaac3aa1c0314bf9a788c9d203179e7e",
            "4ff36c5894d44cf599c052b45f3c2834",
            "f7fd6b91b80b42ba872ee7fe1e99579f",
            "82c1b1ace52c4e4d94c7c1fd9970f682",
            "108f71595b6640a3b1d93545cb92b348",
            "6a051e190bd840a4b6cb16218738ceda"
          ]
        }
      },
      "outputs": [
        {
          "output_type": "display_data",
          "data": {
            "text/plain": [
              "interactive(children=(Button(description='Enviar ex05', style=ButtonStyle()), Output()), _dom_classes=('widget…"
            ],
            "application/vnd.jupyter.widget-view+json": {
              "version_major": 2,
              "version_minor": 0,
              "model_id": "60518e8d7f3f4a94a245de11eab96dc8"
            }
          },
          "metadata": {}
        }
      ],
      "source": [
        "ia.sender(answer=\"ler_tabela\", task=\"pdf\", question=\"ex05\", answer_type=\"pycode\")"
      ]
    },
    {
      "cell_type": "markdown",
      "metadata": {
        "id": "_4HPbN2ZJ08b"
      },
      "source": [
        "### Exercício 6\n",
        "\n",
        "Crie uma função que retorne a soma de uma coluna da primeira tabela lida de um PDF.\n",
        "\n",
        "A função recebe como entrada:\n",
        "- O caminho de um arquivo PDF.\n",
        "- O número `k` de uma coluna (começando em zero).\n",
        "\n",
        "A função deve retornar a soma dos valores da coluna `k` da tabela.\n",
        "\n",
        "Obs:\n",
        "\n",
        "- O nome e argumentos da função não devem ser alterados.\n",
        "- Considere que o código de correção já tem um import assim: `import camelot`.\n",
        "- Você precisará tratar o cabeçalho da tabela (nome das colunas).\n",
        "- Pode ser necessário realizar conversões de tipos.\n",
        "- Retorne um valor **inteiro**, ignorando a parte decimal do resultado da soma."
      ]
    },
    {
      "cell_type": "code",
      "execution_count": 145,
      "metadata": {
        "id": "o_BjvPqUJ08b"
      },
      "outputs": [],
      "source": [
        "# Altere esta função\n",
        "import camelot\n",
        "\n",
        "def somar_coluna(caminho_arquivo, k_col):\n",
        "    df = camelot.read_pdf(caminho_arquivo)[0].df\n",
        "    column = df.columns[k_col]\n",
        "    df[column] = df[column][1:].apply(lambda x : x.replace(\".\", \"\"))\n",
        "    return sum(df[column][1:].astype(int))\n"
      ]
    },
    {
      "cell_type": "markdown",
      "metadata": {
        "id": "5hXnTEOXJ08b"
      },
      "source": [
        "Veja um exemplo da execução da função (o resultado esperado é `41700`):"
      ]
    },
    {
      "cell_type": "code",
      "execution_count": 146,
      "metadata": {
        "id": "3AtVSySDJ08b",
        "outputId": "bf4d6b37-a3e7-4bdf-dc7b-a835cf82a868",
        "colab": {
          "base_uri": "https://localhost:8080/"
        }
      },
      "outputs": [
        {
          "output_type": "execute_result",
          "data": {
            "text/plain": [
              "41700"
            ]
          },
          "metadata": {},
          "execution_count": 146
        }
      ],
      "source": [
        "somar_coluna(\"profissoes.pdf\", 1)"
      ]
    },
    {
      "cell_type": "markdown",
      "metadata": {
        "id": "aHK7LPvWJ08c"
      },
      "source": [
        "Abaixo, seguem alguns testes que rodam localmente e verificam sua resposta."
      ]
    },
    {
      "cell_type": "code",
      "execution_count": 147,
      "metadata": {
        "id": "H3vG8-5tJ08c"
      },
      "outputs": [],
      "source": [
        "assert somar_coluna(\"profissoes.pdf\", 1) == 41700, \"Retornou o valor errado para a soma!\""
      ]
    },
    {
      "cell_type": "markdown",
      "metadata": {
        "id": "31b6ZY3JJ08c"
      },
      "source": [
        "Quando estiver confiante que sua resposta está correta, clique no botão abaixo para fazer o envio."
      ]
    },
    {
      "cell_type": "code",
      "execution_count": 148,
      "metadata": {
        "id": "9mi1BhNsJ08c",
        "outputId": "fb466241-14c8-4030-ccd2-8e6e50aa1296",
        "colab": {
          "base_uri": "https://localhost:8080/",
          "height": 78,
          "referenced_widgets": [
            "e6940f78d9504114a8258a3014609ca0",
            "6cdd369557934876b6eb309ea1bcc9f2",
            "0ba46e75897b467ea31b127499b98607",
            "df0f63124a7149db8fe6cefe0677cee5",
            "08ea4fab127848208183f51a436f8116",
            "77b0f447d678424ab140a265a18718a7",
            "37ba7a505e52478db048d80f1deaeeca"
          ]
        }
      },
      "outputs": [
        {
          "output_type": "display_data",
          "data": {
            "text/plain": [
              "interactive(children=(Button(description='Enviar ex06', style=ButtonStyle()), Output()), _dom_classes=('widget…"
            ],
            "application/vnd.jupyter.widget-view+json": {
              "version_major": 2,
              "version_minor": 0,
              "model_id": "e6940f78d9504114a8258a3014609ca0"
            }
          },
          "metadata": {}
        }
      ],
      "source": [
        "ia.sender(answer=\"somar_coluna\", task=\"pdf\", question=\"ex06\", answer_type=\"pycode\")"
      ]
    },
    {
      "cell_type": "markdown",
      "metadata": {
        "id": "mLndAlpYJ08c"
      },
      "source": [
        "### Exercício 7\n",
        "\n",
        "Crie uma função que retorne uma lista com o tamanho (quantidade de linhas, quantidade de colunas) de todas as tabelas lidas em um PDF.\n",
        "\n",
        "A função recebe como entrada o caminho de um arquivo PDF.\n",
        "\n",
        "A função deve retornar uma lista onde cada elemento é uma sublista com a quantidade de linhas e quantidade de colunas (nesta ordem) de cada tabela.\n",
        "\n",
        "Obs:\n",
        "\n",
        "- O nome e argumentos da função não devem ser alterados.\n",
        "- Considere que o código de correção já tem um import assim: `import camelot`."
      ]
    },
    {
      "cell_type": "code",
      "execution_count": 167,
      "metadata": {
        "id": "GyghOUrZJ08d"
      },
      "outputs": [],
      "source": [
        "# Altere esta função\n",
        "import camelot\n",
        "\n",
        "def obter_dimensoes_tabelas(caminho_arquivo):\n",
        "    tabelas = camelot.read_pdf(caminho_arquivo)\n",
        "    final = []\n",
        "    for i in range(len(tabelas)):\n",
        "      linhas = 0\n",
        "      colunas = 0\n",
        "      curr = []\n",
        "      df = tabelas[i].df\n",
        "      curr.append(len(df)-1)\n",
        "      curr.append(len(df.columns))\n",
        "      final.append(curr)\n",
        "\n",
        "    return final"
      ]
    },
    {
      "cell_type": "markdown",
      "metadata": {
        "id": "N9m8lNosJ08d"
      },
      "source": [
        "Veja um exemplo da execução da função:"
      ]
    },
    {
      "cell_type": "code",
      "execution_count": 168,
      "metadata": {
        "id": "gMLzfQtLJ08d",
        "outputId": "99f4fe1b-86b9-4be7-ab21-94759d9893c2",
        "colab": {
          "base_uri": "https://localhost:8080/"
        }
      },
      "outputs": [
        {
          "output_type": "execute_result",
          "data": {
            "text/plain": [
              "[[5, 4], [5, 2]]"
            ]
          },
          "metadata": {},
          "execution_count": 168
        }
      ],
      "source": [
        "obter_dimensoes_tabelas(\"profissoes.pdf\")"
      ]
    },
    {
      "cell_type": "markdown",
      "metadata": {
        "id": "4_TYyJ-2J08d"
      },
      "source": [
        "É esperado que o retorno obtido seja:\n",
        "\n",
        "```python\n",
        "[[5, 4], [5, 2]]\n",
        "```"
      ]
    },
    {
      "cell_type": "markdown",
      "metadata": {
        "id": "HiXlFXZ7J08d"
      },
      "source": [
        "Abaixo, seguem alguns testes que rodam localmente e verificam sua resposta."
      ]
    },
    {
      "cell_type": "code",
      "execution_count": 169,
      "metadata": {
        "id": "o99UGQdXJ08e"
      },
      "outputs": [],
      "source": [
        "assert obter_dimensoes_tabelas(\"profissoes.pdf\") == [[5, 4], [5, 2]], \"Retorno incorreto!\""
      ]
    },
    {
      "cell_type": "markdown",
      "metadata": {
        "id": "GTp0ul8qJ08e"
      },
      "source": [
        "Quando estiver confiante que sua resposta está correta, clique no botão abaixo para fazer o envio."
      ]
    },
    {
      "cell_type": "code",
      "execution_count": 170,
      "metadata": {
        "id": "lAwlL3HDJ08e",
        "outputId": "6b740630-fe82-4fd1-c8d7-bd7ea15e14df",
        "colab": {
          "base_uri": "https://localhost:8080/",
          "height": 78,
          "referenced_widgets": [
            "d5af5bc19ab2464e936a9f9308103f76",
            "66b5340d59d4471f96ceb5839b8befeb",
            "95c1b9fce6ab4738b8c3ebb6df6482ef",
            "77993c043b5f458ab5008f6fc520a55c",
            "ee6a1a026f5446f88b7a8ba0327c5cff",
            "5f642d8d0e9f4a1bbffaffd3e017c6b1",
            "8146839b2c4b432b8fa35d80ed5d3df0"
          ]
        }
      },
      "outputs": [
        {
          "output_type": "display_data",
          "data": {
            "text/plain": [
              "interactive(children=(Button(description='Enviar ex07', style=ButtonStyle()), Output()), _dom_classes=('widget…"
            ],
            "application/vnd.jupyter.widget-view+json": {
              "version_major": 2,
              "version_minor": 0,
              "model_id": "d5af5bc19ab2464e936a9f9308103f76"
            }
          },
          "metadata": {}
        }
      ],
      "source": [
        "ia.sender(answer=\"obter_dimensoes_tabelas\", task=\"pdf\", question=\"ex07\", answer_type=\"pycode\")"
      ]
    },
    {
      "cell_type": "markdown",
      "metadata": {
        "id": "WIbCtClLJ08e"
      },
      "source": [
        "### Exercício 8\n",
        "\n",
        "Por enquanto, trabalhamos apenas com PDFs com tabelas contendo bordas bem definidas, por exemplo:\n",
        "\n",
        "<img src=\"https://atd-insper.s3.us-east-2.amazonaws.com/aula02/relatorio_aula02.png\">\n",
        "\n",
        "O desenvolvimento de extração de dados de PDF demanda soluções personalizadas para cada fonte de dados. Os arquivos PDF possuem uma estrutura complexa e podem ser criados de maneiras diferentes. Cada fonte de dados pode adotar diferentes métodos de formatação, layout e organização em seus documentos PDF.\n",
        "\n",
        "Isso resulta em variações significativas na forma como os dados estão estruturados dentro desses arquivos. Portanto, é essencial adaptar as soluções de extração para cada fonte específica, a fim de interpretar corretamente a estrutura do PDF e extrair os dados desejados.\n",
        "\n",
        "Veja, por exemplo, parte do relatório 3T23 do Grupo Casas Bahia. Tente extrair a primeira tabela com o mesmo código utilizado no exercício 05. Irá funcionar?!\n",
        "\n",
        "<img src=\"https://atd-insper.s3.us-east-2.amazonaws.com/aula02/report_casas_bahia_3t23.png\">\n",
        "\n",
        "\n",
        "Neste exercícios, você deve trabalhar com parâmetros no `camelot` para conseguir fazer a extração de uma tabela sem bordas bem definidas.\n",
        "\n",
        "Crie uma função que recebe:\n",
        "- O caminho de um PDF.\n",
        "- O número `n` de uma página.\n",
        "\n",
        "A função deve retornar um **DataFrame** referente à primeira tabela da `n`-ésima página do PDF.\n",
        "\n",
        "Obs:\n",
        "\n",
        "- O nome e argumentos da função não devem ser alterados.\n",
        "- Considere que o código de correção já tem um import assim: `import camelot`.\n",
        "- Faça limpezas necessárias\n",
        "- Leia a documentação https://camelot-py.readthedocs.io/en/master/api.html#camelot.read_pdf e explore, dentre outros, o parâmetro `flavor`."
      ]
    },
    {
      "cell_type": "code",
      "execution_count": 224,
      "metadata": {
        "id": "G5dwUwchJ08f"
      },
      "outputs": [],
      "source": [
        "# Altere esta função\n",
        "import camelot\n",
        "\n",
        "def ler_tabela_sem_bordas(caminho_arquivo, n_pag):\n",
        "  tabelas = camelot.read_pdf(caminho_arquivo, flavor=\"stream\", pages=str(n_pag))\n",
        "  df = tabelas[0].df\n",
        "  df.columns = df.iloc[1]\n",
        "  df = df[2::]\n",
        "  return df"
      ]
    },
    {
      "cell_type": "markdown",
      "metadata": {
        "id": "q4qH_xSWJ08f"
      },
      "source": [
        "Veja um exemplo da execução da função:"
      ]
    },
    {
      "cell_type": "code",
      "execution_count": 225,
      "metadata": {
        "id": "VMDnyfJVJ08g",
        "outputId": "c57a9a20-4d4f-466e-c87f-c15a82ea30d2",
        "colab": {
          "base_uri": "https://localhost:8080/",
          "height": 206
        }
      },
      "outputs": [
        {
          "output_type": "execute_result",
          "data": {
            "text/plain": [
              "1               R$ milhões   3T23    3T22        %    9M23    9M22        %\n",
              "2          GMV Total Bruto  9.814  10.230   (4,1%)  31.773  31.909   (0,4%)\n",
              "3       GMV Omnicanal (1P)  8.508   9.082   (6,3%)  27.538  28.251   (2,5%)\n",
              "4  GMV Lojas Físicas Bruto  5.619   5.606     0,2%  17.730  17.063     3,9%\n",
              "5    GMV Bruto (1P Online)  2.889   3.476  (16,9%)   9.808  11.188  (12,3%)\n",
              "6       GMV Omnicanal (3P)  1.306   1.148    13,8%   4.235   3.658    15,8%"
            ],
            "text/html": [
              "\n",
              "  <div id=\"df-4611d886-a68e-4bde-8699-8f7aa70108f3\" class=\"colab-df-container\">\n",
              "    <div>\n",
              "<style scoped>\n",
              "    .dataframe tbody tr th:only-of-type {\n",
              "        vertical-align: middle;\n",
              "    }\n",
              "\n",
              "    .dataframe tbody tr th {\n",
              "        vertical-align: top;\n",
              "    }\n",
              "\n",
              "    .dataframe thead th {\n",
              "        text-align: right;\n",
              "    }\n",
              "</style>\n",
              "<table border=\"1\" class=\"dataframe\">\n",
              "  <thead>\n",
              "    <tr style=\"text-align: right;\">\n",
              "      <th>1</th>\n",
              "      <th>R$ milhões</th>\n",
              "      <th>3T23</th>\n",
              "      <th>3T22</th>\n",
              "      <th>%</th>\n",
              "      <th>9M23</th>\n",
              "      <th>9M22</th>\n",
              "      <th>%</th>\n",
              "    </tr>\n",
              "  </thead>\n",
              "  <tbody>\n",
              "    <tr>\n",
              "      <th>2</th>\n",
              "      <td>GMV Total Bruto</td>\n",
              "      <td>9.814</td>\n",
              "      <td>10.230</td>\n",
              "      <td>(4,1%)</td>\n",
              "      <td>31.773</td>\n",
              "      <td>31.909</td>\n",
              "      <td>(0,4%)</td>\n",
              "    </tr>\n",
              "    <tr>\n",
              "      <th>3</th>\n",
              "      <td>GMV Omnicanal (1P)</td>\n",
              "      <td>8.508</td>\n",
              "      <td>9.082</td>\n",
              "      <td>(6,3%)</td>\n",
              "      <td>27.538</td>\n",
              "      <td>28.251</td>\n",
              "      <td>(2,5%)</td>\n",
              "    </tr>\n",
              "    <tr>\n",
              "      <th>4</th>\n",
              "      <td>GMV Lojas Físicas Bruto</td>\n",
              "      <td>5.619</td>\n",
              "      <td>5.606</td>\n",
              "      <td>0,2%</td>\n",
              "      <td>17.730</td>\n",
              "      <td>17.063</td>\n",
              "      <td>3,9%</td>\n",
              "    </tr>\n",
              "    <tr>\n",
              "      <th>5</th>\n",
              "      <td>GMV Bruto (1P Online)</td>\n",
              "      <td>2.889</td>\n",
              "      <td>3.476</td>\n",
              "      <td>(16,9%)</td>\n",
              "      <td>9.808</td>\n",
              "      <td>11.188</td>\n",
              "      <td>(12,3%)</td>\n",
              "    </tr>\n",
              "    <tr>\n",
              "      <th>6</th>\n",
              "      <td>GMV Omnicanal (3P)</td>\n",
              "      <td>1.306</td>\n",
              "      <td>1.148</td>\n",
              "      <td>13,8%</td>\n",
              "      <td>4.235</td>\n",
              "      <td>3.658</td>\n",
              "      <td>15,8%</td>\n",
              "    </tr>\n",
              "  </tbody>\n",
              "</table>\n",
              "</div>\n",
              "    <div class=\"colab-df-buttons\">\n",
              "\n",
              "  <div class=\"colab-df-container\">\n",
              "    <button class=\"colab-df-convert\" onclick=\"convertToInteractive('df-4611d886-a68e-4bde-8699-8f7aa70108f3')\"\n",
              "            title=\"Convert this dataframe to an interactive table.\"\n",
              "            style=\"display:none;\">\n",
              "\n",
              "  <svg xmlns=\"http://www.w3.org/2000/svg\" height=\"24px\" viewBox=\"0 -960 960 960\">\n",
              "    <path d=\"M120-120v-720h720v720H120Zm60-500h600v-160H180v160Zm220 220h160v-160H400v160Zm0 220h160v-160H400v160ZM180-400h160v-160H180v160Zm440 0h160v-160H620v160ZM180-180h160v-160H180v160Zm440 0h160v-160H620v160Z\"/>\n",
              "  </svg>\n",
              "    </button>\n",
              "\n",
              "  <style>\n",
              "    .colab-df-container {\n",
              "      display:flex;\n",
              "      gap: 12px;\n",
              "    }\n",
              "\n",
              "    .colab-df-convert {\n",
              "      background-color: #E8F0FE;\n",
              "      border: none;\n",
              "      border-radius: 50%;\n",
              "      cursor: pointer;\n",
              "      display: none;\n",
              "      fill: #1967D2;\n",
              "      height: 32px;\n",
              "      padding: 0 0 0 0;\n",
              "      width: 32px;\n",
              "    }\n",
              "\n",
              "    .colab-df-convert:hover {\n",
              "      background-color: #E2EBFA;\n",
              "      box-shadow: 0px 1px 2px rgba(60, 64, 67, 0.3), 0px 1px 3px 1px rgba(60, 64, 67, 0.15);\n",
              "      fill: #174EA6;\n",
              "    }\n",
              "\n",
              "    .colab-df-buttons div {\n",
              "      margin-bottom: 4px;\n",
              "    }\n",
              "\n",
              "    [theme=dark] .colab-df-convert {\n",
              "      background-color: #3B4455;\n",
              "      fill: #D2E3FC;\n",
              "    }\n",
              "\n",
              "    [theme=dark] .colab-df-convert:hover {\n",
              "      background-color: #434B5C;\n",
              "      box-shadow: 0px 1px 3px 1px rgba(0, 0, 0, 0.15);\n",
              "      filter: drop-shadow(0px 1px 2px rgba(0, 0, 0, 0.3));\n",
              "      fill: #FFFFFF;\n",
              "    }\n",
              "  </style>\n",
              "\n",
              "    <script>\n",
              "      const buttonEl =\n",
              "        document.querySelector('#df-4611d886-a68e-4bde-8699-8f7aa70108f3 button.colab-df-convert');\n",
              "      buttonEl.style.display =\n",
              "        google.colab.kernel.accessAllowed ? 'block' : 'none';\n",
              "\n",
              "      async function convertToInteractive(key) {\n",
              "        const element = document.querySelector('#df-4611d886-a68e-4bde-8699-8f7aa70108f3');\n",
              "        const dataTable =\n",
              "          await google.colab.kernel.invokeFunction('convertToInteractive',\n",
              "                                                    [key], {});\n",
              "        if (!dataTable) return;\n",
              "\n",
              "        const docLinkHtml = 'Like what you see? Visit the ' +\n",
              "          '<a target=\"_blank\" href=https://colab.research.google.com/notebooks/data_table.ipynb>data table notebook</a>'\n",
              "          + ' to learn more about interactive tables.';\n",
              "        element.innerHTML = '';\n",
              "        dataTable['output_type'] = 'display_data';\n",
              "        await google.colab.output.renderOutput(dataTable, element);\n",
              "        const docLink = document.createElement('div');\n",
              "        docLink.innerHTML = docLinkHtml;\n",
              "        element.appendChild(docLink);\n",
              "      }\n",
              "    </script>\n",
              "  </div>\n",
              "\n",
              "\n",
              "<div id=\"df-6d81ee35-d4fe-4501-86b1-763d2e32fc51\">\n",
              "  <button class=\"colab-df-quickchart\" onclick=\"quickchart('df-6d81ee35-d4fe-4501-86b1-763d2e32fc51')\"\n",
              "            title=\"Suggest charts\"\n",
              "            style=\"display:none;\">\n",
              "\n",
              "<svg xmlns=\"http://www.w3.org/2000/svg\" height=\"24px\"viewBox=\"0 0 24 24\"\n",
              "     width=\"24px\">\n",
              "    <g>\n",
              "        <path d=\"M19 3H5c-1.1 0-2 .9-2 2v14c0 1.1.9 2 2 2h14c1.1 0 2-.9 2-2V5c0-1.1-.9-2-2-2zM9 17H7v-7h2v7zm4 0h-2V7h2v10zm4 0h-2v-4h2v4z\"/>\n",
              "    </g>\n",
              "</svg>\n",
              "  </button>\n",
              "\n",
              "<style>\n",
              "  .colab-df-quickchart {\n",
              "      --bg-color: #E8F0FE;\n",
              "      --fill-color: #1967D2;\n",
              "      --hover-bg-color: #E2EBFA;\n",
              "      --hover-fill-color: #174EA6;\n",
              "      --disabled-fill-color: #AAA;\n",
              "      --disabled-bg-color: #DDD;\n",
              "  }\n",
              "\n",
              "  [theme=dark] .colab-df-quickchart {\n",
              "      --bg-color: #3B4455;\n",
              "      --fill-color: #D2E3FC;\n",
              "      --hover-bg-color: #434B5C;\n",
              "      --hover-fill-color: #FFFFFF;\n",
              "      --disabled-bg-color: #3B4455;\n",
              "      --disabled-fill-color: #666;\n",
              "  }\n",
              "\n",
              "  .colab-df-quickchart {\n",
              "    background-color: var(--bg-color);\n",
              "    border: none;\n",
              "    border-radius: 50%;\n",
              "    cursor: pointer;\n",
              "    display: none;\n",
              "    fill: var(--fill-color);\n",
              "    height: 32px;\n",
              "    padding: 0;\n",
              "    width: 32px;\n",
              "  }\n",
              "\n",
              "  .colab-df-quickchart:hover {\n",
              "    background-color: var(--hover-bg-color);\n",
              "    box-shadow: 0 1px 2px rgba(60, 64, 67, 0.3), 0 1px 3px 1px rgba(60, 64, 67, 0.15);\n",
              "    fill: var(--button-hover-fill-color);\n",
              "  }\n",
              "\n",
              "  .colab-df-quickchart-complete:disabled,\n",
              "  .colab-df-quickchart-complete:disabled:hover {\n",
              "    background-color: var(--disabled-bg-color);\n",
              "    fill: var(--disabled-fill-color);\n",
              "    box-shadow: none;\n",
              "  }\n",
              "\n",
              "  .colab-df-spinner {\n",
              "    border: 2px solid var(--fill-color);\n",
              "    border-color: transparent;\n",
              "    border-bottom-color: var(--fill-color);\n",
              "    animation:\n",
              "      spin 1s steps(1) infinite;\n",
              "  }\n",
              "\n",
              "  @keyframes spin {\n",
              "    0% {\n",
              "      border-color: transparent;\n",
              "      border-bottom-color: var(--fill-color);\n",
              "      border-left-color: var(--fill-color);\n",
              "    }\n",
              "    20% {\n",
              "      border-color: transparent;\n",
              "      border-left-color: var(--fill-color);\n",
              "      border-top-color: var(--fill-color);\n",
              "    }\n",
              "    30% {\n",
              "      border-color: transparent;\n",
              "      border-left-color: var(--fill-color);\n",
              "      border-top-color: var(--fill-color);\n",
              "      border-right-color: var(--fill-color);\n",
              "    }\n",
              "    40% {\n",
              "      border-color: transparent;\n",
              "      border-right-color: var(--fill-color);\n",
              "      border-top-color: var(--fill-color);\n",
              "    }\n",
              "    60% {\n",
              "      border-color: transparent;\n",
              "      border-right-color: var(--fill-color);\n",
              "    }\n",
              "    80% {\n",
              "      border-color: transparent;\n",
              "      border-right-color: var(--fill-color);\n",
              "      border-bottom-color: var(--fill-color);\n",
              "    }\n",
              "    90% {\n",
              "      border-color: transparent;\n",
              "      border-bottom-color: var(--fill-color);\n",
              "    }\n",
              "  }\n",
              "</style>\n",
              "\n",
              "  <script>\n",
              "    async function quickchart(key) {\n",
              "      const quickchartButtonEl =\n",
              "        document.querySelector('#' + key + ' button');\n",
              "      quickchartButtonEl.disabled = true;  // To prevent multiple clicks.\n",
              "      quickchartButtonEl.classList.add('colab-df-spinner');\n",
              "      try {\n",
              "        const charts = await google.colab.kernel.invokeFunction(\n",
              "            'suggestCharts', [key], {});\n",
              "      } catch (error) {\n",
              "        console.error('Error during call to suggestCharts:', error);\n",
              "      }\n",
              "      quickchartButtonEl.classList.remove('colab-df-spinner');\n",
              "      quickchartButtonEl.classList.add('colab-df-quickchart-complete');\n",
              "    }\n",
              "    (() => {\n",
              "      let quickchartButtonEl =\n",
              "        document.querySelector('#df-6d81ee35-d4fe-4501-86b1-763d2e32fc51 button');\n",
              "      quickchartButtonEl.style.display =\n",
              "        google.colab.kernel.accessAllowed ? 'block' : 'none';\n",
              "    })();\n",
              "  </script>\n",
              "</div>\n",
              "\n",
              "    </div>\n",
              "  </div>\n"
            ],
            "application/vnd.google.colaboratory.intrinsic+json": {
              "type": "dataframe",
              "summary": "{\n  \"name\": \"ler_tabela_sem_bordas(\\\"casas_bahia_3t23\",\n  \"rows\": 5,\n  \"fields\": [\n    {\n      \"column\": \"R$ milh\\u00f5es\",\n      \"properties\": {\n        \"dtype\": \"string\",\n        \"num_unique_values\": 5,\n        \"samples\": [\n          \"GMV Omnicanal (1P)\",\n          \"GMV Omnicanal (3P)\",\n          \"GMV Lojas F\\u00edsicas Bruto\"\n        ],\n        \"semantic_type\": \"\",\n        \"description\": \"\"\n      }\n    },\n    {\n      \"column\": \"3T23\",\n      \"properties\": {\n        \"dtype\": \"string\",\n        \"num_unique_values\": 5,\n        \"samples\": [\n          \"8.508\",\n          \"1.306\",\n          \"5.619\"\n        ],\n        \"semantic_type\": \"\",\n        \"description\": \"\"\n      }\n    },\n    {\n      \"column\": \"3T22\",\n      \"properties\": {\n        \"dtype\": \"string\",\n        \"num_unique_values\": 5,\n        \"samples\": [\n          \"9.082\",\n          \"1.148\",\n          \"5.606\"\n        ],\n        \"semantic_type\": \"\",\n        \"description\": \"\"\n      }\n    },\n    {\n      \"column\": \"%\",\n      \"properties\": {\n        \"dtype\": \"string\",\n        \"num_unique_values\": 5,\n        \"samples\": [\n          \"(6,3%)\",\n          \"13,8%\",\n          \"0,2%\"\n        ],\n        \"semantic_type\": \"\",\n        \"description\": \"\"\n      }\n    },\n    {\n      \"column\": \"9M23\",\n      \"properties\": {\n        \"dtype\": \"string\",\n        \"num_unique_values\": 5,\n        \"samples\": [\n          \"27.538\",\n          \"4.235\",\n          \"17.730\"\n        ],\n        \"semantic_type\": \"\",\n        \"description\": \"\"\n      }\n    },\n    {\n      \"column\": \"9M22\",\n      \"properties\": {\n        \"dtype\": \"string\",\n        \"num_unique_values\": 5,\n        \"samples\": [\n          \"28.251\",\n          \"3.658\",\n          \"17.063\"\n        ],\n        \"semantic_type\": \"\",\n        \"description\": \"\"\n      }\n    },\n    {\n      \"column\": \"%\",\n      \"properties\": {\n        \"dtype\": \"string\",\n        \"num_unique_values\": 5,\n        \"samples\": [\n          \"(2,5%)\",\n          \"15,8%\",\n          \"3,9%\"\n        ],\n        \"semantic_type\": \"\",\n        \"description\": \"\"\n      }\n    }\n  ]\n}"
            }
          },
          "metadata": {},
          "execution_count": 225
        }
      ],
      "source": [
        "ler_tabela_sem_bordas(\"casas_bahia_3t23.pdf\", 3)"
      ]
    },
    {
      "cell_type": "markdown",
      "metadata": {
        "id": "dKQStJTVJ08g"
      },
      "source": [
        "É esperado que o retorno obtido seja:\n",
        "\n",
        "\n",
        "|    | R$ milhões              |   3T23 |   3T22 | %       |   9M23 |   9M22 | %       |\n",
        "|---:|:------------------------|-------:|-------:|:--------|-------:|-------:|:--------|\n",
        "|  2 | GMV Total Bruto         |  9.814 | 10.23  | (4,1%)  | 31.773 | 31.909 | (0,4%)  |\n",
        "|  3 | GMV Omnicanal (1P)      |  8.508 |  9.082 | (6,3%)  | 27.538 | 28.251 | (2,5%)  |\n",
        "|  4 | GMV Lojas Físicas Bruto |  5.619 |  5.606 | 0,2%    | 17.73  | 17.063 | 3,9%    |\n",
        "|  5 | GMV Bruto (1P Online)   |  2.889 |  3.476 | (16,9%) |  9.808 | 11.188 | (12,3%) |\n",
        "|  6 | GMV Omnicanal (3P)      |  1.306 |  1.148 | 13,8%   |  4.235 |  3.658 | 15,8%   |"
      ]
    },
    {
      "cell_type": "markdown",
      "metadata": {
        "id": "6eO8nLw3J08g"
      },
      "source": [
        "Abaixo, seguem alguns testes que rodam localmente e verificam sua resposta."
      ]
    },
    {
      "cell_type": "code",
      "execution_count": 226,
      "metadata": {
        "id": "ZL64q0kIJ08g"
      },
      "outputs": [],
      "source": [
        "assert obter_dimensoes_tabelas(\"profissoes.pdf\") == [[5, 4], [5, 2]], \"Retorno incorreto!\""
      ]
    },
    {
      "cell_type": "markdown",
      "metadata": {
        "id": "1p_x6RpFJ08g"
      },
      "source": [
        "Quando estiver confiante que sua resposta está correta, clique no botão abaixo para fazer o envio."
      ]
    },
    {
      "cell_type": "code",
      "execution_count": 227,
      "metadata": {
        "id": "ktVCMIGEJ08g",
        "outputId": "d8dc758d-a14d-4ff8-8413-c546b102acbb",
        "colab": {
          "base_uri": "https://localhost:8080/",
          "height": 78,
          "referenced_widgets": [
            "67b577e2a7304942a77e75d9a503e513",
            "959a2424893e40ffb80beb0a0b919785",
            "4e9225ab116845dfbf664defa674ba43",
            "f8c1e891a3204a7a8c6184f0d21e90ae",
            "06b3f3cbbeba4189a714007bb425cce2",
            "0d96b1884f18498a805df3ba7d1f3510",
            "f3e5630510964a98bb115dc705c1397e"
          ]
        }
      },
      "outputs": [
        {
          "output_type": "display_data",
          "data": {
            "text/plain": [
              "interactive(children=(Button(description='Enviar ex08', style=ButtonStyle()), Output()), _dom_classes=('widget…"
            ],
            "application/vnd.jupyter.widget-view+json": {
              "version_major": 2,
              "version_minor": 0,
              "model_id": "67b577e2a7304942a77e75d9a503e513"
            }
          },
          "metadata": {}
        }
      ],
      "source": [
        "ia.sender(answer=\"ler_tabela_sem_bordas\", task=\"pdf\", question=\"ex08\", answer_type=\"pycode\")"
      ]
    },
    {
      "cell_type": "markdown",
      "metadata": {
        "id": "AShh4oqdJ08g"
      },
      "source": [
        "## Conferir notas\n",
        "\n",
        "Vamos verificar se as notas foram gravadas nos exercícios!"
      ]
    },
    {
      "cell_type": "code",
      "execution_count": 228,
      "metadata": {
        "id": "LSE4AXNlJ08h",
        "outputId": "4ce0bf35-f4b4-454a-e037-674a4e6dd0e9",
        "colab": {
          "base_uri": "https://localhost:8080/",
          "height": 332
        }
      },
      "outputs": [
        {
          "output_type": "display_data",
          "data": {
            "text/plain": [
              "<IPython.core.display.Markdown object>"
            ],
            "text/markdown": "|    | Atividade   | Exercício   |   Peso |   Nota |\n|---:|:------------|:------------|-------:|-------:|\n|  0 | pdf         | ex00        |      1 |     10 |\n|  1 | pdf         | ex01        |     20 |     10 |\n|  2 | pdf         | ex02        |     20 |     10 |\n|  3 | pdf         | ex03        |     20 |     10 |\n|  4 | pdf         | ex04        |     25 |     10 |\n|  5 | pdf         | ex05        |     20 |     10 |\n|  6 | pdf         | ex06        |     25 |     10 |\n|  7 | pdf         | ex07        |     25 |     10 |\n|  8 | pdf         | ex08        |     30 |     10 |"
          },
          "metadata": {}
        }
      ],
      "source": [
        "ia.grades(task=\"pdf\")"
      ]
    },
    {
      "cell_type": "markdown",
      "metadata": {
        "id": "2SLYZ3MFJ08h"
      },
      "source": [
        "Vamos verificar se a nota da atividade está ok:"
      ]
    },
    {
      "cell_type": "code",
      "execution_count": 229,
      "metadata": {
        "id": "9HhnHZDkJ08h",
        "outputId": "f8441a19-defd-45d1-debb-842b8548def4",
        "colab": {
          "base_uri": "https://localhost:8080/",
          "height": 81
        }
      },
      "outputs": [
        {
          "output_type": "display_data",
          "data": {
            "text/plain": [
              "<IPython.core.display.Markdown object>"
            ],
            "text/markdown": "|    | Tarefa   |   Nota |\n|---:|:---------|-------:|\n|  0 | pdf      |     10 |"
          },
          "metadata": {}
        }
      ],
      "source": [
        "ia.grades(by=\"TASK\", task=\"pdf\")"
      ]
    },
    {
      "cell_type": "markdown",
      "metadata": {
        "id": "IYsQ1GvNJ08h"
      },
      "source": [
        "## Finalizando o trabalho"
      ]
    },
    {
      "cell_type": "markdown",
      "metadata": {
        "id": "z5JLOqbiJ08h"
      },
      "source": [
        "Por hoje é só!"
      ]
    },
    {
      "cell_type": "markdown",
      "metadata": {
        "id": "YCDeAjYxJ08h"
      },
      "source": [
        "## Referências\n",
        "\n",
        "- https://www.editoraarqueiro.com.br/media/upload/livros/GuiadefinitivoMochileiroGalaxias_Trecho.pdf\n",
        "- https://sixsigmadsi.com/wp-content/uploads/2020/10/A-Dirty-Dozen-Twelve-P-Value-Misconceptions.pdf\n",
        "- https://static.poder360.com.br/2022/11/Itau-3Q-2022.pdf\n",
        "- https://api.mziq.com/mzfilemanager/v2/d/ce9bff9f-fb19-49b9-9588-c4c6b7052c9c/37d12eba-956f-2252-6a57-4f2b9ff9ae8a?origin=2"
      ]
    }
  ],
  "metadata": {
    "kernelspec": {
      "display_name": "Python 3 (ipykernel)",
      "language": "python",
      "name": "python3"
    },
    "language_info": {
      "codemirror_mode": {
        "name": "ipython",
        "version": 3
      },
      "file_extension": ".py",
      "mimetype": "text/x-python",
      "name": "python",
      "nbconvert_exporter": "python",
      "pygments_lexer": "ipython3",
      "version": "3.10.12"
    },
    "colab": {
      "provenance": [],
      "include_colab_link": true
    },
    "widgets": {
      "application/vnd.jupyter.widget-state+json": {
        "4ea1de7406d3438791a7bc338673d74e": {
          "model_module": "@jupyter-widgets/controls",
          "model_name": "VBoxModel",
          "model_module_version": "1.5.0",
          "state": {
            "_dom_classes": [
              "widget-interact"
            ],
            "_model_module": "@jupyter-widgets/controls",
            "_model_module_version": "1.5.0",
            "_model_name": "VBoxModel",
            "_view_count": null,
            "_view_module": "@jupyter-widgets/controls",
            "_view_module_version": "1.5.0",
            "_view_name": "VBoxView",
            "box_style": "",
            "children": [
              "IPY_MODEL_c9ba996c702747a5bb2e1e9f8973b937",
              "IPY_MODEL_f57a2bd79c7944fc84565e96b370e4de"
            ],
            "layout": "IPY_MODEL_2e25944cc9ad47f284147cd4d540e1dc"
          }
        },
        "c9ba996c702747a5bb2e1e9f8973b937": {
          "model_module": "@jupyter-widgets/controls",
          "model_name": "ButtonModel",
          "model_module_version": "1.5.0",
          "state": {
            "_dom_classes": [],
            "_model_module": "@jupyter-widgets/controls",
            "_model_module_version": "1.5.0",
            "_model_name": "ButtonModel",
            "_view_count": null,
            "_view_module": "@jupyter-widgets/controls",
            "_view_module_version": "1.5.0",
            "_view_name": "ButtonView",
            "button_style": "",
            "description": "Enviar ex00",
            "disabled": false,
            "icon": "",
            "layout": "IPY_MODEL_feb0105c756d460e991010a70847b5d9",
            "style": "IPY_MODEL_89016b0caf2a4458876154f1971edbb0",
            "tooltip": ""
          }
        },
        "f57a2bd79c7944fc84565e96b370e4de": {
          "model_module": "@jupyter-widgets/output",
          "model_name": "OutputModel",
          "model_module_version": "1.0.0",
          "state": {
            "_dom_classes": [],
            "_model_module": "@jupyter-widgets/output",
            "_model_module_version": "1.0.0",
            "_model_name": "OutputModel",
            "_view_count": null,
            "_view_module": "@jupyter-widgets/output",
            "_view_module_version": "1.0.0",
            "_view_name": "OutputView",
            "layout": "IPY_MODEL_883bb1e116c04ee7a85ae76367675a4c",
            "msg_id": "",
            "outputs": []
          }
        },
        "2e25944cc9ad47f284147cd4d540e1dc": {
          "model_module": "@jupyter-widgets/base",
          "model_name": "LayoutModel",
          "model_module_version": "1.2.0",
          "state": {
            "_model_module": "@jupyter-widgets/base",
            "_model_module_version": "1.2.0",
            "_model_name": "LayoutModel",
            "_view_count": null,
            "_view_module": "@jupyter-widgets/base",
            "_view_module_version": "1.2.0",
            "_view_name": "LayoutView",
            "align_content": null,
            "align_items": null,
            "align_self": null,
            "border": null,
            "bottom": null,
            "display": null,
            "flex": null,
            "flex_flow": null,
            "grid_area": null,
            "grid_auto_columns": null,
            "grid_auto_flow": null,
            "grid_auto_rows": null,
            "grid_column": null,
            "grid_gap": null,
            "grid_row": null,
            "grid_template_areas": null,
            "grid_template_columns": null,
            "grid_template_rows": null,
            "height": null,
            "justify_content": null,
            "justify_items": null,
            "left": null,
            "margin": null,
            "max_height": null,
            "max_width": null,
            "min_height": null,
            "min_width": null,
            "object_fit": null,
            "object_position": null,
            "order": null,
            "overflow": null,
            "overflow_x": null,
            "overflow_y": null,
            "padding": null,
            "right": null,
            "top": null,
            "visibility": null,
            "width": null
          }
        },
        "feb0105c756d460e991010a70847b5d9": {
          "model_module": "@jupyter-widgets/base",
          "model_name": "LayoutModel",
          "model_module_version": "1.2.0",
          "state": {
            "_model_module": "@jupyter-widgets/base",
            "_model_module_version": "1.2.0",
            "_model_name": "LayoutModel",
            "_view_count": null,
            "_view_module": "@jupyter-widgets/base",
            "_view_module_version": "1.2.0",
            "_view_name": "LayoutView",
            "align_content": null,
            "align_items": null,
            "align_self": null,
            "border": null,
            "bottom": null,
            "display": null,
            "flex": null,
            "flex_flow": null,
            "grid_area": null,
            "grid_auto_columns": null,
            "grid_auto_flow": null,
            "grid_auto_rows": null,
            "grid_column": null,
            "grid_gap": null,
            "grid_row": null,
            "grid_template_areas": null,
            "grid_template_columns": null,
            "grid_template_rows": null,
            "height": null,
            "justify_content": null,
            "justify_items": null,
            "left": null,
            "margin": null,
            "max_height": null,
            "max_width": null,
            "min_height": null,
            "min_width": null,
            "object_fit": null,
            "object_position": null,
            "order": null,
            "overflow": null,
            "overflow_x": null,
            "overflow_y": null,
            "padding": null,
            "right": null,
            "top": null,
            "visibility": null,
            "width": null
          }
        },
        "89016b0caf2a4458876154f1971edbb0": {
          "model_module": "@jupyter-widgets/controls",
          "model_name": "ButtonStyleModel",
          "model_module_version": "1.5.0",
          "state": {
            "_model_module": "@jupyter-widgets/controls",
            "_model_module_version": "1.5.0",
            "_model_name": "ButtonStyleModel",
            "_view_count": null,
            "_view_module": "@jupyter-widgets/base",
            "_view_module_version": "1.2.0",
            "_view_name": "StyleView",
            "button_color": null,
            "font_weight": ""
          }
        },
        "883bb1e116c04ee7a85ae76367675a4c": {
          "model_module": "@jupyter-widgets/base",
          "model_name": "LayoutModel",
          "model_module_version": "1.2.0",
          "state": {
            "_model_module": "@jupyter-widgets/base",
            "_model_module_version": "1.2.0",
            "_model_name": "LayoutModel",
            "_view_count": null,
            "_view_module": "@jupyter-widgets/base",
            "_view_module_version": "1.2.0",
            "_view_name": "LayoutView",
            "align_content": null,
            "align_items": null,
            "align_self": null,
            "border": null,
            "bottom": null,
            "display": null,
            "flex": null,
            "flex_flow": null,
            "grid_area": null,
            "grid_auto_columns": null,
            "grid_auto_flow": null,
            "grid_auto_rows": null,
            "grid_column": null,
            "grid_gap": null,
            "grid_row": null,
            "grid_template_areas": null,
            "grid_template_columns": null,
            "grid_template_rows": null,
            "height": null,
            "justify_content": null,
            "justify_items": null,
            "left": null,
            "margin": null,
            "max_height": null,
            "max_width": null,
            "min_height": null,
            "min_width": null,
            "object_fit": null,
            "object_position": null,
            "order": null,
            "overflow": null,
            "overflow_x": null,
            "overflow_y": null,
            "padding": null,
            "right": null,
            "top": null,
            "visibility": null,
            "width": null
          }
        },
        "f906d1f6c81f4dc190ea918aa674c746": {
          "model_module": "@jupyter-widgets/controls",
          "model_name": "VBoxModel",
          "model_module_version": "1.5.0",
          "state": {
            "_dom_classes": [
              "widget-interact"
            ],
            "_model_module": "@jupyter-widgets/controls",
            "_model_module_version": "1.5.0",
            "_model_name": "VBoxModel",
            "_view_count": null,
            "_view_module": "@jupyter-widgets/controls",
            "_view_module_version": "1.5.0",
            "_view_name": "VBoxView",
            "box_style": "",
            "children": [
              "IPY_MODEL_7c3f961c52b147efad81a73ffef9e0e3",
              "IPY_MODEL_392e7965c6274eb38937e7c53f6e09bb"
            ],
            "layout": "IPY_MODEL_08cb741c269e4d67819ebc4fde9b2f0c"
          }
        },
        "7c3f961c52b147efad81a73ffef9e0e3": {
          "model_module": "@jupyter-widgets/controls",
          "model_name": "ButtonModel",
          "model_module_version": "1.5.0",
          "state": {
            "_dom_classes": [],
            "_model_module": "@jupyter-widgets/controls",
            "_model_module_version": "1.5.0",
            "_model_name": "ButtonModel",
            "_view_count": null,
            "_view_module": "@jupyter-widgets/controls",
            "_view_module_version": "1.5.0",
            "_view_name": "ButtonView",
            "button_style": "",
            "description": "Enviar ex01",
            "disabled": false,
            "icon": "",
            "layout": "IPY_MODEL_a018f59a14204e56b33dc44eea802b8f",
            "style": "IPY_MODEL_4e1630cc3cd54233bf9a37ef9d770fd3",
            "tooltip": ""
          }
        },
        "392e7965c6274eb38937e7c53f6e09bb": {
          "model_module": "@jupyter-widgets/output",
          "model_name": "OutputModel",
          "model_module_version": "1.0.0",
          "state": {
            "_dom_classes": [],
            "_model_module": "@jupyter-widgets/output",
            "_model_module_version": "1.0.0",
            "_model_name": "OutputModel",
            "_view_count": null,
            "_view_module": "@jupyter-widgets/output",
            "_view_module_version": "1.0.0",
            "_view_name": "OutputView",
            "layout": "IPY_MODEL_7bcd0f23832d401ea1295c4e02535936",
            "msg_id": "",
            "outputs": []
          }
        },
        "08cb741c269e4d67819ebc4fde9b2f0c": {
          "model_module": "@jupyter-widgets/base",
          "model_name": "LayoutModel",
          "model_module_version": "1.2.0",
          "state": {
            "_model_module": "@jupyter-widgets/base",
            "_model_module_version": "1.2.0",
            "_model_name": "LayoutModel",
            "_view_count": null,
            "_view_module": "@jupyter-widgets/base",
            "_view_module_version": "1.2.0",
            "_view_name": "LayoutView",
            "align_content": null,
            "align_items": null,
            "align_self": null,
            "border": null,
            "bottom": null,
            "display": null,
            "flex": null,
            "flex_flow": null,
            "grid_area": null,
            "grid_auto_columns": null,
            "grid_auto_flow": null,
            "grid_auto_rows": null,
            "grid_column": null,
            "grid_gap": null,
            "grid_row": null,
            "grid_template_areas": null,
            "grid_template_columns": null,
            "grid_template_rows": null,
            "height": null,
            "justify_content": null,
            "justify_items": null,
            "left": null,
            "margin": null,
            "max_height": null,
            "max_width": null,
            "min_height": null,
            "min_width": null,
            "object_fit": null,
            "object_position": null,
            "order": null,
            "overflow": null,
            "overflow_x": null,
            "overflow_y": null,
            "padding": null,
            "right": null,
            "top": null,
            "visibility": null,
            "width": null
          }
        },
        "a018f59a14204e56b33dc44eea802b8f": {
          "model_module": "@jupyter-widgets/base",
          "model_name": "LayoutModel",
          "model_module_version": "1.2.0",
          "state": {
            "_model_module": "@jupyter-widgets/base",
            "_model_module_version": "1.2.0",
            "_model_name": "LayoutModel",
            "_view_count": null,
            "_view_module": "@jupyter-widgets/base",
            "_view_module_version": "1.2.0",
            "_view_name": "LayoutView",
            "align_content": null,
            "align_items": null,
            "align_self": null,
            "border": null,
            "bottom": null,
            "display": null,
            "flex": null,
            "flex_flow": null,
            "grid_area": null,
            "grid_auto_columns": null,
            "grid_auto_flow": null,
            "grid_auto_rows": null,
            "grid_column": null,
            "grid_gap": null,
            "grid_row": null,
            "grid_template_areas": null,
            "grid_template_columns": null,
            "grid_template_rows": null,
            "height": null,
            "justify_content": null,
            "justify_items": null,
            "left": null,
            "margin": null,
            "max_height": null,
            "max_width": null,
            "min_height": null,
            "min_width": null,
            "object_fit": null,
            "object_position": null,
            "order": null,
            "overflow": null,
            "overflow_x": null,
            "overflow_y": null,
            "padding": null,
            "right": null,
            "top": null,
            "visibility": null,
            "width": null
          }
        },
        "4e1630cc3cd54233bf9a37ef9d770fd3": {
          "model_module": "@jupyter-widgets/controls",
          "model_name": "ButtonStyleModel",
          "model_module_version": "1.5.0",
          "state": {
            "_model_module": "@jupyter-widgets/controls",
            "_model_module_version": "1.5.0",
            "_model_name": "ButtonStyleModel",
            "_view_count": null,
            "_view_module": "@jupyter-widgets/base",
            "_view_module_version": "1.2.0",
            "_view_name": "StyleView",
            "button_color": null,
            "font_weight": ""
          }
        },
        "7bcd0f23832d401ea1295c4e02535936": {
          "model_module": "@jupyter-widgets/base",
          "model_name": "LayoutModel",
          "model_module_version": "1.2.0",
          "state": {
            "_model_module": "@jupyter-widgets/base",
            "_model_module_version": "1.2.0",
            "_model_name": "LayoutModel",
            "_view_count": null,
            "_view_module": "@jupyter-widgets/base",
            "_view_module_version": "1.2.0",
            "_view_name": "LayoutView",
            "align_content": null,
            "align_items": null,
            "align_self": null,
            "border": null,
            "bottom": null,
            "display": null,
            "flex": null,
            "flex_flow": null,
            "grid_area": null,
            "grid_auto_columns": null,
            "grid_auto_flow": null,
            "grid_auto_rows": null,
            "grid_column": null,
            "grid_gap": null,
            "grid_row": null,
            "grid_template_areas": null,
            "grid_template_columns": null,
            "grid_template_rows": null,
            "height": null,
            "justify_content": null,
            "justify_items": null,
            "left": null,
            "margin": null,
            "max_height": null,
            "max_width": null,
            "min_height": null,
            "min_width": null,
            "object_fit": null,
            "object_position": null,
            "order": null,
            "overflow": null,
            "overflow_x": null,
            "overflow_y": null,
            "padding": null,
            "right": null,
            "top": null,
            "visibility": null,
            "width": null
          }
        },
        "5539843d16744a7989911355a29fc747": {
          "model_module": "@jupyter-widgets/controls",
          "model_name": "VBoxModel",
          "model_module_version": "1.5.0",
          "state": {
            "_dom_classes": [
              "widget-interact"
            ],
            "_model_module": "@jupyter-widgets/controls",
            "_model_module_version": "1.5.0",
            "_model_name": "VBoxModel",
            "_view_count": null,
            "_view_module": "@jupyter-widgets/controls",
            "_view_module_version": "1.5.0",
            "_view_name": "VBoxView",
            "box_style": "",
            "children": [
              "IPY_MODEL_1e53fff0d10445858f413531af781fc1",
              "IPY_MODEL_c31d8bdd0dbc4773b8a9c770b56db08f"
            ],
            "layout": "IPY_MODEL_df383bb0e0a2499b8064c04b76febe30"
          }
        },
        "1e53fff0d10445858f413531af781fc1": {
          "model_module": "@jupyter-widgets/controls",
          "model_name": "ButtonModel",
          "model_module_version": "1.5.0",
          "state": {
            "_dom_classes": [],
            "_model_module": "@jupyter-widgets/controls",
            "_model_module_version": "1.5.0",
            "_model_name": "ButtonModel",
            "_view_count": null,
            "_view_module": "@jupyter-widgets/controls",
            "_view_module_version": "1.5.0",
            "_view_name": "ButtonView",
            "button_style": "",
            "description": "Enviar ex02",
            "disabled": false,
            "icon": "",
            "layout": "IPY_MODEL_07ca00b7cece4016ba04a32a69a850f8",
            "style": "IPY_MODEL_c5e3b6a171014c178902102473283521",
            "tooltip": ""
          }
        },
        "c31d8bdd0dbc4773b8a9c770b56db08f": {
          "model_module": "@jupyter-widgets/output",
          "model_name": "OutputModel",
          "model_module_version": "1.0.0",
          "state": {
            "_dom_classes": [],
            "_model_module": "@jupyter-widgets/output",
            "_model_module_version": "1.0.0",
            "_model_name": "OutputModel",
            "_view_count": null,
            "_view_module": "@jupyter-widgets/output",
            "_view_module_version": "1.0.0",
            "_view_name": "OutputView",
            "layout": "IPY_MODEL_6df2d9fe1bbb4ae89ec60641016c550f",
            "msg_id": "",
            "outputs": []
          }
        },
        "df383bb0e0a2499b8064c04b76febe30": {
          "model_module": "@jupyter-widgets/base",
          "model_name": "LayoutModel",
          "model_module_version": "1.2.0",
          "state": {
            "_model_module": "@jupyter-widgets/base",
            "_model_module_version": "1.2.0",
            "_model_name": "LayoutModel",
            "_view_count": null,
            "_view_module": "@jupyter-widgets/base",
            "_view_module_version": "1.2.0",
            "_view_name": "LayoutView",
            "align_content": null,
            "align_items": null,
            "align_self": null,
            "border": null,
            "bottom": null,
            "display": null,
            "flex": null,
            "flex_flow": null,
            "grid_area": null,
            "grid_auto_columns": null,
            "grid_auto_flow": null,
            "grid_auto_rows": null,
            "grid_column": null,
            "grid_gap": null,
            "grid_row": null,
            "grid_template_areas": null,
            "grid_template_columns": null,
            "grid_template_rows": null,
            "height": null,
            "justify_content": null,
            "justify_items": null,
            "left": null,
            "margin": null,
            "max_height": null,
            "max_width": null,
            "min_height": null,
            "min_width": null,
            "object_fit": null,
            "object_position": null,
            "order": null,
            "overflow": null,
            "overflow_x": null,
            "overflow_y": null,
            "padding": null,
            "right": null,
            "top": null,
            "visibility": null,
            "width": null
          }
        },
        "07ca00b7cece4016ba04a32a69a850f8": {
          "model_module": "@jupyter-widgets/base",
          "model_name": "LayoutModel",
          "model_module_version": "1.2.0",
          "state": {
            "_model_module": "@jupyter-widgets/base",
            "_model_module_version": "1.2.0",
            "_model_name": "LayoutModel",
            "_view_count": null,
            "_view_module": "@jupyter-widgets/base",
            "_view_module_version": "1.2.0",
            "_view_name": "LayoutView",
            "align_content": null,
            "align_items": null,
            "align_self": null,
            "border": null,
            "bottom": null,
            "display": null,
            "flex": null,
            "flex_flow": null,
            "grid_area": null,
            "grid_auto_columns": null,
            "grid_auto_flow": null,
            "grid_auto_rows": null,
            "grid_column": null,
            "grid_gap": null,
            "grid_row": null,
            "grid_template_areas": null,
            "grid_template_columns": null,
            "grid_template_rows": null,
            "height": null,
            "justify_content": null,
            "justify_items": null,
            "left": null,
            "margin": null,
            "max_height": null,
            "max_width": null,
            "min_height": null,
            "min_width": null,
            "object_fit": null,
            "object_position": null,
            "order": null,
            "overflow": null,
            "overflow_x": null,
            "overflow_y": null,
            "padding": null,
            "right": null,
            "top": null,
            "visibility": null,
            "width": null
          }
        },
        "c5e3b6a171014c178902102473283521": {
          "model_module": "@jupyter-widgets/controls",
          "model_name": "ButtonStyleModel",
          "model_module_version": "1.5.0",
          "state": {
            "_model_module": "@jupyter-widgets/controls",
            "_model_module_version": "1.5.0",
            "_model_name": "ButtonStyleModel",
            "_view_count": null,
            "_view_module": "@jupyter-widgets/base",
            "_view_module_version": "1.2.0",
            "_view_name": "StyleView",
            "button_color": null,
            "font_weight": ""
          }
        },
        "6df2d9fe1bbb4ae89ec60641016c550f": {
          "model_module": "@jupyter-widgets/base",
          "model_name": "LayoutModel",
          "model_module_version": "1.2.0",
          "state": {
            "_model_module": "@jupyter-widgets/base",
            "_model_module_version": "1.2.0",
            "_model_name": "LayoutModel",
            "_view_count": null,
            "_view_module": "@jupyter-widgets/base",
            "_view_module_version": "1.2.0",
            "_view_name": "LayoutView",
            "align_content": null,
            "align_items": null,
            "align_self": null,
            "border": null,
            "bottom": null,
            "display": null,
            "flex": null,
            "flex_flow": null,
            "grid_area": null,
            "grid_auto_columns": null,
            "grid_auto_flow": null,
            "grid_auto_rows": null,
            "grid_column": null,
            "grid_gap": null,
            "grid_row": null,
            "grid_template_areas": null,
            "grid_template_columns": null,
            "grid_template_rows": null,
            "height": null,
            "justify_content": null,
            "justify_items": null,
            "left": null,
            "margin": null,
            "max_height": null,
            "max_width": null,
            "min_height": null,
            "min_width": null,
            "object_fit": null,
            "object_position": null,
            "order": null,
            "overflow": null,
            "overflow_x": null,
            "overflow_y": null,
            "padding": null,
            "right": null,
            "top": null,
            "visibility": null,
            "width": null
          }
        },
        "4f11a3b257c04f608171d6b61cf966c2": {
          "model_module": "@jupyter-widgets/controls",
          "model_name": "VBoxModel",
          "model_module_version": "1.5.0",
          "state": {
            "_dom_classes": [
              "widget-interact"
            ],
            "_model_module": "@jupyter-widgets/controls",
            "_model_module_version": "1.5.0",
            "_model_name": "VBoxModel",
            "_view_count": null,
            "_view_module": "@jupyter-widgets/controls",
            "_view_module_version": "1.5.0",
            "_view_name": "VBoxView",
            "box_style": "",
            "children": [
              "IPY_MODEL_f43814ad798d448d90221b3b06b73038",
              "IPY_MODEL_35aa20aed86143e7b188ab61e710c84f"
            ],
            "layout": "IPY_MODEL_d557a8427668453b9a18d9b77576c623"
          }
        },
        "f43814ad798d448d90221b3b06b73038": {
          "model_module": "@jupyter-widgets/controls",
          "model_name": "ButtonModel",
          "model_module_version": "1.5.0",
          "state": {
            "_dom_classes": [],
            "_model_module": "@jupyter-widgets/controls",
            "_model_module_version": "1.5.0",
            "_model_name": "ButtonModel",
            "_view_count": null,
            "_view_module": "@jupyter-widgets/controls",
            "_view_module_version": "1.5.0",
            "_view_name": "ButtonView",
            "button_style": "",
            "description": "Enviar ex03",
            "disabled": false,
            "icon": "",
            "layout": "IPY_MODEL_0a8172f2bd684c6dab7cfc3f0af92c6c",
            "style": "IPY_MODEL_6eba23c03f7f48cb9285617d9690b5bd",
            "tooltip": ""
          }
        },
        "35aa20aed86143e7b188ab61e710c84f": {
          "model_module": "@jupyter-widgets/output",
          "model_name": "OutputModel",
          "model_module_version": "1.0.0",
          "state": {
            "_dom_classes": [],
            "_model_module": "@jupyter-widgets/output",
            "_model_module_version": "1.0.0",
            "_model_name": "OutputModel",
            "_view_count": null,
            "_view_module": "@jupyter-widgets/output",
            "_view_module_version": "1.0.0",
            "_view_name": "OutputView",
            "layout": "IPY_MODEL_ab6bae4712834584934a59362ec48b08",
            "msg_id": "",
            "outputs": []
          }
        },
        "d557a8427668453b9a18d9b77576c623": {
          "model_module": "@jupyter-widgets/base",
          "model_name": "LayoutModel",
          "model_module_version": "1.2.0",
          "state": {
            "_model_module": "@jupyter-widgets/base",
            "_model_module_version": "1.2.0",
            "_model_name": "LayoutModel",
            "_view_count": null,
            "_view_module": "@jupyter-widgets/base",
            "_view_module_version": "1.2.0",
            "_view_name": "LayoutView",
            "align_content": null,
            "align_items": null,
            "align_self": null,
            "border": null,
            "bottom": null,
            "display": null,
            "flex": null,
            "flex_flow": null,
            "grid_area": null,
            "grid_auto_columns": null,
            "grid_auto_flow": null,
            "grid_auto_rows": null,
            "grid_column": null,
            "grid_gap": null,
            "grid_row": null,
            "grid_template_areas": null,
            "grid_template_columns": null,
            "grid_template_rows": null,
            "height": null,
            "justify_content": null,
            "justify_items": null,
            "left": null,
            "margin": null,
            "max_height": null,
            "max_width": null,
            "min_height": null,
            "min_width": null,
            "object_fit": null,
            "object_position": null,
            "order": null,
            "overflow": null,
            "overflow_x": null,
            "overflow_y": null,
            "padding": null,
            "right": null,
            "top": null,
            "visibility": null,
            "width": null
          }
        },
        "0a8172f2bd684c6dab7cfc3f0af92c6c": {
          "model_module": "@jupyter-widgets/base",
          "model_name": "LayoutModel",
          "model_module_version": "1.2.0",
          "state": {
            "_model_module": "@jupyter-widgets/base",
            "_model_module_version": "1.2.0",
            "_model_name": "LayoutModel",
            "_view_count": null,
            "_view_module": "@jupyter-widgets/base",
            "_view_module_version": "1.2.0",
            "_view_name": "LayoutView",
            "align_content": null,
            "align_items": null,
            "align_self": null,
            "border": null,
            "bottom": null,
            "display": null,
            "flex": null,
            "flex_flow": null,
            "grid_area": null,
            "grid_auto_columns": null,
            "grid_auto_flow": null,
            "grid_auto_rows": null,
            "grid_column": null,
            "grid_gap": null,
            "grid_row": null,
            "grid_template_areas": null,
            "grid_template_columns": null,
            "grid_template_rows": null,
            "height": null,
            "justify_content": null,
            "justify_items": null,
            "left": null,
            "margin": null,
            "max_height": null,
            "max_width": null,
            "min_height": null,
            "min_width": null,
            "object_fit": null,
            "object_position": null,
            "order": null,
            "overflow": null,
            "overflow_x": null,
            "overflow_y": null,
            "padding": null,
            "right": null,
            "top": null,
            "visibility": null,
            "width": null
          }
        },
        "6eba23c03f7f48cb9285617d9690b5bd": {
          "model_module": "@jupyter-widgets/controls",
          "model_name": "ButtonStyleModel",
          "model_module_version": "1.5.0",
          "state": {
            "_model_module": "@jupyter-widgets/controls",
            "_model_module_version": "1.5.0",
            "_model_name": "ButtonStyleModel",
            "_view_count": null,
            "_view_module": "@jupyter-widgets/base",
            "_view_module_version": "1.2.0",
            "_view_name": "StyleView",
            "button_color": null,
            "font_weight": ""
          }
        },
        "ab6bae4712834584934a59362ec48b08": {
          "model_module": "@jupyter-widgets/base",
          "model_name": "LayoutModel",
          "model_module_version": "1.2.0",
          "state": {
            "_model_module": "@jupyter-widgets/base",
            "_model_module_version": "1.2.0",
            "_model_name": "LayoutModel",
            "_view_count": null,
            "_view_module": "@jupyter-widgets/base",
            "_view_module_version": "1.2.0",
            "_view_name": "LayoutView",
            "align_content": null,
            "align_items": null,
            "align_self": null,
            "border": null,
            "bottom": null,
            "display": null,
            "flex": null,
            "flex_flow": null,
            "grid_area": null,
            "grid_auto_columns": null,
            "grid_auto_flow": null,
            "grid_auto_rows": null,
            "grid_column": null,
            "grid_gap": null,
            "grid_row": null,
            "grid_template_areas": null,
            "grid_template_columns": null,
            "grid_template_rows": null,
            "height": null,
            "justify_content": null,
            "justify_items": null,
            "left": null,
            "margin": null,
            "max_height": null,
            "max_width": null,
            "min_height": null,
            "min_width": null,
            "object_fit": null,
            "object_position": null,
            "order": null,
            "overflow": null,
            "overflow_x": null,
            "overflow_y": null,
            "padding": null,
            "right": null,
            "top": null,
            "visibility": null,
            "width": null
          }
        },
        "cdebb84307d345fcb9a4ff4c496d6d7b": {
          "model_module": "@jupyter-widgets/controls",
          "model_name": "VBoxModel",
          "model_module_version": "1.5.0",
          "state": {
            "_dom_classes": [
              "widget-interact"
            ],
            "_model_module": "@jupyter-widgets/controls",
            "_model_module_version": "1.5.0",
            "_model_name": "VBoxModel",
            "_view_count": null,
            "_view_module": "@jupyter-widgets/controls",
            "_view_module_version": "1.5.0",
            "_view_name": "VBoxView",
            "box_style": "",
            "children": [
              "IPY_MODEL_bae3af9e414042ef841e0016a7f6c0a7",
              "IPY_MODEL_4ffb834c60724f5f815baa3a7e80366d"
            ],
            "layout": "IPY_MODEL_6bb78f2548ce49e7928c1b449d668cee"
          }
        },
        "bae3af9e414042ef841e0016a7f6c0a7": {
          "model_module": "@jupyter-widgets/controls",
          "model_name": "ButtonModel",
          "model_module_version": "1.5.0",
          "state": {
            "_dom_classes": [],
            "_model_module": "@jupyter-widgets/controls",
            "_model_module_version": "1.5.0",
            "_model_name": "ButtonModel",
            "_view_count": null,
            "_view_module": "@jupyter-widgets/controls",
            "_view_module_version": "1.5.0",
            "_view_name": "ButtonView",
            "button_style": "",
            "description": "Enviar ex04",
            "disabled": false,
            "icon": "",
            "layout": "IPY_MODEL_953a5bc801bd4732a703f0f4a6719930",
            "style": "IPY_MODEL_512b11353f384a2cb970861cbd7cf385",
            "tooltip": ""
          }
        },
        "4ffb834c60724f5f815baa3a7e80366d": {
          "model_module": "@jupyter-widgets/output",
          "model_name": "OutputModel",
          "model_module_version": "1.0.0",
          "state": {
            "_dom_classes": [],
            "_model_module": "@jupyter-widgets/output",
            "_model_module_version": "1.0.0",
            "_model_name": "OutputModel",
            "_view_count": null,
            "_view_module": "@jupyter-widgets/output",
            "_view_module_version": "1.0.0",
            "_view_name": "OutputView",
            "layout": "IPY_MODEL_93580ff5856945548ff2069176f32900",
            "msg_id": "",
            "outputs": []
          }
        },
        "6bb78f2548ce49e7928c1b449d668cee": {
          "model_module": "@jupyter-widgets/base",
          "model_name": "LayoutModel",
          "model_module_version": "1.2.0",
          "state": {
            "_model_module": "@jupyter-widgets/base",
            "_model_module_version": "1.2.0",
            "_model_name": "LayoutModel",
            "_view_count": null,
            "_view_module": "@jupyter-widgets/base",
            "_view_module_version": "1.2.0",
            "_view_name": "LayoutView",
            "align_content": null,
            "align_items": null,
            "align_self": null,
            "border": null,
            "bottom": null,
            "display": null,
            "flex": null,
            "flex_flow": null,
            "grid_area": null,
            "grid_auto_columns": null,
            "grid_auto_flow": null,
            "grid_auto_rows": null,
            "grid_column": null,
            "grid_gap": null,
            "grid_row": null,
            "grid_template_areas": null,
            "grid_template_columns": null,
            "grid_template_rows": null,
            "height": null,
            "justify_content": null,
            "justify_items": null,
            "left": null,
            "margin": null,
            "max_height": null,
            "max_width": null,
            "min_height": null,
            "min_width": null,
            "object_fit": null,
            "object_position": null,
            "order": null,
            "overflow": null,
            "overflow_x": null,
            "overflow_y": null,
            "padding": null,
            "right": null,
            "top": null,
            "visibility": null,
            "width": null
          }
        },
        "953a5bc801bd4732a703f0f4a6719930": {
          "model_module": "@jupyter-widgets/base",
          "model_name": "LayoutModel",
          "model_module_version": "1.2.0",
          "state": {
            "_model_module": "@jupyter-widgets/base",
            "_model_module_version": "1.2.0",
            "_model_name": "LayoutModel",
            "_view_count": null,
            "_view_module": "@jupyter-widgets/base",
            "_view_module_version": "1.2.0",
            "_view_name": "LayoutView",
            "align_content": null,
            "align_items": null,
            "align_self": null,
            "border": null,
            "bottom": null,
            "display": null,
            "flex": null,
            "flex_flow": null,
            "grid_area": null,
            "grid_auto_columns": null,
            "grid_auto_flow": null,
            "grid_auto_rows": null,
            "grid_column": null,
            "grid_gap": null,
            "grid_row": null,
            "grid_template_areas": null,
            "grid_template_columns": null,
            "grid_template_rows": null,
            "height": null,
            "justify_content": null,
            "justify_items": null,
            "left": null,
            "margin": null,
            "max_height": null,
            "max_width": null,
            "min_height": null,
            "min_width": null,
            "object_fit": null,
            "object_position": null,
            "order": null,
            "overflow": null,
            "overflow_x": null,
            "overflow_y": null,
            "padding": null,
            "right": null,
            "top": null,
            "visibility": null,
            "width": null
          }
        },
        "512b11353f384a2cb970861cbd7cf385": {
          "model_module": "@jupyter-widgets/controls",
          "model_name": "ButtonStyleModel",
          "model_module_version": "1.5.0",
          "state": {
            "_model_module": "@jupyter-widgets/controls",
            "_model_module_version": "1.5.0",
            "_model_name": "ButtonStyleModel",
            "_view_count": null,
            "_view_module": "@jupyter-widgets/base",
            "_view_module_version": "1.2.0",
            "_view_name": "StyleView",
            "button_color": null,
            "font_weight": ""
          }
        },
        "93580ff5856945548ff2069176f32900": {
          "model_module": "@jupyter-widgets/base",
          "model_name": "LayoutModel",
          "model_module_version": "1.2.0",
          "state": {
            "_model_module": "@jupyter-widgets/base",
            "_model_module_version": "1.2.0",
            "_model_name": "LayoutModel",
            "_view_count": null,
            "_view_module": "@jupyter-widgets/base",
            "_view_module_version": "1.2.0",
            "_view_name": "LayoutView",
            "align_content": null,
            "align_items": null,
            "align_self": null,
            "border": null,
            "bottom": null,
            "display": null,
            "flex": null,
            "flex_flow": null,
            "grid_area": null,
            "grid_auto_columns": null,
            "grid_auto_flow": null,
            "grid_auto_rows": null,
            "grid_column": null,
            "grid_gap": null,
            "grid_row": null,
            "grid_template_areas": null,
            "grid_template_columns": null,
            "grid_template_rows": null,
            "height": null,
            "justify_content": null,
            "justify_items": null,
            "left": null,
            "margin": null,
            "max_height": null,
            "max_width": null,
            "min_height": null,
            "min_width": null,
            "object_fit": null,
            "object_position": null,
            "order": null,
            "overflow": null,
            "overflow_x": null,
            "overflow_y": null,
            "padding": null,
            "right": null,
            "top": null,
            "visibility": null,
            "width": null
          }
        },
        "60518e8d7f3f4a94a245de11eab96dc8": {
          "model_module": "@jupyter-widgets/controls",
          "model_name": "VBoxModel",
          "model_module_version": "1.5.0",
          "state": {
            "_dom_classes": [
              "widget-interact"
            ],
            "_model_module": "@jupyter-widgets/controls",
            "_model_module_version": "1.5.0",
            "_model_name": "VBoxModel",
            "_view_count": null,
            "_view_module": "@jupyter-widgets/controls",
            "_view_module_version": "1.5.0",
            "_view_name": "VBoxView",
            "box_style": "",
            "children": [
              "IPY_MODEL_aaac3aa1c0314bf9a788c9d203179e7e",
              "IPY_MODEL_4ff36c5894d44cf599c052b45f3c2834"
            ],
            "layout": "IPY_MODEL_f7fd6b91b80b42ba872ee7fe1e99579f"
          }
        },
        "aaac3aa1c0314bf9a788c9d203179e7e": {
          "model_module": "@jupyter-widgets/controls",
          "model_name": "ButtonModel",
          "model_module_version": "1.5.0",
          "state": {
            "_dom_classes": [],
            "_model_module": "@jupyter-widgets/controls",
            "_model_module_version": "1.5.0",
            "_model_name": "ButtonModel",
            "_view_count": null,
            "_view_module": "@jupyter-widgets/controls",
            "_view_module_version": "1.5.0",
            "_view_name": "ButtonView",
            "button_style": "",
            "description": "Enviar ex05",
            "disabled": false,
            "icon": "",
            "layout": "IPY_MODEL_82c1b1ace52c4e4d94c7c1fd9970f682",
            "style": "IPY_MODEL_108f71595b6640a3b1d93545cb92b348",
            "tooltip": ""
          }
        },
        "4ff36c5894d44cf599c052b45f3c2834": {
          "model_module": "@jupyter-widgets/output",
          "model_name": "OutputModel",
          "model_module_version": "1.0.0",
          "state": {
            "_dom_classes": [],
            "_model_module": "@jupyter-widgets/output",
            "_model_module_version": "1.0.0",
            "_model_name": "OutputModel",
            "_view_count": null,
            "_view_module": "@jupyter-widgets/output",
            "_view_module_version": "1.0.0",
            "_view_name": "OutputView",
            "layout": "IPY_MODEL_6a051e190bd840a4b6cb16218738ceda",
            "msg_id": "",
            "outputs": [
              {
                "output_type": "display_data",
                "data": {
                  "text/plain": "<IPython.core.display.Markdown object>",
                  "text/markdown": "Exercício `ex05` da `pdf` está **correto**!"
                },
                "metadata": {}
              }
            ]
          }
        },
        "f7fd6b91b80b42ba872ee7fe1e99579f": {
          "model_module": "@jupyter-widgets/base",
          "model_name": "LayoutModel",
          "model_module_version": "1.2.0",
          "state": {
            "_model_module": "@jupyter-widgets/base",
            "_model_module_version": "1.2.0",
            "_model_name": "LayoutModel",
            "_view_count": null,
            "_view_module": "@jupyter-widgets/base",
            "_view_module_version": "1.2.0",
            "_view_name": "LayoutView",
            "align_content": null,
            "align_items": null,
            "align_self": null,
            "border": null,
            "bottom": null,
            "display": null,
            "flex": null,
            "flex_flow": null,
            "grid_area": null,
            "grid_auto_columns": null,
            "grid_auto_flow": null,
            "grid_auto_rows": null,
            "grid_column": null,
            "grid_gap": null,
            "grid_row": null,
            "grid_template_areas": null,
            "grid_template_columns": null,
            "grid_template_rows": null,
            "height": null,
            "justify_content": null,
            "justify_items": null,
            "left": null,
            "margin": null,
            "max_height": null,
            "max_width": null,
            "min_height": null,
            "min_width": null,
            "object_fit": null,
            "object_position": null,
            "order": null,
            "overflow": null,
            "overflow_x": null,
            "overflow_y": null,
            "padding": null,
            "right": null,
            "top": null,
            "visibility": null,
            "width": null
          }
        },
        "82c1b1ace52c4e4d94c7c1fd9970f682": {
          "model_module": "@jupyter-widgets/base",
          "model_name": "LayoutModel",
          "model_module_version": "1.2.0",
          "state": {
            "_model_module": "@jupyter-widgets/base",
            "_model_module_version": "1.2.0",
            "_model_name": "LayoutModel",
            "_view_count": null,
            "_view_module": "@jupyter-widgets/base",
            "_view_module_version": "1.2.0",
            "_view_name": "LayoutView",
            "align_content": null,
            "align_items": null,
            "align_self": null,
            "border": null,
            "bottom": null,
            "display": null,
            "flex": null,
            "flex_flow": null,
            "grid_area": null,
            "grid_auto_columns": null,
            "grid_auto_flow": null,
            "grid_auto_rows": null,
            "grid_column": null,
            "grid_gap": null,
            "grid_row": null,
            "grid_template_areas": null,
            "grid_template_columns": null,
            "grid_template_rows": null,
            "height": null,
            "justify_content": null,
            "justify_items": null,
            "left": null,
            "margin": null,
            "max_height": null,
            "max_width": null,
            "min_height": null,
            "min_width": null,
            "object_fit": null,
            "object_position": null,
            "order": null,
            "overflow": null,
            "overflow_x": null,
            "overflow_y": null,
            "padding": null,
            "right": null,
            "top": null,
            "visibility": null,
            "width": null
          }
        },
        "108f71595b6640a3b1d93545cb92b348": {
          "model_module": "@jupyter-widgets/controls",
          "model_name": "ButtonStyleModel",
          "model_module_version": "1.5.0",
          "state": {
            "_model_module": "@jupyter-widgets/controls",
            "_model_module_version": "1.5.0",
            "_model_name": "ButtonStyleModel",
            "_view_count": null,
            "_view_module": "@jupyter-widgets/base",
            "_view_module_version": "1.2.0",
            "_view_name": "StyleView",
            "button_color": null,
            "font_weight": ""
          }
        },
        "6a051e190bd840a4b6cb16218738ceda": {
          "model_module": "@jupyter-widgets/base",
          "model_name": "LayoutModel",
          "model_module_version": "1.2.0",
          "state": {
            "_model_module": "@jupyter-widgets/base",
            "_model_module_version": "1.2.0",
            "_model_name": "LayoutModel",
            "_view_count": null,
            "_view_module": "@jupyter-widgets/base",
            "_view_module_version": "1.2.0",
            "_view_name": "LayoutView",
            "align_content": null,
            "align_items": null,
            "align_self": null,
            "border": null,
            "bottom": null,
            "display": null,
            "flex": null,
            "flex_flow": null,
            "grid_area": null,
            "grid_auto_columns": null,
            "grid_auto_flow": null,
            "grid_auto_rows": null,
            "grid_column": null,
            "grid_gap": null,
            "grid_row": null,
            "grid_template_areas": null,
            "grid_template_columns": null,
            "grid_template_rows": null,
            "height": null,
            "justify_content": null,
            "justify_items": null,
            "left": null,
            "margin": null,
            "max_height": null,
            "max_width": null,
            "min_height": null,
            "min_width": null,
            "object_fit": null,
            "object_position": null,
            "order": null,
            "overflow": null,
            "overflow_x": null,
            "overflow_y": null,
            "padding": null,
            "right": null,
            "top": null,
            "visibility": null,
            "width": null
          }
        },
        "e6940f78d9504114a8258a3014609ca0": {
          "model_module": "@jupyter-widgets/controls",
          "model_name": "VBoxModel",
          "model_module_version": "1.5.0",
          "state": {
            "_dom_classes": [
              "widget-interact"
            ],
            "_model_module": "@jupyter-widgets/controls",
            "_model_module_version": "1.5.0",
            "_model_name": "VBoxModel",
            "_view_count": null,
            "_view_module": "@jupyter-widgets/controls",
            "_view_module_version": "1.5.0",
            "_view_name": "VBoxView",
            "box_style": "",
            "children": [
              "IPY_MODEL_6cdd369557934876b6eb309ea1bcc9f2",
              "IPY_MODEL_0ba46e75897b467ea31b127499b98607"
            ],
            "layout": "IPY_MODEL_df0f63124a7149db8fe6cefe0677cee5"
          }
        },
        "6cdd369557934876b6eb309ea1bcc9f2": {
          "model_module": "@jupyter-widgets/controls",
          "model_name": "ButtonModel",
          "model_module_version": "1.5.0",
          "state": {
            "_dom_classes": [],
            "_model_module": "@jupyter-widgets/controls",
            "_model_module_version": "1.5.0",
            "_model_name": "ButtonModel",
            "_view_count": null,
            "_view_module": "@jupyter-widgets/controls",
            "_view_module_version": "1.5.0",
            "_view_name": "ButtonView",
            "button_style": "",
            "description": "Enviar ex06",
            "disabled": false,
            "icon": "",
            "layout": "IPY_MODEL_08ea4fab127848208183f51a436f8116",
            "style": "IPY_MODEL_77b0f447d678424ab140a265a18718a7",
            "tooltip": ""
          }
        },
        "0ba46e75897b467ea31b127499b98607": {
          "model_module": "@jupyter-widgets/output",
          "model_name": "OutputModel",
          "model_module_version": "1.0.0",
          "state": {
            "_dom_classes": [],
            "_model_module": "@jupyter-widgets/output",
            "_model_module_version": "1.0.0",
            "_model_name": "OutputModel",
            "_view_count": null,
            "_view_module": "@jupyter-widgets/output",
            "_view_module_version": "1.0.0",
            "_view_name": "OutputView",
            "layout": "IPY_MODEL_37ba7a505e52478db048d80f1deaeeca",
            "msg_id": "",
            "outputs": [
              {
                "output_type": "display_data",
                "data": {
                  "text/plain": "<IPython.core.display.Markdown object>",
                  "text/markdown": "Exercício `ex06` da `pdf` está **correto**!"
                },
                "metadata": {}
              }
            ]
          }
        },
        "df0f63124a7149db8fe6cefe0677cee5": {
          "model_module": "@jupyter-widgets/base",
          "model_name": "LayoutModel",
          "model_module_version": "1.2.0",
          "state": {
            "_model_module": "@jupyter-widgets/base",
            "_model_module_version": "1.2.0",
            "_model_name": "LayoutModel",
            "_view_count": null,
            "_view_module": "@jupyter-widgets/base",
            "_view_module_version": "1.2.0",
            "_view_name": "LayoutView",
            "align_content": null,
            "align_items": null,
            "align_self": null,
            "border": null,
            "bottom": null,
            "display": null,
            "flex": null,
            "flex_flow": null,
            "grid_area": null,
            "grid_auto_columns": null,
            "grid_auto_flow": null,
            "grid_auto_rows": null,
            "grid_column": null,
            "grid_gap": null,
            "grid_row": null,
            "grid_template_areas": null,
            "grid_template_columns": null,
            "grid_template_rows": null,
            "height": null,
            "justify_content": null,
            "justify_items": null,
            "left": null,
            "margin": null,
            "max_height": null,
            "max_width": null,
            "min_height": null,
            "min_width": null,
            "object_fit": null,
            "object_position": null,
            "order": null,
            "overflow": null,
            "overflow_x": null,
            "overflow_y": null,
            "padding": null,
            "right": null,
            "top": null,
            "visibility": null,
            "width": null
          }
        },
        "08ea4fab127848208183f51a436f8116": {
          "model_module": "@jupyter-widgets/base",
          "model_name": "LayoutModel",
          "model_module_version": "1.2.0",
          "state": {
            "_model_module": "@jupyter-widgets/base",
            "_model_module_version": "1.2.0",
            "_model_name": "LayoutModel",
            "_view_count": null,
            "_view_module": "@jupyter-widgets/base",
            "_view_module_version": "1.2.0",
            "_view_name": "LayoutView",
            "align_content": null,
            "align_items": null,
            "align_self": null,
            "border": null,
            "bottom": null,
            "display": null,
            "flex": null,
            "flex_flow": null,
            "grid_area": null,
            "grid_auto_columns": null,
            "grid_auto_flow": null,
            "grid_auto_rows": null,
            "grid_column": null,
            "grid_gap": null,
            "grid_row": null,
            "grid_template_areas": null,
            "grid_template_columns": null,
            "grid_template_rows": null,
            "height": null,
            "justify_content": null,
            "justify_items": null,
            "left": null,
            "margin": null,
            "max_height": null,
            "max_width": null,
            "min_height": null,
            "min_width": null,
            "object_fit": null,
            "object_position": null,
            "order": null,
            "overflow": null,
            "overflow_x": null,
            "overflow_y": null,
            "padding": null,
            "right": null,
            "top": null,
            "visibility": null,
            "width": null
          }
        },
        "77b0f447d678424ab140a265a18718a7": {
          "model_module": "@jupyter-widgets/controls",
          "model_name": "ButtonStyleModel",
          "model_module_version": "1.5.0",
          "state": {
            "_model_module": "@jupyter-widgets/controls",
            "_model_module_version": "1.5.0",
            "_model_name": "ButtonStyleModel",
            "_view_count": null,
            "_view_module": "@jupyter-widgets/base",
            "_view_module_version": "1.2.0",
            "_view_name": "StyleView",
            "button_color": null,
            "font_weight": ""
          }
        },
        "37ba7a505e52478db048d80f1deaeeca": {
          "model_module": "@jupyter-widgets/base",
          "model_name": "LayoutModel",
          "model_module_version": "1.2.0",
          "state": {
            "_model_module": "@jupyter-widgets/base",
            "_model_module_version": "1.2.0",
            "_model_name": "LayoutModel",
            "_view_count": null,
            "_view_module": "@jupyter-widgets/base",
            "_view_module_version": "1.2.0",
            "_view_name": "LayoutView",
            "align_content": null,
            "align_items": null,
            "align_self": null,
            "border": null,
            "bottom": null,
            "display": null,
            "flex": null,
            "flex_flow": null,
            "grid_area": null,
            "grid_auto_columns": null,
            "grid_auto_flow": null,
            "grid_auto_rows": null,
            "grid_column": null,
            "grid_gap": null,
            "grid_row": null,
            "grid_template_areas": null,
            "grid_template_columns": null,
            "grid_template_rows": null,
            "height": null,
            "justify_content": null,
            "justify_items": null,
            "left": null,
            "margin": null,
            "max_height": null,
            "max_width": null,
            "min_height": null,
            "min_width": null,
            "object_fit": null,
            "object_position": null,
            "order": null,
            "overflow": null,
            "overflow_x": null,
            "overflow_y": null,
            "padding": null,
            "right": null,
            "top": null,
            "visibility": null,
            "width": null
          }
        },
        "d5af5bc19ab2464e936a9f9308103f76": {
          "model_module": "@jupyter-widgets/controls",
          "model_name": "VBoxModel",
          "model_module_version": "1.5.0",
          "state": {
            "_dom_classes": [
              "widget-interact"
            ],
            "_model_module": "@jupyter-widgets/controls",
            "_model_module_version": "1.5.0",
            "_model_name": "VBoxModel",
            "_view_count": null,
            "_view_module": "@jupyter-widgets/controls",
            "_view_module_version": "1.5.0",
            "_view_name": "VBoxView",
            "box_style": "",
            "children": [
              "IPY_MODEL_66b5340d59d4471f96ceb5839b8befeb",
              "IPY_MODEL_95c1b9fce6ab4738b8c3ebb6df6482ef"
            ],
            "layout": "IPY_MODEL_77993c043b5f458ab5008f6fc520a55c"
          }
        },
        "66b5340d59d4471f96ceb5839b8befeb": {
          "model_module": "@jupyter-widgets/controls",
          "model_name": "ButtonModel",
          "model_module_version": "1.5.0",
          "state": {
            "_dom_classes": [],
            "_model_module": "@jupyter-widgets/controls",
            "_model_module_version": "1.5.0",
            "_model_name": "ButtonModel",
            "_view_count": null,
            "_view_module": "@jupyter-widgets/controls",
            "_view_module_version": "1.5.0",
            "_view_name": "ButtonView",
            "button_style": "",
            "description": "Enviar ex07",
            "disabled": false,
            "icon": "",
            "layout": "IPY_MODEL_ee6a1a026f5446f88b7a8ba0327c5cff",
            "style": "IPY_MODEL_5f642d8d0e9f4a1bbffaffd3e017c6b1",
            "tooltip": ""
          }
        },
        "95c1b9fce6ab4738b8c3ebb6df6482ef": {
          "model_module": "@jupyter-widgets/output",
          "model_name": "OutputModel",
          "model_module_version": "1.0.0",
          "state": {
            "_dom_classes": [],
            "_model_module": "@jupyter-widgets/output",
            "_model_module_version": "1.0.0",
            "_model_name": "OutputModel",
            "_view_count": null,
            "_view_module": "@jupyter-widgets/output",
            "_view_module_version": "1.0.0",
            "_view_name": "OutputView",
            "layout": "IPY_MODEL_8146839b2c4b432b8fa35d80ed5d3df0",
            "msg_id": "",
            "outputs": [
              {
                "output_type": "display_data",
                "data": {
                  "text/plain": "<IPython.core.display.Markdown object>",
                  "text/markdown": "Exercício `ex07` da `pdf` está **correto**!"
                },
                "metadata": {}
              }
            ]
          }
        },
        "77993c043b5f458ab5008f6fc520a55c": {
          "model_module": "@jupyter-widgets/base",
          "model_name": "LayoutModel",
          "model_module_version": "1.2.0",
          "state": {
            "_model_module": "@jupyter-widgets/base",
            "_model_module_version": "1.2.0",
            "_model_name": "LayoutModel",
            "_view_count": null,
            "_view_module": "@jupyter-widgets/base",
            "_view_module_version": "1.2.0",
            "_view_name": "LayoutView",
            "align_content": null,
            "align_items": null,
            "align_self": null,
            "border": null,
            "bottom": null,
            "display": null,
            "flex": null,
            "flex_flow": null,
            "grid_area": null,
            "grid_auto_columns": null,
            "grid_auto_flow": null,
            "grid_auto_rows": null,
            "grid_column": null,
            "grid_gap": null,
            "grid_row": null,
            "grid_template_areas": null,
            "grid_template_columns": null,
            "grid_template_rows": null,
            "height": null,
            "justify_content": null,
            "justify_items": null,
            "left": null,
            "margin": null,
            "max_height": null,
            "max_width": null,
            "min_height": null,
            "min_width": null,
            "object_fit": null,
            "object_position": null,
            "order": null,
            "overflow": null,
            "overflow_x": null,
            "overflow_y": null,
            "padding": null,
            "right": null,
            "top": null,
            "visibility": null,
            "width": null
          }
        },
        "ee6a1a026f5446f88b7a8ba0327c5cff": {
          "model_module": "@jupyter-widgets/base",
          "model_name": "LayoutModel",
          "model_module_version": "1.2.0",
          "state": {
            "_model_module": "@jupyter-widgets/base",
            "_model_module_version": "1.2.0",
            "_model_name": "LayoutModel",
            "_view_count": null,
            "_view_module": "@jupyter-widgets/base",
            "_view_module_version": "1.2.0",
            "_view_name": "LayoutView",
            "align_content": null,
            "align_items": null,
            "align_self": null,
            "border": null,
            "bottom": null,
            "display": null,
            "flex": null,
            "flex_flow": null,
            "grid_area": null,
            "grid_auto_columns": null,
            "grid_auto_flow": null,
            "grid_auto_rows": null,
            "grid_column": null,
            "grid_gap": null,
            "grid_row": null,
            "grid_template_areas": null,
            "grid_template_columns": null,
            "grid_template_rows": null,
            "height": null,
            "justify_content": null,
            "justify_items": null,
            "left": null,
            "margin": null,
            "max_height": null,
            "max_width": null,
            "min_height": null,
            "min_width": null,
            "object_fit": null,
            "object_position": null,
            "order": null,
            "overflow": null,
            "overflow_x": null,
            "overflow_y": null,
            "padding": null,
            "right": null,
            "top": null,
            "visibility": null,
            "width": null
          }
        },
        "5f642d8d0e9f4a1bbffaffd3e017c6b1": {
          "model_module": "@jupyter-widgets/controls",
          "model_name": "ButtonStyleModel",
          "model_module_version": "1.5.0",
          "state": {
            "_model_module": "@jupyter-widgets/controls",
            "_model_module_version": "1.5.0",
            "_model_name": "ButtonStyleModel",
            "_view_count": null,
            "_view_module": "@jupyter-widgets/base",
            "_view_module_version": "1.2.0",
            "_view_name": "StyleView",
            "button_color": null,
            "font_weight": ""
          }
        },
        "8146839b2c4b432b8fa35d80ed5d3df0": {
          "model_module": "@jupyter-widgets/base",
          "model_name": "LayoutModel",
          "model_module_version": "1.2.0",
          "state": {
            "_model_module": "@jupyter-widgets/base",
            "_model_module_version": "1.2.0",
            "_model_name": "LayoutModel",
            "_view_count": null,
            "_view_module": "@jupyter-widgets/base",
            "_view_module_version": "1.2.0",
            "_view_name": "LayoutView",
            "align_content": null,
            "align_items": null,
            "align_self": null,
            "border": null,
            "bottom": null,
            "display": null,
            "flex": null,
            "flex_flow": null,
            "grid_area": null,
            "grid_auto_columns": null,
            "grid_auto_flow": null,
            "grid_auto_rows": null,
            "grid_column": null,
            "grid_gap": null,
            "grid_row": null,
            "grid_template_areas": null,
            "grid_template_columns": null,
            "grid_template_rows": null,
            "height": null,
            "justify_content": null,
            "justify_items": null,
            "left": null,
            "margin": null,
            "max_height": null,
            "max_width": null,
            "min_height": null,
            "min_width": null,
            "object_fit": null,
            "object_position": null,
            "order": null,
            "overflow": null,
            "overflow_x": null,
            "overflow_y": null,
            "padding": null,
            "right": null,
            "top": null,
            "visibility": null,
            "width": null
          }
        },
        "67b577e2a7304942a77e75d9a503e513": {
          "model_module": "@jupyter-widgets/controls",
          "model_name": "VBoxModel",
          "model_module_version": "1.5.0",
          "state": {
            "_dom_classes": [
              "widget-interact"
            ],
            "_model_module": "@jupyter-widgets/controls",
            "_model_module_version": "1.5.0",
            "_model_name": "VBoxModel",
            "_view_count": null,
            "_view_module": "@jupyter-widgets/controls",
            "_view_module_version": "1.5.0",
            "_view_name": "VBoxView",
            "box_style": "",
            "children": [
              "IPY_MODEL_959a2424893e40ffb80beb0a0b919785",
              "IPY_MODEL_4e9225ab116845dfbf664defa674ba43"
            ],
            "layout": "IPY_MODEL_f8c1e891a3204a7a8c6184f0d21e90ae"
          }
        },
        "959a2424893e40ffb80beb0a0b919785": {
          "model_module": "@jupyter-widgets/controls",
          "model_name": "ButtonModel",
          "model_module_version": "1.5.0",
          "state": {
            "_dom_classes": [],
            "_model_module": "@jupyter-widgets/controls",
            "_model_module_version": "1.5.0",
            "_model_name": "ButtonModel",
            "_view_count": null,
            "_view_module": "@jupyter-widgets/controls",
            "_view_module_version": "1.5.0",
            "_view_name": "ButtonView",
            "button_style": "",
            "description": "Enviar ex08",
            "disabled": false,
            "icon": "",
            "layout": "IPY_MODEL_06b3f3cbbeba4189a714007bb425cce2",
            "style": "IPY_MODEL_0d96b1884f18498a805df3ba7d1f3510",
            "tooltip": ""
          }
        },
        "4e9225ab116845dfbf664defa674ba43": {
          "model_module": "@jupyter-widgets/output",
          "model_name": "OutputModel",
          "model_module_version": "1.0.0",
          "state": {
            "_dom_classes": [],
            "_model_module": "@jupyter-widgets/output",
            "_model_module_version": "1.0.0",
            "_model_name": "OutputModel",
            "_view_count": null,
            "_view_module": "@jupyter-widgets/output",
            "_view_module_version": "1.0.0",
            "_view_name": "OutputView",
            "layout": "IPY_MODEL_f3e5630510964a98bb115dc705c1397e",
            "msg_id": "",
            "outputs": [
              {
                "output_type": "display_data",
                "data": {
                  "text/plain": "<IPython.core.display.Markdown object>",
                  "text/markdown": "Exercício `ex08` da `pdf` está **correto**!"
                },
                "metadata": {}
              }
            ]
          }
        },
        "f8c1e891a3204a7a8c6184f0d21e90ae": {
          "model_module": "@jupyter-widgets/base",
          "model_name": "LayoutModel",
          "model_module_version": "1.2.0",
          "state": {
            "_model_module": "@jupyter-widgets/base",
            "_model_module_version": "1.2.0",
            "_model_name": "LayoutModel",
            "_view_count": null,
            "_view_module": "@jupyter-widgets/base",
            "_view_module_version": "1.2.0",
            "_view_name": "LayoutView",
            "align_content": null,
            "align_items": null,
            "align_self": null,
            "border": null,
            "bottom": null,
            "display": null,
            "flex": null,
            "flex_flow": null,
            "grid_area": null,
            "grid_auto_columns": null,
            "grid_auto_flow": null,
            "grid_auto_rows": null,
            "grid_column": null,
            "grid_gap": null,
            "grid_row": null,
            "grid_template_areas": null,
            "grid_template_columns": null,
            "grid_template_rows": null,
            "height": null,
            "justify_content": null,
            "justify_items": null,
            "left": null,
            "margin": null,
            "max_height": null,
            "max_width": null,
            "min_height": null,
            "min_width": null,
            "object_fit": null,
            "object_position": null,
            "order": null,
            "overflow": null,
            "overflow_x": null,
            "overflow_y": null,
            "padding": null,
            "right": null,
            "top": null,
            "visibility": null,
            "width": null
          }
        },
        "06b3f3cbbeba4189a714007bb425cce2": {
          "model_module": "@jupyter-widgets/base",
          "model_name": "LayoutModel",
          "model_module_version": "1.2.0",
          "state": {
            "_model_module": "@jupyter-widgets/base",
            "_model_module_version": "1.2.0",
            "_model_name": "LayoutModel",
            "_view_count": null,
            "_view_module": "@jupyter-widgets/base",
            "_view_module_version": "1.2.0",
            "_view_name": "LayoutView",
            "align_content": null,
            "align_items": null,
            "align_self": null,
            "border": null,
            "bottom": null,
            "display": null,
            "flex": null,
            "flex_flow": null,
            "grid_area": null,
            "grid_auto_columns": null,
            "grid_auto_flow": null,
            "grid_auto_rows": null,
            "grid_column": null,
            "grid_gap": null,
            "grid_row": null,
            "grid_template_areas": null,
            "grid_template_columns": null,
            "grid_template_rows": null,
            "height": null,
            "justify_content": null,
            "justify_items": null,
            "left": null,
            "margin": null,
            "max_height": null,
            "max_width": null,
            "min_height": null,
            "min_width": null,
            "object_fit": null,
            "object_position": null,
            "order": null,
            "overflow": null,
            "overflow_x": null,
            "overflow_y": null,
            "padding": null,
            "right": null,
            "top": null,
            "visibility": null,
            "width": null
          }
        },
        "0d96b1884f18498a805df3ba7d1f3510": {
          "model_module": "@jupyter-widgets/controls",
          "model_name": "ButtonStyleModel",
          "model_module_version": "1.5.0",
          "state": {
            "_model_module": "@jupyter-widgets/controls",
            "_model_module_version": "1.5.0",
            "_model_name": "ButtonStyleModel",
            "_view_count": null,
            "_view_module": "@jupyter-widgets/base",
            "_view_module_version": "1.2.0",
            "_view_name": "StyleView",
            "button_color": null,
            "font_weight": ""
          }
        },
        "f3e5630510964a98bb115dc705c1397e": {
          "model_module": "@jupyter-widgets/base",
          "model_name": "LayoutModel",
          "model_module_version": "1.2.0",
          "state": {
            "_model_module": "@jupyter-widgets/base",
            "_model_module_version": "1.2.0",
            "_model_name": "LayoutModel",
            "_view_count": null,
            "_view_module": "@jupyter-widgets/base",
            "_view_module_version": "1.2.0",
            "_view_name": "LayoutView",
            "align_content": null,
            "align_items": null,
            "align_self": null,
            "border": null,
            "bottom": null,
            "display": null,
            "flex": null,
            "flex_flow": null,
            "grid_area": null,
            "grid_auto_columns": null,
            "grid_auto_flow": null,
            "grid_auto_rows": null,
            "grid_column": null,
            "grid_gap": null,
            "grid_row": null,
            "grid_template_areas": null,
            "grid_template_columns": null,
            "grid_template_rows": null,
            "height": null,
            "justify_content": null,
            "justify_items": null,
            "left": null,
            "margin": null,
            "max_height": null,
            "max_width": null,
            "min_height": null,
            "min_width": null,
            "object_fit": null,
            "object_position": null,
            "order": null,
            "overflow": null,
            "overflow_x": null,
            "overflow_y": null,
            "padding": null,
            "right": null,
            "top": null,
            "visibility": null,
            "width": null
          }
        }
      }
    }
  },
  "nbformat": 4,
  "nbformat_minor": 0
}