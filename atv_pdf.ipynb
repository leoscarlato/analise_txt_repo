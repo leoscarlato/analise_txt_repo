{
  "cells": [
    {
      "cell_type": "markdown",
      "metadata": {
        "id": "view-in-github",
        "colab_type": "text"
      },
      "source": [
        "<a href=\"https://colab.research.google.com/github/leoscarlato/analise_txt_repo/blob/main/atv_pdf.ipynb\" target=\"_parent\"><img src=\"https://colab.research.google.com/assets/colab-badge.svg\" alt=\"Open In Colab\"/></a>"
      ]
    },
    {
      "cell_type": "markdown",
      "metadata": {
        "id": "otArXsDgJ08E"
      },
      "source": [
        "# ATV PDF - Atividade para Entrega\n",
        "\n",
        "Nesta atividade, iremos extrair textos e tabelas de PDFs. Estes exercícios são para entrega e contam como uma atividade (**ATV**)."
      ]
    },
    {
      "cell_type": "markdown",
      "metadata": {
        "jp-MarkdownHeadingCollapsed": true,
        "id": "B-pCFTMTJ08H"
      },
      "source": [
        "## Insper Autograding\n",
        "\n",
        "Iremos utilizar uma ferramenta para correção automática. Ao responder os exercícios, será possível enviar a solução para um servidor, que dará feedback quase que instantâneo sobre a resposta.\n",
        "\n",
        "Além de já ter uma boa ideia sobre seu desempenho na atividade, não será necessário fazer a entrega do notebook pelo Blackboard pois o corretor já armazena suas soluções.\n",
        "\n",
        "Siga os passos deste notebook para realizar a instalação da biblioteca de correção de exercícios nos notebooks da disciplina!"
      ]
    },
    {
      "cell_type": "markdown",
      "metadata": {
        "id": "PQgpSS9gJ08I"
      },
      "source": [
        "## Instalação\n",
        "\n",
        "Vamos instalar a biblioteca (este passo só precisa ser executado uma vez):"
      ]
    },
    {
      "cell_type": "code",
      "execution_count": null,
      "metadata": {
        "colab": {
          "base_uri": "https://localhost:8080/"
        },
        "id": "YW_KY4RIJ08I",
        "outputId": "6a640064-c00f-4c21-d537-caefc3d75478"
      },
      "outputs": [
        {
          "output_type": "stream",
          "name": "stdout",
          "text": [
            "\u001b[33mWARNING: Skipping insperautograder as it is not installed.\u001b[0m\u001b[33m\n",
            "\u001b[0mCollecting git+https://github.com/macielcalebe/insperautograding.git\n",
            "  Cloning https://github.com/macielcalebe/insperautograding.git to /tmp/pip-req-build-ebmeqzw5\n",
            "  Running command git clone --filter=blob:none --quiet https://github.com/macielcalebe/insperautograding.git /tmp/pip-req-build-ebmeqzw5\n",
            "  Resolved https://github.com/macielcalebe/insperautograding.git to commit 0d68e50930abe8460efbb43864132ffec30c862b\n",
            "  Preparing metadata (setup.py) ... \u001b[?25l\u001b[?25hdone\n",
            "Collecting python-dotenv (from insperautograder==0.2.2)\n",
            "  Downloading python_dotenv-1.0.1-py3-none-any.whl.metadata (23 kB)\n",
            "Requirement already satisfied: requests in /usr/local/lib/python3.11/dist-packages (from insperautograder==0.2.2) (2.32.3)\n",
            "Requirement already satisfied: ipython in /usr/local/lib/python3.11/dist-packages (from insperautograder==0.2.2) (7.34.0)\n",
            "Requirement already satisfied: ipywidgets<=7.8.5 in /usr/local/lib/python3.11/dist-packages (from insperautograder==0.2.2) (7.7.1)\n",
            "Requirement already satisfied: ipykernel>=4.5.1 in /usr/local/lib/python3.11/dist-packages (from ipywidgets<=7.8.5->insperautograder==0.2.2) (5.5.6)\n",
            "Requirement already satisfied: ipython-genutils~=0.2.0 in /usr/local/lib/python3.11/dist-packages (from ipywidgets<=7.8.5->insperautograder==0.2.2) (0.2.0)\n",
            "Requirement already satisfied: traitlets>=4.3.1 in /usr/local/lib/python3.11/dist-packages (from ipywidgets<=7.8.5->insperautograder==0.2.2) (5.7.1)\n",
            "Requirement already satisfied: widgetsnbextension~=3.6.0 in /usr/local/lib/python3.11/dist-packages (from ipywidgets<=7.8.5->insperautograder==0.2.2) (3.6.10)\n",
            "Requirement already satisfied: jupyterlab-widgets>=1.0.0 in /usr/local/lib/python3.11/dist-packages (from ipywidgets<=7.8.5->insperautograder==0.2.2) (3.0.13)\n",
            "Requirement already satisfied: setuptools>=18.5 in /usr/local/lib/python3.11/dist-packages (from ipython->insperautograder==0.2.2) (75.1.0)\n",
            "Collecting jedi>=0.16 (from ipython->insperautograder==0.2.2)\n",
            "  Downloading jedi-0.19.2-py2.py3-none-any.whl.metadata (22 kB)\n",
            "Requirement already satisfied: decorator in /usr/local/lib/python3.11/dist-packages (from ipython->insperautograder==0.2.2) (4.4.2)\n",
            "Requirement already satisfied: pickleshare in /usr/local/lib/python3.11/dist-packages (from ipython->insperautograder==0.2.2) (0.7.5)\n",
            "Requirement already satisfied: prompt-toolkit!=3.0.0,!=3.0.1,<3.1.0,>=2.0.0 in /usr/local/lib/python3.11/dist-packages (from ipython->insperautograder==0.2.2) (3.0.50)\n",
            "Requirement already satisfied: pygments in /usr/local/lib/python3.11/dist-packages (from ipython->insperautograder==0.2.2) (2.18.0)\n",
            "Requirement already satisfied: backcall in /usr/local/lib/python3.11/dist-packages (from ipython->insperautograder==0.2.2) (0.2.0)\n",
            "Requirement already satisfied: matplotlib-inline in /usr/local/lib/python3.11/dist-packages (from ipython->insperautograder==0.2.2) (0.1.7)\n",
            "Requirement already satisfied: pexpect>4.3 in /usr/local/lib/python3.11/dist-packages (from ipython->insperautograder==0.2.2) (4.9.0)\n",
            "Requirement already satisfied: charset-normalizer<4,>=2 in /usr/local/lib/python3.11/dist-packages (from requests->insperautograder==0.2.2) (3.4.1)\n",
            "Requirement already satisfied: idna<4,>=2.5 in /usr/local/lib/python3.11/dist-packages (from requests->insperautograder==0.2.2) (3.10)\n",
            "Requirement already satisfied: urllib3<3,>=1.21.1 in /usr/local/lib/python3.11/dist-packages (from requests->insperautograder==0.2.2) (2.3.0)\n",
            "Requirement already satisfied: certifi>=2017.4.17 in /usr/local/lib/python3.11/dist-packages (from requests->insperautograder==0.2.2) (2025.1.31)\n",
            "Requirement already satisfied: jupyter-client in /usr/local/lib/python3.11/dist-packages (from ipykernel>=4.5.1->ipywidgets<=7.8.5->insperautograder==0.2.2) (6.1.12)\n",
            "Requirement already satisfied: tornado>=4.2 in /usr/local/lib/python3.11/dist-packages (from ipykernel>=4.5.1->ipywidgets<=7.8.5->insperautograder==0.2.2) (6.4.2)\n",
            "Requirement already satisfied: parso<0.9.0,>=0.8.4 in /usr/local/lib/python3.11/dist-packages (from jedi>=0.16->ipython->insperautograder==0.2.2) (0.8.4)\n",
            "Requirement already satisfied: ptyprocess>=0.5 in /usr/local/lib/python3.11/dist-packages (from pexpect>4.3->ipython->insperautograder==0.2.2) (0.7.0)\n",
            "Requirement already satisfied: wcwidth in /usr/local/lib/python3.11/dist-packages (from prompt-toolkit!=3.0.0,!=3.0.1,<3.1.0,>=2.0.0->ipython->insperautograder==0.2.2) (0.2.13)\n",
            "Requirement already satisfied: notebook>=4.4.1 in /usr/local/lib/python3.11/dist-packages (from widgetsnbextension~=3.6.0->ipywidgets<=7.8.5->insperautograder==0.2.2) (6.5.5)\n",
            "Requirement already satisfied: jinja2 in /usr/local/lib/python3.11/dist-packages (from notebook>=4.4.1->widgetsnbextension~=3.6.0->ipywidgets<=7.8.5->insperautograder==0.2.2) (3.1.5)\n",
            "Requirement already satisfied: pyzmq<25,>=17 in /usr/local/lib/python3.11/dist-packages (from notebook>=4.4.1->widgetsnbextension~=3.6.0->ipywidgets<=7.8.5->insperautograder==0.2.2) (24.0.1)\n",
            "Requirement already satisfied: argon2-cffi in /usr/local/lib/python3.11/dist-packages (from notebook>=4.4.1->widgetsnbextension~=3.6.0->ipywidgets<=7.8.5->insperautograder==0.2.2) (23.1.0)\n",
            "Requirement already satisfied: jupyter-core>=4.6.1 in /usr/local/lib/python3.11/dist-packages (from notebook>=4.4.1->widgetsnbextension~=3.6.0->ipywidgets<=7.8.5->insperautograder==0.2.2) (5.7.2)\n",
            "Requirement already satisfied: nbformat in /usr/local/lib/python3.11/dist-packages (from notebook>=4.4.1->widgetsnbextension~=3.6.0->ipywidgets<=7.8.5->insperautograder==0.2.2) (5.10.4)\n",
            "Requirement already satisfied: nbconvert>=5 in /usr/local/lib/python3.11/dist-packages (from notebook>=4.4.1->widgetsnbextension~=3.6.0->ipywidgets<=7.8.5->insperautograder==0.2.2) (7.16.6)\n",
            "Requirement already satisfied: nest-asyncio>=1.5 in /usr/local/lib/python3.11/dist-packages (from notebook>=4.4.1->widgetsnbextension~=3.6.0->ipywidgets<=7.8.5->insperautograder==0.2.2) (1.6.0)\n",
            "Requirement already satisfied: Send2Trash>=1.8.0 in /usr/local/lib/python3.11/dist-packages (from notebook>=4.4.1->widgetsnbextension~=3.6.0->ipywidgets<=7.8.5->insperautograder==0.2.2) (1.8.3)\n",
            "Requirement already satisfied: terminado>=0.8.3 in /usr/local/lib/python3.11/dist-packages (from notebook>=4.4.1->widgetsnbextension~=3.6.0->ipywidgets<=7.8.5->insperautograder==0.2.2) (0.18.1)\n",
            "Requirement already satisfied: prometheus-client in /usr/local/lib/python3.11/dist-packages (from notebook>=4.4.1->widgetsnbextension~=3.6.0->ipywidgets<=7.8.5->insperautograder==0.2.2) (0.21.1)\n",
            "Requirement already satisfied: nbclassic>=0.4.7 in /usr/local/lib/python3.11/dist-packages (from notebook>=4.4.1->widgetsnbextension~=3.6.0->ipywidgets<=7.8.5->insperautograder==0.2.2) (1.2.0)\n",
            "Requirement already satisfied: python-dateutil>=2.1 in /usr/local/lib/python3.11/dist-packages (from jupyter-client->ipykernel>=4.5.1->ipywidgets<=7.8.5->insperautograder==0.2.2) (2.8.2)\n",
            "Requirement already satisfied: platformdirs>=2.5 in /usr/local/lib/python3.11/dist-packages (from jupyter-core>=4.6.1->notebook>=4.4.1->widgetsnbextension~=3.6.0->ipywidgets<=7.8.5->insperautograder==0.2.2) (4.3.6)\n",
            "Requirement already satisfied: notebook-shim>=0.2.3 in /usr/local/lib/python3.11/dist-packages (from nbclassic>=0.4.7->notebook>=4.4.1->widgetsnbextension~=3.6.0->ipywidgets<=7.8.5->insperautograder==0.2.2) (0.2.4)\n",
            "Requirement already satisfied: beautifulsoup4 in /usr/local/lib/python3.11/dist-packages (from nbconvert>=5->notebook>=4.4.1->widgetsnbextension~=3.6.0->ipywidgets<=7.8.5->insperautograder==0.2.2) (4.13.3)\n",
            "Requirement already satisfied: bleach!=5.0.0 in /usr/local/lib/python3.11/dist-packages (from bleach[css]!=5.0.0->nbconvert>=5->notebook>=4.4.1->widgetsnbextension~=3.6.0->ipywidgets<=7.8.5->insperautograder==0.2.2) (6.2.0)\n",
            "Requirement already satisfied: defusedxml in /usr/local/lib/python3.11/dist-packages (from nbconvert>=5->notebook>=4.4.1->widgetsnbextension~=3.6.0->ipywidgets<=7.8.5->insperautograder==0.2.2) (0.7.1)\n",
            "Requirement already satisfied: jupyterlab-pygments in /usr/local/lib/python3.11/dist-packages (from nbconvert>=5->notebook>=4.4.1->widgetsnbextension~=3.6.0->ipywidgets<=7.8.5->insperautograder==0.2.2) (0.3.0)\n",
            "Requirement already satisfied: markupsafe>=2.0 in /usr/local/lib/python3.11/dist-packages (from nbconvert>=5->notebook>=4.4.1->widgetsnbextension~=3.6.0->ipywidgets<=7.8.5->insperautograder==0.2.2) (3.0.2)\n",
            "Requirement already satisfied: mistune<4,>=2.0.3 in /usr/local/lib/python3.11/dist-packages (from nbconvert>=5->notebook>=4.4.1->widgetsnbextension~=3.6.0->ipywidgets<=7.8.5->insperautograder==0.2.2) (3.1.1)\n",
            "Requirement already satisfied: nbclient>=0.5.0 in /usr/local/lib/python3.11/dist-packages (from nbconvert>=5->notebook>=4.4.1->widgetsnbextension~=3.6.0->ipywidgets<=7.8.5->insperautograder==0.2.2) (0.10.2)\n",
            "Requirement already satisfied: packaging in /usr/local/lib/python3.11/dist-packages (from nbconvert>=5->notebook>=4.4.1->widgetsnbextension~=3.6.0->ipywidgets<=7.8.5->insperautograder==0.2.2) (24.2)\n",
            "Requirement already satisfied: pandocfilters>=1.4.1 in /usr/local/lib/python3.11/dist-packages (from nbconvert>=5->notebook>=4.4.1->widgetsnbextension~=3.6.0->ipywidgets<=7.8.5->insperautograder==0.2.2) (1.5.1)\n",
            "Requirement already satisfied: fastjsonschema>=2.15 in /usr/local/lib/python3.11/dist-packages (from nbformat->notebook>=4.4.1->widgetsnbextension~=3.6.0->ipywidgets<=7.8.5->insperautograder==0.2.2) (2.21.1)\n",
            "Requirement already satisfied: jsonschema>=2.6 in /usr/local/lib/python3.11/dist-packages (from nbformat->notebook>=4.4.1->widgetsnbextension~=3.6.0->ipywidgets<=7.8.5->insperautograder==0.2.2) (4.23.0)\n",
            "Requirement already satisfied: six>=1.5 in /usr/local/lib/python3.11/dist-packages (from python-dateutil>=2.1->jupyter-client->ipykernel>=4.5.1->ipywidgets<=7.8.5->insperautograder==0.2.2) (1.17.0)\n",
            "Requirement already satisfied: argon2-cffi-bindings in /usr/local/lib/python3.11/dist-packages (from argon2-cffi->notebook>=4.4.1->widgetsnbextension~=3.6.0->ipywidgets<=7.8.5->insperautograder==0.2.2) (21.2.0)\n",
            "Requirement already satisfied: webencodings in /usr/local/lib/python3.11/dist-packages (from bleach!=5.0.0->bleach[css]!=5.0.0->nbconvert>=5->notebook>=4.4.1->widgetsnbextension~=3.6.0->ipywidgets<=7.8.5->insperautograder==0.2.2) (0.5.1)\n",
            "Requirement already satisfied: tinycss2<1.5,>=1.1.0 in /usr/local/lib/python3.11/dist-packages (from bleach[css]!=5.0.0->nbconvert>=5->notebook>=4.4.1->widgetsnbextension~=3.6.0->ipywidgets<=7.8.5->insperautograder==0.2.2) (1.4.0)\n",
            "Requirement already satisfied: attrs>=22.2.0 in /usr/local/lib/python3.11/dist-packages (from jsonschema>=2.6->nbformat->notebook>=4.4.1->widgetsnbextension~=3.6.0->ipywidgets<=7.8.5->insperautograder==0.2.2) (25.1.0)\n",
            "Requirement already satisfied: jsonschema-specifications>=2023.03.6 in /usr/local/lib/python3.11/dist-packages (from jsonschema>=2.6->nbformat->notebook>=4.4.1->widgetsnbextension~=3.6.0->ipywidgets<=7.8.5->insperautograder==0.2.2) (2024.10.1)\n",
            "Requirement already satisfied: referencing>=0.28.4 in /usr/local/lib/python3.11/dist-packages (from jsonschema>=2.6->nbformat->notebook>=4.4.1->widgetsnbextension~=3.6.0->ipywidgets<=7.8.5->insperautograder==0.2.2) (0.36.2)\n",
            "Requirement already satisfied: rpds-py>=0.7.1 in /usr/local/lib/python3.11/dist-packages (from jsonschema>=2.6->nbformat->notebook>=4.4.1->widgetsnbextension~=3.6.0->ipywidgets<=7.8.5->insperautograder==0.2.2) (0.22.3)\n",
            "Requirement already satisfied: jupyter-server<3,>=1.8 in /usr/local/lib/python3.11/dist-packages (from notebook-shim>=0.2.3->nbclassic>=0.4.7->notebook>=4.4.1->widgetsnbextension~=3.6.0->ipywidgets<=7.8.5->insperautograder==0.2.2) (1.24.0)\n",
            "Requirement already satisfied: cffi>=1.0.1 in /usr/local/lib/python3.11/dist-packages (from argon2-cffi-bindings->argon2-cffi->notebook>=4.4.1->widgetsnbextension~=3.6.0->ipywidgets<=7.8.5->insperautograder==0.2.2) (1.17.1)\n",
            "Requirement already satisfied: soupsieve>1.2 in /usr/local/lib/python3.11/dist-packages (from beautifulsoup4->nbconvert>=5->notebook>=4.4.1->widgetsnbextension~=3.6.0->ipywidgets<=7.8.5->insperautograder==0.2.2) (2.6)\n",
            "Requirement already satisfied: typing-extensions>=4.0.0 in /usr/local/lib/python3.11/dist-packages (from beautifulsoup4->nbconvert>=5->notebook>=4.4.1->widgetsnbextension~=3.6.0->ipywidgets<=7.8.5->insperautograder==0.2.2) (4.12.2)\n",
            "Requirement already satisfied: pycparser in /usr/local/lib/python3.11/dist-packages (from cffi>=1.0.1->argon2-cffi-bindings->argon2-cffi->notebook>=4.4.1->widgetsnbextension~=3.6.0->ipywidgets<=7.8.5->insperautograder==0.2.2) (2.22)\n",
            "Requirement already satisfied: anyio<4,>=3.1.0 in /usr/local/lib/python3.11/dist-packages (from jupyter-server<3,>=1.8->notebook-shim>=0.2.3->nbclassic>=0.4.7->notebook>=4.4.1->widgetsnbextension~=3.6.0->ipywidgets<=7.8.5->insperautograder==0.2.2) (3.7.1)\n",
            "Requirement already satisfied: websocket-client in /usr/local/lib/python3.11/dist-packages (from jupyter-server<3,>=1.8->notebook-shim>=0.2.3->nbclassic>=0.4.7->notebook>=4.4.1->widgetsnbextension~=3.6.0->ipywidgets<=7.8.5->insperautograder==0.2.2) (1.8.0)\n",
            "Requirement already satisfied: sniffio>=1.1 in /usr/local/lib/python3.11/dist-packages (from anyio<4,>=3.1.0->jupyter-server<3,>=1.8->notebook-shim>=0.2.3->nbclassic>=0.4.7->notebook>=4.4.1->widgetsnbextension~=3.6.0->ipywidgets<=7.8.5->insperautograder==0.2.2) (1.3.1)\n",
            "Downloading python_dotenv-1.0.1-py3-none-any.whl (19 kB)\n",
            "Downloading jedi-0.19.2-py2.py3-none-any.whl (1.6 MB)\n",
            "\u001b[2K   \u001b[90m━━━━━━━━━━━━━━━━━━━━━━━━━━━━━━━━━━━━━━━━\u001b[0m \u001b[32m1.6/1.6 MB\u001b[0m \u001b[31m20.6 MB/s\u001b[0m eta \u001b[36m0:00:00\u001b[0m\n",
            "\u001b[?25hBuilding wheels for collected packages: insperautograder\n",
            "  Building wheel for insperautograder (setup.py) ... \u001b[?25l\u001b[?25hdone\n",
            "  Created wheel for insperautograder: filename=insperautograder-0.2.2-py3-none-any.whl size=4456 sha256=d153346e4e0817654c6407933f115bebcca4b5605374b9f066cace9aabbec1b9\n",
            "  Stored in directory: /tmp/pip-ephem-wheel-cache-q32_vfgw/wheels/bb/01/cc/7f397587bfedd6c633e2627496c45d5693aa959ee8237ead1f\n",
            "Successfully built insperautograder\n",
            "Installing collected packages: python-dotenv, jedi, insperautograder\n",
            "Successfully installed insperautograder-0.2.2 jedi-0.19.2 python-dotenv-1.0.1\n"
          ]
        }
      ],
      "source": [
        "!pip uninstall -y insperautograder\n",
        "!pip install git+https://github.com/macielcalebe/insperautograding.git"
      ]
    },
    {
      "cell_type": "markdown",
      "metadata": {
        "id": "Cbygkv4pJ08J"
      },
      "source": [
        "## Importando as bibliotecas"
      ]
    },
    {
      "cell_type": "code",
      "execution_count": null,
      "metadata": {
        "id": "MkliNQQaJ08J"
      },
      "outputs": [],
      "source": [
        "import os\n",
        "import insperautograder.jupyter as ia"
      ]
    },
    {
      "cell_type": "markdown",
      "metadata": {
        "id": "kd6dtWjnJ08K"
      },
      "source": [
        "## Configurar ambiente\n",
        "\n",
        "Execute a célula para configurar nosso ambiente de execução:"
      ]
    },
    {
      "cell_type": "code",
      "execution_count": null,
      "metadata": {
        "id": "C7MppRbnJ08K"
      },
      "outputs": [],
      "source": [
        "os.environ[\"IAG_OFFERING\"] = \"25-1\"\n",
        "os.environ[\"IAG_SUBJECT\"] = \"analisetxt\"\n",
        "os.environ[\"IAG_SERVER_URL\"] = \"https://bigdata.insper-comp.com.br/iag\""
      ]
    },
    {
      "cell_type": "markdown",
      "metadata": {
        "id": "dWwlcLZWJ08K"
      },
      "source": [
        "## Me diga quem você é\n",
        "\n",
        "Utilize o **Token** enviado para seu e-mail para que você seja identificado pelo servidor de testes.\n",
        "\n",
        "Substitua `iagtok_xxx...` pelo token enviado para seu e-mail."
      ]
    },
    {
      "cell_type": "code",
      "execution_count": null,
      "metadata": {
        "id": "hiPuQheiJ08K"
      },
      "outputs": [],
      "source": [
        "os.environ[\"IAG_TOKEN\"] = \"iagtok_6d696baf4b1f66712d83edfa1423148d8b8f50d4d74e8460\""
      ]
    },
    {
      "cell_type": "markdown",
      "metadata": {
        "id": "cPizC7jKJ08L"
      },
      "source": [
        "## Conferir atividades e notas\n",
        "\n",
        "Conferindo quais atividades estão disponíveis!"
      ]
    },
    {
      "cell_type": "code",
      "execution_count": null,
      "metadata": {
        "colab": {
          "base_uri": "https://localhost:8080/",
          "height": 81
        },
        "id": "Y_LqiKGyJ08L",
        "outputId": "f4067f8a-58a3-4a93-f2e1-792ad015d71f"
      },
      "outputs": [
        {
          "output_type": "display_data",
          "data": {
            "text/plain": [
              "<IPython.core.display.Markdown object>"
            ],
            "text/markdown": "|    | Atividade   | De                  | Até                 |\n|---:|:------------|:--------------------|:--------------------|\n|  0 | pdf         | 2025-02-13 00:00:00 | 2025-03-11 23:59:59 |"
          },
          "metadata": {}
        }
      ],
      "source": [
        "ia.tasks()"
      ]
    },
    {
      "cell_type": "markdown",
      "metadata": {
        "id": "sbMRk86kJ08L"
      },
      "source": [
        "Conferindo a nota por exercício na atividade:"
      ]
    },
    {
      "cell_type": "code",
      "execution_count": null,
      "metadata": {
        "colab": {
          "base_uri": "https://localhost:8080/",
          "height": 331
        },
        "id": "BXh6h5PrJ08M",
        "outputId": "f1339f70-7e75-409d-975e-9d3589ad74a5"
      },
      "outputs": [
        {
          "output_type": "display_data",
          "data": {
            "text/plain": [
              "<IPython.core.display.Markdown object>"
            ],
            "text/markdown": "|    | Atividade   | Exercício   |   Peso |   Nota |\n|---:|:------------|:------------|-------:|-------:|\n|  0 | pdf         | ex00        |      1 |      0 |\n|  1 | pdf         | ex01        |     20 |      0 |\n|  2 | pdf         | ex02        |     20 |      0 |\n|  3 | pdf         | ex03        |     20 |      0 |\n|  4 | pdf         | ex04        |     25 |      0 |\n|  5 | pdf         | ex05        |     20 |      0 |\n|  6 | pdf         | ex06        |     25 |      0 |\n|  7 | pdf         | ex07        |     25 |      0 |\n|  8 | pdf         | ex08        |     30 |      0 |"
          },
          "metadata": {}
        }
      ],
      "source": [
        "ia.grades(task='pdf')"
      ]
    },
    {
      "cell_type": "markdown",
      "metadata": {
        "id": "RGzgwbCFJ08M"
      },
      "source": [
        "Conferindo a nota geral nas atividades"
      ]
    },
    {
      "cell_type": "code",
      "execution_count": null,
      "metadata": {
        "colab": {
          "base_uri": "https://localhost:8080/",
          "height": 81
        },
        "id": "sw8T8WmzJ08M",
        "outputId": "2a31a53e-05ed-4b59-be3a-90a1586cd2e5"
      },
      "outputs": [
        {
          "output_type": "display_data",
          "data": {
            "text/plain": [
              "<IPython.core.display.Markdown object>"
            ],
            "text/markdown": "|    | Tarefa   |   Nota |\n|---:|:---------|-------:|\n|  0 | pdf      |      0 |"
          },
          "metadata": {}
        }
      ],
      "source": [
        "ia.grades(by='TASK')"
      ]
    },
    {
      "cell_type": "markdown",
      "metadata": {
        "id": "sbGAMRdaJ08M"
      },
      "source": [
        "## Exercício de Aquecimento\n",
        "\n",
        "Vamos fazer um Exercício para conferir como funciona o **insper autograding**.\n",
        "\n",
        "### Exercício Zero - Aquecimento\n",
        "\n",
        "Crie uma função em python chamada `minha_soma`. A função recebe dois números inteiros e devolve a soma deles.\n",
        "\n",
        "Edite a função na célula abaixo:"
      ]
    },
    {
      "cell_type": "code",
      "execution_count": null,
      "metadata": {
        "id": "aNBmincAJ08M"
      },
      "outputs": [],
      "source": [
        "def minha_soma(num1, num2):\n",
        "    return num1 + num2"
      ]
    },
    {
      "cell_type": "markdown",
      "metadata": {
        "id": "l6gCBFaXJ08N"
      },
      "source": [
        "Vamos conferir se a função executa:"
      ]
    },
    {
      "cell_type": "code",
      "execution_count": null,
      "metadata": {
        "colab": {
          "base_uri": "https://localhost:8080/"
        },
        "id": "oSRxx1gzJ08N",
        "outputId": "28c85d1a-eaa6-4e2b-ff30-644b70095e09"
      },
      "outputs": [
        {
          "output_type": "execute_result",
          "data": {
            "text/plain": [
              "8"
            ]
          },
          "metadata": {},
          "execution_count": 9
        }
      ],
      "source": [
        "minha_soma(5, 3)"
      ]
    },
    {
      "cell_type": "markdown",
      "metadata": {
        "id": "5Kop0xOjJ08N"
      },
      "source": [
        "Agora, vamos testar sua função localmente antes de enviar ao servidor de correção automática:"
      ]
    },
    {
      "cell_type": "code",
      "execution_count": null,
      "metadata": {
        "id": "92vvmSuSJ08O"
      },
      "outputs": [],
      "source": [
        "assert minha_soma(5,3) == 8, \"A soma de 5 e 3 deveria ser 8!\"\n",
        "assert minha_soma(0,3) == 3, \"A soma de 0 e 3 deveria ser 3!\"\n",
        "assert minha_soma(-3,3) == 0, \"A soma de -3 e 3 deveria ser 0!\""
      ]
    },
    {
      "cell_type": "markdown",
      "metadata": {
        "id": "bvXJ_NT8J08O"
      },
      "source": [
        "Como nossa função parece estar correta, clique no botão abaixo para enviá-la ao servidor de correção automática para registrar sua tentativa!\n",
        "\n",
        "Você pode reenviar quantas vezes precisar!"
      ]
    },
    {
      "cell_type": "code",
      "execution_count": null,
      "metadata": {
        "colab": {
          "base_uri": "https://localhost:8080/",
          "height": 78,
          "referenced_widgets": [
            "a3b6c5a87a4842d2addb0ef1fff91915",
            "561550aa3dc14459873fb87b0af95998",
            "4952794510ab460abc36faf01280e3b6",
            "bcfc8e9674b7402abdd51c0a8944c837",
            "7e6a52843cfb423cbc788ffd72b244e4",
            "15b4c68a289742ceb4614d899f193a0d",
            "3d866da318614057b1daa7886b84cb2f"
          ]
        },
        "id": "xeg08ZFaJ08O",
        "outputId": "01ef2ade-6626-4253-ba56-69c00590862d"
      },
      "outputs": [
        {
          "output_type": "display_data",
          "data": {
            "text/plain": [
              "interactive(children=(Button(description='Enviar ex00', style=ButtonStyle()), Output()), _dom_classes=('widget…"
            ],
            "application/vnd.jupyter.widget-view+json": {
              "version_major": 2,
              "version_minor": 0,
              "model_id": "a3b6c5a87a4842d2addb0ef1fff91915"
            }
          },
          "metadata": {}
        }
      ],
      "source": [
        "ia.sender(answer=\"minha_soma\", task=\"pdf\", question=\"ex00\", answer_type=\"pycode\")"
      ]
    },
    {
      "cell_type": "markdown",
      "metadata": {
        "id": "5HU-Ukg3J08P"
      },
      "source": [
        "Vamos conferir se a sua nota foi atualizada!\n",
        "\n",
        "Perceba que a nota é ponderada e que o `ex00` não vale quase nada!\n",
        "\n",
        "Nota por exercício:"
      ]
    },
    {
      "cell_type": "code",
      "execution_count": null,
      "metadata": {
        "colab": {
          "base_uri": "https://localhost:8080/",
          "height": 331
        },
        "id": "QK1hn6DwJ08P",
        "outputId": "63a3c47a-b975-4d08-cf18-39e6fb124b2b"
      },
      "outputs": [
        {
          "output_type": "display_data",
          "data": {
            "text/plain": [
              "<IPython.core.display.Markdown object>"
            ],
            "text/markdown": "|    | Atividade   | Exercício   |   Peso |   Nota |\n|---:|:------------|:------------|-------:|-------:|\n|  0 | pdf         | ex00        |      1 |     10 |\n|  1 | pdf         | ex01        |     20 |      0 |\n|  2 | pdf         | ex02        |     20 |      0 |\n|  3 | pdf         | ex03        |     20 |      0 |\n|  4 | pdf         | ex04        |     25 |      0 |\n|  5 | pdf         | ex05        |     20 |      0 |\n|  6 | pdf         | ex06        |     25 |      0 |\n|  7 | pdf         | ex07        |     25 |      0 |\n|  8 | pdf         | ex08        |     30 |      0 |"
          },
          "metadata": {}
        }
      ],
      "source": [
        "ia.grades(task='pdf')"
      ]
    },
    {
      "cell_type": "markdown",
      "metadata": {
        "id": "ILXrW9uGJ08P"
      },
      "source": [
        "Nota geral na atividade:"
      ]
    },
    {
      "cell_type": "code",
      "execution_count": null,
      "metadata": {
        "colab": {
          "base_uri": "https://localhost:8080/",
          "height": 81
        },
        "id": "qKCaFTHPJ08P",
        "outputId": "b8c92523-09a2-4a33-acf6-e3207f5a306d"
      },
      "outputs": [
        {
          "output_type": "display_data",
          "data": {
            "text/plain": [
              "<IPython.core.display.Markdown object>"
            ],
            "text/markdown": "|    | Tarefa   |   Nota |\n|---:|:---------|-------:|\n|  0 | pdf      |   0.05 |"
          },
          "metadata": {}
        }
      ],
      "source": [
        "ia.grades(by='TASK', task='pdf')"
      ]
    },
    {
      "cell_type": "markdown",
      "metadata": {
        "id": "b8eFMwcPJ08Q"
      },
      "source": [
        "Modifique a célula que contém a sua função para retornar um valor errado (ex: sempre retorna `8`, ou sempre soma `+1`) e faça o reenvio. Perceba que o corretor retorna o erro!\n",
        "\n",
        "Agora que aprendeu a utilizar a correção automática, siga para os exercícios!"
      ]
    },
    {
      "cell_type": "markdown",
      "metadata": {
        "id": "87WBbT5UJ08R"
      },
      "source": [
        "## Exercícios\n",
        "\n",
        "Vamos praticar os conteúdos da aula de PDF!\n",
        "\n",
        "Responda os exercício e, quando estiver bastante confiante que a resposta está correta, faça o envio para o servidor clicando no botão indicado para isto. Faça correções em sua solução caso o feedback retornado informe a existência de erros.\n",
        "\n",
        "Confira, nas chamadas acima, se a sua nota é atualizada."
      ]
    },
    {
      "cell_type": "markdown",
      "metadata": {
        "id": "_9AM6JhjJ08R"
      },
      "source": [
        "### Download de arquivos úteis\n",
        "\n",
        "Vamos fazer o *download* de alguns arquivos úteis nos exercícios. O código foi preparado para funcionar no **Google Colab**. Faça o *download* direto pela URL dos arquivos caso não queira utilizar Colab!"
      ]
    },
    {
      "cell_type": "code",
      "execution_count": null,
      "metadata": {
        "colab": {
          "base_uri": "https://localhost:8080/"
        },
        "id": "2EZjyIxnJ08R",
        "outputId": "8e3e3611-d447-4c18-9941-1720a712ecc2"
      },
      "outputs": [
        {
          "output_type": "stream",
          "name": "stdout",
          "text": [
            "--2025-02-13 22:06:46--  https://atd-insper.s3.us-east-2.amazonaws.com/aula02/atv/mochileiro.pdf\n",
            "Resolving atd-insper.s3.us-east-2.amazonaws.com (atd-insper.s3.us-east-2.amazonaws.com)... 3.5.132.184, 3.5.128.94, 3.5.128.144, ...\n",
            "Connecting to atd-insper.s3.us-east-2.amazonaws.com (atd-insper.s3.us-east-2.amazonaws.com)|3.5.132.184|:443... connected.\n",
            "HTTP request sent, awaiting response... 200 OK\n",
            "Length: 241313 (236K) [application/pdf]\n",
            "Saving to: ‘mochileiro.pdf’\n",
            "\n",
            "mochileiro.pdf      100%[===================>] 235.66K  --.-KB/s    in 0.1s    \n",
            "\n",
            "2025-02-13 22:06:46 (2.24 MB/s) - ‘mochileiro.pdf’ saved [241313/241313]\n",
            "\n",
            "--2025-02-13 22:06:46--  https://atd-insper.s3.us-east-2.amazonaws.com/aula02/atv/p_value_misconceptions.pdf\n",
            "Resolving atd-insper.s3.us-east-2.amazonaws.com (atd-insper.s3.us-east-2.amazonaws.com)... 3.5.132.184, 3.5.128.94, 3.5.128.144, ...\n",
            "Connecting to atd-insper.s3.us-east-2.amazonaws.com (atd-insper.s3.us-east-2.amazonaws.com)|3.5.132.184|:443... connected.\n",
            "HTTP request sent, awaiting response... 200 OK\n",
            "Length: 203849 (199K) [application/pdf]\n",
            "Saving to: ‘p_value_misconceptions.pdf’\n",
            "\n",
            "p_value_misconcepti 100%[===================>] 199.07K  --.-KB/s    in 0.1s    \n",
            "\n",
            "2025-02-13 22:06:47 (1.45 MB/s) - ‘p_value_misconceptions.pdf’ saved [203849/203849]\n",
            "\n",
            "--2025-02-13 22:06:47--  https://atd-insper.s3.us-east-2.amazonaws.com/aula02/atv/comunicado_condominio.pdf\n",
            "Resolving atd-insper.s3.us-east-2.amazonaws.com (atd-insper.s3.us-east-2.amazonaws.com)... 3.5.132.184, 3.5.128.94, 3.5.128.144, ...\n",
            "Connecting to atd-insper.s3.us-east-2.amazonaws.com (atd-insper.s3.us-east-2.amazonaws.com)|3.5.132.184|:443... connected.\n",
            "HTTP request sent, awaiting response... 200 OK\n",
            "Length: 27882 (27K) [application/pdf]\n",
            "Saving to: ‘comunicado_condominio.pdf’\n",
            "\n",
            "comunicado_condomin 100%[===================>]  27.23K  --.-KB/s    in 0.03s   \n",
            "\n",
            "2025-02-13 22:06:47 (829 KB/s) - ‘comunicado_condominio.pdf’ saved [27882/27882]\n",
            "\n",
            "--2025-02-13 22:06:47--  https://atd-insper.s3.us-east-2.amazonaws.com/aula02/atv/itau-3q-2022.pdf\n",
            "Resolving atd-insper.s3.us-east-2.amazonaws.com (atd-insper.s3.us-east-2.amazonaws.com)... 3.5.132.184, 3.5.128.94, 3.5.128.144, ...\n",
            "Connecting to atd-insper.s3.us-east-2.amazonaws.com (atd-insper.s3.us-east-2.amazonaws.com)|3.5.132.184|:443... connected.\n",
            "HTTP request sent, awaiting response... 200 OK\n",
            "Length: 12686165 (12M) [application/pdf]\n",
            "Saving to: ‘itau-3q-2022.pdf’\n",
            "\n",
            "itau-3q-2022.pdf    100%[===================>]  12.10M  34.8MB/s    in 0.3s    \n",
            "\n",
            "2025-02-13 22:06:48 (34.8 MB/s) - ‘itau-3q-2022.pdf’ saved [12686165/12686165]\n",
            "\n",
            "--2025-02-13 22:06:48--  https://atd-insper.s3.us-east-2.amazonaws.com/aula02/atv/profissoes.pdf\n",
            "Resolving atd-insper.s3.us-east-2.amazonaws.com (atd-insper.s3.us-east-2.amazonaws.com)... 3.5.132.184, 3.5.128.94, 3.5.128.144, ...\n",
            "Connecting to atd-insper.s3.us-east-2.amazonaws.com (atd-insper.s3.us-east-2.amazonaws.com)|3.5.132.184|:443... connected.\n",
            "HTTP request sent, awaiting response... 200 OK\n",
            "Length: 47773 (47K) [application/pdf]\n",
            "Saving to: ‘profissoes.pdf’\n",
            "\n",
            "profissoes.pdf      100%[===================>]  46.65K  --.-KB/s    in 0.03s   \n",
            "\n",
            "2025-02-13 22:06:48 (1.33 MB/s) - ‘profissoes.pdf’ saved [47773/47773]\n",
            "\n",
            "--2025-02-13 22:06:48--  https://atd-insper.s3.us-east-2.amazonaws.com/aula02/atv/casas_bahia_3t23.pdf\n",
            "Resolving atd-insper.s3.us-east-2.amazonaws.com (atd-insper.s3.us-east-2.amazonaws.com)... 3.5.132.184, 3.5.128.94, 3.5.128.144, ...\n",
            "Connecting to atd-insper.s3.us-east-2.amazonaws.com (atd-insper.s3.us-east-2.amazonaws.com)|3.5.132.184|:443... connected.\n",
            "HTTP request sent, awaiting response... 200 OK\n",
            "Length: 815941 (797K) [application/pdf]\n",
            "Saving to: ‘casas_bahia_3t23.pdf’\n",
            "\n",
            "casas_bahia_3t23.pd 100%[===================>] 796.82K  4.69MB/s    in 0.2s    \n",
            "\n",
            "2025-02-13 22:06:48 (4.69 MB/s) - ‘casas_bahia_3t23.pdf’ saved [815941/815941]\n",
            "\n",
            "--2025-02-13 22:06:48--  https://atd-insper.s3.us-east-2.amazonaws.com/aula02/relatorio.pdf\n",
            "Resolving atd-insper.s3.us-east-2.amazonaws.com (atd-insper.s3.us-east-2.amazonaws.com)... 3.5.132.184, 3.5.128.94, 3.5.128.144, ...\n",
            "Connecting to atd-insper.s3.us-east-2.amazonaws.com (atd-insper.s3.us-east-2.amazonaws.com)|3.5.132.184|:443... connected.\n",
            "HTTP request sent, awaiting response... 200 OK\n",
            "Length: 84535 (83K) [application/pdf]\n",
            "Saving to: ‘relatorio.pdf’\n",
            "\n",
            "relatorio.pdf       100%[===================>]  82.55K  --.-KB/s    in 0.07s   \n",
            "\n",
            "2025-02-13 22:06:49 (1.18 MB/s) - ‘relatorio.pdf’ saved [84535/84535]\n",
            "\n"
          ]
        }
      ],
      "source": [
        "!wget https://atd-insper.s3.us-east-2.amazonaws.com/aula02/atv/mochileiro.pdf\n",
        "!wget https://atd-insper.s3.us-east-2.amazonaws.com/aula02/atv/p_value_misconceptions.pdf\n",
        "!wget https://atd-insper.s3.us-east-2.amazonaws.com/aula02/atv/comunicado_condominio.pdf\n",
        "!wget https://atd-insper.s3.us-east-2.amazonaws.com/aula02/atv/itau-3q-2022.pdf\n",
        "!wget https://atd-insper.s3.us-east-2.amazonaws.com/aula02/atv/profissoes.pdf\n",
        "!wget https://atd-insper.s3.us-east-2.amazonaws.com/aula02/atv/casas_bahia_3t23.pdf\n",
        "!wget https://atd-insper.s3.us-east-2.amazonaws.com/aula02/relatorio.pdf"
      ]
    },
    {
      "cell_type": "markdown",
      "metadata": {
        "id": "cv7S8-XyJ08S"
      },
      "source": [
        "Instalações necessárias:"
      ]
    },
    {
      "cell_type": "code",
      "execution_count": null,
      "metadata": {
        "colab": {
          "base_uri": "https://localhost:8080/",
          "height": 1000
        },
        "id": "TpSP09TWJ08T",
        "outputId": "fdbf295a-dd9e-4c3b-8405-5c40b2785a56"
      },
      "outputs": [
        {
          "output_type": "stream",
          "name": "stdout",
          "text": [
            "Collecting ghostscript\n",
            "  Downloading ghostscript-0.7-py2.py3-none-any.whl.metadata (4.4 kB)\n",
            "Requirement already satisfied: setuptools>=38.6.0 in /usr/local/lib/python3.11/dist-packages (from ghostscript) (75.1.0)\n",
            "Downloading ghostscript-0.7-py2.py3-none-any.whl (25 kB)\n",
            "Installing collected packages: ghostscript\n",
            "Successfully installed ghostscript-0.7\n",
            "Collecting camelot-py[cv]\n",
            "  Downloading camelot_py-1.0.0-py3-none-any.whl.metadata (9.4 kB)\n",
            "\u001b[33mWARNING: camelot-py 1.0.0 does not provide the extra 'cv'\u001b[0m\u001b[33m\n",
            "\u001b[0mRequirement already satisfied: click>=8.0.1 in /usr/local/lib/python3.11/dist-packages (from camelot-py[cv]) (8.1.8)\n",
            "Requirement already satisfied: chardet>=5.1.0 in /usr/local/lib/python3.11/dist-packages (from camelot-py[cv]) (5.2.0)\n",
            "Requirement already satisfied: numpy>=1.24.4 in /usr/local/lib/python3.11/dist-packages (from camelot-py[cv]) (1.26.4)\n",
            "Requirement already satisfied: openpyxl>=3.1.0 in /usr/local/lib/python3.11/dist-packages (from camelot-py[cv]) (3.1.5)\n",
            "Collecting pdfminer-six>=20240706 (from camelot-py[cv])\n",
            "  Downloading pdfminer.six-20240706-py3-none-any.whl.metadata (4.1 kB)\n",
            "Collecting pypdf<4.0,>=3.17 (from camelot-py[cv])\n",
            "  Downloading pypdf-3.17.4-py3-none-any.whl.metadata (7.5 kB)\n",
            "Requirement already satisfied: pandas>=2.2.2 in /usr/local/lib/python3.11/dist-packages (from camelot-py[cv]) (2.2.2)\n",
            "Requirement already satisfied: tabulate>=0.9.0 in /usr/local/lib/python3.11/dist-packages (from camelot-py[cv]) (0.9.0)\n",
            "Requirement already satisfied: opencv-python-headless>=4.7.0.68 in /usr/local/lib/python3.11/dist-packages (from camelot-py[cv]) (4.11.0.86)\n",
            "Collecting pypdfium2>=4 (from camelot-py[cv])\n",
            "  Downloading pypdfium2-4.30.1-py3-none-manylinux_2_17_x86_64.manylinux2014_x86_64.whl.metadata (48 kB)\n",
            "\u001b[2K     \u001b[90m━━━━━━━━━━━━━━━━━━━━━━━━━━━━━━━━━━━━━━━━\u001b[0m \u001b[32m48.2/48.2 kB\u001b[0m \u001b[31m2.1 MB/s\u001b[0m eta \u001b[36m0:00:00\u001b[0m\n",
            "\u001b[?25hRequirement already satisfied: et-xmlfile in /usr/local/lib/python3.11/dist-packages (from openpyxl>=3.1.0->camelot-py[cv]) (2.0.0)\n",
            "Requirement already satisfied: python-dateutil>=2.8.2 in /usr/local/lib/python3.11/dist-packages (from pandas>=2.2.2->camelot-py[cv]) (2.8.2)\n",
            "Requirement already satisfied: pytz>=2020.1 in /usr/local/lib/python3.11/dist-packages (from pandas>=2.2.2->camelot-py[cv]) (2025.1)\n",
            "Requirement already satisfied: tzdata>=2022.7 in /usr/local/lib/python3.11/dist-packages (from pandas>=2.2.2->camelot-py[cv]) (2025.1)\n",
            "Requirement already satisfied: charset-normalizer>=2.0.0 in /usr/local/lib/python3.11/dist-packages (from pdfminer-six>=20240706->camelot-py[cv]) (3.4.1)\n",
            "Requirement already satisfied: cryptography>=36.0.0 in /usr/local/lib/python3.11/dist-packages (from pdfminer-six>=20240706->camelot-py[cv]) (43.0.3)\n",
            "Requirement already satisfied: cffi>=1.12 in /usr/local/lib/python3.11/dist-packages (from cryptography>=36.0.0->pdfminer-six>=20240706->camelot-py[cv]) (1.17.1)\n",
            "Requirement already satisfied: six>=1.5 in /usr/local/lib/python3.11/dist-packages (from python-dateutil>=2.8.2->pandas>=2.2.2->camelot-py[cv]) (1.17.0)\n",
            "Requirement already satisfied: pycparser in /usr/local/lib/python3.11/dist-packages (from cffi>=1.12->cryptography>=36.0.0->pdfminer-six>=20240706->camelot-py[cv]) (2.22)\n",
            "Downloading pdfminer.six-20240706-py3-none-any.whl (5.6 MB)\n",
            "\u001b[2K   \u001b[90m━━━━━━━━━━━━━━━━━━━━━━━━━━━━━━━━━━━━━━━━\u001b[0m \u001b[32m5.6/5.6 MB\u001b[0m \u001b[31m47.6 MB/s\u001b[0m eta \u001b[36m0:00:00\u001b[0m\n",
            "\u001b[?25hDownloading pypdf-3.17.4-py3-none-any.whl (278 kB)\n",
            "\u001b[2K   \u001b[90m━━━━━━━━━━━━━━━━━━━━━━━━━━━━━━━━━━━━━━━━\u001b[0m \u001b[32m278.2/278.2 kB\u001b[0m \u001b[31m17.0 MB/s\u001b[0m eta \u001b[36m0:00:00\u001b[0m\n",
            "\u001b[?25hDownloading pypdfium2-4.30.1-py3-none-manylinux_2_17_x86_64.manylinux2014_x86_64.whl (2.9 MB)\n",
            "\u001b[2K   \u001b[90m━━━━━━━━━━━━━━━━━━━━━━━━━━━━━━━━━━━━━━━━\u001b[0m \u001b[32m2.9/2.9 MB\u001b[0m \u001b[31m64.0 MB/s\u001b[0m eta \u001b[36m0:00:00\u001b[0m\n",
            "\u001b[?25hDownloading camelot_py-1.0.0-py3-none-any.whl (66 kB)\n",
            "\u001b[2K   \u001b[90m━━━━━━━━━━━━━━━━━━━━━━━━━━━━━━━━━━━━━━━━\u001b[0m \u001b[32m66.6/66.6 kB\u001b[0m \u001b[31m3.8 MB/s\u001b[0m eta \u001b[36m0:00:00\u001b[0m\n",
            "\u001b[?25hInstalling collected packages: pypdfium2, pypdf, pdfminer-six, camelot-py\n",
            "Successfully installed camelot-py-1.0.0 pdfminer-six-20240706 pypdf-3.17.4 pypdfium2-4.30.1\n",
            "Collecting excalibur-py\n",
            "  Downloading excalibur_py-1.0.1-py3-none-any.whl.metadata (7.9 kB)\n",
            "Requirement already satisfied: camelot-py>=1.0.0 in /usr/local/lib/python3.11/dist-packages (from excalibur-py) (1.0.0)\n",
            "Collecting celery>=4.1.1 (from excalibur-py)\n",
            "  Downloading celery-5.4.0-py3-none-any.whl.metadata (21 kB)\n",
            "Requirement already satisfied: click>=8.0.1 in /usr/local/lib/python3.11/dist-packages (from excalibur-py) (8.1.8)\n",
            "Collecting configparser>=7.1.0 (from excalibur-py)\n",
            "  Downloading configparser-7.1.0-py3-none-any.whl.metadata (5.4 kB)\n",
            "Requirement already satisfied: Flask>=3.1.0 in /usr/local/lib/python3.11/dist-packages (from excalibur-py) (3.1.0)\n",
            "Requirement already satisfied: SQLAlchemy>=1.2.12 in /usr/local/lib/python3.11/dist-packages (from excalibur-py) (2.0.37)\n",
            "Requirement already satisfied: Werkzeug>=3.1.3 in /usr/local/lib/python3.11/dist-packages (from excalibur-py) (3.1.3)\n",
            "Requirement already satisfied: pypdfium2>=4 in /usr/local/lib/python3.11/dist-packages (from excalibur-py) (4.30.1)\n",
            "Requirement already satisfied: Pillow>=11.1.0 in /usr/local/lib/python3.11/dist-packages (from excalibur-py) (11.1.0)\n",
            "Requirement already satisfied: chardet>=5.1.0 in /usr/local/lib/python3.11/dist-packages (from camelot-py>=1.0.0->excalibur-py) (5.2.0)\n",
            "Requirement already satisfied: numpy>=1.24.4 in /usr/local/lib/python3.11/dist-packages (from camelot-py>=1.0.0->excalibur-py) (1.26.4)\n",
            "Requirement already satisfied: openpyxl>=3.1.0 in /usr/local/lib/python3.11/dist-packages (from camelot-py>=1.0.0->excalibur-py) (3.1.5)\n",
            "Requirement already satisfied: pdfminer-six>=20240706 in /usr/local/lib/python3.11/dist-packages (from camelot-py>=1.0.0->excalibur-py) (20240706)\n",
            "Requirement already satisfied: pypdf<4.0,>=3.17 in /usr/local/lib/python3.11/dist-packages (from camelot-py>=1.0.0->excalibur-py) (3.17.4)\n",
            "Requirement already satisfied: pandas>=2.2.2 in /usr/local/lib/python3.11/dist-packages (from camelot-py>=1.0.0->excalibur-py) (2.2.2)\n",
            "Requirement already satisfied: tabulate>=0.9.0 in /usr/local/lib/python3.11/dist-packages (from camelot-py>=1.0.0->excalibur-py) (0.9.0)\n",
            "Requirement already satisfied: opencv-python-headless>=4.7.0.68 in /usr/local/lib/python3.11/dist-packages (from camelot-py>=1.0.0->excalibur-py) (4.11.0.86)\n",
            "Collecting billiard<5.0,>=4.2.0 (from celery>=4.1.1->excalibur-py)\n",
            "  Downloading billiard-4.2.1-py3-none-any.whl.metadata (4.4 kB)\n",
            "Collecting kombu<6.0,>=5.3.4 (from celery>=4.1.1->excalibur-py)\n",
            "  Downloading kombu-5.4.2-py3-none-any.whl.metadata (3.2 kB)\n",
            "Collecting vine<6.0,>=5.1.0 (from celery>=4.1.1->excalibur-py)\n",
            "  Downloading vine-5.1.0-py3-none-any.whl.metadata (2.7 kB)\n",
            "Collecting click-didyoumean>=0.3.0 (from celery>=4.1.1->excalibur-py)\n",
            "  Downloading click_didyoumean-0.3.1-py3-none-any.whl.metadata (3.9 kB)\n",
            "Collecting click-repl>=0.2.0 (from celery>=4.1.1->excalibur-py)\n",
            "  Downloading click_repl-0.3.0-py3-none-any.whl.metadata (3.6 kB)\n",
            "Collecting click-plugins>=1.1.1 (from celery>=4.1.1->excalibur-py)\n",
            "  Downloading click_plugins-1.1.1-py2.py3-none-any.whl.metadata (6.4 kB)\n",
            "Requirement already satisfied: tzdata>=2022.7 in /usr/local/lib/python3.11/dist-packages (from celery>=4.1.1->excalibur-py) (2025.1)\n",
            "Requirement already satisfied: python-dateutil>=2.8.2 in /usr/local/lib/python3.11/dist-packages (from celery>=4.1.1->excalibur-py) (2.8.2)\n",
            "Requirement already satisfied: Jinja2>=3.1.2 in /usr/local/lib/python3.11/dist-packages (from Flask>=3.1.0->excalibur-py) (3.1.5)\n",
            "Requirement already satisfied: itsdangerous>=2.2 in /usr/local/lib/python3.11/dist-packages (from Flask>=3.1.0->excalibur-py) (2.2.0)\n",
            "Requirement already satisfied: blinker>=1.9 in /usr/local/lib/python3.11/dist-packages (from Flask>=3.1.0->excalibur-py) (1.9.0)\n",
            "Requirement already satisfied: greenlet!=0.4.17 in /usr/local/lib/python3.11/dist-packages (from SQLAlchemy>=1.2.12->excalibur-py) (3.1.1)\n",
            "Requirement already satisfied: typing-extensions>=4.6.0 in /usr/local/lib/python3.11/dist-packages (from SQLAlchemy>=1.2.12->excalibur-py) (4.12.2)\n",
            "Requirement already satisfied: MarkupSafe>=2.1.1 in /usr/local/lib/python3.11/dist-packages (from Werkzeug>=3.1.3->excalibur-py) (3.0.2)\n",
            "Requirement already satisfied: prompt-toolkit>=3.0.36 in /usr/local/lib/python3.11/dist-packages (from click-repl>=0.2.0->celery>=4.1.1->excalibur-py) (3.0.50)\n",
            "Collecting amqp<6.0.0,>=5.1.1 (from kombu<6.0,>=5.3.4->celery>=4.1.1->excalibur-py)\n",
            "  Downloading amqp-5.3.1-py3-none-any.whl.metadata (8.9 kB)\n",
            "Requirement already satisfied: et-xmlfile in /usr/local/lib/python3.11/dist-packages (from openpyxl>=3.1.0->camelot-py>=1.0.0->excalibur-py) (2.0.0)\n",
            "Requirement already satisfied: pytz>=2020.1 in /usr/local/lib/python3.11/dist-packages (from pandas>=2.2.2->camelot-py>=1.0.0->excalibur-py) (2025.1)\n",
            "Requirement already satisfied: charset-normalizer>=2.0.0 in /usr/local/lib/python3.11/dist-packages (from pdfminer-six>=20240706->camelot-py>=1.0.0->excalibur-py) (3.4.1)\n",
            "Requirement already satisfied: cryptography>=36.0.0 in /usr/local/lib/python3.11/dist-packages (from pdfminer-six>=20240706->camelot-py>=1.0.0->excalibur-py) (43.0.3)\n",
            "Requirement already satisfied: six>=1.5 in /usr/local/lib/python3.11/dist-packages (from python-dateutil>=2.8.2->celery>=4.1.1->excalibur-py) (1.17.0)\n",
            "Requirement already satisfied: cffi>=1.12 in /usr/local/lib/python3.11/dist-packages (from cryptography>=36.0.0->pdfminer-six>=20240706->camelot-py>=1.0.0->excalibur-py) (1.17.1)\n",
            "Requirement already satisfied: wcwidth in /usr/local/lib/python3.11/dist-packages (from prompt-toolkit>=3.0.36->click-repl>=0.2.0->celery>=4.1.1->excalibur-py) (0.2.13)\n",
            "Requirement already satisfied: pycparser in /usr/local/lib/python3.11/dist-packages (from cffi>=1.12->cryptography>=36.0.0->pdfminer-six>=20240706->camelot-py>=1.0.0->excalibur-py) (2.22)\n",
            "Downloading excalibur_py-1.0.1-py3-none-any.whl (1.5 MB)\n",
            "\u001b[2K   \u001b[90m━━━━━━━━━━━━━━━━━━━━━━━━━━━━━━━━━━━━━━━━\u001b[0m \u001b[32m1.5/1.5 MB\u001b[0m \u001b[31m16.9 MB/s\u001b[0m eta \u001b[36m0:00:00\u001b[0m\n",
            "\u001b[?25hDownloading celery-5.4.0-py3-none-any.whl (425 kB)\n",
            "\u001b[2K   \u001b[90m━━━━━━━━━━━━━━━━━━━━━━━━━━━━━━━━━━━━━━━━\u001b[0m \u001b[32m426.0/426.0 kB\u001b[0m \u001b[31m22.3 MB/s\u001b[0m eta \u001b[36m0:00:00\u001b[0m\n",
            "\u001b[?25hDownloading configparser-7.1.0-py3-none-any.whl (17 kB)\n",
            "Downloading billiard-4.2.1-py3-none-any.whl (86 kB)\n",
            "\u001b[2K   \u001b[90m━━━━━━━━━━━━━━━━━━━━━━━━━━━━━━━━━━━━━━━━\u001b[0m \u001b[32m86.8/86.8 kB\u001b[0m \u001b[31m6.5 MB/s\u001b[0m eta \u001b[36m0:00:00\u001b[0m\n",
            "\u001b[?25hDownloading click_didyoumean-0.3.1-py3-none-any.whl (3.6 kB)\n",
            "Downloading click_plugins-1.1.1-py2.py3-none-any.whl (7.5 kB)\n",
            "Downloading click_repl-0.3.0-py3-none-any.whl (10 kB)\n",
            "Downloading kombu-5.4.2-py3-none-any.whl (201 kB)\n",
            "\u001b[2K   \u001b[90m━━━━━━━━━━━━━━━━━━━━━━━━━━━━━━━━━━━━━━━━\u001b[0m \u001b[32m201.3/201.3 kB\u001b[0m \u001b[31m15.0 MB/s\u001b[0m eta \u001b[36m0:00:00\u001b[0m\n",
            "\u001b[?25hDownloading vine-5.1.0-py3-none-any.whl (9.6 kB)\n",
            "Downloading amqp-5.3.1-py3-none-any.whl (50 kB)\n",
            "\u001b[2K   \u001b[90m━━━━━━━━━━━━━━━━━━━━━━━━━━━━━━━━━━━━━━━━\u001b[0m \u001b[32m50.9/50.9 kB\u001b[0m \u001b[31m3.2 MB/s\u001b[0m eta \u001b[36m0:00:00\u001b[0m\n",
            "\u001b[?25hInstalling collected packages: vine, configparser, click-plugins, click-didyoumean, billiard, click-repl, amqp, kombu, celery, excalibur-py\n",
            "Successfully installed amqp-5.3.1 billiard-4.2.1 celery-5.4.0 click-didyoumean-0.3.1 click-plugins-1.1.1 click-repl-0.3.0 configparser-7.1.0 excalibur-py-1.0.1 kombu-5.4.2 vine-5.1.0\n"
          ]
        },
        {
          "output_type": "display_data",
          "data": {
            "application/vnd.colab-display-data+json": {
              "pip_warning": {
                "packages": [
                  "backports"
                ]
              },
              "id": "8c431b1afc594d59a246f355a0d0e340"
            }
          },
          "metadata": {}
        },
        {
          "output_type": "stream",
          "name": "stdout",
          "text": [
            "Collecting PyPDF2<3.0\n",
            "  Downloading pypdf2-2.12.1-py3-none-any.whl.metadata (6.6 kB)\n",
            "Downloading pypdf2-2.12.1-py3-none-any.whl (222 kB)\n",
            "\u001b[?25l   \u001b[90m━━━━━━━━━━━━━━━━━━━━━━━━━━━━━━━━━━━━━━━━\u001b[0m \u001b[32m0.0/222.8 kB\u001b[0m \u001b[31m?\u001b[0m eta \u001b[36m-:--:--\u001b[0m\r\u001b[2K   \u001b[91m━━━━━━━━━━━━━━\u001b[0m\u001b[91m╸\u001b[0m\u001b[90m━━━━━━━━━━━━━━━━━━━━━━━━━\u001b[0m \u001b[32m81.9/222.8 kB\u001b[0m \u001b[31m3.0 MB/s\u001b[0m eta \u001b[36m0:00:01\u001b[0m\r\u001b[2K   \u001b[90m━━━━━━━━━━━━━━━━━━━━━━━━━━━━━━━━━━━━━━━━\u001b[0m \u001b[32m222.8/222.8 kB\u001b[0m \u001b[31m3.7 MB/s\u001b[0m eta \u001b[36m0:00:00\u001b[0m\n",
            "\u001b[?25hInstalling collected packages: PyPDF2\n",
            "Successfully installed PyPDF2-2.12.1\n",
            "Reading package lists... Done\n",
            "Building dependency tree... Done\n",
            "Reading state information... Done\n",
            "python3-tk is already the newest version (3.10.8-1~22.04).\n",
            "The following additional packages will be installed:\n",
            "  fonts-droid-fallback fonts-noto-mono fonts-urw-base35 libgs9 libgs9-common libidn12 libijs-0.35\n",
            "  libjbig2dec0 poppler-data\n",
            "Suggested packages:\n",
            "  fonts-noto fonts-freefont-otf | fonts-freefont-ttf fonts-texgyre ghostscript-x poppler-utils\n",
            "  fonts-japanese-mincho | fonts-ipafont-mincho fonts-japanese-gothic | fonts-ipafont-gothic\n",
            "  fonts-arphic-ukai fonts-arphic-uming fonts-nanum\n",
            "The following NEW packages will be installed:\n",
            "  fonts-droid-fallback fonts-noto-mono fonts-urw-base35 ghostscript libgs9 libgs9-common libidn12\n",
            "  libijs-0.35 libjbig2dec0 poppler-data\n",
            "0 upgraded, 10 newly installed, 0 to remove and 20 not upgraded.\n",
            "Need to get 16.7 MB of archives.\n",
            "After this operation, 63.0 MB of additional disk space will be used.\n",
            "Get:1 http://archive.ubuntu.com/ubuntu jammy/main amd64 fonts-droid-fallback all 1:6.0.1r16-1.1build1 [1,805 kB]\n",
            "Get:2 http://archive.ubuntu.com/ubuntu jammy/main amd64 poppler-data all 0.4.11-1 [2,171 kB]\n",
            "Get:3 http://archive.ubuntu.com/ubuntu jammy/main amd64 fonts-noto-mono all 20201225-1build1 [397 kB]\n",
            "Get:4 http://archive.ubuntu.com/ubuntu jammy/main amd64 fonts-urw-base35 all 20200910-1 [6,367 kB]\n",
            "Get:5 http://archive.ubuntu.com/ubuntu jammy-updates/main amd64 libgs9-common all 9.55.0~dfsg1-0ubuntu5.10 [752 kB]\n",
            "Get:6 http://archive.ubuntu.com/ubuntu jammy-updates/main amd64 libidn12 amd64 1.38-4ubuntu1 [60.0 kB]\n",
            "Get:7 http://archive.ubuntu.com/ubuntu jammy/main amd64 libijs-0.35 amd64 0.35-15build2 [16.5 kB]\n",
            "Get:8 http://archive.ubuntu.com/ubuntu jammy/main amd64 libjbig2dec0 amd64 0.19-3build2 [64.7 kB]\n",
            "Get:9 http://archive.ubuntu.com/ubuntu jammy-updates/main amd64 libgs9 amd64 9.55.0~dfsg1-0ubuntu5.10 [5,031 kB]\n",
            "Get:10 http://archive.ubuntu.com/ubuntu jammy-updates/main amd64 ghostscript amd64 9.55.0~dfsg1-0ubuntu5.10 [49.4 kB]\n",
            "Fetched 16.7 MB in 1s (11.7 MB/s)\n",
            "Selecting previously unselected package fonts-droid-fallback.\n",
            "(Reading database ... 124926 files and directories currently installed.)\n",
            "Preparing to unpack .../0-fonts-droid-fallback_1%3a6.0.1r16-1.1build1_all.deb ...\n",
            "Unpacking fonts-droid-fallback (1:6.0.1r16-1.1build1) ...\n",
            "Selecting previously unselected package poppler-data.\n",
            "Preparing to unpack .../1-poppler-data_0.4.11-1_all.deb ...\n",
            "Unpacking poppler-data (0.4.11-1) ...\n",
            "Selecting previously unselected package fonts-noto-mono.\n",
            "Preparing to unpack .../2-fonts-noto-mono_20201225-1build1_all.deb ...\n",
            "Unpacking fonts-noto-mono (20201225-1build1) ...\n",
            "Selecting previously unselected package fonts-urw-base35.\n",
            "Preparing to unpack .../3-fonts-urw-base35_20200910-1_all.deb ...\n",
            "Unpacking fonts-urw-base35 (20200910-1) ...\n",
            "Selecting previously unselected package libgs9-common.\n",
            "Preparing to unpack .../4-libgs9-common_9.55.0~dfsg1-0ubuntu5.10_all.deb ...\n",
            "Unpacking libgs9-common (9.55.0~dfsg1-0ubuntu5.10) ...\n",
            "Selecting previously unselected package libidn12:amd64.\n",
            "Preparing to unpack .../5-libidn12_1.38-4ubuntu1_amd64.deb ...\n",
            "Unpacking libidn12:amd64 (1.38-4ubuntu1) ...\n",
            "Selecting previously unselected package libijs-0.35:amd64.\n",
            "Preparing to unpack .../6-libijs-0.35_0.35-15build2_amd64.deb ...\n",
            "Unpacking libijs-0.35:amd64 (0.35-15build2) ...\n",
            "Selecting previously unselected package libjbig2dec0:amd64.\n",
            "Preparing to unpack .../7-libjbig2dec0_0.19-3build2_amd64.deb ...\n",
            "Unpacking libjbig2dec0:amd64 (0.19-3build2) ...\n",
            "Selecting previously unselected package libgs9:amd64.\n",
            "Preparing to unpack .../8-libgs9_9.55.0~dfsg1-0ubuntu5.10_amd64.deb ...\n",
            "Unpacking libgs9:amd64 (9.55.0~dfsg1-0ubuntu5.10) ...\n",
            "Selecting previously unselected package ghostscript.\n",
            "Preparing to unpack .../9-ghostscript_9.55.0~dfsg1-0ubuntu5.10_amd64.deb ...\n",
            "Unpacking ghostscript (9.55.0~dfsg1-0ubuntu5.10) ...\n",
            "Setting up fonts-noto-mono (20201225-1build1) ...\n",
            "Setting up libijs-0.35:amd64 (0.35-15build2) ...\n",
            "Setting up fonts-urw-base35 (20200910-1) ...\n",
            "Setting up poppler-data (0.4.11-1) ...\n",
            "Setting up libjbig2dec0:amd64 (0.19-3build2) ...\n",
            "Setting up libidn12:amd64 (1.38-4ubuntu1) ...\n",
            "Setting up fonts-droid-fallback (1:6.0.1r16-1.1build1) ...\n",
            "Setting up libgs9-common (9.55.0~dfsg1-0ubuntu5.10) ...\n",
            "Setting up libgs9:amd64 (9.55.0~dfsg1-0ubuntu5.10) ...\n",
            "Setting up ghostscript (9.55.0~dfsg1-0ubuntu5.10) ...\n",
            "Processing triggers for fontconfig (2.13.1-4.2ubuntu5) ...\n",
            "Processing triggers for libc-bin (2.35-0ubuntu3.8) ...\n",
            "/sbin/ldconfig.real: /usr/local/lib/libtcm_debug.so.1 is not a symbolic link\n",
            "\n",
            "/sbin/ldconfig.real: /usr/local/lib/libhwloc.so.15 is not a symbolic link\n",
            "\n",
            "/sbin/ldconfig.real: /usr/local/lib/libtbbbind.so.3 is not a symbolic link\n",
            "\n",
            "/sbin/ldconfig.real: /usr/local/lib/libur_loader.so.0 is not a symbolic link\n",
            "\n",
            "/sbin/ldconfig.real: /usr/local/lib/libur_adapter_level_zero.so.0 is not a symbolic link\n",
            "\n",
            "/sbin/ldconfig.real: /usr/local/lib/libtbbmalloc.so.2 is not a symbolic link\n",
            "\n",
            "/sbin/ldconfig.real: /usr/local/lib/libumf.so.0 is not a symbolic link\n",
            "\n",
            "/sbin/ldconfig.real: /usr/local/lib/libur_adapter_opencl.so.0 is not a symbolic link\n",
            "\n",
            "/sbin/ldconfig.real: /usr/local/lib/libtcm.so.1 is not a symbolic link\n",
            "\n",
            "/sbin/ldconfig.real: /usr/local/lib/libtbb.so.12 is not a symbolic link\n",
            "\n",
            "/sbin/ldconfig.real: /usr/local/lib/libtbbbind_2_5.so.3 is not a symbolic link\n",
            "\n",
            "/sbin/ldconfig.real: /usr/local/lib/libtbbbind_2_0.so.3 is not a symbolic link\n",
            "\n",
            "/sbin/ldconfig.real: /usr/local/lib/libtbbmalloc_proxy.so.2 is not a symbolic link\n",
            "\n",
            "Processing triggers for man-db (2.10.2-1) ...\n"
          ]
        }
      ],
      "source": [
        "!pip install ghostscript\n",
        "!pip install camelot-py[cv]\n",
        "!pip install excalibur-py\n",
        "!pip install 'PyPDF2<3.0'\n",
        "!apt install ghostscript python3-tk"
      ]
    },
    {
      "cell_type": "markdown",
      "metadata": {
        "id": "fcB7zjpgJ08T"
      },
      "source": [
        "### Exercício 1\n",
        "\n",
        "Crie uma função em Python que receba o nome de um arquivo PDF e retorne a quantidade de páginas que o arquivo contém.\n",
        "\n",
        "Responda alterando o código da função abaixo.\n",
        "\n",
        "Obs:\n",
        "\n",
        "- O nome e argumentos da função não devem ser alterados.\n",
        "- Considere que o código de correção já tem um import assim: `import PyPDF2`."
      ]
    },
    {
      "cell_type": "code",
      "execution_count": null,
      "metadata": {
        "id": "kjQaQBewJ08T"
      },
      "outputs": [],
      "source": [
        "# Altere esta função\n",
        "import PyPDF2\n",
        "\n",
        "def contar_paginas(caminho_arquivo):\n",
        "    pp_reader = PyPDF2.PdfFileReader(caminho_arquivo)\n",
        "    return pp_reader.numPages"
      ]
    },
    {
      "cell_type": "markdown",
      "metadata": {
        "id": "a2gPPm5qJ08T"
      },
      "source": [
        "Vamos conferir um exemplo de execução (esperamos obter `3` como retorno da função):"
      ]
    },
    {
      "cell_type": "code",
      "execution_count": null,
      "metadata": {
        "colab": {
          "base_uri": "https://localhost:8080/"
        },
        "id": "sq0nqFdZJ08U",
        "outputId": "1b4bf244-4a96-483d-fbdc-beeb81645b12"
      },
      "outputs": [
        {
          "output_type": "execute_result",
          "data": {
            "text/plain": [
              "3"
            ]
          },
          "metadata": {},
          "execution_count": 22
        }
      ],
      "source": [
        "contar_paginas(\"mochileiro.pdf\")"
      ]
    },
    {
      "cell_type": "markdown",
      "metadata": {
        "id": "TeDs4QIhJ08U"
      },
      "source": [
        "Abaixo, seguem alguns testes que rodam localmente e verificam sua resposta."
      ]
    },
    {
      "cell_type": "code",
      "execution_count": null,
      "metadata": {
        "colab": {
          "base_uri": "https://localhost:8080/"
        },
        "id": "aVfWa8JMJ08V",
        "outputId": "41e19214-3a59-4897-902f-145eaacfebcc"
      },
      "outputs": [
        {
          "output_type": "stream",
          "name": "stderr",
          "text": [
            "WARNING:PyPDF2._reader:Xref table not zero-indexed. ID numbers for objects will be corrected.\n"
          ]
        }
      ],
      "source": [
        "assert contar_paginas(\"mochileiro.pdf\") == 3, \"O número de páginas esperado era 3\"\n",
        "assert contar_paginas(\"p_value_misconceptions.pdf\") == 6, \"O número de páginas esperado era 6\""
      ]
    },
    {
      "cell_type": "markdown",
      "metadata": {
        "id": "4ttoZ1TvJ08V"
      },
      "source": [
        "Quando estiver confiante que sua resposta está correta, clique no botão abaixo para fazer o envio."
      ]
    },
    {
      "cell_type": "code",
      "execution_count": null,
      "metadata": {
        "colab": {
          "base_uri": "https://localhost:8080/",
          "height": 78,
          "referenced_widgets": [
            "7104c9a7ef544c568e9d90f4070e7af7",
            "b1323470da034219a35c653b16226b0f",
            "b526c034388946e8ae78fc33e4a389e4",
            "e388de346f784ec1baab50f2ffe7aeb5",
            "435b5e41e10d4ad5860d2d99e2a6c3bc",
            "befe1c7e73434cf983503de2a304213e",
            "9d476d42d4fd43a78ddda7b200a30896"
          ]
        },
        "id": "A3wI0seqJ08V",
        "outputId": "47905131-bd9a-4714-eb6e-b7aa23c763d9"
      },
      "outputs": [
        {
          "output_type": "display_data",
          "data": {
            "text/plain": [
              "interactive(children=(Button(description='Enviar ex01', style=ButtonStyle()), Output()), _dom_classes=('widget…"
            ],
            "application/vnd.jupyter.widget-view+json": {
              "version_major": 2,
              "version_minor": 0,
              "model_id": "7104c9a7ef544c568e9d90f4070e7af7"
            }
          },
          "metadata": {}
        }
      ],
      "source": [
        "ia.sender(answer=\"contar_paginas\", task=\"pdf\", question=\"ex01\", answer_type=\"pycode\")"
      ]
    },
    {
      "cell_type": "markdown",
      "metadata": {
        "id": "7-g7WqjnJ08W"
      },
      "source": [
        "### Exercício 2\n",
        "\n",
        "Crie uma função em Python que recebe como entrada:\n",
        "- o caminho de um arquivo PDF\n",
        "- o número de uma página\n",
        "\n",
        "A função deve retornar todo texto contido na página indicada.\n",
        "\n",
        "Responda alterando o código da função abaixo.\n",
        "\n",
        "Obs:\n",
        "\n",
        "- O nome e argumentos da função não devem ser alterados.\n",
        "- Considere que o código de correção já tem um import assim: `import PyPDF2`."
      ]
    },
    {
      "cell_type": "code",
      "execution_count": null,
      "metadata": {
        "id": "qRCjI5_EJ08W"
      },
      "outputs": [],
      "source": [
        "# Altere esta função\n",
        "import PyPDF2\n",
        "\n",
        "def extrair_texto_pagina(caminho_arquivo, num_pagina):\n",
        "  texto = PyPDF2.PdfFileReader(caminho_arquivo).getPage(num_pagina).extract_text()\n",
        "  return texto\n"
      ]
    },
    {
      "cell_type": "markdown",
      "metadata": {
        "id": "2JqIMqJQJ08W"
      },
      "source": [
        "Veja um exemplo de execução da função:"
      ]
    },
    {
      "cell_type": "code",
      "execution_count": null,
      "metadata": {
        "colab": {
          "base_uri": "https://localhost:8080/",
          "height": 36
        },
        "id": "tGFrhPrzJ08W",
        "outputId": "2a622ff9-d317-4736-ef6d-311bcf06ffb7"
      },
      "outputs": [
        {
          "output_type": "execute_result",
          "data": {
            "text/plain": [
              "'Atenciosamente,\\nAna Melo\\nSíndico do Condomínio das Acacias'"
            ],
            "application/vnd.google.colaboratory.intrinsic+json": {
              "type": "string"
            }
          },
          "metadata": {},
          "execution_count": 27
        }
      ],
      "source": [
        "extrair_texto_pagina(\"comunicado_condominio.pdf\", 1)"
      ]
    },
    {
      "cell_type": "markdown",
      "metadata": {
        "id": "veRUAnORJ08X"
      },
      "source": [
        "Confira se obteve o resultado correto:\n",
        "\n",
        "```python\n",
        "\"Atenciosamente,\\nAna Melo\\nSíndico do Condomínio das Acacias\"\n",
        "```"
      ]
    },
    {
      "cell_type": "markdown",
      "metadata": {
        "id": "e_2GnLLuJ08X"
      },
      "source": [
        "Abaixo, seguem alguns testes que rodam localmente e verificam sua resposta."
      ]
    },
    {
      "cell_type": "code",
      "execution_count": null,
      "metadata": {
        "id": "c4ef-_RrJ08X"
      },
      "outputs": [],
      "source": [
        "assert extrair_texto_pagina(\"mochileiro.pdf\", 0) == \"\", f\"Para o arquivo mochileiro.pdf, página zero, era esperado que retornasse string vazia (a página contém imagens apenas)\"\n",
        "\n",
        "esperado = \"Atenciosamente,\\nAna Melo\\nSíndico do Condomínio das Acacias\"\n",
        "obtido = extrair_texto_pagina(\"comunicado_condominio.pdf\", 1)\n",
        "assert  obtido == esperado, f\"\\nEsperava: {esperado}\\n\\nObteve: {obtido}\""
      ]
    },
    {
      "cell_type": "markdown",
      "metadata": {
        "id": "NR_IRG-EJ08X"
      },
      "source": [
        "Quando estiver confiante que sua resposta está correta, clique no botão abaixo para fazer o envio."
      ]
    },
    {
      "cell_type": "code",
      "execution_count": null,
      "metadata": {
        "colab": {
          "base_uri": "https://localhost:8080/",
          "height": 78,
          "referenced_widgets": [
            "28467fe68d384b69bb93c7a5e9577818",
            "a339e6bfc0974ea1856d7ae695507caf",
            "4482457bafdc4102977ea8f01fdf314a",
            "6dabb0adebb14c9d9da9c264d1d53e63",
            "0f79683ba7fa48d7942ec301c8c172e7",
            "0015d5ac27234387a19f3a328c2babbb",
            "2e7bf28c0d014bbd8020b472a1dbb303"
          ]
        },
        "id": "fqqZenBSJ08X",
        "outputId": "724078a5-3b24-489a-d38a-9a8b7e07ea0e"
      },
      "outputs": [
        {
          "output_type": "display_data",
          "data": {
            "text/plain": [
              "interactive(children=(Button(description='Enviar ex02', style=ButtonStyle()), Output()), _dom_classes=('widget…"
            ],
            "application/vnd.jupyter.widget-view+json": {
              "version_major": 2,
              "version_minor": 0,
              "model_id": "28467fe68d384b69bb93c7a5e9577818"
            }
          },
          "metadata": {}
        }
      ],
      "source": [
        "ia.sender(answer=\"extrair_texto_pagina\", task=\"pdf\", question=\"ex02\", answer_type=\"pycode\")"
      ]
    },
    {
      "cell_type": "markdown",
      "metadata": {
        "id": "WD9q8q8-J08X"
      },
      "source": [
        "### Exercício 3\n",
        "\n",
        "Crie uma função em Python que recebe como entrada:\n",
        "- o caminho de um arquivo PDF\n",
        "\n",
        "A função deve contar o número de palavras contidas no PDF.\n",
        "\n",
        "Responda alterando o código da função abaixo.\n",
        "\n",
        "Obs:\n",
        "\n",
        "- O nome e argumentos da função não devem ser alterados.\n",
        "- Considere que o código de correção já tem um import assim: `import PyPDF2`."
      ]
    },
    {
      "cell_type": "code",
      "execution_count": null,
      "metadata": {
        "id": "bzQyfzM9J08Y"
      },
      "outputs": [],
      "source": [
        "# Altere esta função\n",
        "import PyPDF2\n",
        "\n",
        "def contar_palavras(caminho_arquivo):\n",
        "    word_count = 0\n",
        "    pdf = PyPDF2.PdfFileReader(caminho_arquivo)\n",
        "    num_pages = pdf.getNumPages()\n",
        "    for i in range(0, num_pages):\n",
        "      text = pdf.getPage(i).extract_text().strip().split()\n",
        "      word_count += len(text)\n",
        "\n",
        "    return word_count"
      ]
    },
    {
      "cell_type": "markdown",
      "metadata": {
        "id": "qqXQeA9IJ08Y"
      },
      "source": [
        "Veja um exemplo de execução da função (o resultado esperado é `698`)"
      ]
    },
    {
      "cell_type": "code",
      "execution_count": null,
      "metadata": {
        "colab": {
          "base_uri": "https://localhost:8080/"
        },
        "id": "DwIJXBZpJ08Y",
        "outputId": "e8cfac83-fa3a-4846-dc33-30e286e25a9d"
      },
      "outputs": [
        {
          "output_type": "execute_result",
          "data": {
            "text/plain": [
              "698"
            ]
          },
          "metadata": {},
          "execution_count": 71
        }
      ],
      "source": [
        "contar_palavras(\"mochileiro.pdf\")"
      ]
    },
    {
      "cell_type": "markdown",
      "metadata": {
        "id": "jvMnwby_J08Y"
      },
      "source": [
        "Abaixo, seguem alguns testes que rodam localmente e verificam sua resposta."
      ]
    },
    {
      "cell_type": "code",
      "execution_count": null,
      "metadata": {
        "id": "0i-sT2FAJ08Y"
      },
      "outputs": [],
      "source": [
        "obtido = contar_palavras(\"mochileiro.pdf\")\n",
        "assert obtido == 698, f\"Esperava 698 para o mochileiro.pdf, obteve {obtido}\"\n",
        "\n",
        "obtido = contar_palavras(\"comunicado_condominio.pdf\")\n",
        "assert obtido == 279, f\"Esperava 279 para o comunicado_condominio.pdf, obteve {obtido}\""
      ]
    },
    {
      "cell_type": "markdown",
      "metadata": {
        "id": "CW4UdtkeJ08Z"
      },
      "source": [
        "Quando estiver confiante que sua resposta está correta, clique no botão abaixo para fazer o envio."
      ]
    },
    {
      "cell_type": "code",
      "execution_count": null,
      "metadata": {
        "colab": {
          "base_uri": "https://localhost:8080/",
          "height": 78,
          "referenced_widgets": [
            "187332ac6efb47799ff732ab2921fbd0",
            "4397466fc9714951afce64c1f7d4241a",
            "ffa37df58d1749e597f8c377c134c9fd",
            "6b5b5fd068d74231b7d4ec6eb229b385",
            "767f3fbfbdaa45679fb5899856edf458",
            "96609336233045ffb0cd098e0ac92b6d",
            "6fe70e7502bf4d4e9485cf37b0a10d0e"
          ]
        },
        "id": "FG8hEtKQJ08Z",
        "outputId": "26cd5d79-4683-42a6-bd1a-793bd4b50950"
      },
      "outputs": [
        {
          "output_type": "display_data",
          "data": {
            "text/plain": [
              "interactive(children=(Button(description='Enviar ex03', style=ButtonStyle()), Output()), _dom_classes=('widget…"
            ],
            "application/vnd.jupyter.widget-view+json": {
              "version_major": 2,
              "version_minor": 0,
              "model_id": "187332ac6efb47799ff732ab2921fbd0"
            }
          },
          "metadata": {}
        }
      ],
      "source": [
        "ia.sender(answer=\"contar_palavras\", task=\"pdf\", question=\"ex03\", answer_type=\"pycode\")"
      ]
    },
    {
      "cell_type": "markdown",
      "metadata": {
        "id": "tW3TGdx3J08Z"
      },
      "source": [
        "### Exercício 4\n",
        "\n",
        "É importante conseguir fazer buscas em arquivos PDF. Assim, podemos criar rotinas que automatizem a identificação de oportunidades para uma empresa. Por exemplo, ao invés de um humano ler todas as páginas de um diário oficial, podemos criar uma rotina python que identifique as páginas que falam de processos de licitação.\n",
        "\n",
        "Crie um a função que recebe\n",
        "- O caminho de um arquivo PDF\n",
        "- Uma lista de palavras\n",
        "\n",
        "A função deve identificar em quais páginas cada uma das palavras é mencionada (de maneira completa ou substring).\n",
        "\n",
        "Retorne um dicionário onde as chaves são as palavras e os valores são uma lista com o ID das páginas onde a palavra foi identificada.\n",
        "\n",
        "Exemplo de entrada:\n",
        " - arquivo: `mochileiro.pdf`\n",
        " - palavras: `[\"genialidade\", \"lucro\", \"humor\"]`\n",
        "\n",
        "Saída esperada:\n",
        "\n",
        "```python\n",
        "{'humor': [1, 2], 'genialidade': [2]}\n",
        "```\n",
        "\n",
        "Responda alterando o código da função abaixo.\n",
        "\n",
        "Obs:\n",
        "\n",
        "- O nome e argumentos da função não devem ser alterados.\n",
        "- Considere que o código de correção já tem um import assim: `import PyPDF2`.\n",
        "- Palavras sem ocorrência não devem aparecer no dicionário de resposta.\n",
        "- Ignore o case (maiúsculo / minúsculo), compare como quiser mas retorne tudo em minúsculo."
      ]
    },
    {
      "cell_type": "code",
      "execution_count": null,
      "metadata": {
        "id": "OoWv41qqJ08Z"
      },
      "outputs": [],
      "source": [
        "# Altere esta função\n",
        "import PyPDF2\n",
        "\n",
        "def identificar_palavras(caminho_arquivo, palavras):\n",
        "  word_dict = {}\n",
        "  palavras_copy = [palavra.lower() for palavra in palavras]\n",
        "  pdf = PyPDF2.PdfFileReader(caminho_arquivo)\n",
        "  num_pages = pdf.getNumPages()\n",
        "\n",
        "  for i in range(num_pages):\n",
        "    text = pdf.getPage(i).extract_text().strip().lower()\n",
        "    for palavra in palavras_copy:\n",
        "      if palavra in text:\n",
        "        if palavra not in word_dict.keys():\n",
        "          word_dict[palavra] = []\n",
        "        word_dict[palavra].append(i)\n",
        "\n",
        "  return word_dict"
      ]
    },
    {
      "cell_type": "markdown",
      "metadata": {
        "id": "6q5-OX3kJ08Z"
      },
      "source": [
        "Veja um exemplo de execução:"
      ]
    },
    {
      "cell_type": "code",
      "execution_count": null,
      "metadata": {
        "colab": {
          "base_uri": "https://localhost:8080/"
        },
        "id": "V8MBhDVFJ08Z",
        "outputId": "be8c5bbe-b065-45a9-c078-a534d81d4c91"
      },
      "outputs": [
        {
          "output_type": "execute_result",
          "data": {
            "text/plain": [
              "{'humor': [1, 2], 'genialidade': [2]}"
            ]
          },
          "metadata": {},
          "execution_count": 107
        }
      ],
      "source": [
        "identificar_palavras(\"mochileiro.pdf\", [\"genialidade\", \"lucro\", \"humor\"])"
      ]
    },
    {
      "cell_type": "markdown",
      "metadata": {
        "id": "HsVZ3RRXJ08Z"
      },
      "source": [
        "Abaixo, seguem alguns testes que rodam localmente e verificam sua resposta."
      ]
    },
    {
      "cell_type": "code",
      "execution_count": null,
      "metadata": {
        "id": "9mv4HPnlJ08a"
      },
      "outputs": [],
      "source": [
        "assert identificar_palavras(\n",
        "            \"mochileiro.pdf\", [\"genialidade\", \"lucro\", \"humor\"]\n",
        "        ) == {\"humor\": [1, 2], \"genialidade\": [2]}"
      ]
    },
    {
      "cell_type": "markdown",
      "metadata": {
        "id": "g1x7NTkQJ08a"
      },
      "source": [
        "Quando estiver confiante que sua resposta está correta, clique no botão abaixo para fazer o envio."
      ]
    },
    {
      "cell_type": "code",
      "execution_count": null,
      "metadata": {
        "colab": {
          "base_uri": "https://localhost:8080/",
          "height": 78,
          "referenced_widgets": [
            "1f77ffd941954e4c8c2222641c3d20ef",
            "10edab4468d743e3910972b083fc738b",
            "f98987f75ffd4780be0cc64a73f1e3c1",
            "b42dcca3991e4fc38139aee6d7a5c9e1",
            "e824c6747e944544a981672ccb87e492",
            "1762edef79b64a16a8f2fdcb9c1b43b1",
            "621d643cb68e42e1917e041f98bcfc47"
          ]
        },
        "id": "kxXCsZGQJ08a",
        "outputId": "6b51ef57-d898-481d-a9dc-c4b830e4bbe6"
      },
      "outputs": [
        {
          "output_type": "display_data",
          "data": {
            "text/plain": [
              "interactive(children=(Button(description='Enviar ex04', style=ButtonStyle()), Output()), _dom_classes=('widget…"
            ],
            "application/vnd.jupyter.widget-view+json": {
              "version_major": 2,
              "version_minor": 0,
              "model_id": "1f77ffd941954e4c8c2222641c3d20ef"
            }
          },
          "metadata": {}
        }
      ],
      "source": [
        "ia.sender(answer=\"identificar_palavras\", task=\"pdf\", question=\"ex04\", answer_type=\"pycode\")"
      ]
    },
    {
      "cell_type": "markdown",
      "metadata": {
        "id": "p2JfqhJhJ08a"
      },
      "source": [
        "### Exercício 5\n",
        "\n",
        "Crie uma função que retorne a primeira tabela lida de um PDF.\n",
        "\n",
        "A função recebe como entrada o caminho de um arquivo PDF e deve retornar um **DataFrame**.\n",
        "\n",
        "Obs:\n",
        "\n",
        "- O nome e argumentos da função não devem ser alterados.\n",
        "- Considere que o código de correção já tem um import assim: `import camelot`.\n",
        "- Você precisará tratar o cabeçalho da tabela (nome das colunas).\n",
        "- Não é necessário fazer limpezas ou conversões de tipos."
      ]
    },
    {
      "cell_type": "code",
      "execution_count": null,
      "metadata": {
        "id": "CU3gli93J08a"
      },
      "outputs": [],
      "source": [
        "# Altere esta função\n",
        "import camelot\n",
        "\n",
        "def ler_tabela(caminho_arquivo):\n",
        "    tabelas = camelot.read_pdf(caminho_arquivo)\n",
        "    df = tabelas[0].df\n"
      ]
    },
    {
      "cell_type": "markdown",
      "metadata": {
        "id": "9aTV8RZ_J08a"
      },
      "source": [
        "Veja um exemplo da execução da função:"
      ]
    },
    {
      "cell_type": "code",
      "execution_count": null,
      "metadata": {
        "colab": {
          "base_uri": "https://localhost:8080/",
          "height": 237
        },
        "id": "6azomXXaJ08a",
        "outputId": "c5aa4088-6741-45ad-b98d-9c9751931fca"
      },
      "outputs": [
        {
          "output_type": "execute_result",
          "data": {
            "text/plain": [
              "             0              1                   2                   3\n",
              "0    Profissão  Salário Médio  Percentil 25% (R$)  Percentil 75% (R$)\n",
              "1   Engenheiro          8.500               7.000              10.000\n",
              "2       Médico         12.000              10.000              14.000\n",
              "3    Professor          5.000               4.000               6.000\n",
              "4     Advogado          9.200               7.500              11.000\n",
              "5  Programador          7.000               6.000               8.000"
            ],
            "text/html": [
              "\n",
              "  <div id=\"df-a632d8b3-99b2-432a-89ed-c8a90f225fa3\" class=\"colab-df-container\">\n",
              "    <div>\n",
              "<style scoped>\n",
              "    .dataframe tbody tr th:only-of-type {\n",
              "        vertical-align: middle;\n",
              "    }\n",
              "\n",
              "    .dataframe tbody tr th {\n",
              "        vertical-align: top;\n",
              "    }\n",
              "\n",
              "    .dataframe thead th {\n",
              "        text-align: right;\n",
              "    }\n",
              "</style>\n",
              "<table border=\"1\" class=\"dataframe\">\n",
              "  <thead>\n",
              "    <tr style=\"text-align: right;\">\n",
              "      <th></th>\n",
              "      <th>0</th>\n",
              "      <th>1</th>\n",
              "      <th>2</th>\n",
              "      <th>3</th>\n",
              "    </tr>\n",
              "  </thead>\n",
              "  <tbody>\n",
              "    <tr>\n",
              "      <th>0</th>\n",
              "      <td>Profissão</td>\n",
              "      <td>Salário Médio</td>\n",
              "      <td>Percentil 25% (R$)</td>\n",
              "      <td>Percentil 75% (R$)</td>\n",
              "    </tr>\n",
              "    <tr>\n",
              "      <th>1</th>\n",
              "      <td>Engenheiro</td>\n",
              "      <td>8.500</td>\n",
              "      <td>7.000</td>\n",
              "      <td>10.000</td>\n",
              "    </tr>\n",
              "    <tr>\n",
              "      <th>2</th>\n",
              "      <td>Médico</td>\n",
              "      <td>12.000</td>\n",
              "      <td>10.000</td>\n",
              "      <td>14.000</td>\n",
              "    </tr>\n",
              "    <tr>\n",
              "      <th>3</th>\n",
              "      <td>Professor</td>\n",
              "      <td>5.000</td>\n",
              "      <td>4.000</td>\n",
              "      <td>6.000</td>\n",
              "    </tr>\n",
              "    <tr>\n",
              "      <th>4</th>\n",
              "      <td>Advogado</td>\n",
              "      <td>9.200</td>\n",
              "      <td>7.500</td>\n",
              "      <td>11.000</td>\n",
              "    </tr>\n",
              "    <tr>\n",
              "      <th>5</th>\n",
              "      <td>Programador</td>\n",
              "      <td>7.000</td>\n",
              "      <td>6.000</td>\n",
              "      <td>8.000</td>\n",
              "    </tr>\n",
              "  </tbody>\n",
              "</table>\n",
              "</div>\n",
              "    <div class=\"colab-df-buttons\">\n",
              "\n",
              "  <div class=\"colab-df-container\">\n",
              "    <button class=\"colab-df-convert\" onclick=\"convertToInteractive('df-a632d8b3-99b2-432a-89ed-c8a90f225fa3')\"\n",
              "            title=\"Convert this dataframe to an interactive table.\"\n",
              "            style=\"display:none;\">\n",
              "\n",
              "  <svg xmlns=\"http://www.w3.org/2000/svg\" height=\"24px\" viewBox=\"0 -960 960 960\">\n",
              "    <path d=\"M120-120v-720h720v720H120Zm60-500h600v-160H180v160Zm220 220h160v-160H400v160Zm0 220h160v-160H400v160ZM180-400h160v-160H180v160Zm440 0h160v-160H620v160ZM180-180h160v-160H180v160Zm440 0h160v-160H620v160Z\"/>\n",
              "  </svg>\n",
              "    </button>\n",
              "\n",
              "  <style>\n",
              "    .colab-df-container {\n",
              "      display:flex;\n",
              "      gap: 12px;\n",
              "    }\n",
              "\n",
              "    .colab-df-convert {\n",
              "      background-color: #E8F0FE;\n",
              "      border: none;\n",
              "      border-radius: 50%;\n",
              "      cursor: pointer;\n",
              "      display: none;\n",
              "      fill: #1967D2;\n",
              "      height: 32px;\n",
              "      padding: 0 0 0 0;\n",
              "      width: 32px;\n",
              "    }\n",
              "\n",
              "    .colab-df-convert:hover {\n",
              "      background-color: #E2EBFA;\n",
              "      box-shadow: 0px 1px 2px rgba(60, 64, 67, 0.3), 0px 1px 3px 1px rgba(60, 64, 67, 0.15);\n",
              "      fill: #174EA6;\n",
              "    }\n",
              "\n",
              "    .colab-df-buttons div {\n",
              "      margin-bottom: 4px;\n",
              "    }\n",
              "\n",
              "    [theme=dark] .colab-df-convert {\n",
              "      background-color: #3B4455;\n",
              "      fill: #D2E3FC;\n",
              "    }\n",
              "\n",
              "    [theme=dark] .colab-df-convert:hover {\n",
              "      background-color: #434B5C;\n",
              "      box-shadow: 0px 1px 3px 1px rgba(0, 0, 0, 0.15);\n",
              "      filter: drop-shadow(0px 1px 2px rgba(0, 0, 0, 0.3));\n",
              "      fill: #FFFFFF;\n",
              "    }\n",
              "  </style>\n",
              "\n",
              "    <script>\n",
              "      const buttonEl =\n",
              "        document.querySelector('#df-a632d8b3-99b2-432a-89ed-c8a90f225fa3 button.colab-df-convert');\n",
              "      buttonEl.style.display =\n",
              "        google.colab.kernel.accessAllowed ? 'block' : 'none';\n",
              "\n",
              "      async function convertToInteractive(key) {\n",
              "        const element = document.querySelector('#df-a632d8b3-99b2-432a-89ed-c8a90f225fa3');\n",
              "        const dataTable =\n",
              "          await google.colab.kernel.invokeFunction('convertToInteractive',\n",
              "                                                    [key], {});\n",
              "        if (!dataTable) return;\n",
              "\n",
              "        const docLinkHtml = 'Like what you see? Visit the ' +\n",
              "          '<a target=\"_blank\" href=https://colab.research.google.com/notebooks/data_table.ipynb>data table notebook</a>'\n",
              "          + ' to learn more about interactive tables.';\n",
              "        element.innerHTML = '';\n",
              "        dataTable['output_type'] = 'display_data';\n",
              "        await google.colab.output.renderOutput(dataTable, element);\n",
              "        const docLink = document.createElement('div');\n",
              "        docLink.innerHTML = docLinkHtml;\n",
              "        element.appendChild(docLink);\n",
              "      }\n",
              "    </script>\n",
              "  </div>\n",
              "\n",
              "\n",
              "<div id=\"df-9a17d656-005e-4167-a19d-46b7d5a46fe4\">\n",
              "  <button class=\"colab-df-quickchart\" onclick=\"quickchart('df-9a17d656-005e-4167-a19d-46b7d5a46fe4')\"\n",
              "            title=\"Suggest charts\"\n",
              "            style=\"display:none;\">\n",
              "\n",
              "<svg xmlns=\"http://www.w3.org/2000/svg\" height=\"24px\"viewBox=\"0 0 24 24\"\n",
              "     width=\"24px\">\n",
              "    <g>\n",
              "        <path d=\"M19 3H5c-1.1 0-2 .9-2 2v14c0 1.1.9 2 2 2h14c1.1 0 2-.9 2-2V5c0-1.1-.9-2-2-2zM9 17H7v-7h2v7zm4 0h-2V7h2v10zm4 0h-2v-4h2v4z\"/>\n",
              "    </g>\n",
              "</svg>\n",
              "  </button>\n",
              "\n",
              "<style>\n",
              "  .colab-df-quickchart {\n",
              "      --bg-color: #E8F0FE;\n",
              "      --fill-color: #1967D2;\n",
              "      --hover-bg-color: #E2EBFA;\n",
              "      --hover-fill-color: #174EA6;\n",
              "      --disabled-fill-color: #AAA;\n",
              "      --disabled-bg-color: #DDD;\n",
              "  }\n",
              "\n",
              "  [theme=dark] .colab-df-quickchart {\n",
              "      --bg-color: #3B4455;\n",
              "      --fill-color: #D2E3FC;\n",
              "      --hover-bg-color: #434B5C;\n",
              "      --hover-fill-color: #FFFFFF;\n",
              "      --disabled-bg-color: #3B4455;\n",
              "      --disabled-fill-color: #666;\n",
              "  }\n",
              "\n",
              "  .colab-df-quickchart {\n",
              "    background-color: var(--bg-color);\n",
              "    border: none;\n",
              "    border-radius: 50%;\n",
              "    cursor: pointer;\n",
              "    display: none;\n",
              "    fill: var(--fill-color);\n",
              "    height: 32px;\n",
              "    padding: 0;\n",
              "    width: 32px;\n",
              "  }\n",
              "\n",
              "  .colab-df-quickchart:hover {\n",
              "    background-color: var(--hover-bg-color);\n",
              "    box-shadow: 0 1px 2px rgba(60, 64, 67, 0.3), 0 1px 3px 1px rgba(60, 64, 67, 0.15);\n",
              "    fill: var(--button-hover-fill-color);\n",
              "  }\n",
              "\n",
              "  .colab-df-quickchart-complete:disabled,\n",
              "  .colab-df-quickchart-complete:disabled:hover {\n",
              "    background-color: var(--disabled-bg-color);\n",
              "    fill: var(--disabled-fill-color);\n",
              "    box-shadow: none;\n",
              "  }\n",
              "\n",
              "  .colab-df-spinner {\n",
              "    border: 2px solid var(--fill-color);\n",
              "    border-color: transparent;\n",
              "    border-bottom-color: var(--fill-color);\n",
              "    animation:\n",
              "      spin 1s steps(1) infinite;\n",
              "  }\n",
              "\n",
              "  @keyframes spin {\n",
              "    0% {\n",
              "      border-color: transparent;\n",
              "      border-bottom-color: var(--fill-color);\n",
              "      border-left-color: var(--fill-color);\n",
              "    }\n",
              "    20% {\n",
              "      border-color: transparent;\n",
              "      border-left-color: var(--fill-color);\n",
              "      border-top-color: var(--fill-color);\n",
              "    }\n",
              "    30% {\n",
              "      border-color: transparent;\n",
              "      border-left-color: var(--fill-color);\n",
              "      border-top-color: var(--fill-color);\n",
              "      border-right-color: var(--fill-color);\n",
              "    }\n",
              "    40% {\n",
              "      border-color: transparent;\n",
              "      border-right-color: var(--fill-color);\n",
              "      border-top-color: var(--fill-color);\n",
              "    }\n",
              "    60% {\n",
              "      border-color: transparent;\n",
              "      border-right-color: var(--fill-color);\n",
              "    }\n",
              "    80% {\n",
              "      border-color: transparent;\n",
              "      border-right-color: var(--fill-color);\n",
              "      border-bottom-color: var(--fill-color);\n",
              "    }\n",
              "    90% {\n",
              "      border-color: transparent;\n",
              "      border-bottom-color: var(--fill-color);\n",
              "    }\n",
              "  }\n",
              "</style>\n",
              "\n",
              "  <script>\n",
              "    async function quickchart(key) {\n",
              "      const quickchartButtonEl =\n",
              "        document.querySelector('#' + key + ' button');\n",
              "      quickchartButtonEl.disabled = true;  // To prevent multiple clicks.\n",
              "      quickchartButtonEl.classList.add('colab-df-spinner');\n",
              "      try {\n",
              "        const charts = await google.colab.kernel.invokeFunction(\n",
              "            'suggestCharts', [key], {});\n",
              "      } catch (error) {\n",
              "        console.error('Error during call to suggestCharts:', error);\n",
              "      }\n",
              "      quickchartButtonEl.classList.remove('colab-df-spinner');\n",
              "      quickchartButtonEl.classList.add('colab-df-quickchart-complete');\n",
              "    }\n",
              "    (() => {\n",
              "      let quickchartButtonEl =\n",
              "        document.querySelector('#df-9a17d656-005e-4167-a19d-46b7d5a46fe4 button');\n",
              "      quickchartButtonEl.style.display =\n",
              "        google.colab.kernel.accessAllowed ? 'block' : 'none';\n",
              "    })();\n",
              "  </script>\n",
              "</div>\n",
              "\n",
              "    </div>\n",
              "  </div>\n"
            ],
            "application/vnd.google.colaboratory.intrinsic+json": {
              "type": "dataframe",
              "summary": "{\n  \"name\": \"ler_tabela(\\\"profissoes\",\n  \"rows\": 6,\n  \"fields\": [\n    {\n      \"column\": 0,\n      \"properties\": {\n        \"dtype\": \"string\",\n        \"num_unique_values\": 6,\n        \"samples\": [\n          \"Profiss\\u00e3o\",\n          \"Engenheiro\",\n          \"Programador\"\n        ],\n        \"semantic_type\": \"\",\n        \"description\": \"\"\n      }\n    },\n    {\n      \"column\": 1,\n      \"properties\": {\n        \"dtype\": \"string\",\n        \"num_unique_values\": 6,\n        \"samples\": [\n          \"Sal\\u00e1rio M\\u00e9dio\",\n          \"8.500\",\n          \"7.000\"\n        ],\n        \"semantic_type\": \"\",\n        \"description\": \"\"\n      }\n    },\n    {\n      \"column\": 2,\n      \"properties\": {\n        \"dtype\": \"string\",\n        \"num_unique_values\": 6,\n        \"samples\": [\n          \"Percentil 25% (R$)\",\n          \"7.000\",\n          \"6.000\"\n        ],\n        \"semantic_type\": \"\",\n        \"description\": \"\"\n      }\n    },\n    {\n      \"column\": 3,\n      \"properties\": {\n        \"dtype\": \"string\",\n        \"num_unique_values\": 6,\n        \"samples\": [\n          \"Percentil 75% (R$)\",\n          \"10.000\",\n          \"8.000\"\n        ],\n        \"semantic_type\": \"\",\n        \"description\": \"\"\n      }\n    }\n  ]\n}"
            }
          },
          "metadata": {},
          "execution_count": 114
        }
      ],
      "source": [
        "ler_tabela(\"profissoes.pdf\")"
      ]
    },
    {
      "cell_type": "markdown",
      "metadata": {
        "id": "GNXy3yr3J08b"
      },
      "source": [
        "É esperado que ela retorne o **DataFrame** assim:\n",
        "\n",
        "|    | Profissão   |   Salário Médio |   Percentil 25% (R$) |   Percentil 75% (R$) |\n",
        "|---:|:------------|----------------:|---------------------:|---------------------:|\n",
        "|  1 | Engenheiro  |           8.500 |                7.000 |               10.000 |\n",
        "|  2 | Médico      |          12.000 |               10.000 |               14.000 |\n",
        "|  3 | Professor   |           5.000 |                4.000 |                6.000 |\n",
        "|  4 | Advogado    |           9.200 |                7.500 |               11.000 |\n",
        "|  5 | Programador |           7.000 |                6.000 |                8.000 |"
      ]
    },
    {
      "cell_type": "markdown",
      "metadata": {
        "id": "T6z9pTk0J08b"
      },
      "source": [
        "Quando estiver confiante que sua resposta está correta, clique no botão abaixo para fazer o envio."
      ]
    },
    {
      "cell_type": "code",
      "execution_count": null,
      "metadata": {
        "id": "jc2qMRNsJ08b"
      },
      "outputs": [],
      "source": [
        "ia.sender(answer=\"ler_tabela\", task=\"pdf\", question=\"ex05\", answer_type=\"pycode\")"
      ]
    },
    {
      "cell_type": "markdown",
      "metadata": {
        "id": "_4HPbN2ZJ08b"
      },
      "source": [
        "### Exercício 6\n",
        "\n",
        "Crie uma função que retorne a soma de uma coluna da primeira tabela lida de um PDF.\n",
        "\n",
        "A função recebe como entrada:\n",
        "- O caminho de um arquivo PDF.\n",
        "- O número `k` de uma coluna (começando em zero).\n",
        "\n",
        "A função deve retornar a soma dos valores da coluna `k` da tabela.\n",
        "\n",
        "Obs:\n",
        "\n",
        "- O nome e argumentos da função não devem ser alterados.\n",
        "- Considere que o código de correção já tem um import assim: `import camelot`.\n",
        "- Você precisará tratar o cabeçalho da tabela (nome das colunas).\n",
        "- Pode ser necessário realizar conversões de tipos.\n",
        "- Retorne um valor **inteiro**, ignorando a parte decimal do resultado da soma."
      ]
    },
    {
      "cell_type": "code",
      "execution_count": null,
      "metadata": {
        "id": "o_BjvPqUJ08b"
      },
      "outputs": [],
      "source": [
        "# Altere esta função\n",
        "import camelot\n",
        "\n",
        "def somar_coluna(caminho_arquivo, k_col):\n",
        "    return {}"
      ]
    },
    {
      "cell_type": "markdown",
      "metadata": {
        "id": "5hXnTEOXJ08b"
      },
      "source": [
        "Veja um exemplo da execução da função (o resultado esperado é `41700`):"
      ]
    },
    {
      "cell_type": "code",
      "execution_count": null,
      "metadata": {
        "id": "3AtVSySDJ08b"
      },
      "outputs": [],
      "source": [
        "somar_coluna(\"profissoes.pdf\", 1)"
      ]
    },
    {
      "cell_type": "markdown",
      "metadata": {
        "id": "aHK7LPvWJ08c"
      },
      "source": [
        "Abaixo, seguem alguns testes que rodam localmente e verificam sua resposta."
      ]
    },
    {
      "cell_type": "code",
      "execution_count": null,
      "metadata": {
        "id": "H3vG8-5tJ08c"
      },
      "outputs": [],
      "source": [
        "assert somar_coluna(\"profissoes.pdf\", 1) == 41700, \"Retornou o valor errado para a soma!\""
      ]
    },
    {
      "cell_type": "markdown",
      "metadata": {
        "id": "31b6ZY3JJ08c"
      },
      "source": [
        "Quando estiver confiante que sua resposta está correta, clique no botão abaixo para fazer o envio."
      ]
    },
    {
      "cell_type": "code",
      "execution_count": null,
      "metadata": {
        "id": "9mi1BhNsJ08c"
      },
      "outputs": [],
      "source": [
        "ia.sender(answer=\"somar_coluna\", task=\"pdf\", question=\"ex06\", answer_type=\"pycode\")"
      ]
    },
    {
      "cell_type": "markdown",
      "metadata": {
        "id": "mLndAlpYJ08c"
      },
      "source": [
        "### Exercício 7\n",
        "\n",
        "Crie uma função que retorne uma lista com o tamanho (quantidade de linhas, quantidade de colunas) de todas as tabelas lidas em um PDF.\n",
        "\n",
        "A função recebe como entrada o caminho de um arquivo PDF.\n",
        "\n",
        "A função deve retornar uma lista onde cada elemento é uma sublista com a quantidade de linhas e quantidade de colunas (nesta ordem) de cada tabela.\n",
        "\n",
        "Obs:\n",
        "\n",
        "- O nome e argumentos da função não devem ser alterados.\n",
        "- Considere que o código de correção já tem um import assim: `import camelot`."
      ]
    },
    {
      "cell_type": "code",
      "execution_count": null,
      "metadata": {
        "id": "GyghOUrZJ08d"
      },
      "outputs": [],
      "source": [
        "# Altere esta função\n",
        "import camelot\n",
        "\n",
        "def obter_dimensoes_tabelas(caminho_arquivo):\n",
        "    return {}"
      ]
    },
    {
      "cell_type": "markdown",
      "metadata": {
        "id": "N9m8lNosJ08d"
      },
      "source": [
        "Veja um exemplo da execução da função:"
      ]
    },
    {
      "cell_type": "code",
      "execution_count": null,
      "metadata": {
        "id": "gMLzfQtLJ08d"
      },
      "outputs": [],
      "source": [
        "obter_dimensoes_tabelas(\"profissoes.pdf\")"
      ]
    },
    {
      "cell_type": "markdown",
      "metadata": {
        "id": "4_TYyJ-2J08d"
      },
      "source": [
        "É esperado que o retorno obtido seja:\n",
        "\n",
        "```python\n",
        "[[5, 4], [5, 2]]\n",
        "```"
      ]
    },
    {
      "cell_type": "markdown",
      "metadata": {
        "id": "HiXlFXZ7J08d"
      },
      "source": [
        "Abaixo, seguem alguns testes que rodam localmente e verificam sua resposta."
      ]
    },
    {
      "cell_type": "code",
      "execution_count": null,
      "metadata": {
        "id": "o99UGQdXJ08e"
      },
      "outputs": [],
      "source": [
        "assert obter_dimensoes_tabelas(\"profissoes.pdf\") == [[5, 4], [5, 2]], \"Retorno incorreto!\""
      ]
    },
    {
      "cell_type": "markdown",
      "metadata": {
        "id": "GTp0ul8qJ08e"
      },
      "source": [
        "Quando estiver confiante que sua resposta está correta, clique no botão abaixo para fazer o envio."
      ]
    },
    {
      "cell_type": "code",
      "execution_count": null,
      "metadata": {
        "id": "lAwlL3HDJ08e"
      },
      "outputs": [],
      "source": [
        "ia.sender(answer=\"obter_dimensoes_tabelas\", task=\"pdf\", question=\"ex07\", answer_type=\"pycode\")"
      ]
    },
    {
      "cell_type": "markdown",
      "metadata": {
        "id": "WIbCtClLJ08e"
      },
      "source": [
        "### Exercício 8\n",
        "\n",
        "Por enquanto, trabalhamos apenas com PDFs com tabelas contendo bordas bem definidas, por exemplo:\n",
        "\n",
        "<img src=\"https://atd-insper.s3.us-east-2.amazonaws.com/aula02/relatorio_aula02.png\">\n",
        "\n",
        "O desenvolvimento de extração de dados de PDF demanda soluções personalizadas para cada fonte de dados. Os arquivos PDF possuem uma estrutura complexa e podem ser criados de maneiras diferentes. Cada fonte de dados pode adotar diferentes métodos de formatação, layout e organização em seus documentos PDF.\n",
        "\n",
        "Isso resulta em variações significativas na forma como os dados estão estruturados dentro desses arquivos. Portanto, é essencial adaptar as soluções de extração para cada fonte específica, a fim de interpretar corretamente a estrutura do PDF e extrair os dados desejados.\n",
        "\n",
        "Veja, por exemplo, parte do relatório 3T23 do Grupo Casas Bahia. Tente extrair a primeira tabela com o mesmo código utilizado no exercício 05. Irá funcionar?!\n",
        "\n",
        "<img src=\"https://atd-insper.s3.us-east-2.amazonaws.com/aula02/report_casas_bahia_3t23.png\">\n",
        "\n",
        "\n",
        "Neste exercícios, você deve trabalhar com parâmetros no `camelot` para conseguir fazer a extração de uma tabela sem bordas bem definidas.\n",
        "\n",
        "Crie uma função que recebe:\n",
        "- O caminho de um PDF.\n",
        "- O número `n` de uma página.\n",
        "\n",
        "A função deve retornar um **DataFrame** referente à primeira tabela da `n`-ésima página do PDF.\n",
        "\n",
        "Obs:\n",
        "\n",
        "- O nome e argumentos da função não devem ser alterados.\n",
        "- Considere que o código de correção já tem um import assim: `import camelot`.\n",
        "- Faça limpezas necessárias\n",
        "- Leia a documentação https://camelot-py.readthedocs.io/en/master/api.html#camelot.read_pdf e explore, dentre outros, o parâmetro `flavor`."
      ]
    },
    {
      "cell_type": "code",
      "execution_count": null,
      "metadata": {
        "id": "G5dwUwchJ08f"
      },
      "outputs": [],
      "source": [
        "# Altere esta função\n",
        "import camelot\n",
        "\n",
        "def ler_tabela_sem_bordas(caminho_arquivo, n_pag):\n",
        "    return {}"
      ]
    },
    {
      "cell_type": "markdown",
      "metadata": {
        "id": "q4qH_xSWJ08f"
      },
      "source": [
        "Veja um exemplo da execução da função:"
      ]
    },
    {
      "cell_type": "code",
      "execution_count": null,
      "metadata": {
        "id": "VMDnyfJVJ08g"
      },
      "outputs": [],
      "source": [
        "ler_tabela_sem_bordas(\"casas_bahia_3t23.pdf\", 3)"
      ]
    },
    {
      "cell_type": "markdown",
      "metadata": {
        "id": "dKQStJTVJ08g"
      },
      "source": [
        "É esperado que o retorno obtido seja:\n",
        "\n",
        "\n",
        "|    | R$ milhões              |   3T23 |   3T22 | %       |   9M23 |   9M22 | %       |\n",
        "|---:|:------------------------|-------:|-------:|:--------|-------:|-------:|:--------|\n",
        "|  2 | GMV Total Bruto         |  9.814 | 10.23  | (4,1%)  | 31.773 | 31.909 | (0,4%)  |\n",
        "|  3 | GMV Omnicanal (1P)      |  8.508 |  9.082 | (6,3%)  | 27.538 | 28.251 | (2,5%)  |\n",
        "|  4 | GMV Lojas Físicas Bruto |  5.619 |  5.606 | 0,2%    | 17.73  | 17.063 | 3,9%    |\n",
        "|  5 | GMV Bruto (1P Online)   |  2.889 |  3.476 | (16,9%) |  9.808 | 11.188 | (12,3%) |\n",
        "|  6 | GMV Omnicanal (3P)      |  1.306 |  1.148 | 13,8%   |  4.235 |  3.658 | 15,8%   |"
      ]
    },
    {
      "cell_type": "markdown",
      "metadata": {
        "id": "6eO8nLw3J08g"
      },
      "source": [
        "Abaixo, seguem alguns testes que rodam localmente e verificam sua resposta."
      ]
    },
    {
      "cell_type": "code",
      "execution_count": null,
      "metadata": {
        "id": "ZL64q0kIJ08g"
      },
      "outputs": [],
      "source": [
        "assert obter_dimensoes_tabelas(\"profissoes.pdf\") == [[5, 4], [5, 2]], \"Retorno incorreto!\""
      ]
    },
    {
      "cell_type": "markdown",
      "metadata": {
        "id": "1p_x6RpFJ08g"
      },
      "source": [
        "Quando estiver confiante que sua resposta está correta, clique no botão abaixo para fazer o envio."
      ]
    },
    {
      "cell_type": "code",
      "execution_count": null,
      "metadata": {
        "id": "ktVCMIGEJ08g"
      },
      "outputs": [],
      "source": [
        "ia.sender(answer=\"ler_tabela_sem_bordas\", task=\"pdf\", question=\"ex08\", answer_type=\"pycode\")"
      ]
    },
    {
      "cell_type": "markdown",
      "metadata": {
        "id": "AShh4oqdJ08g"
      },
      "source": [
        "## Conferir notas\n",
        "\n",
        "Vamos verificar se as notas foram gravadas nos exercícios!"
      ]
    },
    {
      "cell_type": "code",
      "execution_count": null,
      "metadata": {
        "id": "LSE4AXNlJ08h"
      },
      "outputs": [],
      "source": [
        "ia.grades(task=\"pdf\")"
      ]
    },
    {
      "cell_type": "markdown",
      "metadata": {
        "id": "2SLYZ3MFJ08h"
      },
      "source": [
        "Vamos verificar se a nota da atividade está ok:"
      ]
    },
    {
      "cell_type": "code",
      "execution_count": null,
      "metadata": {
        "id": "9HhnHZDkJ08h"
      },
      "outputs": [],
      "source": [
        "ia.grades(by=\"TASK\", task=\"pdf\")"
      ]
    },
    {
      "cell_type": "markdown",
      "metadata": {
        "id": "IYsQ1GvNJ08h"
      },
      "source": [
        "## Finalizando o trabalho"
      ]
    },
    {
      "cell_type": "markdown",
      "metadata": {
        "id": "z5JLOqbiJ08h"
      },
      "source": [
        "Por hoje é só!"
      ]
    },
    {
      "cell_type": "markdown",
      "metadata": {
        "id": "YCDeAjYxJ08h"
      },
      "source": [
        "## Referências\n",
        "\n",
        "- https://www.editoraarqueiro.com.br/media/upload/livros/GuiadefinitivoMochileiroGalaxias_Trecho.pdf\n",
        "- https://sixsigmadsi.com/wp-content/uploads/2020/10/A-Dirty-Dozen-Twelve-P-Value-Misconceptions.pdf\n",
        "- https://static.poder360.com.br/2022/11/Itau-3Q-2022.pdf\n",
        "- https://api.mziq.com/mzfilemanager/v2/d/ce9bff9f-fb19-49b9-9588-c4c6b7052c9c/37d12eba-956f-2252-6a57-4f2b9ff9ae8a?origin=2"
      ]
    }
  ],
  "metadata": {
    "kernelspec": {
      "display_name": "Python 3 (ipykernel)",
      "language": "python",
      "name": "python3"
    },
    "language_info": {
      "codemirror_mode": {
        "name": "ipython",
        "version": 3
      },
      "file_extension": ".py",
      "mimetype": "text/x-python",
      "name": "python",
      "nbconvert_exporter": "python",
      "pygments_lexer": "ipython3",
      "version": "3.10.12"
    },
    "colab": {
      "provenance": [],
      "include_colab_link": true
    },
    "widgets": {
      "application/vnd.jupyter.widget-state+json": {
        "a3b6c5a87a4842d2addb0ef1fff91915": {
          "model_module": "@jupyter-widgets/controls",
          "model_name": "VBoxModel",
          "model_module_version": "1.5.0",
          "state": {
            "_dom_classes": [
              "widget-interact"
            ],
            "_model_module": "@jupyter-widgets/controls",
            "_model_module_version": "1.5.0",
            "_model_name": "VBoxModel",
            "_view_count": null,
            "_view_module": "@jupyter-widgets/controls",
            "_view_module_version": "1.5.0",
            "_view_name": "VBoxView",
            "box_style": "",
            "children": [
              "IPY_MODEL_561550aa3dc14459873fb87b0af95998",
              "IPY_MODEL_4952794510ab460abc36faf01280e3b6"
            ],
            "layout": "IPY_MODEL_bcfc8e9674b7402abdd51c0a8944c837"
          }
        },
        "561550aa3dc14459873fb87b0af95998": {
          "model_module": "@jupyter-widgets/controls",
          "model_name": "ButtonModel",
          "model_module_version": "1.5.0",
          "state": {
            "_dom_classes": [],
            "_model_module": "@jupyter-widgets/controls",
            "_model_module_version": "1.5.0",
            "_model_name": "ButtonModel",
            "_view_count": null,
            "_view_module": "@jupyter-widgets/controls",
            "_view_module_version": "1.5.0",
            "_view_name": "ButtonView",
            "button_style": "",
            "description": "Enviar ex00",
            "disabled": false,
            "icon": "",
            "layout": "IPY_MODEL_7e6a52843cfb423cbc788ffd72b244e4",
            "style": "IPY_MODEL_15b4c68a289742ceb4614d899f193a0d",
            "tooltip": ""
          }
        },
        "4952794510ab460abc36faf01280e3b6": {
          "model_module": "@jupyter-widgets/output",
          "model_name": "OutputModel",
          "model_module_version": "1.0.0",
          "state": {
            "_dom_classes": [],
            "_model_module": "@jupyter-widgets/output",
            "_model_module_version": "1.0.0",
            "_model_name": "OutputModel",
            "_view_count": null,
            "_view_module": "@jupyter-widgets/output",
            "_view_module_version": "1.0.0",
            "_view_name": "OutputView",
            "layout": "IPY_MODEL_3d866da318614057b1daa7886b84cb2f",
            "msg_id": "",
            "outputs": [
              {
                "output_type": "display_data",
                "data": {
                  "text/plain": "<IPython.core.display.Markdown object>",
                  "text/markdown": "Exercício `ex00` da `pdf` está **correto**!"
                },
                "metadata": {}
              }
            ]
          }
        },
        "bcfc8e9674b7402abdd51c0a8944c837": {
          "model_module": "@jupyter-widgets/base",
          "model_name": "LayoutModel",
          "model_module_version": "1.2.0",
          "state": {
            "_model_module": "@jupyter-widgets/base",
            "_model_module_version": "1.2.0",
            "_model_name": "LayoutModel",
            "_view_count": null,
            "_view_module": "@jupyter-widgets/base",
            "_view_module_version": "1.2.0",
            "_view_name": "LayoutView",
            "align_content": null,
            "align_items": null,
            "align_self": null,
            "border": null,
            "bottom": null,
            "display": null,
            "flex": null,
            "flex_flow": null,
            "grid_area": null,
            "grid_auto_columns": null,
            "grid_auto_flow": null,
            "grid_auto_rows": null,
            "grid_column": null,
            "grid_gap": null,
            "grid_row": null,
            "grid_template_areas": null,
            "grid_template_columns": null,
            "grid_template_rows": null,
            "height": null,
            "justify_content": null,
            "justify_items": null,
            "left": null,
            "margin": null,
            "max_height": null,
            "max_width": null,
            "min_height": null,
            "min_width": null,
            "object_fit": null,
            "object_position": null,
            "order": null,
            "overflow": null,
            "overflow_x": null,
            "overflow_y": null,
            "padding": null,
            "right": null,
            "top": null,
            "visibility": null,
            "width": null
          }
        },
        "7e6a52843cfb423cbc788ffd72b244e4": {
          "model_module": "@jupyter-widgets/base",
          "model_name": "LayoutModel",
          "model_module_version": "1.2.0",
          "state": {
            "_model_module": "@jupyter-widgets/base",
            "_model_module_version": "1.2.0",
            "_model_name": "LayoutModel",
            "_view_count": null,
            "_view_module": "@jupyter-widgets/base",
            "_view_module_version": "1.2.0",
            "_view_name": "LayoutView",
            "align_content": null,
            "align_items": null,
            "align_self": null,
            "border": null,
            "bottom": null,
            "display": null,
            "flex": null,
            "flex_flow": null,
            "grid_area": null,
            "grid_auto_columns": null,
            "grid_auto_flow": null,
            "grid_auto_rows": null,
            "grid_column": null,
            "grid_gap": null,
            "grid_row": null,
            "grid_template_areas": null,
            "grid_template_columns": null,
            "grid_template_rows": null,
            "height": null,
            "justify_content": null,
            "justify_items": null,
            "left": null,
            "margin": null,
            "max_height": null,
            "max_width": null,
            "min_height": null,
            "min_width": null,
            "object_fit": null,
            "object_position": null,
            "order": null,
            "overflow": null,
            "overflow_x": null,
            "overflow_y": null,
            "padding": null,
            "right": null,
            "top": null,
            "visibility": null,
            "width": null
          }
        },
        "15b4c68a289742ceb4614d899f193a0d": {
          "model_module": "@jupyter-widgets/controls",
          "model_name": "ButtonStyleModel",
          "model_module_version": "1.5.0",
          "state": {
            "_model_module": "@jupyter-widgets/controls",
            "_model_module_version": "1.5.0",
            "_model_name": "ButtonStyleModel",
            "_view_count": null,
            "_view_module": "@jupyter-widgets/base",
            "_view_module_version": "1.2.0",
            "_view_name": "StyleView",
            "button_color": null,
            "font_weight": ""
          }
        },
        "3d866da318614057b1daa7886b84cb2f": {
          "model_module": "@jupyter-widgets/base",
          "model_name": "LayoutModel",
          "model_module_version": "1.2.0",
          "state": {
            "_model_module": "@jupyter-widgets/base",
            "_model_module_version": "1.2.0",
            "_model_name": "LayoutModel",
            "_view_count": null,
            "_view_module": "@jupyter-widgets/base",
            "_view_module_version": "1.2.0",
            "_view_name": "LayoutView",
            "align_content": null,
            "align_items": null,
            "align_self": null,
            "border": null,
            "bottom": null,
            "display": null,
            "flex": null,
            "flex_flow": null,
            "grid_area": null,
            "grid_auto_columns": null,
            "grid_auto_flow": null,
            "grid_auto_rows": null,
            "grid_column": null,
            "grid_gap": null,
            "grid_row": null,
            "grid_template_areas": null,
            "grid_template_columns": null,
            "grid_template_rows": null,
            "height": null,
            "justify_content": null,
            "justify_items": null,
            "left": null,
            "margin": null,
            "max_height": null,
            "max_width": null,
            "min_height": null,
            "min_width": null,
            "object_fit": null,
            "object_position": null,
            "order": null,
            "overflow": null,
            "overflow_x": null,
            "overflow_y": null,
            "padding": null,
            "right": null,
            "top": null,
            "visibility": null,
            "width": null
          }
        },
        "7104c9a7ef544c568e9d90f4070e7af7": {
          "model_module": "@jupyter-widgets/controls",
          "model_name": "VBoxModel",
          "model_module_version": "1.5.0",
          "state": {
            "_dom_classes": [
              "widget-interact"
            ],
            "_model_module": "@jupyter-widgets/controls",
            "_model_module_version": "1.5.0",
            "_model_name": "VBoxModel",
            "_view_count": null,
            "_view_module": "@jupyter-widgets/controls",
            "_view_module_version": "1.5.0",
            "_view_name": "VBoxView",
            "box_style": "",
            "children": [
              "IPY_MODEL_b1323470da034219a35c653b16226b0f",
              "IPY_MODEL_b526c034388946e8ae78fc33e4a389e4"
            ],
            "layout": "IPY_MODEL_e388de346f784ec1baab50f2ffe7aeb5"
          }
        },
        "b1323470da034219a35c653b16226b0f": {
          "model_module": "@jupyter-widgets/controls",
          "model_name": "ButtonModel",
          "model_module_version": "1.5.0",
          "state": {
            "_dom_classes": [],
            "_model_module": "@jupyter-widgets/controls",
            "_model_module_version": "1.5.0",
            "_model_name": "ButtonModel",
            "_view_count": null,
            "_view_module": "@jupyter-widgets/controls",
            "_view_module_version": "1.5.0",
            "_view_name": "ButtonView",
            "button_style": "",
            "description": "Enviar ex01",
            "disabled": false,
            "icon": "",
            "layout": "IPY_MODEL_435b5e41e10d4ad5860d2d99e2a6c3bc",
            "style": "IPY_MODEL_befe1c7e73434cf983503de2a304213e",
            "tooltip": ""
          }
        },
        "b526c034388946e8ae78fc33e4a389e4": {
          "model_module": "@jupyter-widgets/output",
          "model_name": "OutputModel",
          "model_module_version": "1.0.0",
          "state": {
            "_dom_classes": [],
            "_model_module": "@jupyter-widgets/output",
            "_model_module_version": "1.0.0",
            "_model_name": "OutputModel",
            "_view_count": null,
            "_view_module": "@jupyter-widgets/output",
            "_view_module_version": "1.0.0",
            "_view_name": "OutputView",
            "layout": "IPY_MODEL_9d476d42d4fd43a78ddda7b200a30896",
            "msg_id": "",
            "outputs": [
              {
                "output_type": "display_data",
                "data": {
                  "text/plain": "<IPython.core.display.Markdown object>",
                  "text/markdown": "Exercício `ex01` da `pdf` está **correto**!"
                },
                "metadata": {}
              }
            ]
          }
        },
        "e388de346f784ec1baab50f2ffe7aeb5": {
          "model_module": "@jupyter-widgets/base",
          "model_name": "LayoutModel",
          "model_module_version": "1.2.0",
          "state": {
            "_model_module": "@jupyter-widgets/base",
            "_model_module_version": "1.2.0",
            "_model_name": "LayoutModel",
            "_view_count": null,
            "_view_module": "@jupyter-widgets/base",
            "_view_module_version": "1.2.0",
            "_view_name": "LayoutView",
            "align_content": null,
            "align_items": null,
            "align_self": null,
            "border": null,
            "bottom": null,
            "display": null,
            "flex": null,
            "flex_flow": null,
            "grid_area": null,
            "grid_auto_columns": null,
            "grid_auto_flow": null,
            "grid_auto_rows": null,
            "grid_column": null,
            "grid_gap": null,
            "grid_row": null,
            "grid_template_areas": null,
            "grid_template_columns": null,
            "grid_template_rows": null,
            "height": null,
            "justify_content": null,
            "justify_items": null,
            "left": null,
            "margin": null,
            "max_height": null,
            "max_width": null,
            "min_height": null,
            "min_width": null,
            "object_fit": null,
            "object_position": null,
            "order": null,
            "overflow": null,
            "overflow_x": null,
            "overflow_y": null,
            "padding": null,
            "right": null,
            "top": null,
            "visibility": null,
            "width": null
          }
        },
        "435b5e41e10d4ad5860d2d99e2a6c3bc": {
          "model_module": "@jupyter-widgets/base",
          "model_name": "LayoutModel",
          "model_module_version": "1.2.0",
          "state": {
            "_model_module": "@jupyter-widgets/base",
            "_model_module_version": "1.2.0",
            "_model_name": "LayoutModel",
            "_view_count": null,
            "_view_module": "@jupyter-widgets/base",
            "_view_module_version": "1.2.0",
            "_view_name": "LayoutView",
            "align_content": null,
            "align_items": null,
            "align_self": null,
            "border": null,
            "bottom": null,
            "display": null,
            "flex": null,
            "flex_flow": null,
            "grid_area": null,
            "grid_auto_columns": null,
            "grid_auto_flow": null,
            "grid_auto_rows": null,
            "grid_column": null,
            "grid_gap": null,
            "grid_row": null,
            "grid_template_areas": null,
            "grid_template_columns": null,
            "grid_template_rows": null,
            "height": null,
            "justify_content": null,
            "justify_items": null,
            "left": null,
            "margin": null,
            "max_height": null,
            "max_width": null,
            "min_height": null,
            "min_width": null,
            "object_fit": null,
            "object_position": null,
            "order": null,
            "overflow": null,
            "overflow_x": null,
            "overflow_y": null,
            "padding": null,
            "right": null,
            "top": null,
            "visibility": null,
            "width": null
          }
        },
        "befe1c7e73434cf983503de2a304213e": {
          "model_module": "@jupyter-widgets/controls",
          "model_name": "ButtonStyleModel",
          "model_module_version": "1.5.0",
          "state": {
            "_model_module": "@jupyter-widgets/controls",
            "_model_module_version": "1.5.0",
            "_model_name": "ButtonStyleModel",
            "_view_count": null,
            "_view_module": "@jupyter-widgets/base",
            "_view_module_version": "1.2.0",
            "_view_name": "StyleView",
            "button_color": null,
            "font_weight": ""
          }
        },
        "9d476d42d4fd43a78ddda7b200a30896": {
          "model_module": "@jupyter-widgets/base",
          "model_name": "LayoutModel",
          "model_module_version": "1.2.0",
          "state": {
            "_model_module": "@jupyter-widgets/base",
            "_model_module_version": "1.2.0",
            "_model_name": "LayoutModel",
            "_view_count": null,
            "_view_module": "@jupyter-widgets/base",
            "_view_module_version": "1.2.0",
            "_view_name": "LayoutView",
            "align_content": null,
            "align_items": null,
            "align_self": null,
            "border": null,
            "bottom": null,
            "display": null,
            "flex": null,
            "flex_flow": null,
            "grid_area": null,
            "grid_auto_columns": null,
            "grid_auto_flow": null,
            "grid_auto_rows": null,
            "grid_column": null,
            "grid_gap": null,
            "grid_row": null,
            "grid_template_areas": null,
            "grid_template_columns": null,
            "grid_template_rows": null,
            "height": null,
            "justify_content": null,
            "justify_items": null,
            "left": null,
            "margin": null,
            "max_height": null,
            "max_width": null,
            "min_height": null,
            "min_width": null,
            "object_fit": null,
            "object_position": null,
            "order": null,
            "overflow": null,
            "overflow_x": null,
            "overflow_y": null,
            "padding": null,
            "right": null,
            "top": null,
            "visibility": null,
            "width": null
          }
        },
        "28467fe68d384b69bb93c7a5e9577818": {
          "model_module": "@jupyter-widgets/controls",
          "model_name": "VBoxModel",
          "model_module_version": "1.5.0",
          "state": {
            "_dom_classes": [
              "widget-interact"
            ],
            "_model_module": "@jupyter-widgets/controls",
            "_model_module_version": "1.5.0",
            "_model_name": "VBoxModel",
            "_view_count": null,
            "_view_module": "@jupyter-widgets/controls",
            "_view_module_version": "1.5.0",
            "_view_name": "VBoxView",
            "box_style": "",
            "children": [
              "IPY_MODEL_a339e6bfc0974ea1856d7ae695507caf",
              "IPY_MODEL_4482457bafdc4102977ea8f01fdf314a"
            ],
            "layout": "IPY_MODEL_6dabb0adebb14c9d9da9c264d1d53e63"
          }
        },
        "a339e6bfc0974ea1856d7ae695507caf": {
          "model_module": "@jupyter-widgets/controls",
          "model_name": "ButtonModel",
          "model_module_version": "1.5.0",
          "state": {
            "_dom_classes": [],
            "_model_module": "@jupyter-widgets/controls",
            "_model_module_version": "1.5.0",
            "_model_name": "ButtonModel",
            "_view_count": null,
            "_view_module": "@jupyter-widgets/controls",
            "_view_module_version": "1.5.0",
            "_view_name": "ButtonView",
            "button_style": "",
            "description": "Enviar ex02",
            "disabled": false,
            "icon": "",
            "layout": "IPY_MODEL_0f79683ba7fa48d7942ec301c8c172e7",
            "style": "IPY_MODEL_0015d5ac27234387a19f3a328c2babbb",
            "tooltip": ""
          }
        },
        "4482457bafdc4102977ea8f01fdf314a": {
          "model_module": "@jupyter-widgets/output",
          "model_name": "OutputModel",
          "model_module_version": "1.0.0",
          "state": {
            "_dom_classes": [],
            "_model_module": "@jupyter-widgets/output",
            "_model_module_version": "1.0.0",
            "_model_name": "OutputModel",
            "_view_count": null,
            "_view_module": "@jupyter-widgets/output",
            "_view_module_version": "1.0.0",
            "_view_name": "OutputView",
            "layout": "IPY_MODEL_2e7bf28c0d014bbd8020b472a1dbb303",
            "msg_id": "",
            "outputs": [
              {
                "output_type": "display_data",
                "data": {
                  "text/plain": "<IPython.core.display.Markdown object>",
                  "text/markdown": "Exercício `ex02` da `pdf` está **correto**!"
                },
                "metadata": {}
              }
            ]
          }
        },
        "6dabb0adebb14c9d9da9c264d1d53e63": {
          "model_module": "@jupyter-widgets/base",
          "model_name": "LayoutModel",
          "model_module_version": "1.2.0",
          "state": {
            "_model_module": "@jupyter-widgets/base",
            "_model_module_version": "1.2.0",
            "_model_name": "LayoutModel",
            "_view_count": null,
            "_view_module": "@jupyter-widgets/base",
            "_view_module_version": "1.2.0",
            "_view_name": "LayoutView",
            "align_content": null,
            "align_items": null,
            "align_self": null,
            "border": null,
            "bottom": null,
            "display": null,
            "flex": null,
            "flex_flow": null,
            "grid_area": null,
            "grid_auto_columns": null,
            "grid_auto_flow": null,
            "grid_auto_rows": null,
            "grid_column": null,
            "grid_gap": null,
            "grid_row": null,
            "grid_template_areas": null,
            "grid_template_columns": null,
            "grid_template_rows": null,
            "height": null,
            "justify_content": null,
            "justify_items": null,
            "left": null,
            "margin": null,
            "max_height": null,
            "max_width": null,
            "min_height": null,
            "min_width": null,
            "object_fit": null,
            "object_position": null,
            "order": null,
            "overflow": null,
            "overflow_x": null,
            "overflow_y": null,
            "padding": null,
            "right": null,
            "top": null,
            "visibility": null,
            "width": null
          }
        },
        "0f79683ba7fa48d7942ec301c8c172e7": {
          "model_module": "@jupyter-widgets/base",
          "model_name": "LayoutModel",
          "model_module_version": "1.2.0",
          "state": {
            "_model_module": "@jupyter-widgets/base",
            "_model_module_version": "1.2.0",
            "_model_name": "LayoutModel",
            "_view_count": null,
            "_view_module": "@jupyter-widgets/base",
            "_view_module_version": "1.2.0",
            "_view_name": "LayoutView",
            "align_content": null,
            "align_items": null,
            "align_self": null,
            "border": null,
            "bottom": null,
            "display": null,
            "flex": null,
            "flex_flow": null,
            "grid_area": null,
            "grid_auto_columns": null,
            "grid_auto_flow": null,
            "grid_auto_rows": null,
            "grid_column": null,
            "grid_gap": null,
            "grid_row": null,
            "grid_template_areas": null,
            "grid_template_columns": null,
            "grid_template_rows": null,
            "height": null,
            "justify_content": null,
            "justify_items": null,
            "left": null,
            "margin": null,
            "max_height": null,
            "max_width": null,
            "min_height": null,
            "min_width": null,
            "object_fit": null,
            "object_position": null,
            "order": null,
            "overflow": null,
            "overflow_x": null,
            "overflow_y": null,
            "padding": null,
            "right": null,
            "top": null,
            "visibility": null,
            "width": null
          }
        },
        "0015d5ac27234387a19f3a328c2babbb": {
          "model_module": "@jupyter-widgets/controls",
          "model_name": "ButtonStyleModel",
          "model_module_version": "1.5.0",
          "state": {
            "_model_module": "@jupyter-widgets/controls",
            "_model_module_version": "1.5.0",
            "_model_name": "ButtonStyleModel",
            "_view_count": null,
            "_view_module": "@jupyter-widgets/base",
            "_view_module_version": "1.2.0",
            "_view_name": "StyleView",
            "button_color": null,
            "font_weight": ""
          }
        },
        "2e7bf28c0d014bbd8020b472a1dbb303": {
          "model_module": "@jupyter-widgets/base",
          "model_name": "LayoutModel",
          "model_module_version": "1.2.0",
          "state": {
            "_model_module": "@jupyter-widgets/base",
            "_model_module_version": "1.2.0",
            "_model_name": "LayoutModel",
            "_view_count": null,
            "_view_module": "@jupyter-widgets/base",
            "_view_module_version": "1.2.0",
            "_view_name": "LayoutView",
            "align_content": null,
            "align_items": null,
            "align_self": null,
            "border": null,
            "bottom": null,
            "display": null,
            "flex": null,
            "flex_flow": null,
            "grid_area": null,
            "grid_auto_columns": null,
            "grid_auto_flow": null,
            "grid_auto_rows": null,
            "grid_column": null,
            "grid_gap": null,
            "grid_row": null,
            "grid_template_areas": null,
            "grid_template_columns": null,
            "grid_template_rows": null,
            "height": null,
            "justify_content": null,
            "justify_items": null,
            "left": null,
            "margin": null,
            "max_height": null,
            "max_width": null,
            "min_height": null,
            "min_width": null,
            "object_fit": null,
            "object_position": null,
            "order": null,
            "overflow": null,
            "overflow_x": null,
            "overflow_y": null,
            "padding": null,
            "right": null,
            "top": null,
            "visibility": null,
            "width": null
          }
        },
        "187332ac6efb47799ff732ab2921fbd0": {
          "model_module": "@jupyter-widgets/controls",
          "model_name": "VBoxModel",
          "model_module_version": "1.5.0",
          "state": {
            "_dom_classes": [
              "widget-interact"
            ],
            "_model_module": "@jupyter-widgets/controls",
            "_model_module_version": "1.5.0",
            "_model_name": "VBoxModel",
            "_view_count": null,
            "_view_module": "@jupyter-widgets/controls",
            "_view_module_version": "1.5.0",
            "_view_name": "VBoxView",
            "box_style": "",
            "children": [
              "IPY_MODEL_4397466fc9714951afce64c1f7d4241a",
              "IPY_MODEL_ffa37df58d1749e597f8c377c134c9fd"
            ],
            "layout": "IPY_MODEL_6b5b5fd068d74231b7d4ec6eb229b385"
          }
        },
        "4397466fc9714951afce64c1f7d4241a": {
          "model_module": "@jupyter-widgets/controls",
          "model_name": "ButtonModel",
          "model_module_version": "1.5.0",
          "state": {
            "_dom_classes": [],
            "_model_module": "@jupyter-widgets/controls",
            "_model_module_version": "1.5.0",
            "_model_name": "ButtonModel",
            "_view_count": null,
            "_view_module": "@jupyter-widgets/controls",
            "_view_module_version": "1.5.0",
            "_view_name": "ButtonView",
            "button_style": "",
            "description": "Enviar ex03",
            "disabled": false,
            "icon": "",
            "layout": "IPY_MODEL_767f3fbfbdaa45679fb5899856edf458",
            "style": "IPY_MODEL_96609336233045ffb0cd098e0ac92b6d",
            "tooltip": ""
          }
        },
        "ffa37df58d1749e597f8c377c134c9fd": {
          "model_module": "@jupyter-widgets/output",
          "model_name": "OutputModel",
          "model_module_version": "1.0.0",
          "state": {
            "_dom_classes": [],
            "_model_module": "@jupyter-widgets/output",
            "_model_module_version": "1.0.0",
            "_model_name": "OutputModel",
            "_view_count": null,
            "_view_module": "@jupyter-widgets/output",
            "_view_module_version": "1.0.0",
            "_view_name": "OutputView",
            "layout": "IPY_MODEL_6fe70e7502bf4d4e9485cf37b0a10d0e",
            "msg_id": "",
            "outputs": [
              {
                "output_type": "display_data",
                "data": {
                  "text/plain": "<IPython.core.display.Markdown object>",
                  "text/markdown": "Exercício `ex03` da `pdf` está **correto**!"
                },
                "metadata": {}
              }
            ]
          }
        },
        "6b5b5fd068d74231b7d4ec6eb229b385": {
          "model_module": "@jupyter-widgets/base",
          "model_name": "LayoutModel",
          "model_module_version": "1.2.0",
          "state": {
            "_model_module": "@jupyter-widgets/base",
            "_model_module_version": "1.2.0",
            "_model_name": "LayoutModel",
            "_view_count": null,
            "_view_module": "@jupyter-widgets/base",
            "_view_module_version": "1.2.0",
            "_view_name": "LayoutView",
            "align_content": null,
            "align_items": null,
            "align_self": null,
            "border": null,
            "bottom": null,
            "display": null,
            "flex": null,
            "flex_flow": null,
            "grid_area": null,
            "grid_auto_columns": null,
            "grid_auto_flow": null,
            "grid_auto_rows": null,
            "grid_column": null,
            "grid_gap": null,
            "grid_row": null,
            "grid_template_areas": null,
            "grid_template_columns": null,
            "grid_template_rows": null,
            "height": null,
            "justify_content": null,
            "justify_items": null,
            "left": null,
            "margin": null,
            "max_height": null,
            "max_width": null,
            "min_height": null,
            "min_width": null,
            "object_fit": null,
            "object_position": null,
            "order": null,
            "overflow": null,
            "overflow_x": null,
            "overflow_y": null,
            "padding": null,
            "right": null,
            "top": null,
            "visibility": null,
            "width": null
          }
        },
        "767f3fbfbdaa45679fb5899856edf458": {
          "model_module": "@jupyter-widgets/base",
          "model_name": "LayoutModel",
          "model_module_version": "1.2.0",
          "state": {
            "_model_module": "@jupyter-widgets/base",
            "_model_module_version": "1.2.0",
            "_model_name": "LayoutModel",
            "_view_count": null,
            "_view_module": "@jupyter-widgets/base",
            "_view_module_version": "1.2.0",
            "_view_name": "LayoutView",
            "align_content": null,
            "align_items": null,
            "align_self": null,
            "border": null,
            "bottom": null,
            "display": null,
            "flex": null,
            "flex_flow": null,
            "grid_area": null,
            "grid_auto_columns": null,
            "grid_auto_flow": null,
            "grid_auto_rows": null,
            "grid_column": null,
            "grid_gap": null,
            "grid_row": null,
            "grid_template_areas": null,
            "grid_template_columns": null,
            "grid_template_rows": null,
            "height": null,
            "justify_content": null,
            "justify_items": null,
            "left": null,
            "margin": null,
            "max_height": null,
            "max_width": null,
            "min_height": null,
            "min_width": null,
            "object_fit": null,
            "object_position": null,
            "order": null,
            "overflow": null,
            "overflow_x": null,
            "overflow_y": null,
            "padding": null,
            "right": null,
            "top": null,
            "visibility": null,
            "width": null
          }
        },
        "96609336233045ffb0cd098e0ac92b6d": {
          "model_module": "@jupyter-widgets/controls",
          "model_name": "ButtonStyleModel",
          "model_module_version": "1.5.0",
          "state": {
            "_model_module": "@jupyter-widgets/controls",
            "_model_module_version": "1.5.0",
            "_model_name": "ButtonStyleModel",
            "_view_count": null,
            "_view_module": "@jupyter-widgets/base",
            "_view_module_version": "1.2.0",
            "_view_name": "StyleView",
            "button_color": null,
            "font_weight": ""
          }
        },
        "6fe70e7502bf4d4e9485cf37b0a10d0e": {
          "model_module": "@jupyter-widgets/base",
          "model_name": "LayoutModel",
          "model_module_version": "1.2.0",
          "state": {
            "_model_module": "@jupyter-widgets/base",
            "_model_module_version": "1.2.0",
            "_model_name": "LayoutModel",
            "_view_count": null,
            "_view_module": "@jupyter-widgets/base",
            "_view_module_version": "1.2.0",
            "_view_name": "LayoutView",
            "align_content": null,
            "align_items": null,
            "align_self": null,
            "border": null,
            "bottom": null,
            "display": null,
            "flex": null,
            "flex_flow": null,
            "grid_area": null,
            "grid_auto_columns": null,
            "grid_auto_flow": null,
            "grid_auto_rows": null,
            "grid_column": null,
            "grid_gap": null,
            "grid_row": null,
            "grid_template_areas": null,
            "grid_template_columns": null,
            "grid_template_rows": null,
            "height": null,
            "justify_content": null,
            "justify_items": null,
            "left": null,
            "margin": null,
            "max_height": null,
            "max_width": null,
            "min_height": null,
            "min_width": null,
            "object_fit": null,
            "object_position": null,
            "order": null,
            "overflow": null,
            "overflow_x": null,
            "overflow_y": null,
            "padding": null,
            "right": null,
            "top": null,
            "visibility": null,
            "width": null
          }
        },
        "1f77ffd941954e4c8c2222641c3d20ef": {
          "model_module": "@jupyter-widgets/controls",
          "model_name": "VBoxModel",
          "model_module_version": "1.5.0",
          "state": {
            "_dom_classes": [
              "widget-interact"
            ],
            "_model_module": "@jupyter-widgets/controls",
            "_model_module_version": "1.5.0",
            "_model_name": "VBoxModel",
            "_view_count": null,
            "_view_module": "@jupyter-widgets/controls",
            "_view_module_version": "1.5.0",
            "_view_name": "VBoxView",
            "box_style": "",
            "children": [
              "IPY_MODEL_10edab4468d743e3910972b083fc738b",
              "IPY_MODEL_f98987f75ffd4780be0cc64a73f1e3c1"
            ],
            "layout": "IPY_MODEL_b42dcca3991e4fc38139aee6d7a5c9e1"
          }
        },
        "10edab4468d743e3910972b083fc738b": {
          "model_module": "@jupyter-widgets/controls",
          "model_name": "ButtonModel",
          "model_module_version": "1.5.0",
          "state": {
            "_dom_classes": [],
            "_model_module": "@jupyter-widgets/controls",
            "_model_module_version": "1.5.0",
            "_model_name": "ButtonModel",
            "_view_count": null,
            "_view_module": "@jupyter-widgets/controls",
            "_view_module_version": "1.5.0",
            "_view_name": "ButtonView",
            "button_style": "",
            "description": "Enviar ex04",
            "disabled": false,
            "icon": "",
            "layout": "IPY_MODEL_e824c6747e944544a981672ccb87e492",
            "style": "IPY_MODEL_1762edef79b64a16a8f2fdcb9c1b43b1",
            "tooltip": ""
          }
        },
        "f98987f75ffd4780be0cc64a73f1e3c1": {
          "model_module": "@jupyter-widgets/output",
          "model_name": "OutputModel",
          "model_module_version": "1.0.0",
          "state": {
            "_dom_classes": [],
            "_model_module": "@jupyter-widgets/output",
            "_model_module_version": "1.0.0",
            "_model_name": "OutputModel",
            "_view_count": null,
            "_view_module": "@jupyter-widgets/output",
            "_view_module_version": "1.0.0",
            "_view_name": "OutputView",
            "layout": "IPY_MODEL_621d643cb68e42e1917e041f98bcfc47",
            "msg_id": "",
            "outputs": [
              {
                "output_type": "display_data",
                "data": {
                  "text/plain": "<IPython.core.display.Markdown object>",
                  "text/markdown": "Exercício `ex04` da `pdf` está **correto**!"
                },
                "metadata": {}
              }
            ]
          }
        },
        "b42dcca3991e4fc38139aee6d7a5c9e1": {
          "model_module": "@jupyter-widgets/base",
          "model_name": "LayoutModel",
          "model_module_version": "1.2.0",
          "state": {
            "_model_module": "@jupyter-widgets/base",
            "_model_module_version": "1.2.0",
            "_model_name": "LayoutModel",
            "_view_count": null,
            "_view_module": "@jupyter-widgets/base",
            "_view_module_version": "1.2.0",
            "_view_name": "LayoutView",
            "align_content": null,
            "align_items": null,
            "align_self": null,
            "border": null,
            "bottom": null,
            "display": null,
            "flex": null,
            "flex_flow": null,
            "grid_area": null,
            "grid_auto_columns": null,
            "grid_auto_flow": null,
            "grid_auto_rows": null,
            "grid_column": null,
            "grid_gap": null,
            "grid_row": null,
            "grid_template_areas": null,
            "grid_template_columns": null,
            "grid_template_rows": null,
            "height": null,
            "justify_content": null,
            "justify_items": null,
            "left": null,
            "margin": null,
            "max_height": null,
            "max_width": null,
            "min_height": null,
            "min_width": null,
            "object_fit": null,
            "object_position": null,
            "order": null,
            "overflow": null,
            "overflow_x": null,
            "overflow_y": null,
            "padding": null,
            "right": null,
            "top": null,
            "visibility": null,
            "width": null
          }
        },
        "e824c6747e944544a981672ccb87e492": {
          "model_module": "@jupyter-widgets/base",
          "model_name": "LayoutModel",
          "model_module_version": "1.2.0",
          "state": {
            "_model_module": "@jupyter-widgets/base",
            "_model_module_version": "1.2.0",
            "_model_name": "LayoutModel",
            "_view_count": null,
            "_view_module": "@jupyter-widgets/base",
            "_view_module_version": "1.2.0",
            "_view_name": "LayoutView",
            "align_content": null,
            "align_items": null,
            "align_self": null,
            "border": null,
            "bottom": null,
            "display": null,
            "flex": null,
            "flex_flow": null,
            "grid_area": null,
            "grid_auto_columns": null,
            "grid_auto_flow": null,
            "grid_auto_rows": null,
            "grid_column": null,
            "grid_gap": null,
            "grid_row": null,
            "grid_template_areas": null,
            "grid_template_columns": null,
            "grid_template_rows": null,
            "height": null,
            "justify_content": null,
            "justify_items": null,
            "left": null,
            "margin": null,
            "max_height": null,
            "max_width": null,
            "min_height": null,
            "min_width": null,
            "object_fit": null,
            "object_position": null,
            "order": null,
            "overflow": null,
            "overflow_x": null,
            "overflow_y": null,
            "padding": null,
            "right": null,
            "top": null,
            "visibility": null,
            "width": null
          }
        },
        "1762edef79b64a16a8f2fdcb9c1b43b1": {
          "model_module": "@jupyter-widgets/controls",
          "model_name": "ButtonStyleModel",
          "model_module_version": "1.5.0",
          "state": {
            "_model_module": "@jupyter-widgets/controls",
            "_model_module_version": "1.5.0",
            "_model_name": "ButtonStyleModel",
            "_view_count": null,
            "_view_module": "@jupyter-widgets/base",
            "_view_module_version": "1.2.0",
            "_view_name": "StyleView",
            "button_color": null,
            "font_weight": ""
          }
        },
        "621d643cb68e42e1917e041f98bcfc47": {
          "model_module": "@jupyter-widgets/base",
          "model_name": "LayoutModel",
          "model_module_version": "1.2.0",
          "state": {
            "_model_module": "@jupyter-widgets/base",
            "_model_module_version": "1.2.0",
            "_model_name": "LayoutModel",
            "_view_count": null,
            "_view_module": "@jupyter-widgets/base",
            "_view_module_version": "1.2.0",
            "_view_name": "LayoutView",
            "align_content": null,
            "align_items": null,
            "align_self": null,
            "border": null,
            "bottom": null,
            "display": null,
            "flex": null,
            "flex_flow": null,
            "grid_area": null,
            "grid_auto_columns": null,
            "grid_auto_flow": null,
            "grid_auto_rows": null,
            "grid_column": null,
            "grid_gap": null,
            "grid_row": null,
            "grid_template_areas": null,
            "grid_template_columns": null,
            "grid_template_rows": null,
            "height": null,
            "justify_content": null,
            "justify_items": null,
            "left": null,
            "margin": null,
            "max_height": null,
            "max_width": null,
            "min_height": null,
            "min_width": null,
            "object_fit": null,
            "object_position": null,
            "order": null,
            "overflow": null,
            "overflow_x": null,
            "overflow_y": null,
            "padding": null,
            "right": null,
            "top": null,
            "visibility": null,
            "width": null
          }
        }
      }
    }
  },
  "nbformat": 4,
  "nbformat_minor": 0
}