{
  "cells": [
    {
      "cell_type": "markdown",
      "metadata": {
        "id": "view-in-github",
        "colab_type": "text"
      },
      "source": [
        "<a href=\"https://colab.research.google.com/github/leoscarlato/analise_txt_repo/blob/main/atv_scraping.ipynb\" target=\"_parent\"><img src=\"https://colab.research.google.com/assets/colab-badge.svg\" alt=\"Open In Colab\"/></a>"
      ]
    },
    {
      "cell_type": "markdown",
      "metadata": {
        "id": "yVD_pO8MarnI"
      },
      "source": [
        "# ATV Scraping - Atividade para Entrega\n",
        "\n",
        "Nesta atividade, iremos extrair informações de páginas Web. Estes exercícios são para entrega e contam como uma atividade (**ATV**)."
      ]
    },
    {
      "cell_type": "markdown",
      "metadata": {
        "jp-MarkdownHeadingCollapsed": true,
        "id": "GtiPoUavarnM"
      },
      "source": [
        "## Insper Autograding\n",
        "\n",
        "Iremos utilizar uma ferramenta para correção automática. Ao responder os exercícios, será possível enviar a solução para um servidor, que dará feedback quase que instantâneo sobre a resposta.\n",
        "\n",
        "Além de já ter uma boa ideia sobre seu desempenho na atividade, não será necessário fazer a entrega do notebook pelo Blackboard pois o corretor já armazena suas soluções.\n",
        "\n",
        "Siga os passos deste notebook para realizar a instalação da biblioteca de correção de exercícios nos notebooks da disciplina!"
      ]
    },
    {
      "cell_type": "markdown",
      "metadata": {
        "id": "rqtlzfgXarnO"
      },
      "source": [
        "### Instalação\n",
        "\n",
        "Vamos instalar as bibliotecas:"
      ]
    },
    {
      "cell_type": "code",
      "execution_count": 1,
      "metadata": {
        "colab": {
          "base_uri": "https://localhost:8080/"
        },
        "id": "avo18VLkarnP",
        "outputId": "ffa20a67-f848-4252-caac-c70f48074219"
      },
      "outputs": [
        {
          "output_type": "stream",
          "name": "stdout",
          "text": [
            "Collecting git+https://github.com/macielcalebe/insperautograding.git\n",
            "  Cloning https://github.com/macielcalebe/insperautograding.git to /tmp/pip-req-build-rdynmrs2\n",
            "  Running command git clone --filter=blob:none --quiet https://github.com/macielcalebe/insperautograding.git /tmp/pip-req-build-rdynmrs2\n",
            "  Resolved https://github.com/macielcalebe/insperautograding.git to commit 0d68e50930abe8460efbb43864132ffec30c862b\n",
            "  Preparing metadata (setup.py) ... \u001b[?25l\u001b[?25hdone\n",
            "Collecting python-dotenv (from insperautograder==0.2.2)\n",
            "  Downloading python_dotenv-1.0.1-py3-none-any.whl.metadata (23 kB)\n",
            "Requirement already satisfied: requests in /usr/local/lib/python3.11/dist-packages (from insperautograder==0.2.2) (2.32.3)\n",
            "Requirement already satisfied: ipython in /usr/local/lib/python3.11/dist-packages (from insperautograder==0.2.2) (7.34.0)\n",
            "Requirement already satisfied: ipywidgets<=7.8.5 in /usr/local/lib/python3.11/dist-packages (from insperautograder==0.2.2) (7.7.1)\n",
            "Requirement already satisfied: ipykernel>=4.5.1 in /usr/local/lib/python3.11/dist-packages (from ipywidgets<=7.8.5->insperautograder==0.2.2) (6.17.1)\n",
            "Requirement already satisfied: ipython-genutils~=0.2.0 in /usr/local/lib/python3.11/dist-packages (from ipywidgets<=7.8.5->insperautograder==0.2.2) (0.2.0)\n",
            "Requirement already satisfied: traitlets>=4.3.1 in /usr/local/lib/python3.11/dist-packages (from ipywidgets<=7.8.5->insperautograder==0.2.2) (5.7.1)\n",
            "Requirement already satisfied: widgetsnbextension~=3.6.0 in /usr/local/lib/python3.11/dist-packages (from ipywidgets<=7.8.5->insperautograder==0.2.2) (3.6.10)\n",
            "Requirement already satisfied: jupyterlab-widgets>=1.0.0 in /usr/local/lib/python3.11/dist-packages (from ipywidgets<=7.8.5->insperautograder==0.2.2) (3.0.13)\n",
            "Requirement already satisfied: setuptools>=18.5 in /usr/local/lib/python3.11/dist-packages (from ipython->insperautograder==0.2.2) (75.1.0)\n",
            "Collecting jedi>=0.16 (from ipython->insperautograder==0.2.2)\n",
            "  Downloading jedi-0.19.2-py2.py3-none-any.whl.metadata (22 kB)\n",
            "Requirement already satisfied: decorator in /usr/local/lib/python3.11/dist-packages (from ipython->insperautograder==0.2.2) (4.4.2)\n",
            "Requirement already satisfied: pickleshare in /usr/local/lib/python3.11/dist-packages (from ipython->insperautograder==0.2.2) (0.7.5)\n",
            "Requirement already satisfied: prompt-toolkit!=3.0.0,!=3.0.1,<3.1.0,>=2.0.0 in /usr/local/lib/python3.11/dist-packages (from ipython->insperautograder==0.2.2) (3.0.50)\n",
            "Requirement already satisfied: pygments in /usr/local/lib/python3.11/dist-packages (from ipython->insperautograder==0.2.2) (2.18.0)\n",
            "Requirement already satisfied: backcall in /usr/local/lib/python3.11/dist-packages (from ipython->insperautograder==0.2.2) (0.2.0)\n",
            "Requirement already satisfied: matplotlib-inline in /usr/local/lib/python3.11/dist-packages (from ipython->insperautograder==0.2.2) (0.1.7)\n",
            "Requirement already satisfied: pexpect>4.3 in /usr/local/lib/python3.11/dist-packages (from ipython->insperautograder==0.2.2) (4.9.0)\n",
            "Requirement already satisfied: charset-normalizer<4,>=2 in /usr/local/lib/python3.11/dist-packages (from requests->insperautograder==0.2.2) (3.4.1)\n",
            "Requirement already satisfied: idna<4,>=2.5 in /usr/local/lib/python3.11/dist-packages (from requests->insperautograder==0.2.2) (3.10)\n",
            "Requirement already satisfied: urllib3<3,>=1.21.1 in /usr/local/lib/python3.11/dist-packages (from requests->insperautograder==0.2.2) (2.3.0)\n",
            "Requirement already satisfied: certifi>=2017.4.17 in /usr/local/lib/python3.11/dist-packages (from requests->insperautograder==0.2.2) (2025.1.31)\n",
            "Requirement already satisfied: debugpy>=1.0 in /usr/local/lib/python3.11/dist-packages (from ipykernel>=4.5.1->ipywidgets<=7.8.5->insperautograder==0.2.2) (1.8.0)\n",
            "Requirement already satisfied: jupyter-client>=6.1.12 in /usr/local/lib/python3.11/dist-packages (from ipykernel>=4.5.1->ipywidgets<=7.8.5->insperautograder==0.2.2) (6.1.12)\n",
            "Requirement already satisfied: nest-asyncio in /usr/local/lib/python3.11/dist-packages (from ipykernel>=4.5.1->ipywidgets<=7.8.5->insperautograder==0.2.2) (1.6.0)\n",
            "Requirement already satisfied: packaging in /usr/local/lib/python3.11/dist-packages (from ipykernel>=4.5.1->ipywidgets<=7.8.5->insperautograder==0.2.2) (24.2)\n",
            "Requirement already satisfied: psutil in /usr/local/lib/python3.11/dist-packages (from ipykernel>=4.5.1->ipywidgets<=7.8.5->insperautograder==0.2.2) (5.9.5)\n",
            "Requirement already satisfied: pyzmq>=17 in /usr/local/lib/python3.11/dist-packages (from ipykernel>=4.5.1->ipywidgets<=7.8.5->insperautograder==0.2.2) (24.0.1)\n",
            "Requirement already satisfied: tornado>=6.1 in /usr/local/lib/python3.11/dist-packages (from ipykernel>=4.5.1->ipywidgets<=7.8.5->insperautograder==0.2.2) (6.4.2)\n",
            "Requirement already satisfied: parso<0.9.0,>=0.8.4 in /usr/local/lib/python3.11/dist-packages (from jedi>=0.16->ipython->insperautograder==0.2.2) (0.8.4)\n",
            "Requirement already satisfied: ptyprocess>=0.5 in /usr/local/lib/python3.11/dist-packages (from pexpect>4.3->ipython->insperautograder==0.2.2) (0.7.0)\n",
            "Requirement already satisfied: wcwidth in /usr/local/lib/python3.11/dist-packages (from prompt-toolkit!=3.0.0,!=3.0.1,<3.1.0,>=2.0.0->ipython->insperautograder==0.2.2) (0.2.13)\n",
            "Requirement already satisfied: notebook>=4.4.1 in /usr/local/lib/python3.11/dist-packages (from widgetsnbextension~=3.6.0->ipywidgets<=7.8.5->insperautograder==0.2.2) (6.5.7)\n",
            "Requirement already satisfied: jupyter-core>=4.6.0 in /usr/local/lib/python3.11/dist-packages (from jupyter-client>=6.1.12->ipykernel>=4.5.1->ipywidgets<=7.8.5->insperautograder==0.2.2) (5.7.2)\n",
            "Requirement already satisfied: python-dateutil>=2.1 in /usr/local/lib/python3.11/dist-packages (from jupyter-client>=6.1.12->ipykernel>=4.5.1->ipywidgets<=7.8.5->insperautograder==0.2.2) (2.8.2)\n",
            "Requirement already satisfied: jinja2 in /usr/local/lib/python3.11/dist-packages (from notebook>=4.4.1->widgetsnbextension~=3.6.0->ipywidgets<=7.8.5->insperautograder==0.2.2) (3.1.6)\n",
            "Requirement already satisfied: argon2-cffi in /usr/local/lib/python3.11/dist-packages (from notebook>=4.4.1->widgetsnbextension~=3.6.0->ipywidgets<=7.8.5->insperautograder==0.2.2) (23.1.0)\n",
            "Requirement already satisfied: nbformat in /usr/local/lib/python3.11/dist-packages (from notebook>=4.4.1->widgetsnbextension~=3.6.0->ipywidgets<=7.8.5->insperautograder==0.2.2) (5.10.4)\n",
            "Requirement already satisfied: nbconvert>=5 in /usr/local/lib/python3.11/dist-packages (from notebook>=4.4.1->widgetsnbextension~=3.6.0->ipywidgets<=7.8.5->insperautograder==0.2.2) (7.16.6)\n",
            "Requirement already satisfied: Send2Trash>=1.8.0 in /usr/local/lib/python3.11/dist-packages (from notebook>=4.4.1->widgetsnbextension~=3.6.0->ipywidgets<=7.8.5->insperautograder==0.2.2) (1.8.3)\n",
            "Requirement already satisfied: terminado>=0.8.3 in /usr/local/lib/python3.11/dist-packages (from notebook>=4.4.1->widgetsnbextension~=3.6.0->ipywidgets<=7.8.5->insperautograder==0.2.2) (0.18.1)\n",
            "Requirement already satisfied: prometheus-client in /usr/local/lib/python3.11/dist-packages (from notebook>=4.4.1->widgetsnbextension~=3.6.0->ipywidgets<=7.8.5->insperautograder==0.2.2) (0.21.1)\n",
            "Requirement already satisfied: nbclassic>=0.4.7 in /usr/local/lib/python3.11/dist-packages (from notebook>=4.4.1->widgetsnbextension~=3.6.0->ipywidgets<=7.8.5->insperautograder==0.2.2) (1.2.0)\n",
            "Requirement already satisfied: platformdirs>=2.5 in /usr/local/lib/python3.11/dist-packages (from jupyter-core>=4.6.0->jupyter-client>=6.1.12->ipykernel>=4.5.1->ipywidgets<=7.8.5->insperautograder==0.2.2) (4.3.6)\n",
            "Requirement already satisfied: notebook-shim>=0.2.3 in /usr/local/lib/python3.11/dist-packages (from nbclassic>=0.4.7->notebook>=4.4.1->widgetsnbextension~=3.6.0->ipywidgets<=7.8.5->insperautograder==0.2.2) (0.2.4)\n",
            "Requirement already satisfied: beautifulsoup4 in /usr/local/lib/python3.11/dist-packages (from nbconvert>=5->notebook>=4.4.1->widgetsnbextension~=3.6.0->ipywidgets<=7.8.5->insperautograder==0.2.2) (4.13.3)\n",
            "Requirement already satisfied: bleach!=5.0.0 in /usr/local/lib/python3.11/dist-packages (from bleach[css]!=5.0.0->nbconvert>=5->notebook>=4.4.1->widgetsnbextension~=3.6.0->ipywidgets<=7.8.5->insperautograder==0.2.2) (6.2.0)\n",
            "Requirement already satisfied: defusedxml in /usr/local/lib/python3.11/dist-packages (from nbconvert>=5->notebook>=4.4.1->widgetsnbextension~=3.6.0->ipywidgets<=7.8.5->insperautograder==0.2.2) (0.7.1)\n",
            "Requirement already satisfied: jupyterlab-pygments in /usr/local/lib/python3.11/dist-packages (from nbconvert>=5->notebook>=4.4.1->widgetsnbextension~=3.6.0->ipywidgets<=7.8.5->insperautograder==0.2.2) (0.3.0)\n",
            "Requirement already satisfied: markupsafe>=2.0 in /usr/local/lib/python3.11/dist-packages (from nbconvert>=5->notebook>=4.4.1->widgetsnbextension~=3.6.0->ipywidgets<=7.8.5->insperautograder==0.2.2) (3.0.2)\n",
            "Requirement already satisfied: mistune<4,>=2.0.3 in /usr/local/lib/python3.11/dist-packages (from nbconvert>=5->notebook>=4.4.1->widgetsnbextension~=3.6.0->ipywidgets<=7.8.5->insperautograder==0.2.2) (3.1.2)\n",
            "Requirement already satisfied: nbclient>=0.5.0 in /usr/local/lib/python3.11/dist-packages (from nbconvert>=5->notebook>=4.4.1->widgetsnbextension~=3.6.0->ipywidgets<=7.8.5->insperautograder==0.2.2) (0.10.2)\n",
            "Requirement already satisfied: pandocfilters>=1.4.1 in /usr/local/lib/python3.11/dist-packages (from nbconvert>=5->notebook>=4.4.1->widgetsnbextension~=3.6.0->ipywidgets<=7.8.5->insperautograder==0.2.2) (1.5.1)\n",
            "Requirement already satisfied: fastjsonschema>=2.15 in /usr/local/lib/python3.11/dist-packages (from nbformat->notebook>=4.4.1->widgetsnbextension~=3.6.0->ipywidgets<=7.8.5->insperautograder==0.2.2) (2.21.1)\n",
            "Requirement already satisfied: jsonschema>=2.6 in /usr/local/lib/python3.11/dist-packages (from nbformat->notebook>=4.4.1->widgetsnbextension~=3.6.0->ipywidgets<=7.8.5->insperautograder==0.2.2) (4.23.0)\n",
            "Requirement already satisfied: six>=1.5 in /usr/local/lib/python3.11/dist-packages (from python-dateutil>=2.1->jupyter-client>=6.1.12->ipykernel>=4.5.1->ipywidgets<=7.8.5->insperautograder==0.2.2) (1.17.0)\n",
            "Requirement already satisfied: argon2-cffi-bindings in /usr/local/lib/python3.11/dist-packages (from argon2-cffi->notebook>=4.4.1->widgetsnbextension~=3.6.0->ipywidgets<=7.8.5->insperautograder==0.2.2) (21.2.0)\n",
            "Requirement already satisfied: webencodings in /usr/local/lib/python3.11/dist-packages (from bleach!=5.0.0->bleach[css]!=5.0.0->nbconvert>=5->notebook>=4.4.1->widgetsnbextension~=3.6.0->ipywidgets<=7.8.5->insperautograder==0.2.2) (0.5.1)\n",
            "Requirement already satisfied: tinycss2<1.5,>=1.1.0 in /usr/local/lib/python3.11/dist-packages (from bleach[css]!=5.0.0->nbconvert>=5->notebook>=4.4.1->widgetsnbextension~=3.6.0->ipywidgets<=7.8.5->insperautograder==0.2.2) (1.4.0)\n",
            "Requirement already satisfied: attrs>=22.2.0 in /usr/local/lib/python3.11/dist-packages (from jsonschema>=2.6->nbformat->notebook>=4.4.1->widgetsnbextension~=3.6.0->ipywidgets<=7.8.5->insperautograder==0.2.2) (25.3.0)\n",
            "Requirement already satisfied: jsonschema-specifications>=2023.03.6 in /usr/local/lib/python3.11/dist-packages (from jsonschema>=2.6->nbformat->notebook>=4.4.1->widgetsnbextension~=3.6.0->ipywidgets<=7.8.5->insperautograder==0.2.2) (2024.10.1)\n",
            "Requirement already satisfied: referencing>=0.28.4 in /usr/local/lib/python3.11/dist-packages (from jsonschema>=2.6->nbformat->notebook>=4.4.1->widgetsnbextension~=3.6.0->ipywidgets<=7.8.5->insperautograder==0.2.2) (0.36.2)\n",
            "Requirement already satisfied: rpds-py>=0.7.1 in /usr/local/lib/python3.11/dist-packages (from jsonschema>=2.6->nbformat->notebook>=4.4.1->widgetsnbextension~=3.6.0->ipywidgets<=7.8.5->insperautograder==0.2.2) (0.23.1)\n",
            "Requirement already satisfied: jupyter-server<3,>=1.8 in /usr/local/lib/python3.11/dist-packages (from notebook-shim>=0.2.3->nbclassic>=0.4.7->notebook>=4.4.1->widgetsnbextension~=3.6.0->ipywidgets<=7.8.5->insperautograder==0.2.2) (1.16.0)\n",
            "Requirement already satisfied: cffi>=1.0.1 in /usr/local/lib/python3.11/dist-packages (from argon2-cffi-bindings->argon2-cffi->notebook>=4.4.1->widgetsnbextension~=3.6.0->ipywidgets<=7.8.5->insperautograder==0.2.2) (1.17.1)\n",
            "Requirement already satisfied: soupsieve>1.2 in /usr/local/lib/python3.11/dist-packages (from beautifulsoup4->nbconvert>=5->notebook>=4.4.1->widgetsnbextension~=3.6.0->ipywidgets<=7.8.5->insperautograder==0.2.2) (2.6)\n",
            "Requirement already satisfied: typing-extensions>=4.0.0 in /usr/local/lib/python3.11/dist-packages (from beautifulsoup4->nbconvert>=5->notebook>=4.4.1->widgetsnbextension~=3.6.0->ipywidgets<=7.8.5->insperautograder==0.2.2) (4.12.2)\n",
            "Requirement already satisfied: pycparser in /usr/local/lib/python3.11/dist-packages (from cffi>=1.0.1->argon2-cffi-bindings->argon2-cffi->notebook>=4.4.1->widgetsnbextension~=3.6.0->ipywidgets<=7.8.5->insperautograder==0.2.2) (2.22)\n",
            "Requirement already satisfied: anyio>=3.1.0 in /usr/local/lib/python3.11/dist-packages (from jupyter-server<3,>=1.8->notebook-shim>=0.2.3->nbclassic>=0.4.7->notebook>=4.4.1->widgetsnbextension~=3.6.0->ipywidgets<=7.8.5->insperautograder==0.2.2) (4.9.0)\n",
            "Requirement already satisfied: websocket-client in /usr/local/lib/python3.11/dist-packages (from jupyter-server<3,>=1.8->notebook-shim>=0.2.3->nbclassic>=0.4.7->notebook>=4.4.1->widgetsnbextension~=3.6.0->ipywidgets<=7.8.5->insperautograder==0.2.2) (1.8.0)\n",
            "Requirement already satisfied: sniffio>=1.1 in /usr/local/lib/python3.11/dist-packages (from anyio>=3.1.0->jupyter-server<3,>=1.8->notebook-shim>=0.2.3->nbclassic>=0.4.7->notebook>=4.4.1->widgetsnbextension~=3.6.0->ipywidgets<=7.8.5->insperautograder==0.2.2) (1.3.1)\n",
            "Downloading python_dotenv-1.0.1-py3-none-any.whl (19 kB)\n",
            "Downloading jedi-0.19.2-py2.py3-none-any.whl (1.6 MB)\n",
            "\u001b[2K   \u001b[90m━━━━━━━━━━━━━━━━━━━━━━━━━━━━━━━━━━━━━━━━\u001b[0m \u001b[32m1.6/1.6 MB\u001b[0m \u001b[31m19.3 MB/s\u001b[0m eta \u001b[36m0:00:00\u001b[0m\n",
            "\u001b[?25hBuilding wheels for collected packages: insperautograder\n",
            "  Building wheel for insperautograder (setup.py) ... \u001b[?25l\u001b[?25hdone\n",
            "  Created wheel for insperautograder: filename=insperautograder-0.2.2-py3-none-any.whl size=4456 sha256=05b84900f749afc3a4b80a40f9ea9b200d99b3a3000b9265bd6f796c8c219ac5\n",
            "  Stored in directory: /tmp/pip-ephem-wheel-cache-phjm2au0/wheels/bb/01/cc/7f397587bfedd6c633e2627496c45d5693aa959ee8237ead1f\n",
            "Successfully built insperautograder\n",
            "Installing collected packages: python-dotenv, jedi, insperautograder\n",
            "Successfully installed insperautograder-0.2.2 jedi-0.19.2 python-dotenv-1.0.1\n"
          ]
        }
      ],
      "source": [
        "!python -m pip install -U git+https://github.com/macielcalebe/insperautograding.git"
      ]
    },
    {
      "cell_type": "markdown",
      "metadata": {
        "id": "1pOb5WqlarnQ"
      },
      "source": [
        "## Importando as bibliotecas"
      ]
    },
    {
      "cell_type": "code",
      "execution_count": 2,
      "metadata": {
        "id": "1qQ2QMFsarnR"
      },
      "outputs": [],
      "source": [
        "import os\n",
        "import insperautograder.jupyter as ia"
      ]
    },
    {
      "cell_type": "markdown",
      "metadata": {
        "id": "LVi_UbUQarnR"
      },
      "source": [
        "## Configurar ambiente\n",
        "\n",
        "Execute a célula para configurar nosso ambiente de execução:"
      ]
    },
    {
      "cell_type": "code",
      "execution_count": 3,
      "metadata": {
        "id": "eL2VJVLIarnS"
      },
      "outputs": [],
      "source": [
        "os.environ[\"IAG_OFFERING\"] = \"25-1\"\n",
        "os.environ[\"IAG_SUBJECT\"] = \"analisetxt\"\n",
        "os.environ[\"IAG_SERVER_URL\"] = \"https://bigdata.insper-comp.com.br/iag\""
      ]
    },
    {
      "cell_type": "markdown",
      "metadata": {
        "id": "HZlyCOMZarnS"
      },
      "source": [
        "## Me diga quem você é\n",
        "\n",
        "Utilize o **Token** enviado para seu e-mail para que você seja identificado pelo servidor de testes.\n",
        "\n",
        "Substitua `iagtok_xxx...` pelo token enviado para seu e-mail."
      ]
    },
    {
      "cell_type": "code",
      "execution_count": 4,
      "metadata": {
        "id": "GRRg3jIEarnS"
      },
      "outputs": [],
      "source": [
        "os.environ[\"IAG_TOKEN\"] = \"iagtok_6d696baf4b1f66712d83edfa1423148d8b8f50d4d74e8460\""
      ]
    },
    {
      "cell_type": "markdown",
      "metadata": {
        "id": "rW3Z_nlTarnT"
      },
      "source": [
        "## Conferir atividades e notas\n",
        "\n",
        "Conferindo quais atividades estão disponíveis!"
      ]
    },
    {
      "cell_type": "code",
      "execution_count": 5,
      "metadata": {
        "colab": {
          "base_uri": "https://localhost:8080/",
          "height": 112
        },
        "id": "lNzjJNeTarnT",
        "outputId": "14fe1600-964f-4bc7-97f5-97efd6d56fe1"
      },
      "outputs": [
        {
          "output_type": "display_data",
          "data": {
            "text/plain": [
              "<IPython.core.display.Markdown object>"
            ],
            "text/markdown": "|    | Atividade   | De                  | Até                 |\n|---:|:------------|:--------------------|:--------------------|\n|  0 | pdf         | 2025-02-13 00:00:00 | 2025-03-20 23:59:59 |\n|  1 | scraping    | 2025-03-20 00:00:00 | 2025-04-24 23:59:59 |"
          },
          "metadata": {}
        }
      ],
      "source": [
        "ia.tasks()"
      ]
    },
    {
      "cell_type": "markdown",
      "metadata": {
        "id": "eBBGkLDfarnU"
      },
      "source": [
        "Conferindo a nota por exercício na atividade:"
      ]
    },
    {
      "cell_type": "code",
      "execution_count": 6,
      "metadata": {
        "colab": {
          "base_uri": "https://localhost:8080/",
          "height": 394
        },
        "id": "3u4Oqt11arnU",
        "outputId": "9e1a7b07-b1f6-4a5b-860f-8585e6a24490"
      },
      "outputs": [
        {
          "output_type": "display_data",
          "data": {
            "text/plain": [
              "<IPython.core.display.Markdown object>"
            ],
            "text/markdown": "|    | Atividade   | Exercício   |   Peso |   Nota |\n|---:|:------------|:------------|-------:|-------:|\n|  0 | scraping    | ex01        |      2 |      0 |\n|  1 | scraping    | ex02        |      2 |      0 |\n|  2 | scraping    | ex03        |      2 |      0 |\n|  3 | scraping    | ex04        |      2 |      0 |\n|  4 | scraping    | ex05        |      2 |      0 |\n|  5 | scraping    | ex06        |      2 |      0 |\n|  6 | scraping    | ex07        |      2 |      0 |\n|  7 | scraping    | ex08        |      2 |      0 |\n|  8 | scraping    | ex09        |      3 |      0 |\n|  9 | scraping    | ex10        |      3 |      0 |\n| 10 | scraping    | ex11        |      4 |      0 |"
          },
          "metadata": {}
        }
      ],
      "source": [
        "ia.grades(task=\"scraping\")"
      ]
    },
    {
      "cell_type": "markdown",
      "metadata": {
        "id": "77Vf3OsZarnU"
      },
      "source": [
        "Conferindo a média em cada atividade:"
      ]
    },
    {
      "cell_type": "code",
      "execution_count": 7,
      "metadata": {
        "colab": {
          "base_uri": "https://localhost:8080/",
          "height": 112
        },
        "id": "yjPu3t-harnV",
        "outputId": "5f15ecca-d1f6-4eb7-dcd2-ffc338a8ba16"
      },
      "outputs": [
        {
          "output_type": "display_data",
          "data": {
            "text/plain": [
              "<IPython.core.display.Markdown object>"
            ],
            "text/markdown": "|    | Tarefa   |   Nota |\n|---:|:---------|-------:|\n|  0 | pdf      |     10 |\n|  1 | scraping |      0 |"
          },
          "metadata": {}
        }
      ],
      "source": [
        "ia.grades(by=\"TASK\")"
      ]
    },
    {
      "cell_type": "markdown",
      "metadata": {
        "id": "XNSKgbQGarnV"
      },
      "source": [
        "## Exercícios\n",
        "\n",
        "Vamos praticar os conteúdos das aulas de Scraping!\n",
        "\n",
        "Responda os exercício e, quando estiver bastante confiante que a resposta está correta, faça o envio para o servidor clicando no botão indicado para isto. Faça correções na sua solução caso o feedback indique erros.\n",
        "\n",
        "Confira, nas chamadas acima, se a sua nota é atualizada."
      ]
    },
    {
      "cell_type": "markdown",
      "metadata": {
        "id": "M2qAygaDarnV"
      },
      "source": [
        "Instalações necessárias:"
      ]
    },
    {
      "cell_type": "code",
      "execution_count": 8,
      "metadata": {
        "colab": {
          "base_uri": "https://localhost:8080/"
        },
        "id": "BSbPYDWkarnV",
        "outputId": "96134963-12cf-4e00-e4e4-5b76162ef6f2"
      },
      "outputs": [
        {
          "output_type": "stream",
          "name": "stdout",
          "text": [
            "Requirement already satisfied: BeautifulSoup4==4.13.3 in /usr/local/lib/python3.11/dist-packages (4.13.3)\n",
            "Requirement already satisfied: soupsieve>1.2 in /usr/local/lib/python3.11/dist-packages (from BeautifulSoup4==4.13.3) (2.6)\n",
            "Requirement already satisfied: typing-extensions>=4.0.0 in /usr/local/lib/python3.11/dist-packages (from BeautifulSoup4==4.13.3) (4.12.2)\n",
            "Requirement already satisfied: scikit-learn==1.6.1 in /usr/local/lib/python3.11/dist-packages (1.6.1)\n",
            "Requirement already satisfied: numpy>=1.19.5 in /usr/local/lib/python3.11/dist-packages (from scikit-learn==1.6.1) (2.0.2)\n",
            "Requirement already satisfied: scipy>=1.6.0 in /usr/local/lib/python3.11/dist-packages (from scikit-learn==1.6.1) (1.14.1)\n",
            "Requirement already satisfied: joblib>=1.2.0 in /usr/local/lib/python3.11/dist-packages (from scikit-learn==1.6.1) (1.4.2)\n",
            "Requirement already satisfied: threadpoolctl>=3.1.0 in /usr/local/lib/python3.11/dist-packages (from scikit-learn==1.6.1) (3.6.0)\n",
            "Collecting selenium==4.29.0\n",
            "  Downloading selenium-4.29.0-py3-none-any.whl.metadata (7.1 kB)\n",
            "Requirement already satisfied: urllib3<3,>=1.26 in /usr/local/lib/python3.11/dist-packages (from urllib3[socks]<3,>=1.26->selenium==4.29.0) (2.3.0)\n",
            "Collecting trio~=0.17 (from selenium==4.29.0)\n",
            "  Downloading trio-0.29.0-py3-none-any.whl.metadata (8.5 kB)\n",
            "Collecting trio-websocket~=0.9 (from selenium==4.29.0)\n",
            "  Downloading trio_websocket-0.12.2-py3-none-any.whl.metadata (5.1 kB)\n",
            "Requirement already satisfied: certifi>=2021.10.8 in /usr/local/lib/python3.11/dist-packages (from selenium==4.29.0) (2025.1.31)\n",
            "Requirement already satisfied: typing_extensions~=4.9 in /usr/local/lib/python3.11/dist-packages (from selenium==4.29.0) (4.12.2)\n",
            "Requirement already satisfied: websocket-client~=1.8 in /usr/local/lib/python3.11/dist-packages (from selenium==4.29.0) (1.8.0)\n",
            "Requirement already satisfied: attrs>=23.2.0 in /usr/local/lib/python3.11/dist-packages (from trio~=0.17->selenium==4.29.0) (25.3.0)\n",
            "Requirement already satisfied: sortedcontainers in /usr/local/lib/python3.11/dist-packages (from trio~=0.17->selenium==4.29.0) (2.4.0)\n",
            "Requirement already satisfied: idna in /usr/local/lib/python3.11/dist-packages (from trio~=0.17->selenium==4.29.0) (3.10)\n",
            "Collecting outcome (from trio~=0.17->selenium==4.29.0)\n",
            "  Downloading outcome-1.3.0.post0-py2.py3-none-any.whl.metadata (2.6 kB)\n",
            "Requirement already satisfied: sniffio>=1.3.0 in /usr/local/lib/python3.11/dist-packages (from trio~=0.17->selenium==4.29.0) (1.3.1)\n",
            "Collecting wsproto>=0.14 (from trio-websocket~=0.9->selenium==4.29.0)\n",
            "  Downloading wsproto-1.2.0-py3-none-any.whl.metadata (5.6 kB)\n",
            "Requirement already satisfied: pysocks!=1.5.7,<2.0,>=1.5.6 in /usr/local/lib/python3.11/dist-packages (from urllib3[socks]<3,>=1.26->selenium==4.29.0) (1.7.1)\n",
            "Requirement already satisfied: h11<1,>=0.9.0 in /usr/local/lib/python3.11/dist-packages (from wsproto>=0.14->trio-websocket~=0.9->selenium==4.29.0) (0.14.0)\n",
            "Downloading selenium-4.29.0-py3-none-any.whl (9.5 MB)\n",
            "\u001b[2K   \u001b[90m━━━━━━━━━━━━━━━━━━━━━━━━━━━━━━━━━━━━━━━━\u001b[0m \u001b[32m9.5/9.5 MB\u001b[0m \u001b[31m55.5 MB/s\u001b[0m eta \u001b[36m0:00:00\u001b[0m\n",
            "\u001b[?25hDownloading trio-0.29.0-py3-none-any.whl (492 kB)\n",
            "\u001b[2K   \u001b[90m━━━━━━━━━━━━━━━━━━━━━━━━━━━━━━━━━━━━━━━━\u001b[0m \u001b[32m492.9/492.9 kB\u001b[0m \u001b[31m25.1 MB/s\u001b[0m eta \u001b[36m0:00:00\u001b[0m\n",
            "\u001b[?25hDownloading trio_websocket-0.12.2-py3-none-any.whl (21 kB)\n",
            "Downloading outcome-1.3.0.post0-py2.py3-none-any.whl (10 kB)\n",
            "Downloading wsproto-1.2.0-py3-none-any.whl (24 kB)\n",
            "Installing collected packages: wsproto, outcome, trio, trio-websocket, selenium\n",
            "Successfully installed outcome-1.3.0.post0 selenium-4.29.0 trio-0.29.0 trio-websocket-0.12.2 wsproto-1.2.0\n",
            "Collecting webdriver_manager==4.0.2\n",
            "  Downloading webdriver_manager-4.0.2-py2.py3-none-any.whl.metadata (12 kB)\n",
            "Requirement already satisfied: requests in /usr/local/lib/python3.11/dist-packages (from webdriver_manager==4.0.2) (2.32.3)\n",
            "Requirement already satisfied: python-dotenv in /usr/local/lib/python3.11/dist-packages (from webdriver_manager==4.0.2) (1.0.1)\n",
            "Requirement already satisfied: packaging in /usr/local/lib/python3.11/dist-packages (from webdriver_manager==4.0.2) (24.2)\n",
            "Requirement already satisfied: charset-normalizer<4,>=2 in /usr/local/lib/python3.11/dist-packages (from requests->webdriver_manager==4.0.2) (3.4.1)\n",
            "Requirement already satisfied: idna<4,>=2.5 in /usr/local/lib/python3.11/dist-packages (from requests->webdriver_manager==4.0.2) (3.10)\n",
            "Requirement already satisfied: urllib3<3,>=1.21.1 in /usr/local/lib/python3.11/dist-packages (from requests->webdriver_manager==4.0.2) (2.3.0)\n",
            "Requirement already satisfied: certifi>=2017.4.17 in /usr/local/lib/python3.11/dist-packages (from requests->webdriver_manager==4.0.2) (2025.1.31)\n",
            "Downloading webdriver_manager-4.0.2-py2.py3-none-any.whl (27 kB)\n",
            "Installing collected packages: webdriver_manager\n",
            "Successfully installed webdriver_manager-4.0.2\n"
          ]
        }
      ],
      "source": [
        "!python -m pip install BeautifulSoup4==4.13.3\n",
        "!python -m pip install scikit-learn==1.6.1\n",
        "!python -m pip install selenium==4.29.0\n",
        "!python -m pip install webdriver_manager==4.0.2"
      ]
    },
    {
      "cell_type": "markdown",
      "metadata": {
        "id": "tWk7xL-IarnW"
      },
      "source": [
        "Vamos importar as bibliotecas:"
      ]
    },
    {
      "cell_type": "code",
      "execution_count": 9,
      "metadata": {
        "id": "br-32DDnarnW"
      },
      "outputs": [],
      "source": [
        "import requests"
      ]
    },
    {
      "cell_type": "markdown",
      "metadata": {
        "id": "iYBv0ScnarnW"
      },
      "source": [
        "### Exercício 1\n",
        "\n",
        "Crie uma função em Python que receba a URL de uma página (como string). Sua função deve baixar a página com `requests` e **retornar o código HTML completo** da página.\n",
        "\n",
        "Exemplo de URL:\n",
        "- https://atd-insper.s3.us-east-2.amazonaws.com/atv_scraping/aviso.html\n",
        "- https://atd-insper.s3.us-east-2.amazonaws.com/atv_scraping/comentarios_alimentacao.html\n",
        "\n",
        "Obs:\n",
        "\n",
        "- O nome e argumentos da função não devem ser alterados.\n",
        "- Considere que o código de correção já tem um import como este: `import requests`.\n",
        "- Considere que a página utiliza como *encoding* o `utf-8`."
      ]
    },
    {
      "cell_type": "code",
      "execution_count": 13,
      "metadata": {
        "colab": {
          "base_uri": "https://localhost:8080/",
          "height": 123
        },
        "id": "weFasOnTarnX",
        "outputId": "b14b9b4d-e42e-44cd-cad2-fb0c0ad9f289"
      },
      "outputs": [
        {
          "output_type": "execute_result",
          "data": {
            "text/plain": [
              "'<html lang=\"en\"><head><meta http-equiv=\"Content-Type\" content=\"text/html; charset=ISO-8859-1\"><title>Redirect Notice</title><style>body,div,a{font-family:sans-serif}body{background-color:#fff;margin-top:3px}div{color:#000}a:link{color:#4b11a8;}a:visited{color:#4b11a8;}a:active{color:#ea4335}div.mymGo{border-top:1px solid #dadce0;border-bottom:1px solid #dadce0;background:#f8f9fa;margin-top:1em;width:100%}div.aXgaGb{padding:0.5em 0;margin-left:10px}div.fTk7vd{margin-left:35px;margin-top:35px}</style></head><body><div class=\"mymGo\"><div class=\"aXgaGb\"><font style=\"font-size:larger\"><b>Redirect Notice</b></font></div></div><div class=\"fTk7vd\">&nbsp;The previous page is sending you to <a href=\"https://atd-insper.s3.us-east-2.amazonaws.com/atv_scraping/aviso.html\">https://atd-insper.s3.us-east-2.amazonaws.com/atv_scraping/aviso.html</a>.<br><br>&nbsp;If you do not want to visit that page, you can <a href=\"#\" id=\"tsuid_k4jcZ6zuNvWawbkPtN_fuA8_1\">return to the previous page</a>.<script nonce=\"7MFvpjVRilxF_BMq9BJveA\">(function(){var id=\\'tsuid_k4jcZ6zuNvWawbkPtN_fuA8_1\\';(function(){document.getElementById(id).onclick=function(){window.history.back();return!1};}).call(this);})();(function(){var id=\\'tsuid_k4jcZ6zuNvWawbkPtN_fuA8_1\\';var ct=\\'originlink\\';var oi=\\'unauthorizedredirect\\';(function(){document.getElementById(id).onmousedown=function(){var b=document&&document.referrer,a=\"encodeURIComponent\"in window?encodeURIComponent:escape,c=\"\";b&&(c=a(b));(new Image).src=\"/url?sa=T&url=\"+c+\"&oi=\"+a(oi)+\"&ct=\"+a(ct);return!1};}).call(this);})();</script><br><br><br></div></body></html>'"
            ],
            "application/vnd.google.colaboratory.intrinsic+json": {
              "type": "string"
            }
          },
          "metadata": {},
          "execution_count": 13
        }
      ],
      "source": [
        "# Altere esta função\n",
        "def baixar_pagina(url):\n",
        "  response = requests.get(url)\n",
        "  response.encoding = \"utf-8\"\n",
        "  html = response.text\n",
        "  return html\n",
        "\n",
        "\n",
        "baixar_pagina(\"https://www.google.com/url?q=https%3A%2F%2Fatd-insper.s3.us-east-2.amazonaws.com%2Fatv_scraping%2Faviso.html\")"
      ]
    },
    {
      "cell_type": "markdown",
      "metadata": {
        "id": "KmZkr1L9arnX"
      },
      "source": [
        "Vamos conferir um exemplo de execução:"
      ]
    },
    {
      "cell_type": "code",
      "execution_count": 14,
      "metadata": {
        "colab": {
          "base_uri": "https://localhost:8080/"
        },
        "id": "z5cTGjuNarnY",
        "outputId": "74db1a54-6961-47e1-f355-53ed977c653d"
      },
      "outputs": [
        {
          "output_type": "stream",
          "name": "stdout",
          "text": [
            "<!DOCTYPE html>\n",
            "<html lang=\"pt-BR\">\n",
            "<head>\n",
            "    <meta charset=\"UTF-8\">\n",
            "    <meta name=\"viewport\" content=\"width=device-width, initial-scale=1.0\">\n",
            "    <title>Aviso - Curso</title>\n",
            "</head>\n",
            "<body>\n",
            "    <h1>Aviso</h1>\n",
            "    <p><strong>Não haverá aula</strong> durante o período de provas!</p>\n",
            "</body>\n",
            "</html>\n",
            "\n"
          ]
        }
      ],
      "source": [
        "print(baixar_pagina(\"https://atd-insper.s3.us-east-2.amazonaws.com/atv_scraping/aviso.html\"))"
      ]
    },
    {
      "cell_type": "markdown",
      "metadata": {
        "id": "unBvpO42arnY"
      },
      "source": [
        "Quando estiver confiante que sua resposta está correta, clique no botão abaixo para fazer o envio."
      ]
    },
    {
      "cell_type": "code",
      "execution_count": 15,
      "metadata": {
        "colab": {
          "base_uri": "https://localhost:8080/",
          "height": 78,
          "referenced_widgets": [
            "aa1b42a9171e4e169838287e2d8b9b14",
            "76164c195e89423c87a9dfbf1ec53368",
            "09cc7f51022541c29f8ed4ed795e3416",
            "d9ce4ba14660439eb82c2a21707a72b2",
            "89beccff6ad4479c935fed876ae81808",
            "96b72ce1df2e452c996c28573c106f70",
            "332a7b1aec134d12bd381de7e9649031"
          ]
        },
        "id": "4Gd6zPDbarnZ",
        "outputId": "57ef7a4c-643b-4990-9455-dc860ff7ea0e"
      },
      "outputs": [
        {
          "output_type": "display_data",
          "data": {
            "text/plain": [
              "interactive(children=(Button(description='Enviar ex01', style=ButtonStyle()), Output()), _dom_classes=('widget…"
            ],
            "application/vnd.jupyter.widget-view+json": {
              "version_major": 2,
              "version_minor": 0,
              "model_id": "aa1b42a9171e4e169838287e2d8b9b14"
            }
          },
          "metadata": {}
        }
      ],
      "source": [
        "ia.sender(answer=\"baixar_pagina\", task=\"scraping\", question=\"ex01\", answer_type=\"pycode\")"
      ]
    },
    {
      "cell_type": "markdown",
      "metadata": {
        "id": "IuDiepg8arnZ"
      },
      "source": [
        "### Exercício 2\n",
        "\n",
        "Considere, como exemplo, a página disponível em [https://atd-insper.s3.us-east-2.amazonaws.com/atv_scraping/comentarios_alimentacao.html](https://atd-insper.s3.us-east-2.amazonaws.com/atv_scraping/comentarios_alimentacao.html)\n",
        "\n",
        "\n",
        "Crie uma função em Python que recebe como entrada:\n",
        "- a **URL** (endereço) de uma página.\n",
        "\n",
        "A sua função deve:\n",
        "1) Utilizar a função do exercício anterior para baixar a página. Não precisa enviar a função `baixar_pagina` na resposta, ela já está disponível no servidor!\n",
        "2) Extrair e retornar, utilizando `BeautifulSoup`, o título da postagem do blog fictício!\n",
        "\n",
        "Responda alterando o código da função abaixo.\n",
        "\n",
        "Obs:\n",
        "\n",
        "- O nome e argumentos da função não devem ser alterados.\n",
        "- Considere que o código de correção já tem o import da `bs4` e `BeautifulSoup`."
      ]
    },
    {
      "cell_type": "code",
      "source": [
        "print(baixar_pagina(\"https://atd-insper.s3.us-east-2.amazonaws.com/atv_scraping/comentarios_alimentacao.html\"))"
      ],
      "metadata": {
        "colab": {
          "base_uri": "https://localhost:8080/"
        },
        "id": "NO-McX62eG3y",
        "outputId": "a6a67911-43ba-4b11-ae0d-c6e0562ddfa2"
      },
      "execution_count": 17,
      "outputs": [
        {
          "output_type": "stream",
          "name": "stdout",
          "text": [
            "<!DOCTYPE html>\n",
            "<html lang=\"pt\">\n",
            "<head>\n",
            "    <meta charset=\"UTF-8\">\n",
            "    <meta name=\"viewport\" content=\"width=device-width, initial-scale=1.0\">\n",
            "    <title>Post de Blog - Bons Hábitos de Alimentação</title>\n",
            "    <style>\n",
            "        body {\n",
            "            font-family: Arial, sans-serif;\n",
            "            background-color: #f4f4f4;\n",
            "            color: #333;\n",
            "            margin: 0;\n",
            "            padding: 0;\n",
            "        }\n",
            "\n",
            "        header {\n",
            "            background-color: #4CAF50;\n",
            "            color: white;\n",
            "            padding: 10px 0;\n",
            "            text-align: center;\n",
            "        }\n",
            "\n",
            "        article {\n",
            "            margin: 20px;\n",
            "            padding: 15px;\n",
            "            background-color: white;\n",
            "            border-radius: 5px;\n",
            "            box-shadow: 0 4px 8px rgba(0, 0, 0, 0.1);\n",
            "        }\n",
            "\n",
            "        h1 {\n",
            "            font-size: 2rem;\n",
            "        }\n",
            "\n",
            "        section.comments {\n",
            "            margin: 20px;\n",
            "        }\n",
            "\n",
            "        section.comments h2 {\n",
            "            font-size: 1.5rem;\n",
            "            margin-bottom: 10px;\n",
            "            color: #4CAF50;\n",
            "        }\n",
            "\n",
            "        .comment {\n",
            "            background-color: #e0e0e0;\n",
            "            border: 2px solid #ddd;\n",
            "            border-radius: 5px;\n",
            "            padding: 10px;\n",
            "            margin-bottom: 15px;\n",
            "            box-shadow: 0 2px 5px rgba(0, 0, 0, 0.1);\n",
            "        }\n",
            "\n",
            "        .comment p {\n",
            "            margin: 0;\n",
            "            font-size: 1rem;\n",
            "        }\n",
            "\n",
            "        .comment strong {\n",
            "            color: #333;\n",
            "        }\n",
            "\n",
            "        footer {\n",
            "            text-align: center;\n",
            "            padding: 10px;\n",
            "            background-color: #4CAF50;\n",
            "            color: white;\n",
            "            position: fixed;\n",
            "            width: 100%;\n",
            "            bottom: 0;\n",
            "        }\n",
            "    </style>\n",
            "</head>\n",
            "<body>\n",
            "    <header>\n",
            "        <h1>Blog do Joca</h1>\n",
            "    </header>\n",
            "\n",
            "    <article>\n",
            "        <h2>Como Adotar uma Alimentação Saudável</h2>\n",
            "        <p>Uma alimentação balanceada é fundamental para manter o corpo saudável e cheio de energia. Neste post, vamos discutir a importância de incluir mais frutas, vegetais e grãos integrais na sua dieta, além de dicas práticas para melhorar sua alimentação.</p>\n",
            "    </article>\n",
            "\n",
            "    <section class=\"comments\">\n",
            "        <h2>Comentários</h2>\n",
            "        \n",
            "        <div class=\"comment\">\n",
            "            <p><strong>João:</strong> Ótimas dicas! Já estou tentando incluir mais vegetais nas minhas refeições diárias.</p>\n",
            "        </div>\n",
            "        \n",
            "        <div class=\"comment\">\n",
            "            <p><strong>Ana:</strong> Esse post me motivou a começar a fazer smoothies com frutas! Muito obrigada!</p>\n",
            "        </div>\n",
            "        \n",
            "        <div class=\"comment\">\n",
            "            <p><strong>Carlos:</strong> A alimentação saudável realmente faz toda a diferença no dia a dia. Vou começar a planejar melhor as minhas refeições.</p>\n",
            "        </div>\n",
            "\n",
            "        <div class=\"comment\">\n",
            "            <p><strong>Mariana:</strong> Dicas excelentes! Vou começar a substituir os alimentos processados por opções mais naturais.</p>\n",
            "        </div>\n",
            "    </section>\n",
            "\n",
            "    <footer>\n",
            "        <p>&copy; 2025 Blog de Bons Hábitos de Alimentação</p>\n",
            "    </footer>\n",
            "</body>\n",
            "</html>\n",
            "\n"
          ]
        }
      ]
    },
    {
      "cell_type": "code",
      "execution_count": 37,
      "metadata": {
        "id": "MsB3FLMDarnZ"
      },
      "outputs": [],
      "source": [
        "import bs4\n",
        "from bs4 import BeautifulSoup\n",
        "\n",
        "# Altere esta função\n",
        "def extrair_titulo_post(url):\n",
        "  html = baixar_pagina(url)\n",
        "  soup = BeautifulSoup(html, 'html.parser')\n",
        "  title = soup.find('h2').text\n",
        "  return title\n"
      ]
    },
    {
      "cell_type": "markdown",
      "metadata": {
        "id": "SETAIQSFarna"
      },
      "source": [
        "Veja um exemplo de execução da função:"
      ]
    },
    {
      "cell_type": "code",
      "execution_count": 31,
      "metadata": {
        "colab": {
          "base_uri": "https://localhost:8080/",
          "height": 36
        },
        "id": "ht7RSY3xarna",
        "outputId": "eeadcbd4-baad-44a5-eb3b-0a2b1b054e98"
      },
      "outputs": [
        {
          "output_type": "execute_result",
          "data": {
            "text/plain": [
              "'Como Adotar uma Alimentação Saudável'"
            ],
            "application/vnd.google.colaboratory.intrinsic+json": {
              "type": "string"
            }
          },
          "metadata": {},
          "execution_count": 31
        }
      ],
      "source": [
        "url = \"https://atd-insper.s3.us-east-2.amazonaws.com/atv_scraping/comentarios_alimentacao.html\"\n",
        "extrair_titulo_post(url)"
      ]
    },
    {
      "cell_type": "markdown",
      "metadata": {
        "id": "wzDr6CLyarna"
      },
      "source": [
        "Confira se obteve o resultado correto:\n",
        "\n",
        "```python\n",
        "\"Como Adotar uma Alimentação Saudável\"\n",
        "```"
      ]
    },
    {
      "cell_type": "markdown",
      "metadata": {
        "id": "kV7bhf2narnb"
      },
      "source": [
        "Abaixo, seguem alguns testes que rodam localmente e verificam sua resposta."
      ]
    },
    {
      "cell_type": "code",
      "execution_count": 32,
      "metadata": {
        "id": "nvPdKEC8arnb"
      },
      "outputs": [],
      "source": [
        "url = \"https://atd-insper.s3.us-east-2.amazonaws.com/atv_scraping/comentarios_alimentacao.html\"\n",
        "\n",
        "esperado = \"Como Adotar uma Alimentação Saudável\"\n",
        "obtido = extrair_titulo_post(url)\n",
        "\n",
        "assert  obtido == esperado, f\"\\nEsperava: {esperado}\\n\\nObteve: {obtido}\""
      ]
    },
    {
      "cell_type": "markdown",
      "metadata": {
        "id": "bT-rbg_jarnb"
      },
      "source": [
        "Quando estiver confiante que sua resposta está correta, clique no botão abaixo para fazer o envio."
      ]
    },
    {
      "cell_type": "code",
      "execution_count": 33,
      "metadata": {
        "colab": {
          "base_uri": "https://localhost:8080/",
          "height": 78,
          "referenced_widgets": [
            "50ed4edd2edd483f9c546cda1d5c7bb6",
            "96166e1023dd42109a4d116b4f692ff5",
            "a9a725ce74df40d693dc833c0c954fe7",
            "a3e51549598e410081a3719375fa71db",
            "626eb681aa5842b08f3e9a41cc99dc1f",
            "09c39ccd30a44bef81c558fefc65c342",
            "2af33220c1664bc49874565775907c19"
          ]
        },
        "id": "rEBJVr1Carnb",
        "outputId": "ddd87f6b-87f0-42cc-94af-2b9bbc978622"
      },
      "outputs": [
        {
          "output_type": "display_data",
          "data": {
            "text/plain": [
              "interactive(children=(Button(description='Enviar ex02', style=ButtonStyle()), Output()), _dom_classes=('widget…"
            ],
            "application/vnd.jupyter.widget-view+json": {
              "version_major": 2,
              "version_minor": 0,
              "model_id": "50ed4edd2edd483f9c546cda1d5c7bb6"
            }
          },
          "metadata": {}
        }
      ],
      "source": [
        "ia.sender(answer=\"extrair_titulo_post\", task=\"scraping\", question=\"ex02\", answer_type=\"pycode\")"
      ]
    },
    {
      "cell_type": "markdown",
      "metadata": {
        "id": "mm-_Sevparnc"
      },
      "source": [
        "### Exercício 3\n",
        "\n",
        "Considere, como exemplo, a página disponível em [https://atd-insper.s3.us-east-2.amazonaws.com/atv_scraping/comentarios_alimentacao.html](https://atd-insper.s3.us-east-2.amazonaws.com/atv_scraping/comentarios_alimentacao.html)\n",
        "\n",
        "\n",
        "Crie uma função em Python que recebe como entrada:\n",
        "- O código **HTML** de uma página.\n",
        "\n",
        "A sua função deve:\n",
        "- Extrair, utilizando `BeautifulSoup`:\n",
        "    - O **título** da postagem do blog fictício!\n",
        "    - O **texto** da postagem.\n",
        "- Retorne em formato de dicionário. Por exemplo:\n",
        "    ```python\n",
        "    {\n",
        "        \"titulo\": \"Como Adotar uma Alimentação Saudável\",\n",
        "        \"texto\": \"Uma alimentação balanceada é fundamental para manter o corpo saudável e cheio de energia. Neste post, vamos discutir a importância de incluir mais frutas, vegetais e grãos integrais na sua dieta, além de dicas práticas para melhorar sua alimentação.\"\n",
        "    }\n",
        "\n",
        "Responda alterando o código da função abaixo.\n",
        "\n",
        "Obs:\n",
        "\n",
        "- O nome e argumentos da função não devem ser alterados.\n",
        "- Considere que o código de correção já tem o import da `bs4` e `BeautifulSoup`."
      ]
    },
    {
      "cell_type": "code",
      "execution_count": 43,
      "metadata": {
        "id": "3JW7Uzs0arnc"
      },
      "outputs": [],
      "source": [
        "# Altere esta função\n",
        "import bs4\n",
        "from bs4 import BeautifulSoup\n",
        "\n",
        "def extrair_json_post(html):\n",
        "    soup = BeautifulSoup(html, 'html.parser')\n",
        "    title = soup.find('h2').text\n",
        "    texto = soup.find('p').text\n",
        "\n",
        "    final_dict = {\n",
        "        \"titulo\" : title,\n",
        "        \"texto\": texto\n",
        "    }\n",
        "\n",
        "    return final_dict"
      ]
    },
    {
      "cell_type": "markdown",
      "metadata": {
        "id": "3FCoGUxAarnc"
      },
      "source": [
        "Veja um exemplo de execução da função (o resultado esperado é `698`)"
      ]
    },
    {
      "cell_type": "code",
      "execution_count": 44,
      "metadata": {
        "colab": {
          "base_uri": "https://localhost:8080/"
        },
        "id": "4n5HAtDRarn3",
        "outputId": "8e8b292c-4998-4129-f58f-b53735560dfd"
      },
      "outputs": [
        {
          "output_type": "execute_result",
          "data": {
            "text/plain": [
              "{'titulo': 'Como Adotar uma Alimentação Saudável',\n",
              " 'texto': 'Uma alimentação balanceada é fundamental para manter o corpo saudável e cheio de energia. Neste post, vamos discutir a importância de incluir mais frutas, vegetais e grãos integrais na sua dieta, além de dicas práticas para melhorar sua alimentação.'}"
            ]
          },
          "metadata": {},
          "execution_count": 44
        }
      ],
      "source": [
        "# Vamos conseguir um HTML de exemplo\n",
        "url = \"https://atd-insper.s3.us-east-2.amazonaws.com/atv_scraping/comentarios_alimentacao.html\"\n",
        "html = baixar_pagina(url)\n",
        "\n",
        "# Agora chamamos a função que você implementou\n",
        "extrair_json_post(html)"
      ]
    },
    {
      "cell_type": "markdown",
      "metadata": {
        "id": "qWwpiMq5arn4"
      },
      "source": [
        "Quando estiver confiante que sua resposta está correta, clique no botão abaixo para fazer o envio."
      ]
    },
    {
      "cell_type": "code",
      "execution_count": 45,
      "metadata": {
        "colab": {
          "base_uri": "https://localhost:8080/",
          "height": 78,
          "referenced_widgets": [
            "3baed5d940e147b198e41956128248c6",
            "f568a49507744e4eb66ee6dfead53f30",
            "3108e36c2e8b43c7a8a1a292f7f21841",
            "22a21a4d35164118953cc164ef484375",
            "d29e404f0e4f482d910a4dfdcf841261",
            "b5c411343da94a6faad7dcd6fa16bcbb",
            "8f9ea269996d4e9da52b0af80224b8ba"
          ]
        },
        "id": "1re9MRBcarn4",
        "outputId": "8787a39d-2e91-4ab2-f28e-ab637da8520a"
      },
      "outputs": [
        {
          "output_type": "display_data",
          "data": {
            "text/plain": [
              "interactive(children=(Button(description='Enviar ex03', style=ButtonStyle()), Output()), _dom_classes=('widget…"
            ],
            "application/vnd.jupyter.widget-view+json": {
              "version_major": 2,
              "version_minor": 0,
              "model_id": "3baed5d940e147b198e41956128248c6"
            }
          },
          "metadata": {}
        }
      ],
      "source": [
        "ia.sender(answer=\"extrair_json_post\", task=\"scraping\", question=\"ex03\", answer_type=\"pycode\")"
      ]
    },
    {
      "cell_type": "markdown",
      "metadata": {
        "id": "xSNGafkYarn4"
      },
      "source": [
        "### Exercício 4\n",
        "\n",
        "De forma semelhante ao exercício anterior, considere a página disponível em [https://atd-insper.s3.us-east-2.amazonaws.com/atv_scraping/istoedinheiro/ouro.html](https://atd-insper.s3.us-east-2.amazonaws.com/atv_scraping/istoedinheiro/ouro.html)\n",
        "\n",
        "Crie uma função em Python que recebe como entrada:\n",
        "- O código **HTML** de uma página da **IstoÉDinheiro**.\n",
        "\n",
        "A sua função deve:\n",
        "- Extrair, utilizando `BeautifulSoup`:\n",
        "    - O **título** da notícia!\n",
        "    - O **primeiro parágrafo** da notícia.\n",
        "    - A **data** de publicação da notícia.\n",
        "- Retorne em formato de dicionário. Por exemplo:\n",
        "    ```python\n",
        "    {\n",
        "        \"titulo\": \"...\",\n",
        "        \"primeiro_paragrafo\": \"...\"\n",
        "        \"data\": \"...\"\n",
        "    }\n",
        "\n",
        "Responda alterando o código da função abaixo.\n",
        "\n",
        "Obs:\n",
        "\n",
        "- O nome e argumentos da função não devem ser alterados.\n",
        "- Considere que o código de correção já tem o import da `bs4` e `BeautifulSoup`."
      ]
    },
    {
      "cell_type": "code",
      "execution_count": 92,
      "metadata": {
        "id": "wlIsBXJ7arn5"
      },
      "outputs": [],
      "source": [
        "# Altere esta função\n",
        "import bs4\n",
        "from bs4 import BeautifulSoup\n",
        "\n",
        "def extrair_json_isto_e(html):\n",
        "    soup = BeautifulSoup(html, 'html.parser')\n",
        "    artigo = soup.find('article')\n",
        "    title = soup.find('h1').text\n",
        "    primeiro_paragrafo = artigo.find_all('p')[2].text\n",
        "    data = artigo.find_all('p')[1].text\n",
        "\n",
        "    final_dict = {\n",
        "        \"titulo\":title,\n",
        "        \"primeiro_paragrafo\":primeiro_paragrafo,\n",
        "        \"data\":data\n",
        "    }\n",
        "\n",
        "    return final_dict"
      ]
    },
    {
      "cell_type": "markdown",
      "metadata": {
        "id": "Gi9CcIFbarn5"
      },
      "source": [
        "Veja um exemplo de execução da função (o resultado esperado é `698`)"
      ]
    },
    {
      "cell_type": "code",
      "execution_count": 93,
      "metadata": {
        "colab": {
          "base_uri": "https://localhost:8080/"
        },
        "id": "pCQOhs0garn5",
        "outputId": "98bcf97b-10ea-45b9-c6a6-1cf507c95c79"
      },
      "outputs": [
        {
          "output_type": "execute_result",
          "data": {
            "text/plain": [
              "{'titulo': 'Ouro atinge novo recorde histórico impulsionado por demanda por ativos de refúgio',\n",
              " 'primeiro_paragrafo': 'O\\n ouro teve uma variação limitada nesta quarta-feira, 19, ainda que tenha\\n atingido um novo recorde histórico impulsionado pela demanda por ativos\\n de refúgio, tensões geopolíticas e compras persistentes do metal por \\nbancos centrais. Com o Federal Reserve (Fed, o banco central \\nnorte-americano) prestes a anunciar sua decisão sobre política \\nmonetária, o mercado acompanha de perto os próximos desdobramentos.',\n",
              " 'data': '19/03/2025 - 15:07'}"
            ]
          },
          "metadata": {},
          "execution_count": 93
        }
      ],
      "source": [
        "# Vamos conseguir um HTML de exemplo\n",
        "url_isto_e = \"https://atd-insper.s3.us-east-2.amazonaws.com/atv_scraping/istoedinheiro/ouro.html\"\n",
        "html_isto_e = baixar_pagina(url_isto_e)\n",
        "\n",
        "# Agora chamamos a função que você implementou\n",
        "extrair_json_isto_e(html_isto_e)"
      ]
    },
    {
      "cell_type": "markdown",
      "metadata": {
        "id": "O51IFJUZarn5"
      },
      "source": [
        "Quando estiver confiante que sua resposta está correta, clique no botão abaixo para fazer o envio."
      ]
    },
    {
      "cell_type": "code",
      "execution_count": 94,
      "metadata": {
        "colab": {
          "base_uri": "https://localhost:8080/",
          "height": 78,
          "referenced_widgets": [
            "f5af45ea1ac64246a78656ecc9b8d565",
            "90e19d4e735148d7bde782dd83e8c74f",
            "978be0926ea04ad7b077864262341ed7",
            "d86641593507470a8597383037f79fd6",
            "b1a6a96bed0b4f3ab10c6ece4e3bf8b7",
            "59a40cbed2974d18b9c615ac46bfcb00",
            "94a1848a6fda484eab7d5aa6e0544e64"
          ]
        },
        "id": "btPISAhRarn6",
        "outputId": "30bc40eb-e070-4e96-f8b6-31e44c3005db"
      },
      "outputs": [
        {
          "output_type": "display_data",
          "data": {
            "text/plain": [
              "interactive(children=(Button(description='Enviar ex04', style=ButtonStyle()), Output()), _dom_classes=('widget…"
            ],
            "application/vnd.jupyter.widget-view+json": {
              "version_major": 2,
              "version_minor": 0,
              "model_id": "f5af45ea1ac64246a78656ecc9b8d565"
            }
          },
          "metadata": {}
        }
      ],
      "source": [
        "ia.sender(answer=\"extrair_json_isto_e\", task=\"scraping\", question=\"ex04\", answer_type=\"pycode\")"
      ]
    },
    {
      "cell_type": "markdown",
      "metadata": {
        "id": "kbQ-WzZJarn6"
      },
      "source": [
        "### Exercício 5\n",
        "\n",
        "Considere, como exemplo, a página disponível em [https://atd-insper.s3.us-east-2.amazonaws.com/atv_scraping/comentarios_ciclismo.html](https://atd-insper.s3.us-east-2.amazonaws.com/atv_scraping/comentarios_ciclismo.html)\n",
        "\n",
        "\n",
        "Crie uma função em Python que recebe como entrada:\n",
        "- O código **HTML** de uma página.\n",
        "\n",
        "A sua função deve:\n",
        "- Contar e retornar, como inteiro, a quantidade de comentários na página.\n",
        "\n",
        "Responda alterando o código da função abaixo.\n",
        "\n",
        "Obs:\n",
        "\n",
        "- O nome e argumentos da função não devem ser alterados.\n",
        "- Considere que o código de correção já tem o import da `bs4` e `BeautifulSoup`."
      ]
    },
    {
      "cell_type": "code",
      "execution_count": 99,
      "metadata": {
        "id": "QMHB_3Pyarn6"
      },
      "outputs": [],
      "source": [
        "# Altere esta função\n",
        "import bs4\n",
        "from bs4 import BeautifulSoup\n",
        "\n",
        "def contar_comentarios(html):\n",
        "  soup = BeautifulSoup(html, 'html.parser')\n",
        "  comments = soup.find('section', {'class':'comments'})\n",
        "  all_comments = len(comments.find_all('div', {'class':'comment'}))\n",
        "  return all_comments"
      ]
    },
    {
      "cell_type": "markdown",
      "metadata": {
        "id": "DiEHKoDUarn7"
      },
      "source": [
        "Veja um exemplo de execução:"
      ]
    },
    {
      "cell_type": "code",
      "execution_count": 100,
      "metadata": {
        "colab": {
          "base_uri": "https://localhost:8080/"
        },
        "id": "Anu8Ulu5arn7",
        "outputId": "7124bcc3-e950-45f1-85d7-eb1eea3adea8"
      },
      "outputs": [
        {
          "output_type": "stream",
          "name": "stdout",
          "text": [
            "Foram encontrados 4 comentários\n"
          ]
        }
      ],
      "source": [
        "# Vamos conseguir um HTML de exemplo\n",
        "url = \"https://atd-insper.s3.us-east-2.amazonaws.com/atv_scraping/comentarios_alimentacao.html\"\n",
        "html = baixar_pagina(url)\n",
        "\n",
        "# Agora chamamos a função que você implementou\n",
        "qt_comentarios = contar_comentarios(html)\n",
        "\n",
        "print(f\"Foram encontrados {qt_comentarios} comentários\")"
      ]
    },
    {
      "cell_type": "markdown",
      "metadata": {
        "id": "A7As9G9larn7"
      },
      "source": [
        "Abaixo, seguem alguns testes que rodam localmente e verificam sua resposta."
      ]
    },
    {
      "cell_type": "code",
      "execution_count": 101,
      "metadata": {
        "id": "t08lZ4Zbarn8"
      },
      "outputs": [],
      "source": [
        "assert contar_comentarios(html) == 4"
      ]
    },
    {
      "cell_type": "markdown",
      "metadata": {
        "id": "O3jfnBpUarn8"
      },
      "source": [
        "Quando estiver confiante que sua resposta está correta, clique no botão abaixo para fazer o envio."
      ]
    },
    {
      "cell_type": "code",
      "execution_count": 102,
      "metadata": {
        "colab": {
          "base_uri": "https://localhost:8080/",
          "height": 78,
          "referenced_widgets": [
            "383c3aa488aa4d4d858762cd555199e5",
            "05eb29a4e8184a0f9ba5fff3374e3e1d",
            "d7abde229fe64dd49fae5ad6c416ca55",
            "c7261ff74d574ae8982deb1b33ed01a9",
            "d24122ea52dd4df89d7aa4d1836c685a",
            "68583b9273cc4cff8c561d236039ef63",
            "6a992a30aab4413e8b7fde26ac6e620b"
          ]
        },
        "id": "V7k64wl-arn8",
        "outputId": "ac43de7d-e2b8-4e06-9346-2903fb2df3b3"
      },
      "outputs": [
        {
          "output_type": "display_data",
          "data": {
            "text/plain": [
              "interactive(children=(Button(description='Enviar ex05', style=ButtonStyle()), Output()), _dom_classes=('widget…"
            ],
            "application/vnd.jupyter.widget-view+json": {
              "version_major": 2,
              "version_minor": 0,
              "model_id": "383c3aa488aa4d4d858762cd555199e5"
            }
          },
          "metadata": {}
        }
      ],
      "source": [
        "ia.sender(answer=\"contar_comentarios\", task=\"scraping\", question=\"ex05\", answer_type=\"pycode\")"
      ]
    },
    {
      "cell_type": "markdown",
      "metadata": {
        "id": "WpPooe_7arn9"
      },
      "source": [
        "### Exercício 6\n",
        "\n",
        "Considere, como exemplo, a página disponível em [https://atd-insper.s3.us-east-2.amazonaws.com/atv_scraping/comentarios_ciclismo.html](https://atd-insper.s3.us-east-2.amazonaws.com/atv_scraping/comentarios_ciclismo.html)\n",
        "\n",
        "\n",
        "Crie uma função em Python que recebe como entrada:\n",
        "- O código **HTML** de uma página.\n",
        "\n",
        "A sua função deve:\n",
        "- Retornar uma **lista** com o nome de todos os usuários que realizaram comentários!\n",
        "\n",
        "Responda alterando o código da função abaixo.\n",
        "\n",
        "Obs:\n",
        "\n",
        "- Retorne os usuários na ordem em que comentaram. O nome do usuário será repetido caso tenha efetuado mais de um comentário (e tudo bem).\n",
        "- O nome e argumentos da função não devem ser alterados.\n",
        "- Considere que o código de correção já tem o import da `bs4` e `BeautifulSoup`."
      ]
    },
    {
      "cell_type": "code",
      "execution_count": 158,
      "metadata": {
        "id": "8onkTWjvarn9"
      },
      "outputs": [],
      "source": [
        "# Altere esta função\n",
        "import bs4\n",
        "from bs4 import BeautifulSoup\n",
        "\n",
        "def get_usuarios(html):\n",
        "  soup = BeautifulSoup(html, 'html.parser')\n",
        "  comments = soup.find_all('div', {'class':'comment'})\n",
        "  all_names = []\n",
        "  for c in comments:\n",
        "    all_names.append(c.find('strong').text.replace(\":\", \"\"))\n",
        "\n",
        "  return all_names"
      ]
    },
    {
      "cell_type": "markdown",
      "metadata": {
        "id": "ltShv2Hwarn-"
      },
      "source": [
        "Veja um exemplo da execução da função:"
      ]
    },
    {
      "cell_type": "code",
      "execution_count": 159,
      "metadata": {
        "colab": {
          "base_uri": "https://localhost:8080/"
        },
        "id": "mqzi8zNjarn-",
        "outputId": "fdeb63a1-34b9-4c41-9910-350d5834c59e"
      },
      "outputs": [
        {
          "output_type": "stream",
          "name": "stdout",
          "text": [
            "Usuários: ['João', 'Ana', 'Carlos', 'Mariana']\n"
          ]
        }
      ],
      "source": [
        "# Vamos conseguir um HTML de exemplo\n",
        "url = \"https://atd-insper.s3.us-east-2.amazonaws.com/atv_scraping/comentarios_alimentacao.html\"\n",
        "html = baixar_pagina(url)\n",
        "\n",
        "# Agora chamamos a função que você implementou\n",
        "usuarios = get_usuarios(html)\n",
        "\n",
        "print(f\"Usuários: {usuarios}\")"
      ]
    },
    {
      "cell_type": "markdown",
      "metadata": {
        "id": "ldkAuxyparn-"
      },
      "source": [
        "É esperado que ela retorne:\n",
        "\n",
        "\n",
        "```python\n",
        "['João', 'Ana', 'Carlos', 'Mariana']\n",
        "```\n"
      ]
    },
    {
      "cell_type": "markdown",
      "metadata": {
        "id": "_scjdvhFarn-"
      },
      "source": [
        "Quando estiver confiante que sua resposta está correta, clique no botão abaixo para fazer o envio."
      ]
    },
    {
      "cell_type": "code",
      "execution_count": 160,
      "metadata": {
        "colab": {
          "base_uri": "https://localhost:8080/",
          "height": 78,
          "referenced_widgets": [
            "752dd8c20ed0476e8a8f0efef351a14c",
            "42a0149cc4f4492f91c0d01fe3aad2f3",
            "5813ed3814a94ea9bf9c5408a86eac5e",
            "af6d213d267a44b1aa5e918132e94f50",
            "2c5279f4b26143a9b4aea9d930484b7c",
            "9fc022b00f244b7eaac13468d04d0868",
            "c819b44e63004dd9a9980dff4d0f734c"
          ]
        },
        "id": "N4XFQarXarn_",
        "outputId": "145dfdb0-d99a-4499-f3f0-f92840954c6c"
      },
      "outputs": [
        {
          "output_type": "display_data",
          "data": {
            "text/plain": [
              "interactive(children=(Button(description='Enviar ex06', style=ButtonStyle()), Output()), _dom_classes=('widget…"
            ],
            "application/vnd.jupyter.widget-view+json": {
              "version_major": 2,
              "version_minor": 0,
              "model_id": "752dd8c20ed0476e8a8f0efef351a14c"
            }
          },
          "metadata": {}
        }
      ],
      "source": [
        "ia.sender(answer=\"get_usuarios\", task=\"scraping\", question=\"ex06\", answer_type=\"pycode\")"
      ]
    },
    {
      "cell_type": "markdown",
      "metadata": {
        "id": "IxepGnU8arn_"
      },
      "source": [
        "### Exercício 7\n",
        "\n",
        "Considere, como exemplo, a página disponível em [https://atd-insper.s3.us-east-2.amazonaws.com/atv_scraping/comentarios_ciclismo.html](https://atd-insper.s3.us-east-2.amazonaws.com/atv_scraping/comentarios_ciclismo.html)\n",
        "\n",
        "\n",
        "Crie uma função em Python que recebe como entrada:\n",
        "- O código **HTML** de uma página.\n",
        "\n",
        "A sua função deve:\n",
        "- Retornar um **DataFrame** pandas contendo os **usuários** e seus **comentários**!\n",
        "\n",
        "Responda alterando o código da função abaixo.\n",
        "\n",
        "Obs:\n",
        "\n",
        "- As colunas devem ser `usuario` e `comentario`, sem acentuação.\n",
        "- O nome e argumentos da função não devem ser alterados.\n",
        "- Considere que o código de correção já tem o import da `bs4` e `BeautifulSoup`. Ainda, já tem `import pandas as pd`."
      ]
    },
    {
      "cell_type": "code",
      "execution_count": 189,
      "metadata": {
        "id": "RUrvz4yMaroA"
      },
      "outputs": [],
      "source": [
        "# Altere esta função\n",
        "import bs4\n",
        "from bs4 import BeautifulSoup\n",
        "import pandas as pd\n",
        "\n",
        "def get_df_comentarios(html):\n",
        "  soup = BeautifulSoup(html, 'html.parser')\n",
        "  comments = soup.find_all('div', {'class':'comment'})\n",
        "  all_names = []\n",
        "  all_comments = []\n",
        "  for c in comments:\n",
        "    all_names.append(c.find('strong').text.replace(\":\", \"\"))\n",
        "    all_comments.append(c.find('p').text.split(\":\")[1].strip())\n",
        "\n",
        "  df = pd.DataFrame()\n",
        "  df['usuario'] = all_names\n",
        "  df['comentario'] = all_comments\n",
        "  return df"
      ]
    },
    {
      "cell_type": "markdown",
      "metadata": {
        "id": "ZEm6To4AaroA"
      },
      "source": [
        "Veja um exemplo da execução da função:"
      ]
    },
    {
      "cell_type": "code",
      "execution_count": 190,
      "metadata": {
        "colab": {
          "base_uri": "https://localhost:8080/",
          "height": 175
        },
        "id": "t1QRMfl5aroB",
        "outputId": "c55cd6ff-f249-4ca5-a9dd-f562c6a8df2d"
      },
      "outputs": [
        {
          "output_type": "execute_result",
          "data": {
            "text/plain": [
              "   usuario                                         comentario\n",
              "0     João  Ótimas dicas! Já estou tentando incluir mais v...\n",
              "1      Ana  Esse post me motivou a começar a fazer smoothi...\n",
              "2   Carlos  A alimentação saudável realmente faz toda a di...\n",
              "3  Mariana  Dicas excelentes! Vou começar a substituir os ..."
            ],
            "text/html": [
              "\n",
              "  <div id=\"df-02a55623-14e3-4489-b595-6c0f2a0205f5\" class=\"colab-df-container\">\n",
              "    <div>\n",
              "<style scoped>\n",
              "    .dataframe tbody tr th:only-of-type {\n",
              "        vertical-align: middle;\n",
              "    }\n",
              "\n",
              "    .dataframe tbody tr th {\n",
              "        vertical-align: top;\n",
              "    }\n",
              "\n",
              "    .dataframe thead th {\n",
              "        text-align: right;\n",
              "    }\n",
              "</style>\n",
              "<table border=\"1\" class=\"dataframe\">\n",
              "  <thead>\n",
              "    <tr style=\"text-align: right;\">\n",
              "      <th></th>\n",
              "      <th>usuario</th>\n",
              "      <th>comentario</th>\n",
              "    </tr>\n",
              "  </thead>\n",
              "  <tbody>\n",
              "    <tr>\n",
              "      <th>0</th>\n",
              "      <td>João</td>\n",
              "      <td>Ótimas dicas! Já estou tentando incluir mais v...</td>\n",
              "    </tr>\n",
              "    <tr>\n",
              "      <th>1</th>\n",
              "      <td>Ana</td>\n",
              "      <td>Esse post me motivou a começar a fazer smoothi...</td>\n",
              "    </tr>\n",
              "    <tr>\n",
              "      <th>2</th>\n",
              "      <td>Carlos</td>\n",
              "      <td>A alimentação saudável realmente faz toda a di...</td>\n",
              "    </tr>\n",
              "    <tr>\n",
              "      <th>3</th>\n",
              "      <td>Mariana</td>\n",
              "      <td>Dicas excelentes! Vou começar a substituir os ...</td>\n",
              "    </tr>\n",
              "  </tbody>\n",
              "</table>\n",
              "</div>\n",
              "    <div class=\"colab-df-buttons\">\n",
              "\n",
              "  <div class=\"colab-df-container\">\n",
              "    <button class=\"colab-df-convert\" onclick=\"convertToInteractive('df-02a55623-14e3-4489-b595-6c0f2a0205f5')\"\n",
              "            title=\"Convert this dataframe to an interactive table.\"\n",
              "            style=\"display:none;\">\n",
              "\n",
              "  <svg xmlns=\"http://www.w3.org/2000/svg\" height=\"24px\" viewBox=\"0 -960 960 960\">\n",
              "    <path d=\"M120-120v-720h720v720H120Zm60-500h600v-160H180v160Zm220 220h160v-160H400v160Zm0 220h160v-160H400v160ZM180-400h160v-160H180v160Zm440 0h160v-160H620v160ZM180-180h160v-160H180v160Zm440 0h160v-160H620v160Z\"/>\n",
              "  </svg>\n",
              "    </button>\n",
              "\n",
              "  <style>\n",
              "    .colab-df-container {\n",
              "      display:flex;\n",
              "      gap: 12px;\n",
              "    }\n",
              "\n",
              "    .colab-df-convert {\n",
              "      background-color: #E8F0FE;\n",
              "      border: none;\n",
              "      border-radius: 50%;\n",
              "      cursor: pointer;\n",
              "      display: none;\n",
              "      fill: #1967D2;\n",
              "      height: 32px;\n",
              "      padding: 0 0 0 0;\n",
              "      width: 32px;\n",
              "    }\n",
              "\n",
              "    .colab-df-convert:hover {\n",
              "      background-color: #E2EBFA;\n",
              "      box-shadow: 0px 1px 2px rgba(60, 64, 67, 0.3), 0px 1px 3px 1px rgba(60, 64, 67, 0.15);\n",
              "      fill: #174EA6;\n",
              "    }\n",
              "\n",
              "    .colab-df-buttons div {\n",
              "      margin-bottom: 4px;\n",
              "    }\n",
              "\n",
              "    [theme=dark] .colab-df-convert {\n",
              "      background-color: #3B4455;\n",
              "      fill: #D2E3FC;\n",
              "    }\n",
              "\n",
              "    [theme=dark] .colab-df-convert:hover {\n",
              "      background-color: #434B5C;\n",
              "      box-shadow: 0px 1px 3px 1px rgba(0, 0, 0, 0.15);\n",
              "      filter: drop-shadow(0px 1px 2px rgba(0, 0, 0, 0.3));\n",
              "      fill: #FFFFFF;\n",
              "    }\n",
              "  </style>\n",
              "\n",
              "    <script>\n",
              "      const buttonEl =\n",
              "        document.querySelector('#df-02a55623-14e3-4489-b595-6c0f2a0205f5 button.colab-df-convert');\n",
              "      buttonEl.style.display =\n",
              "        google.colab.kernel.accessAllowed ? 'block' : 'none';\n",
              "\n",
              "      async function convertToInteractive(key) {\n",
              "        const element = document.querySelector('#df-02a55623-14e3-4489-b595-6c0f2a0205f5');\n",
              "        const dataTable =\n",
              "          await google.colab.kernel.invokeFunction('convertToInteractive',\n",
              "                                                    [key], {});\n",
              "        if (!dataTable) return;\n",
              "\n",
              "        const docLinkHtml = 'Like what you see? Visit the ' +\n",
              "          '<a target=\"_blank\" href=https://colab.research.google.com/notebooks/data_table.ipynb>data table notebook</a>'\n",
              "          + ' to learn more about interactive tables.';\n",
              "        element.innerHTML = '';\n",
              "        dataTable['output_type'] = 'display_data';\n",
              "        await google.colab.output.renderOutput(dataTable, element);\n",
              "        const docLink = document.createElement('div');\n",
              "        docLink.innerHTML = docLinkHtml;\n",
              "        element.appendChild(docLink);\n",
              "      }\n",
              "    </script>\n",
              "  </div>\n",
              "\n",
              "\n",
              "<div id=\"df-c637a77f-5588-40d0-ae47-91bd60215ae3\">\n",
              "  <button class=\"colab-df-quickchart\" onclick=\"quickchart('df-c637a77f-5588-40d0-ae47-91bd60215ae3')\"\n",
              "            title=\"Suggest charts\"\n",
              "            style=\"display:none;\">\n",
              "\n",
              "<svg xmlns=\"http://www.w3.org/2000/svg\" height=\"24px\"viewBox=\"0 0 24 24\"\n",
              "     width=\"24px\">\n",
              "    <g>\n",
              "        <path d=\"M19 3H5c-1.1 0-2 .9-2 2v14c0 1.1.9 2 2 2h14c1.1 0 2-.9 2-2V5c0-1.1-.9-2-2-2zM9 17H7v-7h2v7zm4 0h-2V7h2v10zm4 0h-2v-4h2v4z\"/>\n",
              "    </g>\n",
              "</svg>\n",
              "  </button>\n",
              "\n",
              "<style>\n",
              "  .colab-df-quickchart {\n",
              "      --bg-color: #E8F0FE;\n",
              "      --fill-color: #1967D2;\n",
              "      --hover-bg-color: #E2EBFA;\n",
              "      --hover-fill-color: #174EA6;\n",
              "      --disabled-fill-color: #AAA;\n",
              "      --disabled-bg-color: #DDD;\n",
              "  }\n",
              "\n",
              "  [theme=dark] .colab-df-quickchart {\n",
              "      --bg-color: #3B4455;\n",
              "      --fill-color: #D2E3FC;\n",
              "      --hover-bg-color: #434B5C;\n",
              "      --hover-fill-color: #FFFFFF;\n",
              "      --disabled-bg-color: #3B4455;\n",
              "      --disabled-fill-color: #666;\n",
              "  }\n",
              "\n",
              "  .colab-df-quickchart {\n",
              "    background-color: var(--bg-color);\n",
              "    border: none;\n",
              "    border-radius: 50%;\n",
              "    cursor: pointer;\n",
              "    display: none;\n",
              "    fill: var(--fill-color);\n",
              "    height: 32px;\n",
              "    padding: 0;\n",
              "    width: 32px;\n",
              "  }\n",
              "\n",
              "  .colab-df-quickchart:hover {\n",
              "    background-color: var(--hover-bg-color);\n",
              "    box-shadow: 0 1px 2px rgba(60, 64, 67, 0.3), 0 1px 3px 1px rgba(60, 64, 67, 0.15);\n",
              "    fill: var(--button-hover-fill-color);\n",
              "  }\n",
              "\n",
              "  .colab-df-quickchart-complete:disabled,\n",
              "  .colab-df-quickchart-complete:disabled:hover {\n",
              "    background-color: var(--disabled-bg-color);\n",
              "    fill: var(--disabled-fill-color);\n",
              "    box-shadow: none;\n",
              "  }\n",
              "\n",
              "  .colab-df-spinner {\n",
              "    border: 2px solid var(--fill-color);\n",
              "    border-color: transparent;\n",
              "    border-bottom-color: var(--fill-color);\n",
              "    animation:\n",
              "      spin 1s steps(1) infinite;\n",
              "  }\n",
              "\n",
              "  @keyframes spin {\n",
              "    0% {\n",
              "      border-color: transparent;\n",
              "      border-bottom-color: var(--fill-color);\n",
              "      border-left-color: var(--fill-color);\n",
              "    }\n",
              "    20% {\n",
              "      border-color: transparent;\n",
              "      border-left-color: var(--fill-color);\n",
              "      border-top-color: var(--fill-color);\n",
              "    }\n",
              "    30% {\n",
              "      border-color: transparent;\n",
              "      border-left-color: var(--fill-color);\n",
              "      border-top-color: var(--fill-color);\n",
              "      border-right-color: var(--fill-color);\n",
              "    }\n",
              "    40% {\n",
              "      border-color: transparent;\n",
              "      border-right-color: var(--fill-color);\n",
              "      border-top-color: var(--fill-color);\n",
              "    }\n",
              "    60% {\n",
              "      border-color: transparent;\n",
              "      border-right-color: var(--fill-color);\n",
              "    }\n",
              "    80% {\n",
              "      border-color: transparent;\n",
              "      border-right-color: var(--fill-color);\n",
              "      border-bottom-color: var(--fill-color);\n",
              "    }\n",
              "    90% {\n",
              "      border-color: transparent;\n",
              "      border-bottom-color: var(--fill-color);\n",
              "    }\n",
              "  }\n",
              "</style>\n",
              "\n",
              "  <script>\n",
              "    async function quickchart(key) {\n",
              "      const quickchartButtonEl =\n",
              "        document.querySelector('#' + key + ' button');\n",
              "      quickchartButtonEl.disabled = true;  // To prevent multiple clicks.\n",
              "      quickchartButtonEl.classList.add('colab-df-spinner');\n",
              "      try {\n",
              "        const charts = await google.colab.kernel.invokeFunction(\n",
              "            'suggestCharts', [key], {});\n",
              "      } catch (error) {\n",
              "        console.error('Error during call to suggestCharts:', error);\n",
              "      }\n",
              "      quickchartButtonEl.classList.remove('colab-df-spinner');\n",
              "      quickchartButtonEl.classList.add('colab-df-quickchart-complete');\n",
              "    }\n",
              "    (() => {\n",
              "      let quickchartButtonEl =\n",
              "        document.querySelector('#df-c637a77f-5588-40d0-ae47-91bd60215ae3 button');\n",
              "      quickchartButtonEl.style.display =\n",
              "        google.colab.kernel.accessAllowed ? 'block' : 'none';\n",
              "    })();\n",
              "  </script>\n",
              "</div>\n",
              "\n",
              "  <div id=\"id_ecb48616-5a55-4b02-ba50-3889e22e6a92\">\n",
              "    <style>\n",
              "      .colab-df-generate {\n",
              "        background-color: #E8F0FE;\n",
              "        border: none;\n",
              "        border-radius: 50%;\n",
              "        cursor: pointer;\n",
              "        display: none;\n",
              "        fill: #1967D2;\n",
              "        height: 32px;\n",
              "        padding: 0 0 0 0;\n",
              "        width: 32px;\n",
              "      }\n",
              "\n",
              "      .colab-df-generate:hover {\n",
              "        background-color: #E2EBFA;\n",
              "        box-shadow: 0px 1px 2px rgba(60, 64, 67, 0.3), 0px 1px 3px 1px rgba(60, 64, 67, 0.15);\n",
              "        fill: #174EA6;\n",
              "      }\n",
              "\n",
              "      [theme=dark] .colab-df-generate {\n",
              "        background-color: #3B4455;\n",
              "        fill: #D2E3FC;\n",
              "      }\n",
              "\n",
              "      [theme=dark] .colab-df-generate:hover {\n",
              "        background-color: #434B5C;\n",
              "        box-shadow: 0px 1px 3px 1px rgba(0, 0, 0, 0.15);\n",
              "        filter: drop-shadow(0px 1px 2px rgba(0, 0, 0, 0.3));\n",
              "        fill: #FFFFFF;\n",
              "      }\n",
              "    </style>\n",
              "    <button class=\"colab-df-generate\" onclick=\"generateWithVariable('df_comentarios')\"\n",
              "            title=\"Generate code using this dataframe.\"\n",
              "            style=\"display:none;\">\n",
              "\n",
              "  <svg xmlns=\"http://www.w3.org/2000/svg\" height=\"24px\"viewBox=\"0 0 24 24\"\n",
              "       width=\"24px\">\n",
              "    <path d=\"M7,19H8.4L18.45,9,17,7.55,7,17.6ZM5,21V16.75L18.45,3.32a2,2,0,0,1,2.83,0l1.4,1.43a1.91,1.91,0,0,1,.58,1.4,1.91,1.91,0,0,1-.58,1.4L9.25,21ZM18.45,9,17,7.55Zm-12,3A5.31,5.31,0,0,0,4.9,8.1,5.31,5.31,0,0,0,1,6.5,5.31,5.31,0,0,0,4.9,4.9,5.31,5.31,0,0,0,6.5,1,5.31,5.31,0,0,0,8.1,4.9,5.31,5.31,0,0,0,12,6.5,5.46,5.46,0,0,0,6.5,12Z\"/>\n",
              "  </svg>\n",
              "    </button>\n",
              "    <script>\n",
              "      (() => {\n",
              "      const buttonEl =\n",
              "        document.querySelector('#id_ecb48616-5a55-4b02-ba50-3889e22e6a92 button.colab-df-generate');\n",
              "      buttonEl.style.display =\n",
              "        google.colab.kernel.accessAllowed ? 'block' : 'none';\n",
              "\n",
              "      buttonEl.onclick = () => {\n",
              "        google.colab.notebook.generateWithVariable('df_comentarios');\n",
              "      }\n",
              "      })();\n",
              "    </script>\n",
              "  </div>\n",
              "\n",
              "    </div>\n",
              "  </div>\n"
            ],
            "application/vnd.google.colaboratory.intrinsic+json": {
              "type": "dataframe",
              "variable_name": "df_comentarios",
              "summary": "{\n  \"name\": \"df_comentarios\",\n  \"rows\": 4,\n  \"fields\": [\n    {\n      \"column\": \"usuario\",\n      \"properties\": {\n        \"dtype\": \"string\",\n        \"num_unique_values\": 4,\n        \"samples\": [\n          \"Ana\",\n          \"Mariana\",\n          \"Jo\\u00e3o\"\n        ],\n        \"semantic_type\": \"\",\n        \"description\": \"\"\n      }\n    },\n    {\n      \"column\": \"comentario\",\n      \"properties\": {\n        \"dtype\": \"string\",\n        \"num_unique_values\": 4,\n        \"samples\": [\n          \"Esse post me motivou a come\\u00e7ar a fazer smoothies com frutas! Muito obrigada!\",\n          \"Dicas excelentes! Vou come\\u00e7ar a substituir os alimentos processados por op\\u00e7\\u00f5es mais naturais.\",\n          \"\\u00d3timas dicas! J\\u00e1 estou tentando incluir mais vegetais nas minhas refei\\u00e7\\u00f5es di\\u00e1rias.\"\n        ],\n        \"semantic_type\": \"\",\n        \"description\": \"\"\n      }\n    }\n  ]\n}"
            }
          },
          "metadata": {},
          "execution_count": 190
        }
      ],
      "source": [
        "# Vamos conseguir um HTML de exemplo\n",
        "url = \"https://atd-insper.s3.us-east-2.amazonaws.com/atv_scraping/comentarios_alimentacao.html\"\n",
        "html = baixar_pagina(url)\n",
        "\n",
        "# Agora chamamos a função que você implementou\n",
        "df_comentarios = get_df_comentarios(html)\n",
        "\n",
        "df_comentarios"
      ]
    },
    {
      "cell_type": "markdown",
      "metadata": {
        "id": "iZIMSPr4aroC"
      },
      "source": [
        "É esperado que ela retorne:\n",
        "\n",
        "|    | usuario   | comentario                                                                                                             |\n",
        "|---:|:----------|:-----------------------------------------------------------------------------------------------------------------------|\n",
        "|  0 | João      | Ótimas dicas! Já estou tentando incluir mais vegetais nas minhas refeições diárias.                                    |\n",
        "|  1 | Ana       | Esse post me motivou a começar a fazer smoothies com frutas! Muito obrigada!                                           |\n",
        "|  2 | Carlos    | A alimentação saudável realmente faz toda a diferença no dia a dia. Vou começar a planejar melhor as minhas refeições. |\n",
        "|  3 | Mariana   | Dicas excelentes! Vou começar a substituir os alimentos processados por opções mais naturais.                          |"
      ]
    },
    {
      "cell_type": "markdown",
      "metadata": {
        "id": "77GzuuDFaroC"
      },
      "source": [
        "Quando estiver confiante que sua resposta está correta, clique no botão abaixo para fazer o envio."
      ]
    },
    {
      "cell_type": "code",
      "execution_count": 191,
      "metadata": {
        "colab": {
          "base_uri": "https://localhost:8080/",
          "height": 78,
          "referenced_widgets": [
            "b1b02673c27a461cbf0d2cfb822e8de6",
            "245e08ec6a6c4306937d55984bfa44c7",
            "419f5c9ece474864ae29454944f283b6",
            "9c77876c575a4658b74af89aded2c14c",
            "7d168ed3d2a8426ea057aa87322875c2",
            "ae3bb5276a5a4936839b8c928c0241d5",
            "50c5d3b427954923849d8677c7547062"
          ]
        },
        "id": "nXnZzaxXaroD",
        "outputId": "3367e74c-c1d8-4b3f-daea-b5b0236a6258"
      },
      "outputs": [
        {
          "output_type": "display_data",
          "data": {
            "text/plain": [
              "interactive(children=(Button(description='Enviar ex07', style=ButtonStyle()), Output()), _dom_classes=('widget…"
            ],
            "application/vnd.jupyter.widget-view+json": {
              "version_major": 2,
              "version_minor": 0,
              "model_id": "b1b02673c27a461cbf0d2cfb822e8de6"
            }
          },
          "metadata": {}
        }
      ],
      "source": [
        "ia.sender(answer=\"get_df_comentarios\", task=\"scraping\", question=\"ex07\", answer_type=\"pycode\")"
      ]
    },
    {
      "cell_type": "markdown",
      "metadata": {
        "id": "cTG6nml3aroD"
      },
      "source": [
        "### Exercício 8\n",
        "\n",
        "Considere, como exemplo, a página disponível em [https://atd-insper.s3.us-east-2.amazonaws.com/atv_scraping/produtos_v1.html](https://atd-insper.s3.us-east-2.amazonaws.com/atv_scraping/produtos_v1.html)\n",
        "\n",
        "\n",
        "Crie uma função em Python que recebe como entrada:\n",
        "- O código **HTML** de uma página.\n",
        "\n",
        "A sua função deve:\n",
        "- Contar e retornar, como inteiro, a quantidade de **produtos** na página.\n",
        "\n",
        "Responda alterando o código da função abaixo.\n",
        "\n",
        "Obs:\n",
        "\n",
        "- O nome e argumentos da função não devem ser alterados.\n",
        "- Considere que o código de correção já tem o import da `bs4` e `BeautifulSoup`."
      ]
    },
    {
      "cell_type": "code",
      "execution_count": null,
      "metadata": {
        "id": "5gH_6x3raroE"
      },
      "outputs": [],
      "source": [
        "# Altere esta função\n",
        "import bs4\n",
        "from bs4 import BeautifulSoup\n",
        "\n",
        "def contar_produtos(html):\n",
        "    return 0"
      ]
    },
    {
      "cell_type": "markdown",
      "metadata": {
        "id": "4ukt5nxQaroE"
      },
      "source": [
        "Veja um exemplo de execução:"
      ]
    },
    {
      "cell_type": "code",
      "execution_count": null,
      "metadata": {
        "id": "FSlrQlLParoF"
      },
      "outputs": [],
      "source": [
        "# Vamos conseguir um HTML de exemplo\n",
        "url_prod = \"https://atd-insper.s3.us-east-2.amazonaws.com/atv_scraping/produtos_v1.html\"\n",
        "html_prod = baixar_pagina(url_prod)\n",
        "\n",
        "# Agora chamamos a função que você implementou\n",
        "qt_produtos = contar_produtos(html_prod)\n",
        "\n",
        "print(f\"Foram encontrados {qt_produtos} produtos\")"
      ]
    },
    {
      "cell_type": "markdown",
      "metadata": {
        "id": "tZO3FB8iaroF"
      },
      "source": [
        "Abaixo, seguem alguns testes que rodam localmente e verificam sua resposta."
      ]
    },
    {
      "cell_type": "code",
      "execution_count": null,
      "metadata": {
        "id": "mR0LAXTRaroF"
      },
      "outputs": [],
      "source": [
        "assert contar_produtos(html_prod) == 3"
      ]
    },
    {
      "cell_type": "markdown",
      "metadata": {
        "id": "ISPh_pEgaroF"
      },
      "source": [
        "Quando estiver confiante que sua resposta está correta, clique no botão abaixo para fazer o envio."
      ]
    },
    {
      "cell_type": "code",
      "execution_count": null,
      "metadata": {
        "id": "IzrrpFkaaroG"
      },
      "outputs": [],
      "source": [
        "ia.sender(answer=\"contar_produtos\", task=\"scraping\", question=\"ex08\", answer_type=\"pycode\")"
      ]
    },
    {
      "cell_type": "markdown",
      "metadata": {
        "id": "PhZX0k1haroG"
      },
      "source": [
        "### Exercício 9\n",
        "\n",
        "Considere, como exemplo, a página disponível em [https://atd-insper.s3.us-east-2.amazonaws.com/atv_scraping/produtos_v1.html](https://atd-insper.s3.us-east-2.amazonaws.com/atv_scraping/produtos_v1.html)\n",
        "\n",
        "\n",
        "Crie uma função em Python que recebe como entrada:\n",
        "- O código **HTML** de uma página.\n",
        "\n",
        "A sua função deve:\n",
        "- Retornar um **DataFrame** pandas contendo os **produtos**, suas **descrições** e **preços**.\n",
        "\n",
        "Responda alterando o código da função abaixo.\n",
        "\n",
        "Obs:\n",
        "\n",
        "- As colunas devem ser `produto`, `descricao` e `preco`, sem acentuação.\n",
        "- O preço deve ser limpo e transformado para `float`.\n",
        "- O nome e argumentos da função não devem ser alterados.\n",
        "- Considere que o código de correção já tem o import da `bs4` e `BeautifulSoup`. Ainda, já tem `import pandas as pd`."
      ]
    },
    {
      "cell_type": "code",
      "execution_count": null,
      "metadata": {
        "id": "D2vkiJ6NaroG"
      },
      "outputs": [],
      "source": [
        "# Altere esta função\n",
        "import bs4\n",
        "from bs4 import BeautifulSoup\n",
        "\n",
        "def get_df_produtos(html):\n",
        "    return 0"
      ]
    },
    {
      "cell_type": "markdown",
      "metadata": {
        "id": "_FrjeWUHaroH"
      },
      "source": [
        "Veja um exemplo da execução da função:"
      ]
    },
    {
      "cell_type": "code",
      "execution_count": null,
      "metadata": {
        "id": "0G9R-eI5aroH"
      },
      "outputs": [],
      "source": [
        "# Vamos conseguir um HTML de exemplo\n",
        "url_prod = \"https://atd-insper.s3.us-east-2.amazonaws.com/atv_scraping/produtos_v1.html\"\n",
        "html_prod = baixar_pagina(url_prod)\n",
        "\n",
        "# Agora chamamos a função que você implementou\n",
        "df_prod = get_df_produtos(html_prod)\n",
        "\n",
        "df_prod"
      ]
    },
    {
      "cell_type": "markdown",
      "metadata": {
        "id": "GGY6VtymaroH"
      },
      "source": [
        "É esperado que ela retorne:\n",
        "\n",
        "|    | produto   | descricao                                                                                              |   preco |\n",
        "|---:|:----------|:-------------------------------------------------------------------------------------------------------|--------:|\n",
        "|  0 | Produto 1 | Descrição do Produto 1. Este produto é ótimo para quem procura qualidade e durabilidade.               |    99.9 |\n",
        "|  1 | Produto 2 | Descrição do Produto 2. Ideal para quem busca praticidade no dia a dia, com excelente custo-benefício. |    79.5 |\n",
        "|  2 | Produto 3 | Descrição do Produto 3. Um produto inovador que vai facilitar a sua vida, com características únicas.  |   149.0 |"
      ]
    },
    {
      "cell_type": "markdown",
      "metadata": {
        "id": "bmPfBEfyaroI"
      },
      "source": [
        "Quando estiver confiante que sua resposta está correta, clique no botão abaixo para fazer o envio."
      ]
    },
    {
      "cell_type": "code",
      "execution_count": null,
      "metadata": {
        "id": "slx9WT3MaroI"
      },
      "outputs": [],
      "source": [
        "ia.sender(answer=\"get_df_produtos\", task=\"scraping\", question=\"ex09\", answer_type=\"pycode\")"
      ]
    },
    {
      "cell_type": "markdown",
      "metadata": {
        "id": "obNWA3AParoJ"
      },
      "source": [
        "### Exercício 10\n",
        "\n",
        "Considere a página disponível em [https://atd-insper.s3.us-east-2.amazonaws.com/atv_scraping/dicas.html](https://atd-insper.s3.us-east-2.amazonaws.com/atv_scraping/dicas.html)\n",
        "\n",
        "Acesse em seu navegador e aparte **F5** em seu teclado (ou o botão de atualizar no navegador). Você irá perceber que esta página possui **conteúdo dinâmico**, exibindo uma dica diferente a cada atualização.\n",
        "\n",
        "Assim, iremos utilizar **Selenium** para extrair dicas desta página.\n",
        "\n",
        "Crie uma função python que recebe um **driver** já instanciado. Sua função deve:\n",
        "\n",
        "- Utilizar o driver para acessar a página.\n",
        "- Extrair a dica exibida.\n",
        "\n",
        "Vamos criar o driver, mas antes, instalaremos com:"
      ]
    },
    {
      "cell_type": "code",
      "execution_count": null,
      "metadata": {
        "id": "gdAeaj3karoJ"
      },
      "outputs": [],
      "source": [
        "!python -m pip install selenium\n",
        "!python -m pip install webdriver_manager"
      ]
    },
    {
      "cell_type": "markdown",
      "metadata": {
        "id": "dbSVAIj4aroJ"
      },
      "source": [
        "Se estiver no Google Colab, descomente e também rode:"
      ]
    },
    {
      "cell_type": "code",
      "execution_count": null,
      "metadata": {
        "id": "l8qNXUQRaroK"
      },
      "outputs": [],
      "source": [
        "# !sudo apt update\n",
        "# !wget https://dl.google.com/linux/direct/google-chrome-stable_current_amd64.deb\n",
        "# !sudo dpkg -i google-chrome-stable_current_amd64.deb\n",
        "# !sudo apt-get -f install\n",
        "# !google-chrome-stable --version"
      ]
    },
    {
      "cell_type": "markdown",
      "metadata": {
        "id": "ACwnZrz1aroK"
      },
      "source": [
        "Vamos importar as bibliotecas:"
      ]
    },
    {
      "cell_type": "code",
      "execution_count": null,
      "metadata": {
        "id": "BxrVC3GnaroK"
      },
      "outputs": [],
      "source": [
        "from selenium import webdriver\n",
        "from selenium.webdriver.chrome.options import Options\n",
        "from webdriver_manager.chrome import ChromeDriverManager\n",
        "from selenium.webdriver.chrome.service import Service\n",
        "from selenium.webdriver.common.by import By"
      ]
    },
    {
      "cell_type": "markdown",
      "metadata": {
        "id": "C2lEjcLHaroL"
      },
      "source": [
        "E finalmente criar o driver! Execute a linha abaixo. Você irá perceber que será criada uma janela do navegador Chrome. Deixe esta janela aberta.\n",
        "\n",
        "Obs: No Colab, não há como visualizar o navegador utilizado pelo Selenium!"
      ]
    },
    {
      "cell_type": "code",
      "execution_count": null,
      "metadata": {
        "id": "34H0j7x3aroL"
      },
      "outputs": [],
      "source": [
        "driver = webdriver.Chrome(service=Service(ChromeDriverManager().install()))\n",
        "driver.set_page_load_timeout(60)\n",
        "\n",
        "# Se estiver no Colab, comente o código acima e utilize como alternativa\n",
        "# chrome_options = webdriver.ChromeOptions()\n",
        "# chrome_options.add_argument('--headless') # ensure GUI is off\n",
        "# chrome_options.add_argument('--no-sandbox')\n",
        "# chrome_options.add_argument('--disable-dev-shm-usage')\n",
        "# driver = webdriver.Chrome(service=Service(ChromeDriverManager().install()), options=chrome_options)\n",
        "# driver.set_page_load_timeout(60)"
      ]
    },
    {
      "cell_type": "code",
      "execution_count": null,
      "metadata": {
        "id": "qBV0gHZxaroL"
      },
      "outputs": [],
      "source": [
        "# Altere esta função\n",
        "def obter_dica(driver):\n",
        "    return \"\""
      ]
    },
    {
      "cell_type": "markdown",
      "metadata": {
        "id": "BedPeNxSaroM"
      },
      "source": [
        "Veja um exemplo da execução da função:"
      ]
    },
    {
      "cell_type": "code",
      "execution_count": null,
      "metadata": {
        "id": "15Z8muxYaroM"
      },
      "outputs": [],
      "source": [
        "print(obter_dica(driver))\n",
        "\n",
        "print(obter_dica(driver))"
      ]
    },
    {
      "cell_type": "markdown",
      "metadata": {
        "id": "Am87sUj9aroM"
      },
      "source": [
        "Quando estiver confiante que sua resposta está correta, clique no botão abaixo para fazer o envio."
      ]
    },
    {
      "cell_type": "code",
      "execution_count": null,
      "metadata": {
        "id": "Gzbh4sY4aroM"
      },
      "outputs": [],
      "source": [
        "ia.sender(answer=\"obter_dica\", task=\"scraping\", question=\"ex10\", answer_type=\"pycode\")"
      ]
    },
    {
      "cell_type": "markdown",
      "metadata": {
        "id": "sIdI3hVnaroN"
      },
      "source": [
        "### Exercício 11\n",
        "\n",
        "Considere a página disponível em [https://atd-insper.s3.us-east-2.amazonaws.com/atv_scraping/dicas_v2.html](https://atd-insper.s3.us-east-2.amazonaws.com/atv_scraping/dicas_v2.html)\n",
        "\n",
        "Acesse em seu navegador e clique em **Nova Dica**. Você irá perceber que esta página possui **conteúdo dinâmico**, exibindo uma dica diferente a cada clique.\n",
        "\n",
        "Assim, iremos utilizar **Selenium** para extrair dicas desta página.\n",
        "\n",
        "Crie uma função python que recebe um **driver** já instanciado. Sua função deve:\n",
        "\n",
        "- Utilizar o driver para acessar a página.\n",
        "- Identificar e clicar no botão.\n",
        "- Extrair a dica exibida."
      ]
    },
    {
      "cell_type": "code",
      "execution_count": null,
      "metadata": {
        "id": "vmvwkWvraroN"
      },
      "outputs": [],
      "source": [
        "# Altere esta função\n",
        "def obter_dica_com_clique(driver):\n",
        "    return \"\""
      ]
    },
    {
      "cell_type": "markdown",
      "metadata": {
        "id": "-2nEdofJaroN"
      },
      "source": [
        "Veja um exemplo da execução da função:"
      ]
    },
    {
      "cell_type": "code",
      "execution_count": null,
      "metadata": {
        "id": "Lc1IAFRLaroO"
      },
      "outputs": [],
      "source": [
        "print(obter_dica_com_clique(driver))\n",
        "\n",
        "print(obter_dica_com_clique(driver))"
      ]
    },
    {
      "cell_type": "markdown",
      "metadata": {
        "id": "Oyp_tdk5aroO"
      },
      "source": [
        "Quando estiver confiante que sua resposta está correta, clique no botão abaixo para fazer o envio."
      ]
    },
    {
      "cell_type": "code",
      "execution_count": null,
      "metadata": {
        "id": "Fs6wozFSaroO"
      },
      "outputs": [],
      "source": [
        "ia.sender(answer=\"obter_dica_com_clique\", task=\"scraping\", question=\"ex11\", answer_type=\"pycode\")"
      ]
    },
    {
      "cell_type": "markdown",
      "metadata": {
        "id": "0gumAgggaroO"
      },
      "source": [
        "## Conferir notas\n",
        "\n",
        "Vamos verificar se as notas foram gravadas nos exercícios!"
      ]
    },
    {
      "cell_type": "code",
      "execution_count": null,
      "metadata": {
        "id": "bWkxFGnraroP"
      },
      "outputs": [],
      "source": [
        "ia.grades(task=\"scraping\")"
      ]
    },
    {
      "cell_type": "markdown",
      "metadata": {
        "id": "8qf4ezGAaroP"
      },
      "source": [
        "Vamos verificar se a nota da atividade está ok:"
      ]
    },
    {
      "cell_type": "code",
      "execution_count": null,
      "metadata": {
        "id": "cA2XdAIHaroP"
      },
      "outputs": [],
      "source": [
        "ia.grades(by=\"TASK\")"
      ]
    },
    {
      "cell_type": "markdown",
      "metadata": {
        "id": "d5LjnYKuaroP"
      },
      "source": [
        "## Finalizando o trabalho"
      ]
    },
    {
      "cell_type": "markdown",
      "metadata": {
        "id": "xZepoK6XaroQ"
      },
      "source": [
        "Por hoje é só!"
      ]
    }
  ],
  "metadata": {
    "kernelspec": {
      "display_name": "atd",
      "language": "python",
      "name": "python3"
    },
    "language_info": {
      "codemirror_mode": {
        "name": "ipython",
        "version": 3
      },
      "file_extension": ".py",
      "mimetype": "text/x-python",
      "name": "python",
      "nbconvert_exporter": "python",
      "pygments_lexer": "ipython3",
      "version": "3.10.16"
    },
    "colab": {
      "provenance": [],
      "include_colab_link": true
    },
    "widgets": {
      "application/vnd.jupyter.widget-state+json": {
        "aa1b42a9171e4e169838287e2d8b9b14": {
          "model_module": "@jupyter-widgets/controls",
          "model_name": "VBoxModel",
          "model_module_version": "1.5.0",
          "state": {
            "_dom_classes": [
              "widget-interact"
            ],
            "_model_module": "@jupyter-widgets/controls",
            "_model_module_version": "1.5.0",
            "_model_name": "VBoxModel",
            "_view_count": null,
            "_view_module": "@jupyter-widgets/controls",
            "_view_module_version": "1.5.0",
            "_view_name": "VBoxView",
            "box_style": "",
            "children": [
              "IPY_MODEL_76164c195e89423c87a9dfbf1ec53368",
              "IPY_MODEL_09cc7f51022541c29f8ed4ed795e3416"
            ],
            "layout": "IPY_MODEL_d9ce4ba14660439eb82c2a21707a72b2"
          }
        },
        "76164c195e89423c87a9dfbf1ec53368": {
          "model_module": "@jupyter-widgets/controls",
          "model_name": "ButtonModel",
          "model_module_version": "1.5.0",
          "state": {
            "_dom_classes": [],
            "_model_module": "@jupyter-widgets/controls",
            "_model_module_version": "1.5.0",
            "_model_name": "ButtonModel",
            "_view_count": null,
            "_view_module": "@jupyter-widgets/controls",
            "_view_module_version": "1.5.0",
            "_view_name": "ButtonView",
            "button_style": "",
            "description": "Enviar ex01",
            "disabled": false,
            "icon": "",
            "layout": "IPY_MODEL_89beccff6ad4479c935fed876ae81808",
            "style": "IPY_MODEL_96b72ce1df2e452c996c28573c106f70",
            "tooltip": ""
          }
        },
        "09cc7f51022541c29f8ed4ed795e3416": {
          "model_module": "@jupyter-widgets/output",
          "model_name": "OutputModel",
          "model_module_version": "1.0.0",
          "state": {
            "_dom_classes": [],
            "_model_module": "@jupyter-widgets/output",
            "_model_module_version": "1.0.0",
            "_model_name": "OutputModel",
            "_view_count": null,
            "_view_module": "@jupyter-widgets/output",
            "_view_module_version": "1.0.0",
            "_view_name": "OutputView",
            "layout": "IPY_MODEL_332a7b1aec134d12bd381de7e9649031",
            "msg_id": "",
            "outputs": [
              {
                "output_type": "display_data",
                "data": {
                  "text/plain": "<IPython.core.display.Markdown object>",
                  "text/markdown": "Exercício `ex01` da `scraping` está **correto**!"
                },
                "metadata": {}
              }
            ]
          }
        },
        "d9ce4ba14660439eb82c2a21707a72b2": {
          "model_module": "@jupyter-widgets/base",
          "model_name": "LayoutModel",
          "model_module_version": "1.2.0",
          "state": {
            "_model_module": "@jupyter-widgets/base",
            "_model_module_version": "1.2.0",
            "_model_name": "LayoutModel",
            "_view_count": null,
            "_view_module": "@jupyter-widgets/base",
            "_view_module_version": "1.2.0",
            "_view_name": "LayoutView",
            "align_content": null,
            "align_items": null,
            "align_self": null,
            "border": null,
            "bottom": null,
            "display": null,
            "flex": null,
            "flex_flow": null,
            "grid_area": null,
            "grid_auto_columns": null,
            "grid_auto_flow": null,
            "grid_auto_rows": null,
            "grid_column": null,
            "grid_gap": null,
            "grid_row": null,
            "grid_template_areas": null,
            "grid_template_columns": null,
            "grid_template_rows": null,
            "height": null,
            "justify_content": null,
            "justify_items": null,
            "left": null,
            "margin": null,
            "max_height": null,
            "max_width": null,
            "min_height": null,
            "min_width": null,
            "object_fit": null,
            "object_position": null,
            "order": null,
            "overflow": null,
            "overflow_x": null,
            "overflow_y": null,
            "padding": null,
            "right": null,
            "top": null,
            "visibility": null,
            "width": null
          }
        },
        "89beccff6ad4479c935fed876ae81808": {
          "model_module": "@jupyter-widgets/base",
          "model_name": "LayoutModel",
          "model_module_version": "1.2.0",
          "state": {
            "_model_module": "@jupyter-widgets/base",
            "_model_module_version": "1.2.0",
            "_model_name": "LayoutModel",
            "_view_count": null,
            "_view_module": "@jupyter-widgets/base",
            "_view_module_version": "1.2.0",
            "_view_name": "LayoutView",
            "align_content": null,
            "align_items": null,
            "align_self": null,
            "border": null,
            "bottom": null,
            "display": null,
            "flex": null,
            "flex_flow": null,
            "grid_area": null,
            "grid_auto_columns": null,
            "grid_auto_flow": null,
            "grid_auto_rows": null,
            "grid_column": null,
            "grid_gap": null,
            "grid_row": null,
            "grid_template_areas": null,
            "grid_template_columns": null,
            "grid_template_rows": null,
            "height": null,
            "justify_content": null,
            "justify_items": null,
            "left": null,
            "margin": null,
            "max_height": null,
            "max_width": null,
            "min_height": null,
            "min_width": null,
            "object_fit": null,
            "object_position": null,
            "order": null,
            "overflow": null,
            "overflow_x": null,
            "overflow_y": null,
            "padding": null,
            "right": null,
            "top": null,
            "visibility": null,
            "width": null
          }
        },
        "96b72ce1df2e452c996c28573c106f70": {
          "model_module": "@jupyter-widgets/controls",
          "model_name": "ButtonStyleModel",
          "model_module_version": "1.5.0",
          "state": {
            "_model_module": "@jupyter-widgets/controls",
            "_model_module_version": "1.5.0",
            "_model_name": "ButtonStyleModel",
            "_view_count": null,
            "_view_module": "@jupyter-widgets/base",
            "_view_module_version": "1.2.0",
            "_view_name": "StyleView",
            "button_color": null,
            "font_weight": ""
          }
        },
        "332a7b1aec134d12bd381de7e9649031": {
          "model_module": "@jupyter-widgets/base",
          "model_name": "LayoutModel",
          "model_module_version": "1.2.0",
          "state": {
            "_model_module": "@jupyter-widgets/base",
            "_model_module_version": "1.2.0",
            "_model_name": "LayoutModel",
            "_view_count": null,
            "_view_module": "@jupyter-widgets/base",
            "_view_module_version": "1.2.0",
            "_view_name": "LayoutView",
            "align_content": null,
            "align_items": null,
            "align_self": null,
            "border": null,
            "bottom": null,
            "display": null,
            "flex": null,
            "flex_flow": null,
            "grid_area": null,
            "grid_auto_columns": null,
            "grid_auto_flow": null,
            "grid_auto_rows": null,
            "grid_column": null,
            "grid_gap": null,
            "grid_row": null,
            "grid_template_areas": null,
            "grid_template_columns": null,
            "grid_template_rows": null,
            "height": null,
            "justify_content": null,
            "justify_items": null,
            "left": null,
            "margin": null,
            "max_height": null,
            "max_width": null,
            "min_height": null,
            "min_width": null,
            "object_fit": null,
            "object_position": null,
            "order": null,
            "overflow": null,
            "overflow_x": null,
            "overflow_y": null,
            "padding": null,
            "right": null,
            "top": null,
            "visibility": null,
            "width": null
          }
        },
        "50ed4edd2edd483f9c546cda1d5c7bb6": {
          "model_module": "@jupyter-widgets/controls",
          "model_name": "VBoxModel",
          "model_module_version": "1.5.0",
          "state": {
            "_dom_classes": [
              "widget-interact"
            ],
            "_model_module": "@jupyter-widgets/controls",
            "_model_module_version": "1.5.0",
            "_model_name": "VBoxModel",
            "_view_count": null,
            "_view_module": "@jupyter-widgets/controls",
            "_view_module_version": "1.5.0",
            "_view_name": "VBoxView",
            "box_style": "",
            "children": [
              "IPY_MODEL_96166e1023dd42109a4d116b4f692ff5",
              "IPY_MODEL_a9a725ce74df40d693dc833c0c954fe7"
            ],
            "layout": "IPY_MODEL_a3e51549598e410081a3719375fa71db"
          }
        },
        "96166e1023dd42109a4d116b4f692ff5": {
          "model_module": "@jupyter-widgets/controls",
          "model_name": "ButtonModel",
          "model_module_version": "1.5.0",
          "state": {
            "_dom_classes": [],
            "_model_module": "@jupyter-widgets/controls",
            "_model_module_version": "1.5.0",
            "_model_name": "ButtonModel",
            "_view_count": null,
            "_view_module": "@jupyter-widgets/controls",
            "_view_module_version": "1.5.0",
            "_view_name": "ButtonView",
            "button_style": "",
            "description": "Enviar ex02",
            "disabled": false,
            "icon": "",
            "layout": "IPY_MODEL_626eb681aa5842b08f3e9a41cc99dc1f",
            "style": "IPY_MODEL_09c39ccd30a44bef81c558fefc65c342",
            "tooltip": ""
          }
        },
        "a9a725ce74df40d693dc833c0c954fe7": {
          "model_module": "@jupyter-widgets/output",
          "model_name": "OutputModel",
          "model_module_version": "1.0.0",
          "state": {
            "_dom_classes": [],
            "_model_module": "@jupyter-widgets/output",
            "_model_module_version": "1.0.0",
            "_model_name": "OutputModel",
            "_view_count": null,
            "_view_module": "@jupyter-widgets/output",
            "_view_module_version": "1.0.0",
            "_view_name": "OutputView",
            "layout": "IPY_MODEL_2af33220c1664bc49874565775907c19",
            "msg_id": "",
            "outputs": [
              {
                "output_type": "display_data",
                "data": {
                  "text/plain": "<IPython.core.display.Markdown object>",
                  "text/markdown": "Exercício `ex02` da `scraping` está **correto**!"
                },
                "metadata": {}
              }
            ]
          }
        },
        "a3e51549598e410081a3719375fa71db": {
          "model_module": "@jupyter-widgets/base",
          "model_name": "LayoutModel",
          "model_module_version": "1.2.0",
          "state": {
            "_model_module": "@jupyter-widgets/base",
            "_model_module_version": "1.2.0",
            "_model_name": "LayoutModel",
            "_view_count": null,
            "_view_module": "@jupyter-widgets/base",
            "_view_module_version": "1.2.0",
            "_view_name": "LayoutView",
            "align_content": null,
            "align_items": null,
            "align_self": null,
            "border": null,
            "bottom": null,
            "display": null,
            "flex": null,
            "flex_flow": null,
            "grid_area": null,
            "grid_auto_columns": null,
            "grid_auto_flow": null,
            "grid_auto_rows": null,
            "grid_column": null,
            "grid_gap": null,
            "grid_row": null,
            "grid_template_areas": null,
            "grid_template_columns": null,
            "grid_template_rows": null,
            "height": null,
            "justify_content": null,
            "justify_items": null,
            "left": null,
            "margin": null,
            "max_height": null,
            "max_width": null,
            "min_height": null,
            "min_width": null,
            "object_fit": null,
            "object_position": null,
            "order": null,
            "overflow": null,
            "overflow_x": null,
            "overflow_y": null,
            "padding": null,
            "right": null,
            "top": null,
            "visibility": null,
            "width": null
          }
        },
        "626eb681aa5842b08f3e9a41cc99dc1f": {
          "model_module": "@jupyter-widgets/base",
          "model_name": "LayoutModel",
          "model_module_version": "1.2.0",
          "state": {
            "_model_module": "@jupyter-widgets/base",
            "_model_module_version": "1.2.0",
            "_model_name": "LayoutModel",
            "_view_count": null,
            "_view_module": "@jupyter-widgets/base",
            "_view_module_version": "1.2.0",
            "_view_name": "LayoutView",
            "align_content": null,
            "align_items": null,
            "align_self": null,
            "border": null,
            "bottom": null,
            "display": null,
            "flex": null,
            "flex_flow": null,
            "grid_area": null,
            "grid_auto_columns": null,
            "grid_auto_flow": null,
            "grid_auto_rows": null,
            "grid_column": null,
            "grid_gap": null,
            "grid_row": null,
            "grid_template_areas": null,
            "grid_template_columns": null,
            "grid_template_rows": null,
            "height": null,
            "justify_content": null,
            "justify_items": null,
            "left": null,
            "margin": null,
            "max_height": null,
            "max_width": null,
            "min_height": null,
            "min_width": null,
            "object_fit": null,
            "object_position": null,
            "order": null,
            "overflow": null,
            "overflow_x": null,
            "overflow_y": null,
            "padding": null,
            "right": null,
            "top": null,
            "visibility": null,
            "width": null
          }
        },
        "09c39ccd30a44bef81c558fefc65c342": {
          "model_module": "@jupyter-widgets/controls",
          "model_name": "ButtonStyleModel",
          "model_module_version": "1.5.0",
          "state": {
            "_model_module": "@jupyter-widgets/controls",
            "_model_module_version": "1.5.0",
            "_model_name": "ButtonStyleModel",
            "_view_count": null,
            "_view_module": "@jupyter-widgets/base",
            "_view_module_version": "1.2.0",
            "_view_name": "StyleView",
            "button_color": null,
            "font_weight": ""
          }
        },
        "2af33220c1664bc49874565775907c19": {
          "model_module": "@jupyter-widgets/base",
          "model_name": "LayoutModel",
          "model_module_version": "1.2.0",
          "state": {
            "_model_module": "@jupyter-widgets/base",
            "_model_module_version": "1.2.0",
            "_model_name": "LayoutModel",
            "_view_count": null,
            "_view_module": "@jupyter-widgets/base",
            "_view_module_version": "1.2.0",
            "_view_name": "LayoutView",
            "align_content": null,
            "align_items": null,
            "align_self": null,
            "border": null,
            "bottom": null,
            "display": null,
            "flex": null,
            "flex_flow": null,
            "grid_area": null,
            "grid_auto_columns": null,
            "grid_auto_flow": null,
            "grid_auto_rows": null,
            "grid_column": null,
            "grid_gap": null,
            "grid_row": null,
            "grid_template_areas": null,
            "grid_template_columns": null,
            "grid_template_rows": null,
            "height": null,
            "justify_content": null,
            "justify_items": null,
            "left": null,
            "margin": null,
            "max_height": null,
            "max_width": null,
            "min_height": null,
            "min_width": null,
            "object_fit": null,
            "object_position": null,
            "order": null,
            "overflow": null,
            "overflow_x": null,
            "overflow_y": null,
            "padding": null,
            "right": null,
            "top": null,
            "visibility": null,
            "width": null
          }
        },
        "3baed5d940e147b198e41956128248c6": {
          "model_module": "@jupyter-widgets/controls",
          "model_name": "VBoxModel",
          "model_module_version": "1.5.0",
          "state": {
            "_dom_classes": [
              "widget-interact"
            ],
            "_model_module": "@jupyter-widgets/controls",
            "_model_module_version": "1.5.0",
            "_model_name": "VBoxModel",
            "_view_count": null,
            "_view_module": "@jupyter-widgets/controls",
            "_view_module_version": "1.5.0",
            "_view_name": "VBoxView",
            "box_style": "",
            "children": [
              "IPY_MODEL_f568a49507744e4eb66ee6dfead53f30",
              "IPY_MODEL_3108e36c2e8b43c7a8a1a292f7f21841"
            ],
            "layout": "IPY_MODEL_22a21a4d35164118953cc164ef484375"
          }
        },
        "f568a49507744e4eb66ee6dfead53f30": {
          "model_module": "@jupyter-widgets/controls",
          "model_name": "ButtonModel",
          "model_module_version": "1.5.0",
          "state": {
            "_dom_classes": [],
            "_model_module": "@jupyter-widgets/controls",
            "_model_module_version": "1.5.0",
            "_model_name": "ButtonModel",
            "_view_count": null,
            "_view_module": "@jupyter-widgets/controls",
            "_view_module_version": "1.5.0",
            "_view_name": "ButtonView",
            "button_style": "",
            "description": "Enviar ex03",
            "disabled": false,
            "icon": "",
            "layout": "IPY_MODEL_d29e404f0e4f482d910a4dfdcf841261",
            "style": "IPY_MODEL_b5c411343da94a6faad7dcd6fa16bcbb",
            "tooltip": ""
          }
        },
        "3108e36c2e8b43c7a8a1a292f7f21841": {
          "model_module": "@jupyter-widgets/output",
          "model_name": "OutputModel",
          "model_module_version": "1.0.0",
          "state": {
            "_dom_classes": [],
            "_model_module": "@jupyter-widgets/output",
            "_model_module_version": "1.0.0",
            "_model_name": "OutputModel",
            "_view_count": null,
            "_view_module": "@jupyter-widgets/output",
            "_view_module_version": "1.0.0",
            "_view_name": "OutputView",
            "layout": "IPY_MODEL_8f9ea269996d4e9da52b0af80224b8ba",
            "msg_id": "",
            "outputs": [
              {
                "output_type": "display_data",
                "data": {
                  "text/plain": "<IPython.core.display.Markdown object>",
                  "text/markdown": "Exercício `ex03` da `scraping` está **correto**!"
                },
                "metadata": {}
              }
            ]
          }
        },
        "22a21a4d35164118953cc164ef484375": {
          "model_module": "@jupyter-widgets/base",
          "model_name": "LayoutModel",
          "model_module_version": "1.2.0",
          "state": {
            "_model_module": "@jupyter-widgets/base",
            "_model_module_version": "1.2.0",
            "_model_name": "LayoutModel",
            "_view_count": null,
            "_view_module": "@jupyter-widgets/base",
            "_view_module_version": "1.2.0",
            "_view_name": "LayoutView",
            "align_content": null,
            "align_items": null,
            "align_self": null,
            "border": null,
            "bottom": null,
            "display": null,
            "flex": null,
            "flex_flow": null,
            "grid_area": null,
            "grid_auto_columns": null,
            "grid_auto_flow": null,
            "grid_auto_rows": null,
            "grid_column": null,
            "grid_gap": null,
            "grid_row": null,
            "grid_template_areas": null,
            "grid_template_columns": null,
            "grid_template_rows": null,
            "height": null,
            "justify_content": null,
            "justify_items": null,
            "left": null,
            "margin": null,
            "max_height": null,
            "max_width": null,
            "min_height": null,
            "min_width": null,
            "object_fit": null,
            "object_position": null,
            "order": null,
            "overflow": null,
            "overflow_x": null,
            "overflow_y": null,
            "padding": null,
            "right": null,
            "top": null,
            "visibility": null,
            "width": null
          }
        },
        "d29e404f0e4f482d910a4dfdcf841261": {
          "model_module": "@jupyter-widgets/base",
          "model_name": "LayoutModel",
          "model_module_version": "1.2.0",
          "state": {
            "_model_module": "@jupyter-widgets/base",
            "_model_module_version": "1.2.0",
            "_model_name": "LayoutModel",
            "_view_count": null,
            "_view_module": "@jupyter-widgets/base",
            "_view_module_version": "1.2.0",
            "_view_name": "LayoutView",
            "align_content": null,
            "align_items": null,
            "align_self": null,
            "border": null,
            "bottom": null,
            "display": null,
            "flex": null,
            "flex_flow": null,
            "grid_area": null,
            "grid_auto_columns": null,
            "grid_auto_flow": null,
            "grid_auto_rows": null,
            "grid_column": null,
            "grid_gap": null,
            "grid_row": null,
            "grid_template_areas": null,
            "grid_template_columns": null,
            "grid_template_rows": null,
            "height": null,
            "justify_content": null,
            "justify_items": null,
            "left": null,
            "margin": null,
            "max_height": null,
            "max_width": null,
            "min_height": null,
            "min_width": null,
            "object_fit": null,
            "object_position": null,
            "order": null,
            "overflow": null,
            "overflow_x": null,
            "overflow_y": null,
            "padding": null,
            "right": null,
            "top": null,
            "visibility": null,
            "width": null
          }
        },
        "b5c411343da94a6faad7dcd6fa16bcbb": {
          "model_module": "@jupyter-widgets/controls",
          "model_name": "ButtonStyleModel",
          "model_module_version": "1.5.0",
          "state": {
            "_model_module": "@jupyter-widgets/controls",
            "_model_module_version": "1.5.0",
            "_model_name": "ButtonStyleModel",
            "_view_count": null,
            "_view_module": "@jupyter-widgets/base",
            "_view_module_version": "1.2.0",
            "_view_name": "StyleView",
            "button_color": null,
            "font_weight": ""
          }
        },
        "8f9ea269996d4e9da52b0af80224b8ba": {
          "model_module": "@jupyter-widgets/base",
          "model_name": "LayoutModel",
          "model_module_version": "1.2.0",
          "state": {
            "_model_module": "@jupyter-widgets/base",
            "_model_module_version": "1.2.0",
            "_model_name": "LayoutModel",
            "_view_count": null,
            "_view_module": "@jupyter-widgets/base",
            "_view_module_version": "1.2.0",
            "_view_name": "LayoutView",
            "align_content": null,
            "align_items": null,
            "align_self": null,
            "border": null,
            "bottom": null,
            "display": null,
            "flex": null,
            "flex_flow": null,
            "grid_area": null,
            "grid_auto_columns": null,
            "grid_auto_flow": null,
            "grid_auto_rows": null,
            "grid_column": null,
            "grid_gap": null,
            "grid_row": null,
            "grid_template_areas": null,
            "grid_template_columns": null,
            "grid_template_rows": null,
            "height": null,
            "justify_content": null,
            "justify_items": null,
            "left": null,
            "margin": null,
            "max_height": null,
            "max_width": null,
            "min_height": null,
            "min_width": null,
            "object_fit": null,
            "object_position": null,
            "order": null,
            "overflow": null,
            "overflow_x": null,
            "overflow_y": null,
            "padding": null,
            "right": null,
            "top": null,
            "visibility": null,
            "width": null
          }
        },
        "f5af45ea1ac64246a78656ecc9b8d565": {
          "model_module": "@jupyter-widgets/controls",
          "model_name": "VBoxModel",
          "model_module_version": "1.5.0",
          "state": {
            "_dom_classes": [
              "widget-interact"
            ],
            "_model_module": "@jupyter-widgets/controls",
            "_model_module_version": "1.5.0",
            "_model_name": "VBoxModel",
            "_view_count": null,
            "_view_module": "@jupyter-widgets/controls",
            "_view_module_version": "1.5.0",
            "_view_name": "VBoxView",
            "box_style": "",
            "children": [
              "IPY_MODEL_90e19d4e735148d7bde782dd83e8c74f",
              "IPY_MODEL_978be0926ea04ad7b077864262341ed7"
            ],
            "layout": "IPY_MODEL_d86641593507470a8597383037f79fd6"
          }
        },
        "90e19d4e735148d7bde782dd83e8c74f": {
          "model_module": "@jupyter-widgets/controls",
          "model_name": "ButtonModel",
          "model_module_version": "1.5.0",
          "state": {
            "_dom_classes": [],
            "_model_module": "@jupyter-widgets/controls",
            "_model_module_version": "1.5.0",
            "_model_name": "ButtonModel",
            "_view_count": null,
            "_view_module": "@jupyter-widgets/controls",
            "_view_module_version": "1.5.0",
            "_view_name": "ButtonView",
            "button_style": "",
            "description": "Enviar ex04",
            "disabled": false,
            "icon": "",
            "layout": "IPY_MODEL_b1a6a96bed0b4f3ab10c6ece4e3bf8b7",
            "style": "IPY_MODEL_59a40cbed2974d18b9c615ac46bfcb00",
            "tooltip": ""
          }
        },
        "978be0926ea04ad7b077864262341ed7": {
          "model_module": "@jupyter-widgets/output",
          "model_name": "OutputModel",
          "model_module_version": "1.0.0",
          "state": {
            "_dom_classes": [],
            "_model_module": "@jupyter-widgets/output",
            "_model_module_version": "1.0.0",
            "_model_name": "OutputModel",
            "_view_count": null,
            "_view_module": "@jupyter-widgets/output",
            "_view_module_version": "1.0.0",
            "_view_name": "OutputView",
            "layout": "IPY_MODEL_94a1848a6fda484eab7d5aa6e0544e64",
            "msg_id": "",
            "outputs": [
              {
                "output_type": "display_data",
                "data": {
                  "text/plain": "<IPython.core.display.Markdown object>",
                  "text/markdown": "Exercício `ex04` da `scraping` está **correto**!"
                },
                "metadata": {}
              }
            ]
          }
        },
        "d86641593507470a8597383037f79fd6": {
          "model_module": "@jupyter-widgets/base",
          "model_name": "LayoutModel",
          "model_module_version": "1.2.0",
          "state": {
            "_model_module": "@jupyter-widgets/base",
            "_model_module_version": "1.2.0",
            "_model_name": "LayoutModel",
            "_view_count": null,
            "_view_module": "@jupyter-widgets/base",
            "_view_module_version": "1.2.0",
            "_view_name": "LayoutView",
            "align_content": null,
            "align_items": null,
            "align_self": null,
            "border": null,
            "bottom": null,
            "display": null,
            "flex": null,
            "flex_flow": null,
            "grid_area": null,
            "grid_auto_columns": null,
            "grid_auto_flow": null,
            "grid_auto_rows": null,
            "grid_column": null,
            "grid_gap": null,
            "grid_row": null,
            "grid_template_areas": null,
            "grid_template_columns": null,
            "grid_template_rows": null,
            "height": null,
            "justify_content": null,
            "justify_items": null,
            "left": null,
            "margin": null,
            "max_height": null,
            "max_width": null,
            "min_height": null,
            "min_width": null,
            "object_fit": null,
            "object_position": null,
            "order": null,
            "overflow": null,
            "overflow_x": null,
            "overflow_y": null,
            "padding": null,
            "right": null,
            "top": null,
            "visibility": null,
            "width": null
          }
        },
        "b1a6a96bed0b4f3ab10c6ece4e3bf8b7": {
          "model_module": "@jupyter-widgets/base",
          "model_name": "LayoutModel",
          "model_module_version": "1.2.0",
          "state": {
            "_model_module": "@jupyter-widgets/base",
            "_model_module_version": "1.2.0",
            "_model_name": "LayoutModel",
            "_view_count": null,
            "_view_module": "@jupyter-widgets/base",
            "_view_module_version": "1.2.0",
            "_view_name": "LayoutView",
            "align_content": null,
            "align_items": null,
            "align_self": null,
            "border": null,
            "bottom": null,
            "display": null,
            "flex": null,
            "flex_flow": null,
            "grid_area": null,
            "grid_auto_columns": null,
            "grid_auto_flow": null,
            "grid_auto_rows": null,
            "grid_column": null,
            "grid_gap": null,
            "grid_row": null,
            "grid_template_areas": null,
            "grid_template_columns": null,
            "grid_template_rows": null,
            "height": null,
            "justify_content": null,
            "justify_items": null,
            "left": null,
            "margin": null,
            "max_height": null,
            "max_width": null,
            "min_height": null,
            "min_width": null,
            "object_fit": null,
            "object_position": null,
            "order": null,
            "overflow": null,
            "overflow_x": null,
            "overflow_y": null,
            "padding": null,
            "right": null,
            "top": null,
            "visibility": null,
            "width": null
          }
        },
        "59a40cbed2974d18b9c615ac46bfcb00": {
          "model_module": "@jupyter-widgets/controls",
          "model_name": "ButtonStyleModel",
          "model_module_version": "1.5.0",
          "state": {
            "_model_module": "@jupyter-widgets/controls",
            "_model_module_version": "1.5.0",
            "_model_name": "ButtonStyleModel",
            "_view_count": null,
            "_view_module": "@jupyter-widgets/base",
            "_view_module_version": "1.2.0",
            "_view_name": "StyleView",
            "button_color": null,
            "font_weight": ""
          }
        },
        "94a1848a6fda484eab7d5aa6e0544e64": {
          "model_module": "@jupyter-widgets/base",
          "model_name": "LayoutModel",
          "model_module_version": "1.2.0",
          "state": {
            "_model_module": "@jupyter-widgets/base",
            "_model_module_version": "1.2.0",
            "_model_name": "LayoutModel",
            "_view_count": null,
            "_view_module": "@jupyter-widgets/base",
            "_view_module_version": "1.2.0",
            "_view_name": "LayoutView",
            "align_content": null,
            "align_items": null,
            "align_self": null,
            "border": null,
            "bottom": null,
            "display": null,
            "flex": null,
            "flex_flow": null,
            "grid_area": null,
            "grid_auto_columns": null,
            "grid_auto_flow": null,
            "grid_auto_rows": null,
            "grid_column": null,
            "grid_gap": null,
            "grid_row": null,
            "grid_template_areas": null,
            "grid_template_columns": null,
            "grid_template_rows": null,
            "height": null,
            "justify_content": null,
            "justify_items": null,
            "left": null,
            "margin": null,
            "max_height": null,
            "max_width": null,
            "min_height": null,
            "min_width": null,
            "object_fit": null,
            "object_position": null,
            "order": null,
            "overflow": null,
            "overflow_x": null,
            "overflow_y": null,
            "padding": null,
            "right": null,
            "top": null,
            "visibility": null,
            "width": null
          }
        },
        "383c3aa488aa4d4d858762cd555199e5": {
          "model_module": "@jupyter-widgets/controls",
          "model_name": "VBoxModel",
          "model_module_version": "1.5.0",
          "state": {
            "_dom_classes": [
              "widget-interact"
            ],
            "_model_module": "@jupyter-widgets/controls",
            "_model_module_version": "1.5.0",
            "_model_name": "VBoxModel",
            "_view_count": null,
            "_view_module": "@jupyter-widgets/controls",
            "_view_module_version": "1.5.0",
            "_view_name": "VBoxView",
            "box_style": "",
            "children": [
              "IPY_MODEL_05eb29a4e8184a0f9ba5fff3374e3e1d",
              "IPY_MODEL_d7abde229fe64dd49fae5ad6c416ca55"
            ],
            "layout": "IPY_MODEL_c7261ff74d574ae8982deb1b33ed01a9"
          }
        },
        "05eb29a4e8184a0f9ba5fff3374e3e1d": {
          "model_module": "@jupyter-widgets/controls",
          "model_name": "ButtonModel",
          "model_module_version": "1.5.0",
          "state": {
            "_dom_classes": [],
            "_model_module": "@jupyter-widgets/controls",
            "_model_module_version": "1.5.0",
            "_model_name": "ButtonModel",
            "_view_count": null,
            "_view_module": "@jupyter-widgets/controls",
            "_view_module_version": "1.5.0",
            "_view_name": "ButtonView",
            "button_style": "",
            "description": "Enviar ex05",
            "disabled": false,
            "icon": "",
            "layout": "IPY_MODEL_d24122ea52dd4df89d7aa4d1836c685a",
            "style": "IPY_MODEL_68583b9273cc4cff8c561d236039ef63",
            "tooltip": ""
          }
        },
        "d7abde229fe64dd49fae5ad6c416ca55": {
          "model_module": "@jupyter-widgets/output",
          "model_name": "OutputModel",
          "model_module_version": "1.0.0",
          "state": {
            "_dom_classes": [],
            "_model_module": "@jupyter-widgets/output",
            "_model_module_version": "1.0.0",
            "_model_name": "OutputModel",
            "_view_count": null,
            "_view_module": "@jupyter-widgets/output",
            "_view_module_version": "1.0.0",
            "_view_name": "OutputView",
            "layout": "IPY_MODEL_6a992a30aab4413e8b7fde26ac6e620b",
            "msg_id": "",
            "outputs": [
              {
                "output_type": "display_data",
                "data": {
                  "text/plain": "<IPython.core.display.Markdown object>",
                  "text/markdown": "Exercício `ex05` da `scraping` está **correto**!"
                },
                "metadata": {}
              }
            ]
          }
        },
        "c7261ff74d574ae8982deb1b33ed01a9": {
          "model_module": "@jupyter-widgets/base",
          "model_name": "LayoutModel",
          "model_module_version": "1.2.0",
          "state": {
            "_model_module": "@jupyter-widgets/base",
            "_model_module_version": "1.2.0",
            "_model_name": "LayoutModel",
            "_view_count": null,
            "_view_module": "@jupyter-widgets/base",
            "_view_module_version": "1.2.0",
            "_view_name": "LayoutView",
            "align_content": null,
            "align_items": null,
            "align_self": null,
            "border": null,
            "bottom": null,
            "display": null,
            "flex": null,
            "flex_flow": null,
            "grid_area": null,
            "grid_auto_columns": null,
            "grid_auto_flow": null,
            "grid_auto_rows": null,
            "grid_column": null,
            "grid_gap": null,
            "grid_row": null,
            "grid_template_areas": null,
            "grid_template_columns": null,
            "grid_template_rows": null,
            "height": null,
            "justify_content": null,
            "justify_items": null,
            "left": null,
            "margin": null,
            "max_height": null,
            "max_width": null,
            "min_height": null,
            "min_width": null,
            "object_fit": null,
            "object_position": null,
            "order": null,
            "overflow": null,
            "overflow_x": null,
            "overflow_y": null,
            "padding": null,
            "right": null,
            "top": null,
            "visibility": null,
            "width": null
          }
        },
        "d24122ea52dd4df89d7aa4d1836c685a": {
          "model_module": "@jupyter-widgets/base",
          "model_name": "LayoutModel",
          "model_module_version": "1.2.0",
          "state": {
            "_model_module": "@jupyter-widgets/base",
            "_model_module_version": "1.2.0",
            "_model_name": "LayoutModel",
            "_view_count": null,
            "_view_module": "@jupyter-widgets/base",
            "_view_module_version": "1.2.0",
            "_view_name": "LayoutView",
            "align_content": null,
            "align_items": null,
            "align_self": null,
            "border": null,
            "bottom": null,
            "display": null,
            "flex": null,
            "flex_flow": null,
            "grid_area": null,
            "grid_auto_columns": null,
            "grid_auto_flow": null,
            "grid_auto_rows": null,
            "grid_column": null,
            "grid_gap": null,
            "grid_row": null,
            "grid_template_areas": null,
            "grid_template_columns": null,
            "grid_template_rows": null,
            "height": null,
            "justify_content": null,
            "justify_items": null,
            "left": null,
            "margin": null,
            "max_height": null,
            "max_width": null,
            "min_height": null,
            "min_width": null,
            "object_fit": null,
            "object_position": null,
            "order": null,
            "overflow": null,
            "overflow_x": null,
            "overflow_y": null,
            "padding": null,
            "right": null,
            "top": null,
            "visibility": null,
            "width": null
          }
        },
        "68583b9273cc4cff8c561d236039ef63": {
          "model_module": "@jupyter-widgets/controls",
          "model_name": "ButtonStyleModel",
          "model_module_version": "1.5.0",
          "state": {
            "_model_module": "@jupyter-widgets/controls",
            "_model_module_version": "1.5.0",
            "_model_name": "ButtonStyleModel",
            "_view_count": null,
            "_view_module": "@jupyter-widgets/base",
            "_view_module_version": "1.2.0",
            "_view_name": "StyleView",
            "button_color": null,
            "font_weight": ""
          }
        },
        "6a992a30aab4413e8b7fde26ac6e620b": {
          "model_module": "@jupyter-widgets/base",
          "model_name": "LayoutModel",
          "model_module_version": "1.2.0",
          "state": {
            "_model_module": "@jupyter-widgets/base",
            "_model_module_version": "1.2.0",
            "_model_name": "LayoutModel",
            "_view_count": null,
            "_view_module": "@jupyter-widgets/base",
            "_view_module_version": "1.2.0",
            "_view_name": "LayoutView",
            "align_content": null,
            "align_items": null,
            "align_self": null,
            "border": null,
            "bottom": null,
            "display": null,
            "flex": null,
            "flex_flow": null,
            "grid_area": null,
            "grid_auto_columns": null,
            "grid_auto_flow": null,
            "grid_auto_rows": null,
            "grid_column": null,
            "grid_gap": null,
            "grid_row": null,
            "grid_template_areas": null,
            "grid_template_columns": null,
            "grid_template_rows": null,
            "height": null,
            "justify_content": null,
            "justify_items": null,
            "left": null,
            "margin": null,
            "max_height": null,
            "max_width": null,
            "min_height": null,
            "min_width": null,
            "object_fit": null,
            "object_position": null,
            "order": null,
            "overflow": null,
            "overflow_x": null,
            "overflow_y": null,
            "padding": null,
            "right": null,
            "top": null,
            "visibility": null,
            "width": null
          }
        },
        "752dd8c20ed0476e8a8f0efef351a14c": {
          "model_module": "@jupyter-widgets/controls",
          "model_name": "VBoxModel",
          "model_module_version": "1.5.0",
          "state": {
            "_dom_classes": [
              "widget-interact"
            ],
            "_model_module": "@jupyter-widgets/controls",
            "_model_module_version": "1.5.0",
            "_model_name": "VBoxModel",
            "_view_count": null,
            "_view_module": "@jupyter-widgets/controls",
            "_view_module_version": "1.5.0",
            "_view_name": "VBoxView",
            "box_style": "",
            "children": [
              "IPY_MODEL_42a0149cc4f4492f91c0d01fe3aad2f3",
              "IPY_MODEL_5813ed3814a94ea9bf9c5408a86eac5e"
            ],
            "layout": "IPY_MODEL_af6d213d267a44b1aa5e918132e94f50"
          }
        },
        "42a0149cc4f4492f91c0d01fe3aad2f3": {
          "model_module": "@jupyter-widgets/controls",
          "model_name": "ButtonModel",
          "model_module_version": "1.5.0",
          "state": {
            "_dom_classes": [],
            "_model_module": "@jupyter-widgets/controls",
            "_model_module_version": "1.5.0",
            "_model_name": "ButtonModel",
            "_view_count": null,
            "_view_module": "@jupyter-widgets/controls",
            "_view_module_version": "1.5.0",
            "_view_name": "ButtonView",
            "button_style": "",
            "description": "Enviar ex06",
            "disabled": false,
            "icon": "",
            "layout": "IPY_MODEL_2c5279f4b26143a9b4aea9d930484b7c",
            "style": "IPY_MODEL_9fc022b00f244b7eaac13468d04d0868",
            "tooltip": ""
          }
        },
        "5813ed3814a94ea9bf9c5408a86eac5e": {
          "model_module": "@jupyter-widgets/output",
          "model_name": "OutputModel",
          "model_module_version": "1.0.0",
          "state": {
            "_dom_classes": [],
            "_model_module": "@jupyter-widgets/output",
            "_model_module_version": "1.0.0",
            "_model_name": "OutputModel",
            "_view_count": null,
            "_view_module": "@jupyter-widgets/output",
            "_view_module_version": "1.0.0",
            "_view_name": "OutputView",
            "layout": "IPY_MODEL_c819b44e63004dd9a9980dff4d0f734c",
            "msg_id": "",
            "outputs": [
              {
                "output_type": "display_data",
                "data": {
                  "text/plain": "<IPython.core.display.Markdown object>",
                  "text/markdown": "Exercício `ex06` da `scraping` está **correto**!"
                },
                "metadata": {}
              }
            ]
          }
        },
        "af6d213d267a44b1aa5e918132e94f50": {
          "model_module": "@jupyter-widgets/base",
          "model_name": "LayoutModel",
          "model_module_version": "1.2.0",
          "state": {
            "_model_module": "@jupyter-widgets/base",
            "_model_module_version": "1.2.0",
            "_model_name": "LayoutModel",
            "_view_count": null,
            "_view_module": "@jupyter-widgets/base",
            "_view_module_version": "1.2.0",
            "_view_name": "LayoutView",
            "align_content": null,
            "align_items": null,
            "align_self": null,
            "border": null,
            "bottom": null,
            "display": null,
            "flex": null,
            "flex_flow": null,
            "grid_area": null,
            "grid_auto_columns": null,
            "grid_auto_flow": null,
            "grid_auto_rows": null,
            "grid_column": null,
            "grid_gap": null,
            "grid_row": null,
            "grid_template_areas": null,
            "grid_template_columns": null,
            "grid_template_rows": null,
            "height": null,
            "justify_content": null,
            "justify_items": null,
            "left": null,
            "margin": null,
            "max_height": null,
            "max_width": null,
            "min_height": null,
            "min_width": null,
            "object_fit": null,
            "object_position": null,
            "order": null,
            "overflow": null,
            "overflow_x": null,
            "overflow_y": null,
            "padding": null,
            "right": null,
            "top": null,
            "visibility": null,
            "width": null
          }
        },
        "2c5279f4b26143a9b4aea9d930484b7c": {
          "model_module": "@jupyter-widgets/base",
          "model_name": "LayoutModel",
          "model_module_version": "1.2.0",
          "state": {
            "_model_module": "@jupyter-widgets/base",
            "_model_module_version": "1.2.0",
            "_model_name": "LayoutModel",
            "_view_count": null,
            "_view_module": "@jupyter-widgets/base",
            "_view_module_version": "1.2.0",
            "_view_name": "LayoutView",
            "align_content": null,
            "align_items": null,
            "align_self": null,
            "border": null,
            "bottom": null,
            "display": null,
            "flex": null,
            "flex_flow": null,
            "grid_area": null,
            "grid_auto_columns": null,
            "grid_auto_flow": null,
            "grid_auto_rows": null,
            "grid_column": null,
            "grid_gap": null,
            "grid_row": null,
            "grid_template_areas": null,
            "grid_template_columns": null,
            "grid_template_rows": null,
            "height": null,
            "justify_content": null,
            "justify_items": null,
            "left": null,
            "margin": null,
            "max_height": null,
            "max_width": null,
            "min_height": null,
            "min_width": null,
            "object_fit": null,
            "object_position": null,
            "order": null,
            "overflow": null,
            "overflow_x": null,
            "overflow_y": null,
            "padding": null,
            "right": null,
            "top": null,
            "visibility": null,
            "width": null
          }
        },
        "9fc022b00f244b7eaac13468d04d0868": {
          "model_module": "@jupyter-widgets/controls",
          "model_name": "ButtonStyleModel",
          "model_module_version": "1.5.0",
          "state": {
            "_model_module": "@jupyter-widgets/controls",
            "_model_module_version": "1.5.0",
            "_model_name": "ButtonStyleModel",
            "_view_count": null,
            "_view_module": "@jupyter-widgets/base",
            "_view_module_version": "1.2.0",
            "_view_name": "StyleView",
            "button_color": null,
            "font_weight": ""
          }
        },
        "c819b44e63004dd9a9980dff4d0f734c": {
          "model_module": "@jupyter-widgets/base",
          "model_name": "LayoutModel",
          "model_module_version": "1.2.0",
          "state": {
            "_model_module": "@jupyter-widgets/base",
            "_model_module_version": "1.2.0",
            "_model_name": "LayoutModel",
            "_view_count": null,
            "_view_module": "@jupyter-widgets/base",
            "_view_module_version": "1.2.0",
            "_view_name": "LayoutView",
            "align_content": null,
            "align_items": null,
            "align_self": null,
            "border": null,
            "bottom": null,
            "display": null,
            "flex": null,
            "flex_flow": null,
            "grid_area": null,
            "grid_auto_columns": null,
            "grid_auto_flow": null,
            "grid_auto_rows": null,
            "grid_column": null,
            "grid_gap": null,
            "grid_row": null,
            "grid_template_areas": null,
            "grid_template_columns": null,
            "grid_template_rows": null,
            "height": null,
            "justify_content": null,
            "justify_items": null,
            "left": null,
            "margin": null,
            "max_height": null,
            "max_width": null,
            "min_height": null,
            "min_width": null,
            "object_fit": null,
            "object_position": null,
            "order": null,
            "overflow": null,
            "overflow_x": null,
            "overflow_y": null,
            "padding": null,
            "right": null,
            "top": null,
            "visibility": null,
            "width": null
          }
        },
        "b1b02673c27a461cbf0d2cfb822e8de6": {
          "model_module": "@jupyter-widgets/controls",
          "model_name": "VBoxModel",
          "model_module_version": "1.5.0",
          "state": {
            "_dom_classes": [
              "widget-interact"
            ],
            "_model_module": "@jupyter-widgets/controls",
            "_model_module_version": "1.5.0",
            "_model_name": "VBoxModel",
            "_view_count": null,
            "_view_module": "@jupyter-widgets/controls",
            "_view_module_version": "1.5.0",
            "_view_name": "VBoxView",
            "box_style": "",
            "children": [
              "IPY_MODEL_245e08ec6a6c4306937d55984bfa44c7",
              "IPY_MODEL_419f5c9ece474864ae29454944f283b6"
            ],
            "layout": "IPY_MODEL_9c77876c575a4658b74af89aded2c14c"
          }
        },
        "245e08ec6a6c4306937d55984bfa44c7": {
          "model_module": "@jupyter-widgets/controls",
          "model_name": "ButtonModel",
          "model_module_version": "1.5.0",
          "state": {
            "_dom_classes": [],
            "_model_module": "@jupyter-widgets/controls",
            "_model_module_version": "1.5.0",
            "_model_name": "ButtonModel",
            "_view_count": null,
            "_view_module": "@jupyter-widgets/controls",
            "_view_module_version": "1.5.0",
            "_view_name": "ButtonView",
            "button_style": "",
            "description": "Enviar ex07",
            "disabled": false,
            "icon": "",
            "layout": "IPY_MODEL_7d168ed3d2a8426ea057aa87322875c2",
            "style": "IPY_MODEL_ae3bb5276a5a4936839b8c928c0241d5",
            "tooltip": ""
          }
        },
        "419f5c9ece474864ae29454944f283b6": {
          "model_module": "@jupyter-widgets/output",
          "model_name": "OutputModel",
          "model_module_version": "1.0.0",
          "state": {
            "_dom_classes": [],
            "_model_module": "@jupyter-widgets/output",
            "_model_module_version": "1.0.0",
            "_model_name": "OutputModel",
            "_view_count": null,
            "_view_module": "@jupyter-widgets/output",
            "_view_module_version": "1.0.0",
            "_view_name": "OutputView",
            "layout": "IPY_MODEL_50c5d3b427954923849d8677c7547062",
            "msg_id": "",
            "outputs": [
              {
                "output_type": "display_data",
                "data": {
                  "text/plain": "<IPython.core.display.Markdown object>",
                  "text/markdown": "Exercício `ex07` da `scraping` está **correto**!"
                },
                "metadata": {}
              }
            ]
          }
        },
        "9c77876c575a4658b74af89aded2c14c": {
          "model_module": "@jupyter-widgets/base",
          "model_name": "LayoutModel",
          "model_module_version": "1.2.0",
          "state": {
            "_model_module": "@jupyter-widgets/base",
            "_model_module_version": "1.2.0",
            "_model_name": "LayoutModel",
            "_view_count": null,
            "_view_module": "@jupyter-widgets/base",
            "_view_module_version": "1.2.0",
            "_view_name": "LayoutView",
            "align_content": null,
            "align_items": null,
            "align_self": null,
            "border": null,
            "bottom": null,
            "display": null,
            "flex": null,
            "flex_flow": null,
            "grid_area": null,
            "grid_auto_columns": null,
            "grid_auto_flow": null,
            "grid_auto_rows": null,
            "grid_column": null,
            "grid_gap": null,
            "grid_row": null,
            "grid_template_areas": null,
            "grid_template_columns": null,
            "grid_template_rows": null,
            "height": null,
            "justify_content": null,
            "justify_items": null,
            "left": null,
            "margin": null,
            "max_height": null,
            "max_width": null,
            "min_height": null,
            "min_width": null,
            "object_fit": null,
            "object_position": null,
            "order": null,
            "overflow": null,
            "overflow_x": null,
            "overflow_y": null,
            "padding": null,
            "right": null,
            "top": null,
            "visibility": null,
            "width": null
          }
        },
        "7d168ed3d2a8426ea057aa87322875c2": {
          "model_module": "@jupyter-widgets/base",
          "model_name": "LayoutModel",
          "model_module_version": "1.2.0",
          "state": {
            "_model_module": "@jupyter-widgets/base",
            "_model_module_version": "1.2.0",
            "_model_name": "LayoutModel",
            "_view_count": null,
            "_view_module": "@jupyter-widgets/base",
            "_view_module_version": "1.2.0",
            "_view_name": "LayoutView",
            "align_content": null,
            "align_items": null,
            "align_self": null,
            "border": null,
            "bottom": null,
            "display": null,
            "flex": null,
            "flex_flow": null,
            "grid_area": null,
            "grid_auto_columns": null,
            "grid_auto_flow": null,
            "grid_auto_rows": null,
            "grid_column": null,
            "grid_gap": null,
            "grid_row": null,
            "grid_template_areas": null,
            "grid_template_columns": null,
            "grid_template_rows": null,
            "height": null,
            "justify_content": null,
            "justify_items": null,
            "left": null,
            "margin": null,
            "max_height": null,
            "max_width": null,
            "min_height": null,
            "min_width": null,
            "object_fit": null,
            "object_position": null,
            "order": null,
            "overflow": null,
            "overflow_x": null,
            "overflow_y": null,
            "padding": null,
            "right": null,
            "top": null,
            "visibility": null,
            "width": null
          }
        },
        "ae3bb5276a5a4936839b8c928c0241d5": {
          "model_module": "@jupyter-widgets/controls",
          "model_name": "ButtonStyleModel",
          "model_module_version": "1.5.0",
          "state": {
            "_model_module": "@jupyter-widgets/controls",
            "_model_module_version": "1.5.0",
            "_model_name": "ButtonStyleModel",
            "_view_count": null,
            "_view_module": "@jupyter-widgets/base",
            "_view_module_version": "1.2.0",
            "_view_name": "StyleView",
            "button_color": null,
            "font_weight": ""
          }
        },
        "50c5d3b427954923849d8677c7547062": {
          "model_module": "@jupyter-widgets/base",
          "model_name": "LayoutModel",
          "model_module_version": "1.2.0",
          "state": {
            "_model_module": "@jupyter-widgets/base",
            "_model_module_version": "1.2.0",
            "_model_name": "LayoutModel",
            "_view_count": null,
            "_view_module": "@jupyter-widgets/base",
            "_view_module_version": "1.2.0",
            "_view_name": "LayoutView",
            "align_content": null,
            "align_items": null,
            "align_self": null,
            "border": null,
            "bottom": null,
            "display": null,
            "flex": null,
            "flex_flow": null,
            "grid_area": null,
            "grid_auto_columns": null,
            "grid_auto_flow": null,
            "grid_auto_rows": null,
            "grid_column": null,
            "grid_gap": null,
            "grid_row": null,
            "grid_template_areas": null,
            "grid_template_columns": null,
            "grid_template_rows": null,
            "height": null,
            "justify_content": null,
            "justify_items": null,
            "left": null,
            "margin": null,
            "max_height": null,
            "max_width": null,
            "min_height": null,
            "min_width": null,
            "object_fit": null,
            "object_position": null,
            "order": null,
            "overflow": null,
            "overflow_x": null,
            "overflow_y": null,
            "padding": null,
            "right": null,
            "top": null,
            "visibility": null,
            "width": null
          }
        }
      }
    }
  },
  "nbformat": 4,
  "nbformat_minor": 0
}